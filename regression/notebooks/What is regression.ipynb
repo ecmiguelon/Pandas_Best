{
    "cells": [
        {
            "cell_type": "markdown",
            "metadata": {},
            "source": [
                "# Regression: What's the point?\n",
                "\n",
                "Let's take a look at how we can use regression to find **relationships within our dataset**."
            ]
        },
        {
            "cell_type": "markdown",
            "metadata": {},
            "source": [
                "<p class=\"reading-options\">\n  <a class=\"btn\" href=\"/regression/what-is-regression\">\n    <i class=\"fa fa-sm fa-book\"></i>\n    Read online\n  </a>\n  <a class=\"btn\" href=\"/regression/notebooks/What is regression.ipynb\">\n    <i class=\"fa fa-sm fa-download\"></i>\n    Download notebook\n  </a>\n  <a class=\"btn\" href=\"https://colab.research.google.com/github/littlecolumns/ds4j-notebooks/blob/master/regression/notebooks/What is regression.ipynb\" target=\"_new\">\n    <i class=\"fa fa-sm fa-laptop\"></i>\n    Interactive version\n  </a>\n</p>"
            ]
        },
        {
            "cell_type": "markdown",
            "metadata": {},
            "source": [
                "## What is regression?\n",
                "\n",
                "Regression is a way to describe how **two (or more) things are related to each other**. You might notice it in sentences like:\n",
                "\n",
                "* \"An increase of 10 percentage points in the unemployment rate in a neighborhood translated to a loss of roughly a year and a half of life expectancy,\" from the [Associated Press](https://apnews.com/66ac44186b6249709501f07a7eab36da). As unemployment goes up, life expectancy goes down.\n",
                "* \"Reveal\u2019s analysis also showed that the greater the number of African Americans or Latinos in a neighborhood, the more likely a loan application would be denied there \u2013 even after accounting for income and other factors,\"  from [Reveal](https://www.revealnews.org/article/for-people-of-color-banks-are-shutting-the-door-to-homeownership/). As the amount of African Americans or Latinos goes up, the likelihood of a loan being denied goes up.\n",
                "* \"In Boston, Asian and Latino residents were more likely to be ticketed than were out-of-towners of the same race, when cited for the same offense,\" from the [Boston Globe](http://archive.boston.com/globe/metro/packages/tickets/072003.shtml)\n",
                "\n",
                "Notice that we've defined it as how a change in one variable is _related to_ a change in another, not that a change in one _causes_ a change in another. Regression can tell you the relationship, but not the \"why.\"\n",
                "\n",
                "## Types of regression\n",
                "\n",
                "While there are [many kinds of regression out there](https://www.listendata.com/2018/03/regression-analysis.html), the two major ones journalists care about are **linear regression** and **logistic regression**.\n",
                "\n",
                "**Linear regression** is used to predict **numbers**. Life expectancy is a number, so the Associate Press story above uses linear regression. We'll also see linear regression often used with standardized test scores in education.\n",
                "\n",
                "**Logistic regression** is used to predict **categories** such as yes/no or accepted/rejected. A loan being denied is a yes/no, so the Reveal story above uses logistic regression. Logistic regression is also very common when looking at bias or discrimination.\n",
                "\n",
                "## When to use regression\n",
                "\n",
                "Before we get used to it, we might not realize there are times that regression would be useful. The biggest clue that we'll want to use regression is when we're looking at the \"relationship between\" or \"correlation between\" two (or more) different things.\n",
                "\n",
                "> Note that correlation is a actually [real stats thing](http://guessthecorrelation.com/) that's separate from regression. But it seems like when most people talk about correlation they're looking for a \"when X goes up, Y changes such-and-such amount\" kind of description, which comes from performing a regression.\n",
                "\n",
                "We can also recognize regression from the phrases \"all other factors being equal\" or \"controlling for differences in.\" Notice how in the Reveal example above the African American/Latino population matters \"even after accounting for income and other factors.\"\n",
                "\n",
                "We'll use both linear and logistic regression for **two major things**:\n",
                "\n",
                "* **Understanding the impact of different factors:** In ProPublica's [criminal sentencing bias piece](https://www.propublica.org/article/machine-bias-risk-assessments-in-criminal-sentencing), they showed that race played an outsize role in determining sentencing suggestions, controlling for other possibly-explanatory factors. In the Associated Press piece, they show the relationship between unemployment and life expectancy.\n",
                "* **Finding unexpected outliers:** In [this piece](http://clipfile.org/?p=754) from the Dallas Morning News, they used regression analysis to predict a school's 4th grade standardized test scores based on their 3rd grade scores. Schools that did much much much better than expected were suspected of cheating.\n",
                "\n",
                "While regression will show up in other situations - automatically classifying documents, for example! - we'll cover that separately.\n",
                "\n",
                "## How to stay careful\n",
                "\n",
                "If you're doing anything involving statistics or large datasets, **you need to check your results with an expert.** While running a regression can be pretty straightforward, there's always the possibility of problems hiding in the details. For example, we might have forgotten some useful variable, or maybe a few variables are fighting with each other and ruining our results (which sounds more fun than \"multicollinearity\").\n",
                "\n",
                "Almost every single person I interviewed who performed a regression analysis for a story leaned heavily on other members of their team, as well as at least one outside expert. Some newsrooms even pitted multiple academics against each other over the results, having statisticians and subject-matter experts battle it out over the \"right\" way to do it!\n",
                "\n",
                "Even if we hire sixty statisticians and get back a hundred different contradictory answers, even if we can't be 100% certain it's all 100% perfect, even if we're eventually convinced statistics is more art than science, at least we'll have _an idea of possible issues_ with our approach and how they might affect your story.\n",
                "\n",
                "## Review\n",
                "\n",
                "In this section we introduced **regression**, which is the relationship between different one or more input variables and an output variable. For example, unemployment and education (inputs) on life expectancy (output). There are two kinds of regression, **linear regression** which is used to predict numbers, and **logistic regression** which is used to predict categories (typically yes/no answers).\n",
                "\n",
                "You can use the result of a regression to make predictions (how well should this school have scored in math, given it scored XXX in reading?), or simply explain how two things are related (\"all other factors being equal...\").\n",
                "\n",
                "While performing a regression can be pretty easy, you'll always want to double-check with someone who has more statistics and/or domain-specific knowledge than you. Since people really trust numbers you'll want to make sure you're doing everything right!"
            ]
        },
        {
            "cell_type": "code",
            "execution_count": null,
            "metadata": {},
            "outputs": [],
            "source": []
        }
    ],
    "metadata": {
        "kernelspec": {
            "display_name": "Python 3",
            "language": "python",
            "name": "python3"
        },
        "language_info": {
            "codemirror_mode": {
                "name": "ipython",
                "version": 3
            },
            "file_extension": ".py",
            "mimetype": "text/x-python",
            "name": "python",
            "nbconvert_exporter": "python",
            "pygments_lexer": "ipython3",
            "version": "3.6.8"
        },
        "toc": {
            "base_numbering": 1,
            "nav_menu": {},
            "number_sections": true,
            "sideBar": true,
            "skip_h1_title": false,
            "title_cell": "Table of Contents",
            "title_sidebar": "Contents",
            "toc_cell": false,
            "toc_position": {},
            "toc_section_display": true,
            "toc_window_display": false
        }
    },
    "nbformat": 4,
    "nbformat_minor": 2
}