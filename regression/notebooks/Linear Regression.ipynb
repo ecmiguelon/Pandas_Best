{
    "cells": [
        {
            "cell_type": "markdown",
            "metadata": {},
            "source": [
                "# Linear Regression for Human Beings\n",
                "\n",
                "Let's try to explain some linear regression concepts without formulas or official definitions or anything things like that!"
            ]
        },
        {
            "cell_type": "markdown",
            "metadata": {},
            "source": [
                "<p class=\"reading-options\">\n  <a class=\"btn\" href=\"/regression/linear-regression\">\n    <i class=\"fa fa-sm fa-book\"></i>\n    Read online\n  </a>\n  <a class=\"btn\" href=\"/regression/notebooks/Linear Regression.ipynb\">\n    <i class=\"fa fa-sm fa-download\"></i>\n    Download notebook\n  </a>\n  <a class=\"btn\" href=\"https://colab.research.google.com/github/littlecolumns/ds4j-notebooks/blob/master/regression/notebooks/Linear Regression.ipynb\" target=\"_new\">\n    <i class=\"fa fa-sm fa-laptop\"></i>\n    Interactive version\n  </a>\n</p>"
            ]
        },
        {
            "cell_type": "markdown",
            "metadata": {},
            "source": [
                "## Introduction\n",
                "\n",
                "**We sell coffee, and it costs &#36;2.** Since we're \ud83d\udcbc\ud83d\udcb0Important Business People\ud83d\udcb0\ud83d\udcbc, we might have some big questions about finance, such as:\n",
                "\n",
                "* If we sell **zero coffees**, how much money do we make?\n",
                "* If we sell **four coffees**, how much money do we make?\n",
                "* If we sell **sixteen coffees**, how much money do we make?\n",
                "\n",
                "Since coffee costs &#36;2, we can just multiply it out.\n",
                "\n",
                "|\u2615|\u2716|\ud83d\udcb5|\n",
                "|---|---|---|\n",
                "|We sell zero coffees|`0 \u00d7 $2 per coffee`|We make &#36;0|\n",
                "|We sell four coffees|`4 \u00d7 $2 per coffee`|We make &#36;8|\n",
                "|We sell sixteen coffees|`16 \u00d7 $2 per coffee`|We make &#36;32|\n",
                "\n",
                "Since coffee costs &#36;2, in these situations we would make &#36;0, &#36;8, and &#36;32. Easy-peasy!\n",
                "\n",
                "Linear regression, if we're going to skip over the specifics, is the **opposite of what we just did.** If we take the same example but twist it around a little bit, we can see how regression works.\n",
                "\n",
                "**Let's say we know this:**\n",
                "\n",
                "* We sold **zero coffees**, and made &#36;0\n",
                "* We sold **four coffees**, and made &#36;8\n",
                "* We sold **sixteen coffees**, and made &#36;32\n",
                "\n",
                "Linear regression is when we ask ourselves, **how much does coffee cost?** Let's draw that same table again, but adjusted for our new question.\n",
                "\n",
                "|\u2615|\u2716|\ud83d\udcb5|\n",
                "|---|---|---|\n",
                "|We sell zero coffees|`0 \u00d7 ??? per coffee`|We make &#36;0|\n",
                "|We sell four coffees|`4 \u00d7 ??? per coffee`|We make &#36;8|\n",
                "|We sell sixteen coffees|`16 \u00d7 ??? per coffee`|We make &#36;32|\n",
                "\n",
                "Maybe we can even figure it out in our heads: **coffee costs &#36;2!** Easy, right? That's it. We're done!! That's linear regression!!\n",
                "\n",
                "Kind of, sort of, more or less, anyway. Let's move on to see how **linear regression works in Python code.**"
            ]
        },
        {
            "cell_type": "markdown",
            "metadata": {},
            "source": [
                "## Performing a linear regression\n",
                "\n",
                "We'll start off  with our data. To wrangle our data we're going to use [pandas](https://pandas.pydata.org/), a super-popular Python library for doing data-y things."
            ]
        },
        {
            "cell_type": "code",
            "execution_count": 1,
            "metadata": {},
            "outputs": [
                {
                    "data": {
                        "text/html": [
                            "<div>\n",
                            "<style scoped>\n",
                            "    .dataframe tbody tr th:only-of-type {\n",
                            "        vertical-align: middle;\n",
                            "    }\n",
                            "\n",
                            "    .dataframe tbody tr th {\n",
                            "        vertical-align: top;\n",
                            "    }\n",
                            "\n",
                            "    .dataframe thead th {\n",
                            "        text-align: right;\n",
                            "    }\n",
                            "</style>\n",
                            "<table border=\"1\" class=\"dataframe\">\n",
                            "  <thead>\n",
                            "    <tr style=\"text-align: right;\">\n",
                            "      <th></th>\n",
                            "      <th>sold</th>\n",
                            "      <th>revenue</th>\n",
                            "    </tr>\n",
                            "  </thead>\n",
                            "  <tbody>\n",
                            "    <tr>\n",
                            "      <th>0</th>\n",
                            "      <td>0</td>\n",
                            "      <td>0</td>\n",
                            "    </tr>\n",
                            "    <tr>\n",
                            "      <th>1</th>\n",
                            "      <td>4</td>\n",
                            "      <td>8</td>\n",
                            "    </tr>\n",
                            "    <tr>\n",
                            "      <th>2</th>\n",
                            "      <td>16</td>\n",
                            "      <td>32</td>\n",
                            "    </tr>\n",
                            "  </tbody>\n",
                            "</table>\n",
                            "</div>"
                        ],
                        "text/plain": [
                            "   sold  revenue\n",
                            "0     0        0\n",
                            "1     4        8\n",
                            "2    16       32"
                        ]
                    },
                    "execution_count": 1,
                    "metadata": {},
                    "output_type": "execute_result"
                }
            ],
            "source": [
                "import pandas as pd\n",
                "\n",
                "df = pd.DataFrame([\n",
                "    { 'sold': 0, 'revenue': 0 },\n",
                "    { 'sold': 4, 'revenue': 8 },\n",
                "    { 'sold': 16, 'revenue': 32 },\n",
                "])\n",
                "df"
            ]
        },
        {
            "cell_type": "markdown",
            "metadata": {},
            "source": [
                "Our very tiny dataset has two columns:\n",
                "\n",
                "* Number of coffees sold\n",
                "* Amount of revenue from selling those coffees\n",
                "\n",
                "We want to ask a simple question using this data: **if we sold this many coffees and made this much money, how much does a coffee cost?** Up above we learned that this kind of question is **linear regression**.\n",
                "\n",
                "To perform our linear regression, we're going to use a library called [statsmodels](https://www.statsmodels.org), which conveniently (?) has two different ways of writing the code.\n",
                "\n",
                "### Formula style\n",
                "\n",
                "One way to calculate how much the coffee costs is [writing a formula](https://www.statsmodels.org/stable/example_formulas.html). It seems to be a less popular way of doing regressions in statsmodels, but _it's so nice and perfect_ that we're going to look at it first."
            ]
        },
        {
            "cell_type": "code",
            "execution_count": 2,
            "metadata": {},
            "outputs": [],
            "source": [
                "import statsmodels.formula.api as smf\n",
                "\n",
                "# What effect does the number of coffees sold have on our revenue?\n",
                "model = smf.ols(formula='revenue ~ sold', data=df)\n",
                "results = model.fit()"
            ]
        },
        {
            "cell_type": "markdown",
            "metadata": {},
            "source": [
                "It doesn't print anything out, but that's okay: we'll figure out how to look at the results in a second!"
            ]
        },
        {
            "cell_type": "markdown",
            "metadata": {},
            "source": [
                "### Dataframe style\n",
                "\n",
                "The other style of using statsmodels for linear regression uses pandas dataframes **directly** instead of writing out a formula. It can be a little more complicated looking, but it's very popular! It must be the default technique people learn when they pick up statsmodels."
            ]
        },
        {
            "cell_type": "code",
            "execution_count": 3,
            "metadata": {},
            "outputs": [],
            "source": [
                "import statsmodels.api as sm\n",
                "\n",
                "# What effect does the number of coffees sold have on our revenue?\n",
                "X = df[['sold']]\n",
                "y = df.revenue\n",
                "\n",
                "model = sm.OLS(y, sm.add_constant(X))\n",
                "results = model.fit()"
            ]
        },
        {
            "cell_type": "markdown",
            "metadata": {},
            "source": [
                "Don't worry about `sm.add_constant(X)`, we'll talk about it later.\n",
                "\n",
                "> Note: To be specific, the kind of regression we're using is called **ordinary least squares** regression, which is why we're using `smf.ols` and `sm.OLS`. Statsmodels supports [other types](https://www.statsmodels.org/stable/regression.html), too."
            ]
        },
        {
            "cell_type": "markdown",
            "metadata": {},
            "source": [
                "## Examining our results\n",
                "\n",
                "No matter which method we use to calculate how much coffee costs, we end up with a variable called `results`. **We'll use this variable to see the answer.**\n",
                "\n",
                "If we _only_ want the most basic of results, we can write something like this:"
            ]
        },
        {
            "cell_type": "code",
            "execution_count": 4,
            "metadata": {},
            "outputs": [
                {
                    "data": {
                        "text/plain": [
                            "const   -2.664535e-15\n",
                            "sold     2.000000e+00\n",
                            "dtype: float64"
                        ]
                    },
                    "execution_count": 4,
                    "metadata": {},
                    "output_type": "execute_result"
                }
            ],
            "source": [
                "results.params"
            ]
        },
        {
            "cell_type": "markdown",
            "metadata": {},
            "source": [
                "The `2.000000e+00` next to `sold` means for every coffee sold, we make &#36;2! If we want to get technical, it really means \"for every increase of 1 in `sold`, our `revenue` will increase by 2.\"\n",
                "\n",
                "While it's definitely useful, it unfortunately doesn't look very fancy. We like \u2728\ud83c\udf1f\ud83d\udc8e \ud835\udcbb\ud835\udcb6\ud835\udcc3\ud835\udcb8\ud835\udcce \ud835\udcc9\ud835\udcbd\ud835\udcbe\ud835\udcc3\ud835\udc54\ud835\udcc8 \ud83d\udc8e\ud83c\udf1f\u2728, so we'll run this code instead:"
            ]
        },
        {
            "cell_type": "code",
            "execution_count": 7,
            "metadata": {},
            "outputs": [
                {
                    "data": {
                        "text/html": [
                            "<table class=\"simpletable\">\n",
                            "<caption>OLS Regression Results</caption>\n",
                            "<tr>\n",
                            "  <th>Dep. Variable:</th>         <td>revenue</td>     <th>  R-squared:         </th> <td>   1.000</td> \n",
                            "</tr>\n",
                            "<tr>\n",
                            "  <th>Model:</th>                   <td>OLS</td>       <th>  Adj. R-squared:    </th> <td>   1.000</td> \n",
                            "</tr>\n",
                            "<tr>\n",
                            "  <th>Method:</th>             <td>Least Squares</td>  <th>  F-statistic:       </th> <td>9.502e+30</td>\n",
                            "</tr>\n",
                            "<tr>\n",
                            "  <th>Date:</th>             <td>Sat, 07 Dec 2019</td> <th>  Prob (F-statistic):</th> <td>2.07e-16</td> \n",
                            "</tr>\n",
                            "<tr>\n",
                            "  <th>Time:</th>                 <td>13:32:47</td>     <th>  Log-Likelihood:    </th> <td>  94.907</td> \n",
                            "</tr>\n",
                            "<tr>\n",
                            "  <th>No. Observations:</th>      <td>     3</td>      <th>  AIC:               </th> <td>  -185.8</td> \n",
                            "</tr>\n",
                            "<tr>\n",
                            "  <th>Df Residuals:</th>          <td>     1</td>      <th>  BIC:               </th> <td>  -187.6</td> \n",
                            "</tr>\n",
                            "<tr>\n",
                            "  <th>Df Model:</th>              <td>     1</td>      <th>                     </th>     <td> </td>    \n",
                            "</tr>\n",
                            "<tr>\n",
                            "  <th>Covariance Type:</th>      <td>nonrobust</td>    <th>                     </th>     <td> </td>    \n",
                            "</tr>\n",
                            "</table>\n",
                            "<table class=\"simpletable\">\n",
                            "<tr>\n",
                            "    <td></td>       <th>coef</th>     <th>std err</th>      <th>t</th>      <th>P>|t|</th>  <th>[0.025</th>    <th>0.975]</th>  \n",
                            "</tr>\n",
                            "<tr>\n",
                            "  <th>const</th> <td>-2.665e-15</td> <td> 6.18e-15</td> <td>   -0.431</td> <td> 0.741</td> <td>-8.12e-14</td> <td> 7.58e-14</td>\n",
                            "</tr>\n",
                            "<tr>\n",
                            "  <th>sold</th>  <td>    2.0000</td> <td> 6.49e-16</td> <td> 3.08e+15</td> <td> 0.000</td> <td>    2.000</td> <td>    2.000</td>\n",
                            "</tr>\n",
                            "</table>\n",
                            "<table class=\"simpletable\">\n",
                            "<tr>\n",
                            "  <th>Omnibus:</th>       <td>   nan</td> <th>  Durbin-Watson:     </th> <td>   1.149</td>\n",
                            "</tr>\n",
                            "<tr>\n",
                            "  <th>Prob(Omnibus):</th> <td>   nan</td> <th>  Jarque-Bera (JB):  </th> <td>   0.471</td>\n",
                            "</tr>\n",
                            "<tr>\n",
                            "  <th>Skew:</th>          <td>-0.616</td> <th>  Prob(JB):          </th> <td>   0.790</td>\n",
                            "</tr>\n",
                            "<tr>\n",
                            "  <th>Kurtosis:</th>      <td> 1.500</td> <th>  Cond. No.          </th> <td>    13.4</td>\n",
                            "</tr>\n",
                            "</table><br/><br/>Warnings:<br/>[1] Standard Errors assume that the covariance matrix of the errors is correctly specified."
                        ],
                        "text/plain": [
                            "<class 'statsmodels.iolib.summary.Summary'>\n",
                            "\"\"\"\n",
                            "                            OLS Regression Results                            \n",
                            "==============================================================================\n",
                            "Dep. Variable:                revenue   R-squared:                       1.000\n",
                            "Model:                            OLS   Adj. R-squared:                  1.000\n",
                            "Method:                 Least Squares   F-statistic:                 9.502e+30\n",
                            "Date:                Sat, 07 Dec 2019   Prob (F-statistic):           2.07e-16\n",
                            "Time:                        13:32:47   Log-Likelihood:                 94.907\n",
                            "No. Observations:                   3   AIC:                            -185.8\n",
                            "Df Residuals:                       1   BIC:                            -187.6\n",
                            "Df Model:                           1                                         \n",
                            "Covariance Type:            nonrobust                                         \n",
                            "==============================================================================\n",
                            "                 coef    std err          t      P>|t|      [0.025      0.975]\n",
                            "------------------------------------------------------------------------------\n",
                            "const      -2.665e-15   6.18e-15     -0.431      0.741   -8.12e-14    7.58e-14\n",
                            "sold           2.0000   6.49e-16   3.08e+15      0.000       2.000       2.000\n",
                            "==============================================================================\n",
                            "Omnibus:                          nan   Durbin-Watson:                   1.149\n",
                            "Prob(Omnibus):                    nan   Jarque-Bera (JB):                0.471\n",
                            "Skew:                          -0.616   Prob(JB):                        0.790\n",
                            "Kurtosis:                       1.500   Cond. No.                         13.4\n",
                            "==============================================================================\n",
                            "\n",
                            "Warnings:\n",
                            "[1] Standard Errors assume that the covariance matrix of the errors is correctly specified.\n",
                            "\"\"\""
                        ]
                    },
                    "execution_count": 7,
                    "metadata": {},
                    "output_type": "execute_result"
                }
            ],
            "source": [
                "results.summary()"
            ]
        },
        {
            "cell_type": "markdown",
            "metadata": {},
            "source": [
                "Nice, right? But it's a **lot of information,** so let's take a closer look at some of the bits and pieces.\n",
                "\n",
                "### Reading our summary\n",
                "\n",
                "The fancy style has the same results as `results.params` - try to find `sold` and `2.0000` hiding on the left a ways down."
            ]
        },
        {
            "cell_type": "markdown",
            "metadata": {},
            "source": [
                "<img src=\"data:image/png;base64,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\">\n"
            ]
        },
        {
            "cell_type": "markdown",
            "metadata": {},
            "source": [
                "We can put this into words like this:\n",
                "\n",
                "* For every one more \"sold\" we have, we get two more \"revenue\"\n",
                "* For every one point increase in sold, we'll have a two point increase in revenue\n",
                "\n",
                "I know we weren't supposed to get technical, but just so you know: the `2.0000` is called the **coefficient**. The coefficient for `sold` is how much `revenue` will change if `sold` goes up by one.\n",
                "\n",
                "**`sold` isn't our only only coefficient, though!** There's also the `const` one right above it, which is `-2.665e-15`."
            ]
        },
        {
            "cell_type": "markdown",
            "metadata": {},
            "source": [
                "<img src=\"data:image/png;base64,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\">"
            ]
        },
        {
            "cell_type": "markdown",
            "metadata": {},
            "source": [
                "### Explaining the intercept\n",
                "\n",
                "`const` basically means \"how much money we've made if we've sold **zero coffees**.\" It's called `Intercept` when you use the formula-style regression, even though it'll be exact same number.\n",
                "\n",
                "In this case, `const` is `-2.665e-15`. The `e-15` part means \"move the decimal point 15 places to the left to see what the number really is.\" That means when we sell zero coffees, we make `-0.000000000000002665` dollars. That's basically zero, right?\n",
                "\n",
                "We need the constant in our regression because sometimes it isn't zero coffees making zero dollars. What if instead we were talking about scores on a test based on hours of studying?\n",
                "\n",
                "More studying would (hopefully) give us a higher score, but if we **studied for zero hours** we (hopefully) wouldn't score a zero on the test. If `const` were 70, that would mean even if you study for zero hours, you're **predicted to get a 70 on the test.**\n",
                "\n",
                "Formula-style regression automatically adds a constant, but the dataframe version requires you to use `sm.add_constant(X)`:\n",
                "\n",
                "> model = sm.OLS(y, sm.add_constant(X))\n",
                "\n",
                "If you use `model = sm.OLS(y, X)` instead, the regression would insist that studying for zero hours deserves a zero. Ouch!\n",
                "\n",
                "Why does the formula technique do it the friendly way by default, but the dataframe version make us take an extra step? _No clue._ Maybe regression just seemed _too easy_ without something like that to trip us up. Yet another reason to stick with the formula version!"
            ]
        },
        {
            "cell_type": "markdown",
            "metadata": {},
            "source": [
                "## Review\n",
                "\n",
                "OK, so what did we just learn?\n",
                "\n",
                "Sometimes we know how many cups of coffee we sold and how much each coffee costs, and we want to know how much money we made.\n",
                "\n",
                "|\u2615|\u2716|\ud83d\udcb5|\n",
                "|---|---|---|\n",
                "|We sell zero coffees|`0 \u00d7 $2 per coffee`|We make ???|\n",
                "|We sell four coffees|`4 \u00d7 $2 per coffee`|We make ???|\n",
                "|We sell sixteen coffees|`16 \u00d7 $2 per coffee`|We make ???|\n",
                "\n",
                "That is **not** linear regression. That is, I don't know, normal math?\n",
                "\n",
                "Linear regression is when **we know how much money we made and how many coffees we sold, but not how much coffee is.** \n",
                "\n",
                "|\u2615|\u2716|\ud83d\udcb5|\n",
                "|---|---|---|\n",
                "|We sell zero coffees|`0 \u00d7 ??? per coffee`|We make &#36;0|\n",
                "|We sell four coffees|`4 \u00d7 ??? per coffee`|We make &#36;8|\n",
                "|We sell sixteen coffees|`16 \u00d7 ??? per coffee`|We make &#36;32|\n",
                "\n",
                "If we want to risk sounding halfway technical, linear regression is a question of \"how do the inputs affect the number that comes out at the end.\""
            ]
        },
        {
            "cell_type": "code",
            "execution_count": null,
            "metadata": {},
            "outputs": [],
            "source": []
        }
    ],
    "metadata": {
        "kernelspec": {
            "display_name": "Python 3",
            "language": "python",
            "name": "python3"
        },
        "language_info": {
            "codemirror_mode": {
                "name": "ipython",
                "version": 3
            },
            "file_extension": ".py",
            "mimetype": "text/x-python",
            "name": "python",
            "nbconvert_exporter": "python",
            "pygments_lexer": "ipython3",
            "version": "3.6.8"
        },
        "toc": {
            "base_numbering": 1,
            "nav_menu": {},
            "number_sections": true,
            "sideBar": true,
            "skip_h1_title": false,
            "title_cell": "Table of Contents",
            "title_sidebar": "Contents",
            "toc_cell": false,
            "toc_position": {},
            "toc_section_display": true,
            "toc_window_display": false
        }
    },
    "nbformat": 4,
    "nbformat_minor": 2
}