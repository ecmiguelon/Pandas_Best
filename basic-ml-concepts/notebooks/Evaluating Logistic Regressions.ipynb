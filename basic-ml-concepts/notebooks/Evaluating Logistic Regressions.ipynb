{
    "cells": [
        {
            "cell_type": "markdown",
            "metadata": {},
            "source": [
                "# Evaluating a logistic regression\n",
                "\n",
                "We've been running willy-nilly doing logistic regresions in these past few sections, but we haven't taken the chance to sit down and think **are they even any good?**\n",
                "\n",
                "In this section we'll discuss what makes a logistic regression quality, along with how to analyze all the features you've selected."
            ]
        },
        {
            "cell_type": "markdown",
            "metadata": {},
            "source": [
                "<p class=\"reading-options\">\n  <a class=\"btn\" href=\"/basic-ml-concepts/evaluating-logistic-regressions\">\n    <i class=\"fa fa-sm fa-book\"></i>\n    Read online\n  </a>\n  <a class=\"btn\" href=\"/basic-ml-concepts/notebooks/Evaluating Logistic Regressions.ipynb\">\n    <i class=\"fa fa-sm fa-download\"></i>\n    Download notebook\n  </a>\n  <a class=\"btn\" href=\"#\">\n    <i class=\"fa fa-sm fa-laptop\"></i>\n    Interactive version\n  </a>\n</p>"
            ]
        },
        {
            "cell_type": "markdown",
            "metadata": {},
            "source": [
                "## Our dataset\n",
                "\n",
                "We're going to use the updated scarf-making dataset from our last section. We're cool, we're crafty, but we're also not very good at finishing scarves we've set out to knit!"
            ]
        },
        {
            "cell_type": "code",
            "execution_count": 13,
            "metadata": {},
            "outputs": [
                {
                    "data": {
                        "text/html": [
                            "<div>\n",
                            "<style scoped>\n",
                            "    .dataframe tbody tr th:only-of-type {\n",
                            "        vertical-align: middle;\n",
                            "    }\n",
                            "\n",
                            "    .dataframe tbody tr th {\n",
                            "        vertical-align: top;\n",
                            "    }\n",
                            "\n",
                            "    .dataframe thead th {\n",
                            "        text-align: right;\n",
                            "    }\n",
                            "</style>\n",
                            "<table border=\"1\" class=\"dataframe\">\n",
                            "  <thead>\n",
                            "    <tr style=\"text-align: right;\">\n",
                            "      <th></th>\n",
                            "      <th>length_in</th>\n",
                            "      <th>large_gauge</th>\n",
                            "      <th>color</th>\n",
                            "      <th>completed</th>\n",
                            "    </tr>\n",
                            "  </thead>\n",
                            "  <tbody>\n",
                            "    <tr>\n",
                            "      <th>0</th>\n",
                            "      <td>55</td>\n",
                            "      <td>1</td>\n",
                            "      <td>orange</td>\n",
                            "      <td>1</td>\n",
                            "    </tr>\n",
                            "    <tr>\n",
                            "      <th>1</th>\n",
                            "      <td>55</td>\n",
                            "      <td>0</td>\n",
                            "      <td>orange</td>\n",
                            "      <td>1</td>\n",
                            "    </tr>\n",
                            "    <tr>\n",
                            "      <th>2</th>\n",
                            "      <td>55</td>\n",
                            "      <td>0</td>\n",
                            "      <td>brown</td>\n",
                            "      <td>1</td>\n",
                            "    </tr>\n",
                            "    <tr>\n",
                            "      <th>3</th>\n",
                            "      <td>60</td>\n",
                            "      <td>0</td>\n",
                            "      <td>brown</td>\n",
                            "      <td>1</td>\n",
                            "    </tr>\n",
                            "    <tr>\n",
                            "      <th>4</th>\n",
                            "      <td>60</td>\n",
                            "      <td>0</td>\n",
                            "      <td>grey</td>\n",
                            "      <td>0</td>\n",
                            "    </tr>\n",
                            "    <tr>\n",
                            "      <th>5</th>\n",
                            "      <td>70</td>\n",
                            "      <td>0</td>\n",
                            "      <td>grey</td>\n",
                            "      <td>1</td>\n",
                            "    </tr>\n",
                            "    <tr>\n",
                            "      <th>6</th>\n",
                            "      <td>70</td>\n",
                            "      <td>0</td>\n",
                            "      <td>orange</td>\n",
                            "      <td>0</td>\n",
                            "    </tr>\n",
                            "    <tr>\n",
                            "      <th>7</th>\n",
                            "      <td>82</td>\n",
                            "      <td>1</td>\n",
                            "      <td>grey</td>\n",
                            "      <td>1</td>\n",
                            "    </tr>\n",
                            "    <tr>\n",
                            "      <th>8</th>\n",
                            "      <td>82</td>\n",
                            "      <td>0</td>\n",
                            "      <td>brown</td>\n",
                            "      <td>0</td>\n",
                            "    </tr>\n",
                            "    <tr>\n",
                            "      <th>9</th>\n",
                            "      <td>82</td>\n",
                            "      <td>0</td>\n",
                            "      <td>orange</td>\n",
                            "      <td>0</td>\n",
                            "    </tr>\n",
                            "    <tr>\n",
                            "      <th>10</th>\n",
                            "      <td>82</td>\n",
                            "      <td>1</td>\n",
                            "      <td>brown</td>\n",
                            "      <td>0</td>\n",
                            "    </tr>\n",
                            "  </tbody>\n",
                            "</table>\n",
                            "</div>"
                        ],
                        "text/plain": [
                            "    length_in  large_gauge   color  completed\n",
                            "0          55            1  orange          1\n",
                            "1          55            0  orange          1\n",
                            "2          55            0   brown          1\n",
                            "3          60            0   brown          1\n",
                            "4          60            0    grey          0\n",
                            "5          70            0    grey          1\n",
                            "6          70            0  orange          0\n",
                            "7          82            1    grey          1\n",
                            "8          82            0   brown          0\n",
                            "9          82            0  orange          0\n",
                            "10         82            1   brown          0"
                        ]
                    },
                    "execution_count": 13,
                    "metadata": {},
                    "output_type": "execute_result"
                }
            ],
            "source": [
                "import pandas as pd\n",
                "import numpy as np\n",
                "import statsmodels.formula.api as smf\n",
                "\n",
                "df = pd.DataFrame([\n",
                "    { 'length_in': 55, 'large_gauge': 1, 'color': 'orange', 'completed': 1 },\n",
                "    { 'length_in': 55, 'large_gauge': 0, 'color': 'orange', 'completed': 1 },\n",
                "    { 'length_in': 55, 'large_gauge': 0, 'color': 'brown', 'completed': 1 },\n",
                "    { 'length_in': 60, 'large_gauge': 0, 'color': 'brown', 'completed': 1 },\n",
                "    { 'length_in': 60, 'large_gauge': 0, 'color': 'grey', 'completed': 0 },\n",
                "    { 'length_in': 70, 'large_gauge': 0, 'color': 'grey', 'completed': 1 },\n",
                "    { 'length_in': 70, 'large_gauge': 0, 'color': 'orange', 'completed': 0 },\n",
                "    { 'length_in': 82, 'large_gauge': 1, 'color': 'grey', 'completed': 1 },\n",
                "    { 'length_in': 82, 'large_gauge': 0, 'color': 'brown', 'completed': 0 },\n",
                "    { 'length_in': 82, 'large_gauge': 0, 'color': 'orange', 'completed': 0 },\n",
                "    { 'length_in': 82, 'large_gauge': 1, 'color': 'brown', 'completed': 0 },\n",
                "])\n",
                "df"
            ]
        },
        {
            "cell_type": "markdown",
            "metadata": {},
            "source": [
                "Now let's ask some questions about it.\n",
                "\n",
                "## Statistical significance\n",
                "\n",
                "Just because you run a regression **doesn't mean the results are true!** The standard way of judging whether you can trust what a regression is telling you is called the **p value**. Let's take a look at our most recent regression, and figure out where the p value is and what it means."
            ]
        },
        {
            "cell_type": "code",
            "execution_count": 14,
            "metadata": {},
            "outputs": [
                {
                    "name": "stdout",
                    "output_type": "stream",
                    "text": [
                        "Optimization terminated successfully.\n",
                        "         Current function value: 0.424906\n",
                        "         Iterations 7\n"
                    ]
                },
                {
                    "data": {
                        "text/html": [
                            "<table class=\"simpletable\">\n",
                            "<caption>Logit Regression Results</caption>\n",
                            "<tr>\n",
                            "  <th>Dep. Variable:</th>       <td>completed</td>    <th>  No. Observations:  </th>  <td>    11</td> \n",
                            "</tr>\n",
                            "<tr>\n",
                            "  <th>Model:</th>                 <td>Logit</td>      <th>  Df Residuals:      </th>  <td>     6</td> \n",
                            "</tr>\n",
                            "<tr>\n",
                            "  <th>Method:</th>                 <td>MLE</td>       <th>  Df Model:          </th>  <td>     4</td> \n",
                            "</tr>\n",
                            "<tr>\n",
                            "  <th>Date:</th>            <td>Fri, 13 Dec 2019</td> <th>  Pseudo R-squ.:     </th>  <td>0.3833</td> \n",
                            "</tr>\n",
                            "<tr>\n",
                            "  <th>Time:</th>                <td>15:59:28</td>     <th>  Log-Likelihood:    </th> <td> -4.6740</td>\n",
                            "</tr>\n",
                            "<tr>\n",
                            "  <th>converged:</th>             <td>True</td>       <th>  LL-Null:           </th> <td> -7.5791</td>\n",
                            "</tr>\n",
                            "<tr>\n",
                            "  <th>Covariance Type:</th>     <td>nonrobust</td>    <th>  LLR p-value:       </th>  <td>0.2138</td> \n",
                            "</tr>\n",
                            "</table>\n",
                            "<table class=\"simpletable\">\n",
                            "<tr>\n",
                            "                     <td></td>                       <th>coef</th>     <th>std err</th>      <th>z</th>      <th>P>|z|</th>  <th>[0.025</th>    <th>0.975]</th>  \n",
                            "</tr>\n",
                            "<tr>\n",
                            "  <th>Intercept</th>                              <td>   12.1245</td> <td>    8.094</td> <td>    1.498</td> <td> 0.134</td> <td>   -3.740</td> <td>   27.989</td>\n",
                            "</tr>\n",
                            "<tr>\n",
                            "  <th>C(color, Treatment('orange'))[T.brown]</th> <td>    0.4594</td> <td>    2.257</td> <td>    0.204</td> <td> 0.839</td> <td>   -3.965</td> <td>    4.884</td>\n",
                            "</tr>\n",
                            "<tr>\n",
                            "  <th>C(color, Treatment('orange'))[T.grey]</th>  <td>    1.4708</td> <td>    2.289</td> <td>    0.643</td> <td> 0.520</td> <td>   -3.015</td> <td>    5.957</td>\n",
                            "</tr>\n",
                            "<tr>\n",
                            "  <th>length_in</th>                              <td>   -0.1944</td> <td>    0.126</td> <td>   -1.540</td> <td> 0.124</td> <td>   -0.442</td> <td>    0.053</td>\n",
                            "</tr>\n",
                            "<tr>\n",
                            "  <th>large_gauge</th>                            <td>    2.8814</td> <td>    2.845</td> <td>    1.013</td> <td> 0.311</td> <td>   -2.694</td> <td>    8.457</td>\n",
                            "</tr>\n",
                            "</table>"
                        ],
                        "text/plain": [
                            "<class 'statsmodels.iolib.summary.Summary'>\n",
                            "\"\"\"\n",
                            "                           Logit Regression Results                           \n",
                            "==============================================================================\n",
                            "Dep. Variable:              completed   No. Observations:                   11\n",
                            "Model:                          Logit   Df Residuals:                        6\n",
                            "Method:                           MLE   Df Model:                            4\n",
                            "Date:                Fri, 13 Dec 2019   Pseudo R-squ.:                  0.3833\n",
                            "Time:                        15:59:28   Log-Likelihood:                -4.6740\n",
                            "converged:                       True   LL-Null:                       -7.5791\n",
                            "Covariance Type:            nonrobust   LLR p-value:                    0.2138\n",
                            "==========================================================================================================\n",
                            "                                             coef    std err          z      P>|z|      [0.025      0.975]\n",
                            "----------------------------------------------------------------------------------------------------------\n",
                            "Intercept                                 12.1245      8.094      1.498      0.134      -3.740      27.989\n",
                            "C(color, Treatment('orange'))[T.brown]     0.4594      2.257      0.204      0.839      -3.965       4.884\n",
                            "C(color, Treatment('orange'))[T.grey]      1.4708      2.289      0.643      0.520      -3.015       5.957\n",
                            "length_in                                 -0.1944      0.126     -1.540      0.124      -0.442       0.053\n",
                            "large_gauge                                2.8814      2.845      1.013      0.311      -2.694       8.457\n",
                            "==========================================================================================================\n",
                            "\"\"\""
                        ]
                    },
                    "execution_count": 14,
                    "metadata": {},
                    "output_type": "execute_result"
                }
            ],
            "source": [
                "model = smf.logit(\"completed ~ length_in + large_gauge + C(color, Treatment('orange'))\", data=df)\n",
                "results = model.fit()\n",
                "results.summary()"
            ]
        },
        {
            "cell_type": "markdown",
            "metadata": {},
            "source": [
                "This is our logistic regression on scarf completion: given a scarf's intended length, color, and the size of our needles, can we finish it? Instead of looking at the coefficients and odds ratios, let's **peek at the regression's p value.**"
            ]
        },
        {
            "cell_type": "code",
            "execution_count": null,
            "metadata": {},
            "outputs": [],
            "source": []
        },
        {
            "cell_type": "markdown",
            "metadata": {},
            "source": [
                "The p value is listed as **LLR p-value**, and it's the certainty we can have in our results. You can think of it as the percent chance that the regression can create a meaningful representation of us completing a scarf.\n",
                "\n",
                "Typically a p value of 0.05 (or 5%) is thought of as \"good\" or \"statistically significant,\" as there's only a 5% or less chance that these results aren't valid. Our p-value is 0.2138, which is frankly _terrible._ I don't think we can use this regression for anything!\n",
                "\n",
                "### p-values for features\n",
                "\n",
                "Beyond p values for the entire regression, you can also find p values for each individual feature."
            ]
        },
        {
            "cell_type": "code",
            "execution_count": null,
            "metadata": {},
            "outputs": [],
            "source": []
        },
        {
            "cell_type": "markdown",
            "metadata": {},
            "source": [
                "Notice that the p values for brown is at the _nightmarish level_ of above 80%! Grey is also incredibly high, at around 0.5 (not to be confused with 0.05).\n",
                "\n",
                "Honestly, **we probably shouldn't have added those in the first place.** You should only be adding features when you have an argument as to why they'd affect the outcome. Bad features have a tendency to not only ruin your entire regression's p value, they also screw around with features that are actually valid and good!\n",
                "\n",
                "Let's remove the color category from our regression and try again."
            ]
        },
        {
            "cell_type": "code",
            "execution_count": 15,
            "metadata": {},
            "outputs": [
                {
                    "name": "stdout",
                    "output_type": "stream",
                    "text": [
                        "Optimization terminated successfully.\n",
                        "         Current function value: 0.449028\n",
                        "         Iterations 7\n"
                    ]
                },
                {
                    "data": {
                        "text/html": [
                            "<table class=\"simpletable\">\n",
                            "<caption>Logit Regression Results</caption>\n",
                            "<tr>\n",
                            "  <th>Dep. Variable:</th>       <td>completed</td>    <th>  No. Observations:  </th>  <td>    11</td> \n",
                            "</tr>\n",
                            "<tr>\n",
                            "  <th>Model:</th>                 <td>Logit</td>      <th>  Df Residuals:      </th>  <td>     8</td> \n",
                            "</tr>\n",
                            "<tr>\n",
                            "  <th>Method:</th>                 <td>MLE</td>       <th>  Df Model:          </th>  <td>     2</td> \n",
                            "</tr>\n",
                            "<tr>\n",
                            "  <th>Date:</th>            <td>Fri, 13 Dec 2019</td> <th>  Pseudo R-squ.:     </th>  <td>0.3483</td> \n",
                            "</tr>\n",
                            "<tr>\n",
                            "  <th>Time:</th>                <td>15:59:29</td>     <th>  Log-Likelihood:    </th> <td> -4.9393</td>\n",
                            "</tr>\n",
                            "<tr>\n",
                            "  <th>converged:</th>             <td>True</td>       <th>  LL-Null:           </th> <td> -7.5791</td>\n",
                            "</tr>\n",
                            "<tr>\n",
                            "  <th>Covariance Type:</th>     <td>nonrobust</td>    <th>  LLR p-value:       </th>  <td>0.07138</td>\n",
                            "</tr>\n",
                            "</table>\n",
                            "<table class=\"simpletable\">\n",
                            "<tr>\n",
                            "       <td></td>          <th>coef</th>     <th>std err</th>      <th>z</th>      <th>P>|z|</th>  <th>[0.025</th>    <th>0.975]</th>  \n",
                            "</tr>\n",
                            "<tr>\n",
                            "  <th>Intercept</th>   <td>   12.0850</td> <td>    7.615</td> <td>    1.587</td> <td> 0.113</td> <td>   -2.840</td> <td>   27.010</td>\n",
                            "</tr>\n",
                            "<tr>\n",
                            "  <th>length_in</th>   <td>   -0.1833</td> <td>    0.117</td> <td>   -1.573</td> <td> 0.116</td> <td>   -0.412</td> <td>    0.045</td>\n",
                            "</tr>\n",
                            "<tr>\n",
                            "  <th>large_gauge</th> <td>    2.9609</td> <td>    2.589</td> <td>    1.144</td> <td> 0.253</td> <td>   -2.113</td> <td>    8.035</td>\n",
                            "</tr>\n",
                            "</table>"
                        ],
                        "text/plain": [
                            "<class 'statsmodels.iolib.summary.Summary'>\n",
                            "\"\"\"\n",
                            "                           Logit Regression Results                           \n",
                            "==============================================================================\n",
                            "Dep. Variable:              completed   No. Observations:                   11\n",
                            "Model:                          Logit   Df Residuals:                        8\n",
                            "Method:                           MLE   Df Model:                            2\n",
                            "Date:                Fri, 13 Dec 2019   Pseudo R-squ.:                  0.3483\n",
                            "Time:                        15:59:29   Log-Likelihood:                -4.9393\n",
                            "converged:                       True   LL-Null:                       -7.5791\n",
                            "Covariance Type:            nonrobust   LLR p-value:                   0.07138\n",
                            "===============================================================================\n",
                            "                  coef    std err          z      P>|z|      [0.025      0.975]\n",
                            "-------------------------------------------------------------------------------\n",
                            "Intercept      12.0850      7.615      1.587      0.113      -2.840      27.010\n",
                            "length_in      -0.1833      0.117     -1.573      0.116      -0.412       0.045\n",
                            "large_gauge     2.9609      2.589      1.144      0.253      -2.113       8.035\n",
                            "===============================================================================\n",
                            "\"\"\""
                        ]
                    },
                    "execution_count": 15,
                    "metadata": {},
                    "output_type": "execute_result"
                }
            ],
            "source": [
                "model = smf.logit(\"completed ~ length_in + large_gauge\", data=df)\n",
                "results = model.fit()\n",
                "results.summary()"
            ]
        },
        {
            "cell_type": "markdown",
            "metadata": {},
            "source": [
                "Our regression's overall p value at 0.07 is now looking a lot closer to statistical significane. Removing unnecessary features improved our regression's chance of being meaningful - **more features isn't always better!**\n",
                "\n",
                "## Model quality\n",
                "\n",
                "When we're looking at a linear regression, we spend a lot of time on **R-squared** and **pseudo R-squared** values. R-squared tells us how much of the variation in the output can be understood through out features (as opposed to noise or other factors), while pseudo R-squared allows us to compare different linear regressions to see which does a better job of fitting out data.\n",
                "\n",
                "It's unfortunately a lot more complicated with logistic regression! On the plus side, we do have a pseudo R-squared, listed as **Pseudo R-sq.** up top."
            ]
        },
        {
            "cell_type": "code",
            "execution_count": null,
            "metadata": {},
            "outputs": [],
            "source": []
        },
        {
            "cell_type": "markdown",
            "metadata": {},
            "source": [
                "Unfortunately, there are _multiple version of pseudo R-squared for logistic regression_. It's just a lot more complicated than linear regression, I guess! Your pseudo R-squared is on a scale from 0 to 1, with higher values meaning a better fit. Unlike linear regression R-squared, though, you can't say \"we're explaining such-and-such of the variation.\" You just say \"this model is better than that model.\"\n",
                "\n",
                "If we compare the pseudo R-squared value from our length + needle regression to the length + needle + color regression, the more complicated regression wins! "
            ]
        },
        {
            "cell_type": "code",
            "execution_count": null,
            "metadata": {},
            "outputs": [],
            "source": []
        },
        {
            "cell_type": "markdown",
            "metadata": {},
            "source": [
                "Does that mean we run back to the regression that includes color, crying and apologizing for casting it aside? Not even for a moment! Because its p value was so high - over 0.2 - we definitely shouldn't take it seriously. We should only listen to a regression or a coefficient if its p value is in a respectable place (generally speaking, under  0.05).\n",
                "\n",
                "> **Note:** Our p values are generally going to be terrible because we have small datasets that involved me semi-randomly typing numbers. There isn't a secret trick where we're going to hit that threshold and solve all our knitting problems forever, sorry."
            ]
        },
        {
            "cell_type": "markdown",
            "metadata": {},
            "source": [
                "### Pseudo R-squareds\n",
                "\n",
                "Please indulge me to talk about logistic regression pseudo R-squareds for a moment.\n",
                "\n",
                "The one we're using here is called **McFadden's R-squared**. Other pieces statistical modeling software use [other ones](https://stats.idre.ucla.edu/other/mult-pkg/faq/general/faq-what-are-pseudo-r-squareds/)! I'm calling out both the complicated nature of determining \"goodness of fit\" and logistic regression R-squared measurements because it leads to great blog posts [like this one](https://statisticalhorizons.com/r2logistic):\n",
                "\n",
                "> For years, I\u2019ve been recommending the Cox and Snell R2 over the McFadden R2, but I\u2019ve recently concluded that that was a mistake. I now believe that McFadden\u2019s R2 is a better choice. However, I\u2019ve also learned about another R2 that has good properties, a lot of intuitive appeal, and is easily calculated. At the moment, I like it better than the McFadden R2. But I\u2019m not going to make a definite recommendation until I get more experience with it.\n",
                "\n",
                "First off, _it's a secret, he's keeping his favorite R-squared technique a secret!!!_ I love that _so much_.\n",
                "\n",
                "Second, I probably understand about as much of that as you do, but here's the point: non-math people often think that numbers automatically make things true or false, that there's exactly one way to do things, and that math can give you definitive answers. **This is rarely true, especially when we're talking about real-life data!**\n",
                "\n",
                "The uncertainty in numbers is a big reason why even if you know enough stats to get by, you should always be running your analyses by someone who knows more, or someone who is a domain expert. And even the experts don't always agree with one another! On top of that, **readers really trust numbers,** and you need to go above and beyond to make sure you're explaining them correctly."
            ]
        },
        {
            "cell_type": "code",
            "execution_count": null,
            "metadata": {},
            "outputs": [],
            "source": []
        },
        {
            "cell_type": "markdown",
            "metadata": {},
            "source": [
                "## Review\n",
                "\n",
                "In this section, we talked about **evaluating logistic regression models and features.**\n",
                "\n",
                "Unlike judging the quality of a linear regression, we don't have an **R-squared** to explain goodness of fit. Instead we only have a **pseudo R-squared**. Like in linear regression, we can use pseudo R-squared to compare two different regressions. Higher is better!\n",
                "\n",
                "The most important measure in your regression is going to be your **p value**, which is used to measure **statistical significance** (aka the chance your data is a happy accident, not actually meaningful). Traditionally 0.05 is the cutoff, which means there's a less than 5% chance that your findings were made by chance.\n",
                "\n",
                "Whether your regression does or does not hit the p-value threshold, you can also examine the **p values of your features**. Removing features with high p values tends to improve your regression, as your regression no longer needs to pay attention to the noise they add.\n",
                "\n",
                "## Discussion topics\n",
                "\n",
                "> TODO\n",
                ">\n",
                "> there\u2019s literally nothing you can do right in stats\n",
                ">\n",
                "> which also means there\u2019s no wrong way to do them"
            ]
        },
        {
            "cell_type": "code",
            "execution_count": null,
            "metadata": {},
            "outputs": [],
            "source": []
        }
    ],
    "metadata": {
        "kernelspec": {
            "display_name": "Python 3",
            "language": "python",
            "name": "python3"
        },
        "language_info": {
            "codemirror_mode": {
                "name": "ipython",
                "version": 3
            },
            "file_extension": ".py",
            "mimetype": "text/x-python",
            "name": "python",
            "nbconvert_exporter": "python",
            "pygments_lexer": "ipython3",
            "version": "3.6.8"
        },
        "toc": {
            "base_numbering": 1,
            "nav_menu": {},
            "number_sections": true,
            "sideBar": true,
            "skip_h1_title": false,
            "title_cell": "Table of Contents",
            "title_sidebar": "Contents",
            "toc_cell": false,
            "toc_position": {},
            "toc_section_display": true,
            "toc_window_display": false
        }
    },
    "nbformat": 4,
    "nbformat_minor": 2
}