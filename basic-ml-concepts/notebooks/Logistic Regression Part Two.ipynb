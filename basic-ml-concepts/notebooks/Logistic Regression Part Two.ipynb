{
    "cells": [
        {
            "cell_type": "markdown",
            "metadata": {},
            "source": [
                "# Multivariable logistic regression and reference categories\n",
                "\n",
                "Once you've got the basics down for logistic regression, you can start to have some real fun. In this section we'll examine having multiple inputs to our regression, along with dealing with categorical data."
            ]
        },
        {
            "cell_type": "markdown",
            "metadata": {},
            "source": [
                "<p class=\"reading-options\">\n  <a class=\"btn\" href=\"/basic-ml-concepts/logistic-regression-part-two\">\n    <i class=\"fa fa-sm fa-book\"></i>\n    Read online\n  </a>\n  <a class=\"btn\" href=\"/basic-ml-concepts/notebooks/Logistic Regression Part Two.ipynb\">\n    <i class=\"fa fa-sm fa-download\"></i>\n    Download notebook\n  </a>\n  <a class=\"btn\" href=\"#\">\n    <i class=\"fa fa-sm fa-laptop\"></i>\n    Interactive version\n  </a>\n</p>"
            ]
        },
        {
            "cell_type": "code",
            "execution_count": 111,
            "metadata": {},
            "outputs": [],
            "source": [
                "import pandas as pd\n",
                "import statsmodels.formula.api as smf\n",
                "import numpy as np"
            ]
        },
        {
            "cell_type": "markdown",
            "metadata": {},
            "source": [
                "## Multivariable regression\n",
                "\n",
                "As a gentle reminder: we're lazy lovers of knitting and scarves, and trying to do statistical analyses to see which scarves we're bound to finish.\n",
                "\n",
                "Last time we were looking at the length of a scarf, and how it affects our completion rate. We decided on logistic regression because the output is a category, and found out that every additional inch lowers our chance of finishing the scarf.\n",
                "\n",
                "This time we've added a **couple more columns of data**, since there might be more at work here than just scarf length."
            ]
        },
        {
            "cell_type": "code",
            "execution_count": 112,
            "metadata": {},
            "outputs": [
                {
                    "data": {
                        "text/html": [
                            "<div>\n",
                            "<style scoped>\n",
                            "    .dataframe tbody tr th:only-of-type {\n",
                            "        vertical-align: middle;\n",
                            "    }\n",
                            "\n",
                            "    .dataframe tbody tr th {\n",
                            "        vertical-align: top;\n",
                            "    }\n",
                            "\n",
                            "    .dataframe thead th {\n",
                            "        text-align: right;\n",
                            "    }\n",
                            "</style>\n",
                            "<table border=\"1\" class=\"dataframe\">\n",
                            "  <thead>\n",
                            "    <tr style=\"text-align: right;\">\n",
                            "      <th></th>\n",
                            "      <th>length_in</th>\n",
                            "      <th>large_gauge</th>\n",
                            "      <th>color</th>\n",
                            "      <th>completed</th>\n",
                            "    </tr>\n",
                            "  </thead>\n",
                            "  <tbody>\n",
                            "    <tr>\n",
                            "      <th>0</th>\n",
                            "      <td>55</td>\n",
                            "      <td>1</td>\n",
                            "      <td>orange</td>\n",
                            "      <td>1</td>\n",
                            "    </tr>\n",
                            "    <tr>\n",
                            "      <th>1</th>\n",
                            "      <td>55</td>\n",
                            "      <td>0</td>\n",
                            "      <td>orange</td>\n",
                            "      <td>1</td>\n",
                            "    </tr>\n",
                            "    <tr>\n",
                            "      <th>2</th>\n",
                            "      <td>55</td>\n",
                            "      <td>0</td>\n",
                            "      <td>brown</td>\n",
                            "      <td>1</td>\n",
                            "    </tr>\n",
                            "    <tr>\n",
                            "      <th>3</th>\n",
                            "      <td>60</td>\n",
                            "      <td>0</td>\n",
                            "      <td>brown</td>\n",
                            "      <td>1</td>\n",
                            "    </tr>\n",
                            "    <tr>\n",
                            "      <th>4</th>\n",
                            "      <td>60</td>\n",
                            "      <td>0</td>\n",
                            "      <td>grey</td>\n",
                            "      <td>0</td>\n",
                            "    </tr>\n",
                            "    <tr>\n",
                            "      <th>5</th>\n",
                            "      <td>70</td>\n",
                            "      <td>0</td>\n",
                            "      <td>grey</td>\n",
                            "      <td>1</td>\n",
                            "    </tr>\n",
                            "    <tr>\n",
                            "      <th>6</th>\n",
                            "      <td>70</td>\n",
                            "      <td>0</td>\n",
                            "      <td>orange</td>\n",
                            "      <td>0</td>\n",
                            "    </tr>\n",
                            "    <tr>\n",
                            "      <th>7</th>\n",
                            "      <td>82</td>\n",
                            "      <td>1</td>\n",
                            "      <td>grey</td>\n",
                            "      <td>1</td>\n",
                            "    </tr>\n",
                            "    <tr>\n",
                            "      <th>8</th>\n",
                            "      <td>82</td>\n",
                            "      <td>0</td>\n",
                            "      <td>brown</td>\n",
                            "      <td>0</td>\n",
                            "    </tr>\n",
                            "    <tr>\n",
                            "      <th>9</th>\n",
                            "      <td>82</td>\n",
                            "      <td>0</td>\n",
                            "      <td>orange</td>\n",
                            "      <td>0</td>\n",
                            "    </tr>\n",
                            "    <tr>\n",
                            "      <th>10</th>\n",
                            "      <td>82</td>\n",
                            "      <td>1</td>\n",
                            "      <td>brown</td>\n",
                            "      <td>0</td>\n",
                            "    </tr>\n",
                            "  </tbody>\n",
                            "</table>\n",
                            "</div>"
                        ],
                        "text/plain": [
                            "    length_in  large_gauge   color  completed\n",
                            "0          55            1  orange          1\n",
                            "1          55            0  orange          1\n",
                            "2          55            0   brown          1\n",
                            "3          60            0   brown          1\n",
                            "4          60            0    grey          0\n",
                            "5          70            0    grey          1\n",
                            "6          70            0  orange          0\n",
                            "7          82            1    grey          1\n",
                            "8          82            0   brown          0\n",
                            "9          82            0  orange          0\n",
                            "10         82            1   brown          0"
                        ]
                    },
                    "execution_count": 112,
                    "metadata": {},
                    "output_type": "execute_result"
                }
            ],
            "source": [
                "df = pd.DataFrame([\n",
                "    { 'length_in': 55, 'large_gauge': 1, 'color': 'orange', 'completed': 1 },\n",
                "    { 'length_in': 55, 'large_gauge': 0, 'color': 'orange', 'completed': 1 },\n",
                "    { 'length_in': 55, 'large_gauge': 0, 'color': 'brown', 'completed': 1 },\n",
                "    { 'length_in': 60, 'large_gauge': 0, 'color': 'brown', 'completed': 1 },\n",
                "    { 'length_in': 60, 'large_gauge': 0, 'color': 'grey', 'completed': 0 },\n",
                "    { 'length_in': 70, 'large_gauge': 0, 'color': 'grey', 'completed': 1 },\n",
                "    { 'length_in': 70, 'large_gauge': 0, 'color': 'orange', 'completed': 0 },\n",
                "    { 'length_in': 82, 'large_gauge': 1, 'color': 'grey', 'completed': 1 },\n",
                "    { 'length_in': 82, 'large_gauge': 0, 'color': 'brown', 'completed': 0 },\n",
                "    { 'length_in': 82, 'large_gauge': 0, 'color': 'orange', 'completed': 0 },\n",
                "    { 'length_in': 82, 'large_gauge': 1, 'color': 'brown', 'completed': 0 },\n",
                "])\n",
                "df"
            ]
        },
        {
            "cell_type": "markdown",
            "metadata": {},
            "source": [
                "Our columns are as follows:\n",
                "\n",
                "* `length_in`, the length of the potential scarf in inches\n",
                "* `large_gauge`, whether we're using [big fat needles](https://www.stitchdiva.com/superchunky-knit-cowl) to do our knitting (1=used large gauge needles)\n",
                "* `color`, the color of our yarn\n",
                "* `completed`, whether the scarf was completed or not (1=completed)\n",
                "\n",
                "Previously we ran a regression relating the **length of the scarf** and **whether it was completed**. Let's run it again real quick for reference."
            ]
        },
        {
            "cell_type": "code",
            "execution_count": 113,
            "metadata": {},
            "outputs": [
                {
                    "name": "stdout",
                    "output_type": "stream",
                    "text": [
                        "Optimization terminated successfully.\n",
                        "         Current function value: 0.531806\n",
                        "         Iterations 5\n"
                    ]
                },
                {
                    "data": {
                        "text/html": [
                            "<table class=\"simpletable\">\n",
                            "<caption>Logit Regression Results</caption>\n",
                            "<tr>\n",
                            "  <th>Dep. Variable:</th>       <td>completed</td>    <th>  No. Observations:  </th>  <td>    11</td> \n",
                            "</tr>\n",
                            "<tr>\n",
                            "  <th>Model:</th>                 <td>Logit</td>      <th>  Df Residuals:      </th>  <td>     9</td> \n",
                            "</tr>\n",
                            "<tr>\n",
                            "  <th>Method:</th>                 <td>MLE</td>       <th>  Df Model:          </th>  <td>     1</td> \n",
                            "</tr>\n",
                            "<tr>\n",
                            "  <th>Date:</th>            <td>Fri, 13 Dec 2019</td> <th>  Pseudo R-squ.:     </th>  <td>0.2282</td> \n",
                            "</tr>\n",
                            "<tr>\n",
                            "  <th>Time:</th>                <td>19:01:28</td>     <th>  Log-Likelihood:    </th> <td> -5.8499</td>\n",
                            "</tr>\n",
                            "<tr>\n",
                            "  <th>converged:</th>             <td>True</td>       <th>  LL-Null:           </th> <td> -7.5791</td>\n",
                            "</tr>\n",
                            "<tr>\n",
                            "  <th>Covariance Type:</th>     <td>nonrobust</td>    <th>  LLR p-value:       </th>  <td>0.06293</td>\n",
                            "</tr>\n",
                            "</table>\n",
                            "<table class=\"simpletable\">\n",
                            "<tr>\n",
                            "      <td></td>         <th>coef</th>     <th>std err</th>      <th>z</th>      <th>P>|z|</th>  <th>[0.025</th>    <th>0.975]</th>  \n",
                            "</tr>\n",
                            "<tr>\n",
                            "  <th>Intercept</th> <td>    7.8531</td> <td>    4.736</td> <td>    1.658</td> <td> 0.097</td> <td>   -1.429</td> <td>   17.135</td>\n",
                            "</tr>\n",
                            "<tr>\n",
                            "  <th>length_in</th> <td>   -0.1112</td> <td>    0.067</td> <td>   -1.649</td> <td> 0.099</td> <td>   -0.243</td> <td>    0.021</td>\n",
                            "</tr>\n",
                            "</table>"
                        ],
                        "text/plain": [
                            "<class 'statsmodels.iolib.summary.Summary'>\n",
                            "\"\"\"\n",
                            "                           Logit Regression Results                           \n",
                            "==============================================================================\n",
                            "Dep. Variable:              completed   No. Observations:                   11\n",
                            "Model:                          Logit   Df Residuals:                        9\n",
                            "Method:                           MLE   Df Model:                            1\n",
                            "Date:                Fri, 13 Dec 2019   Pseudo R-squ.:                  0.2282\n",
                            "Time:                        19:01:28   Log-Likelihood:                -5.8499\n",
                            "converged:                       True   LL-Null:                       -7.5791\n",
                            "Covariance Type:            nonrobust   LLR p-value:                   0.06293\n",
                            "==============================================================================\n",
                            "                 coef    std err          z      P>|z|      [0.025      0.975]\n",
                            "------------------------------------------------------------------------------\n",
                            "Intercept      7.8531      4.736      1.658      0.097      -1.429      17.135\n",
                            "length_in     -0.1112      0.067     -1.649      0.099      -0.243       0.021\n",
                            "==============================================================================\n",
                            "\"\"\""
                        ]
                    },
                    "execution_count": 113,
                    "metadata": {},
                    "output_type": "execute_result"
                }
            ],
            "source": [
                "model = smf.logit(\"completed ~ length_in\", data=df)\n",
                "results = model.fit()\n",
                "results.summary()"
            ]
        },
        {
            "cell_type": "markdown",
            "metadata": {},
            "source": [
                "This time we're going to add our new columns to the mix. We'll start by adding **whether we used large-gauge needles** when knitting the scarf. Large gauge needles typically leave large gaps between your stitches, allowing you to knit more area more quickly."
            ]
        },
        {
            "cell_type": "code",
            "execution_count": 114,
            "metadata": {},
            "outputs": [
                {
                    "name": "stdout",
                    "output_type": "stream",
                    "text": [
                        "Optimization terminated successfully.\n",
                        "         Current function value: 0.449028\n",
                        "         Iterations 7\n"
                    ]
                },
                {
                    "data": {
                        "text/html": [
                            "<table class=\"simpletable\">\n",
                            "<caption>Logit Regression Results</caption>\n",
                            "<tr>\n",
                            "  <th>Dep. Variable:</th>       <td>completed</td>    <th>  No. Observations:  </th>  <td>    11</td> \n",
                            "</tr>\n",
                            "<tr>\n",
                            "  <th>Model:</th>                 <td>Logit</td>      <th>  Df Residuals:      </th>  <td>     8</td> \n",
                            "</tr>\n",
                            "<tr>\n",
                            "  <th>Method:</th>                 <td>MLE</td>       <th>  Df Model:          </th>  <td>     2</td> \n",
                            "</tr>\n",
                            "<tr>\n",
                            "  <th>Date:</th>            <td>Fri, 13 Dec 2019</td> <th>  Pseudo R-squ.:     </th>  <td>0.3483</td> \n",
                            "</tr>\n",
                            "<tr>\n",
                            "  <th>Time:</th>                <td>19:01:28</td>     <th>  Log-Likelihood:    </th> <td> -4.9393</td>\n",
                            "</tr>\n",
                            "<tr>\n",
                            "  <th>converged:</th>             <td>True</td>       <th>  LL-Null:           </th> <td> -7.5791</td>\n",
                            "</tr>\n",
                            "<tr>\n",
                            "  <th>Covariance Type:</th>     <td>nonrobust</td>    <th>  LLR p-value:       </th>  <td>0.07138</td>\n",
                            "</tr>\n",
                            "</table>\n",
                            "<table class=\"simpletable\">\n",
                            "<tr>\n",
                            "       <td></td>          <th>coef</th>     <th>std err</th>      <th>z</th>      <th>P>|z|</th>  <th>[0.025</th>    <th>0.975]</th>  \n",
                            "</tr>\n",
                            "<tr>\n",
                            "  <th>Intercept</th>   <td>   12.0850</td> <td>    7.615</td> <td>    1.587</td> <td> 0.113</td> <td>   -2.840</td> <td>   27.010</td>\n",
                            "</tr>\n",
                            "<tr>\n",
                            "  <th>length_in</th>   <td>   -0.1833</td> <td>    0.117</td> <td>   -1.573</td> <td> 0.116</td> <td>   -0.412</td> <td>    0.045</td>\n",
                            "</tr>\n",
                            "<tr>\n",
                            "  <th>large_gauge</th> <td>    2.9609</td> <td>    2.589</td> <td>    1.144</td> <td> 0.253</td> <td>   -2.113</td> <td>    8.035</td>\n",
                            "</tr>\n",
                            "</table>"
                        ],
                        "text/plain": [
                            "<class 'statsmodels.iolib.summary.Summary'>\n",
                            "\"\"\"\n",
                            "                           Logit Regression Results                           \n",
                            "==============================================================================\n",
                            "Dep. Variable:              completed   No. Observations:                   11\n",
                            "Model:                          Logit   Df Residuals:                        8\n",
                            "Method:                           MLE   Df Model:                            2\n",
                            "Date:                Fri, 13 Dec 2019   Pseudo R-squ.:                  0.3483\n",
                            "Time:                        19:01:28   Log-Likelihood:                -4.9393\n",
                            "converged:                       True   LL-Null:                       -7.5791\n",
                            "Covariance Type:            nonrobust   LLR p-value:                   0.07138\n",
                            "===============================================================================\n",
                            "                  coef    std err          z      P>|z|      [0.025      0.975]\n",
                            "-------------------------------------------------------------------------------\n",
                            "Intercept      12.0850      7.615      1.587      0.113      -2.840      27.010\n",
                            "length_in      -0.1833      0.117     -1.573      0.116      -0.412       0.045\n",
                            "large_gauge     2.9609      2.589      1.144      0.253      -2.113       8.035\n",
                            "===============================================================================\n",
                            "\"\"\""
                        ]
                    },
                    "execution_count": 114,
                    "metadata": {},
                    "output_type": "execute_result"
                }
            ],
            "source": [
                "model = smf.logit(\"completed ~ length_in + large_gauge\", data=df)\n",
                "results = model.fit()\n",
                "results.summary()"
            ]
        },
        {
            "cell_type": "markdown",
            "metadata": {},
            "source": [
                "Easy-peasy. You'll see that we have **new row** down in the features section, hand-crafted just for our new `large_gauge` column! Right now we're specifically interested in the coefficient, which explains how using a large gauge knitting needle is related to our completion rate.\n",
                "\n",
                "Since it's LOGistic regression, the coefficients are currently LOGarithms. To turn them into odds ratios we'll need reverse, using `np.exp` to exponent-ize them."
            ]
        },
        {
            "cell_type": "code",
            "execution_count": 115,
            "metadata": {},
            "outputs": [
                {
                    "data": {
                        "text/html": [
                            "<div>\n",
                            "<style scoped>\n",
                            "    .dataframe tbody tr th:only-of-type {\n",
                            "        vertical-align: middle;\n",
                            "    }\n",
                            "\n",
                            "    .dataframe tbody tr th {\n",
                            "        vertical-align: top;\n",
                            "    }\n",
                            "\n",
                            "    .dataframe thead th {\n",
                            "        text-align: right;\n",
                            "    }\n",
                            "</style>\n",
                            "<table border=\"1\" class=\"dataframe\">\n",
                            "  <thead>\n",
                            "    <tr style=\"text-align: right;\">\n",
                            "      <th></th>\n",
                            "      <th>coef</th>\n",
                            "      <th>odds ratio</th>\n",
                            "      <th>name</th>\n",
                            "    </tr>\n",
                            "  </thead>\n",
                            "  <tbody>\n",
                            "    <tr>\n",
                            "      <th>0</th>\n",
                            "      <td>12.085035</td>\n",
                            "      <td>177200.102739</td>\n",
                            "      <td>Intercept</td>\n",
                            "    </tr>\n",
                            "    <tr>\n",
                            "      <th>1</th>\n",
                            "      <td>-0.183318</td>\n",
                            "      <td>0.832504</td>\n",
                            "      <td>length_in</td>\n",
                            "    </tr>\n",
                            "    <tr>\n",
                            "      <th>2</th>\n",
                            "      <td>2.960890</td>\n",
                            "      <td>19.315158</td>\n",
                            "      <td>large_gauge</td>\n",
                            "    </tr>\n",
                            "  </tbody>\n",
                            "</table>\n",
                            "</div>"
                        ],
                        "text/plain": [
                            "        coef     odds ratio         name\n",
                            "0  12.085035  177200.102739    Intercept\n",
                            "1  -0.183318       0.832504    length_in\n",
                            "2   2.960890      19.315158  large_gauge"
                        ]
                    },
                    "execution_count": 115,
                    "metadata": {},
                    "output_type": "execute_result"
                }
            ],
            "source": [
                "coefs = pd.DataFrame({\n",
                "    'coef': results.params.values,\n",
                "    'odds ratio': np.exp(results.params.values),\n",
                "    'name': results.params.index\n",
                "})\n",
                "coefs"
            ]
        },
        {
            "cell_type": "markdown",
            "metadata": {},
            "source": [
                "Let's translate these odds ratios into human being language**.\n",
                "\n",
                "* For scarf length, **our odds of competion drop about 17% for each inch we add (0.83)**\n",
                "* If we use large gauge needles, though, **our odds are increased 19x!**\n",
                "\n",
                "With an increase like that, it seems like large-gauge needles are a superpower! (if you've never used them: yes, they are.)\n",
                "\n",
                "> We're ignoring p values for now, we'll address that when we get to the next chapter on model evaluation.\n",
                "\n",
                "When we talk about multivariable regression, this is the source of phrases like \"everything else being equal,\" or \"controlling for other variables.\" In this case, we're judging the performance of large gauge needles _controlling for the length of a scarf_. For every inch we add, we're seeing the effect of that inch, _everything else being equal_ (if \"everything else\" is \"are we using large gauge needles?\").\n",
                "\n",
                "**Each variable we include in the regression is being balanced out when we think about the effect of a single feature.**\n",
                "\n",
                "## Categorical variables\n",
                "\n",
                "So far we've looked at two sorts of variables:\n",
                "\n",
                "* `length_in`, a **numeric** category\n",
                "* `completed` and `large_gauge`, both **boolean** categories (1/0, yes/no, true/false)\n",
                "\n",
                "The other column we have here is `color`. It is unique in that **it's a string, not a number**. As a result, it gets special treatment.\n",
                "\n",
                "> We honestly could convert it to `is_orange` 0/1, but that wouldn't teach us something new, now would it?\n",
                "\n",
                "If we want to add color to our dataset, we'll need to tell statsmodels that it's a category."
            ]
        },
        {
            "cell_type": "code",
            "execution_count": 116,
            "metadata": {},
            "outputs": [
                {
                    "name": "stdout",
                    "output_type": "stream",
                    "text": [
                        "Optimization terminated successfully.\n",
                        "         Current function value: 0.424906\n",
                        "         Iterations 7\n"
                    ]
                },
                {
                    "data": {
                        "text/html": [
                            "<table class=\"simpletable\">\n",
                            "<caption>Logit Regression Results</caption>\n",
                            "<tr>\n",
                            "  <th>Dep. Variable:</th>       <td>completed</td>    <th>  No. Observations:  </th>  <td>    11</td> \n",
                            "</tr>\n",
                            "<tr>\n",
                            "  <th>Model:</th>                 <td>Logit</td>      <th>  Df Residuals:      </th>  <td>     6</td> \n",
                            "</tr>\n",
                            "<tr>\n",
                            "  <th>Method:</th>                 <td>MLE</td>       <th>  Df Model:          </th>  <td>     4</td> \n",
                            "</tr>\n",
                            "<tr>\n",
                            "  <th>Date:</th>            <td>Fri, 13 Dec 2019</td> <th>  Pseudo R-squ.:     </th>  <td>0.3833</td> \n",
                            "</tr>\n",
                            "<tr>\n",
                            "  <th>Time:</th>                <td>19:08:11</td>     <th>  Log-Likelihood:    </th> <td> -4.6740</td>\n",
                            "</tr>\n",
                            "<tr>\n",
                            "  <th>converged:</th>             <td>True</td>       <th>  LL-Null:           </th> <td> -7.5791</td>\n",
                            "</tr>\n",
                            "<tr>\n",
                            "  <th>Covariance Type:</th>     <td>nonrobust</td>    <th>  LLR p-value:       </th>  <td>0.2138</td> \n",
                            "</tr>\n",
                            "</table>\n",
                            "<table class=\"simpletable\">\n",
                            "<tr>\n",
                            "           <td></td>             <th>coef</th>     <th>std err</th>      <th>z</th>      <th>P>|z|</th>  <th>[0.025</th>    <th>0.975]</th>  \n",
                            "</tr>\n",
                            "<tr>\n",
                            "  <th>Intercept</th>          <td>   12.5839</td> <td>    7.995</td> <td>    1.574</td> <td> 0.115</td> <td>   -3.086</td> <td>   28.254</td>\n",
                            "</tr>\n",
                            "<tr>\n",
                            "  <th>C(color)[T.grey]</th>   <td>    1.0113</td> <td>    1.906</td> <td>    0.531</td> <td> 0.596</td> <td>   -2.725</td> <td>    4.748</td>\n",
                            "</tr>\n",
                            "<tr>\n",
                            "  <th>C(color)[T.orange]</th> <td>   -0.4594</td> <td>    2.257</td> <td>   -0.204</td> <td> 0.839</td> <td>   -4.884</td> <td>    3.965</td>\n",
                            "</tr>\n",
                            "<tr>\n",
                            "  <th>length_in</th>          <td>   -0.1944</td> <td>    0.126</td> <td>   -1.540</td> <td> 0.124</td> <td>   -0.442</td> <td>    0.053</td>\n",
                            "</tr>\n",
                            "<tr>\n",
                            "  <th>large_gauge</th>        <td>    2.8814</td> <td>    2.845</td> <td>    1.013</td> <td> 0.311</td> <td>   -2.694</td> <td>    8.457</td>\n",
                            "</tr>\n",
                            "</table>"
                        ],
                        "text/plain": [
                            "<class 'statsmodels.iolib.summary.Summary'>\n",
                            "\"\"\"\n",
                            "                           Logit Regression Results                           \n",
                            "==============================================================================\n",
                            "Dep. Variable:              completed   No. Observations:                   11\n",
                            "Model:                          Logit   Df Residuals:                        6\n",
                            "Method:                           MLE   Df Model:                            4\n",
                            "Date:                Fri, 13 Dec 2019   Pseudo R-squ.:                  0.3833\n",
                            "Time:                        19:08:11   Log-Likelihood:                -4.6740\n",
                            "converged:                       True   LL-Null:                       -7.5791\n",
                            "Covariance Type:            nonrobust   LLR p-value:                    0.2138\n",
                            "======================================================================================\n",
                            "                         coef    std err          z      P>|z|      [0.025      0.975]\n",
                            "--------------------------------------------------------------------------------------\n",
                            "Intercept             12.5839      7.995      1.574      0.115      -3.086      28.254\n",
                            "C(color)[T.grey]       1.0113      1.906      0.531      0.596      -2.725       4.748\n",
                            "C(color)[T.orange]    -0.4594      2.257     -0.204      0.839      -4.884       3.965\n",
                            "length_in             -0.1944      0.126     -1.540      0.124      -0.442       0.053\n",
                            "large_gauge            2.8814      2.845      1.013      0.311      -2.694       8.457\n",
                            "======================================================================================\n",
                            "\"\"\""
                        ]
                    },
                    "execution_count": 116,
                    "metadata": {},
                    "output_type": "execute_result"
                }
            ],
            "source": [
                "model = smf.logit(\"completed ~ length_in + large_gauge + C(color)\", data=df)\n",
                "results = model.fit()\n",
                "results.summary()"
            ]
        },
        {
            "cell_type": "markdown",
            "metadata": {},
            "source": [
                "Now we have two new, very oddly named features: `C(color)[T.grey]` and `C(color)[T.orange]`.\n",
                "\n",
                "When you're dealing with categorical data, **each value in the category gets broken out into a different feature**. The logistic regression doesn't say \"color has an event like _this_ on completion\" - instead, it says \"the color _orange_ has a certain effect\" and \"the color _grey_ has a certain effect\" and so on.\n",
                "\n",
                "We can tell that grey helps things along and orange works against completion since they're positive vs. negative, but let's take a look at the odds ratios anyway."
            ]
        },
        {
            "cell_type": "code",
            "execution_count": 117,
            "metadata": {},
            "outputs": [
                {
                    "data": {
                        "text/html": [
                            "<div>\n",
                            "<style scoped>\n",
                            "    .dataframe tbody tr th:only-of-type {\n",
                            "        vertical-align: middle;\n",
                            "    }\n",
                            "\n",
                            "    .dataframe tbody tr th {\n",
                            "        vertical-align: top;\n",
                            "    }\n",
                            "\n",
                            "    .dataframe thead th {\n",
                            "        text-align: right;\n",
                            "    }\n",
                            "</style>\n",
                            "<table border=\"1\" class=\"dataframe\">\n",
                            "  <thead>\n",
                            "    <tr style=\"text-align: right;\">\n",
                            "      <th></th>\n",
                            "      <th>coef</th>\n",
                            "      <th>odds ratio</th>\n",
                            "      <th>name</th>\n",
                            "    </tr>\n",
                            "  </thead>\n",
                            "  <tbody>\n",
                            "    <tr>\n",
                            "      <th>0</th>\n",
                            "      <td>12.583941</td>\n",
                            "      <td>291834.232692</td>\n",
                            "      <td>Intercept</td>\n",
                            "    </tr>\n",
                            "    <tr>\n",
                            "      <th>1</th>\n",
                            "      <td>1.011347</td>\n",
                            "      <td>2.749302</td>\n",
                            "      <td>C(color)[T.grey]</td>\n",
                            "    </tr>\n",
                            "    <tr>\n",
                            "      <th>2</th>\n",
                            "      <td>-0.459412</td>\n",
                            "      <td>0.631655</td>\n",
                            "      <td>C(color)[T.orange]</td>\n",
                            "    </tr>\n",
                            "    <tr>\n",
                            "      <th>3</th>\n",
                            "      <td>-0.194425</td>\n",
                            "      <td>0.823308</td>\n",
                            "      <td>length_in</td>\n",
                            "    </tr>\n",
                            "    <tr>\n",
                            "      <th>4</th>\n",
                            "      <td>2.881375</td>\n",
                            "      <td>17.838786</td>\n",
                            "      <td>large_gauge</td>\n",
                            "    </tr>\n",
                            "  </tbody>\n",
                            "</table>\n",
                            "</div>"
                        ],
                        "text/plain": [
                            "        coef     odds ratio                name\n",
                            "0  12.583941  291834.232692           Intercept\n",
                            "1   1.011347       2.749302    C(color)[T.grey]\n",
                            "2  -0.459412       0.631655  C(color)[T.orange]\n",
                            "3  -0.194425       0.823308           length_in\n",
                            "4   2.881375      17.838786         large_gauge"
                        ]
                    },
                    "execution_count": 117,
                    "metadata": {},
                    "output_type": "execute_result"
                }
            ],
            "source": [
                "coefs = pd.DataFrame({\n",
                "    'coef': results.params.values,\n",
                "    'odds ratio': np.exp(results.params.values),\n",
                "    'name': results.params.index\n",
                "})\n",
                "coefs"
            ]
        },
        {
            "cell_type": "markdown",
            "metadata": {},
            "source": [
                "Switching to grey gives us a 2.7x improvement in our odds, while orange penalizes our odds of completion by 0.64x.\n",
                "\n",
                "But... wait a second - how many colors did we have?"
            ]
        },
        {
            "cell_type": "code",
            "execution_count": 118,
            "metadata": {},
            "outputs": [
                {
                    "data": {
                        "text/plain": [
                            "brown     4\n",
                            "orange    4\n",
                            "grey      3\n",
                            "Name: color, dtype: int64"
                        ]
                    },
                    "execution_count": 118,
                    "metadata": {},
                    "output_type": "execute_result"
                }
            ],
            "source": [
                "df.color.value_counts()"
            ]
        },
        {
            "cell_type": "markdown",
            "metadata": {},
            "source": [
                "We have results for grey and orange, but... **where's our result for brown?**\n",
                "\n",
                "## Reference categories\n",
                "\n",
                "In this case, our grey and orange odds ratios are **in comparison to brown**. Grey gives us a 2.7x improvement in our odds _compared to using brown_. Orange penalizes our odds of completion by 0.64x, _compared to using brown_.\n",
                "\n",
                "This is called the **reference category**, and it will come up most of the time when you have a categorical variable. Typically the reference category the most common category (which makes sense) or the first in alphabetical order (thanks for being weird, statsmodels!).\n",
                "\n",
                "### Setting the reference category in statsmodels\n",
                "\n",
                "Let's say orange is our favorite color, and we love love love to knit with it. If we're running our regression, it doesn't make sense to compare grey's completion rate to brown's completion rate: I want to know everything in comparison to orange!\n",
                "\n",
                "Luckily, we can tell statsmodels exactly which value we want to have as our reference."
            ]
        },
        {
            "cell_type": "code",
            "execution_count": 119,
            "metadata": {},
            "outputs": [
                {
                    "name": "stdout",
                    "output_type": "stream",
                    "text": [
                        "Optimization terminated successfully.\n",
                        "         Current function value: 0.424906\n",
                        "         Iterations 7\n"
                    ]
                },
                {
                    "data": {
                        "text/html": [
                            "<table class=\"simpletable\">\n",
                            "<caption>Logit Regression Results</caption>\n",
                            "<tr>\n",
                            "  <th>Dep. Variable:</th>       <td>completed</td>    <th>  No. Observations:  </th>  <td>    11</td> \n",
                            "</tr>\n",
                            "<tr>\n",
                            "  <th>Model:</th>                 <td>Logit</td>      <th>  Df Residuals:      </th>  <td>     6</td> \n",
                            "</tr>\n",
                            "<tr>\n",
                            "  <th>Method:</th>                 <td>MLE</td>       <th>  Df Model:          </th>  <td>     4</td> \n",
                            "</tr>\n",
                            "<tr>\n",
                            "  <th>Date:</th>            <td>Fri, 13 Dec 2019</td> <th>  Pseudo R-squ.:     </th>  <td>0.3833</td> \n",
                            "</tr>\n",
                            "<tr>\n",
                            "  <th>Time:</th>                <td>19:08:12</td>     <th>  Log-Likelihood:    </th> <td> -4.6740</td>\n",
                            "</tr>\n",
                            "<tr>\n",
                            "  <th>converged:</th>             <td>True</td>       <th>  LL-Null:           </th> <td> -7.5791</td>\n",
                            "</tr>\n",
                            "<tr>\n",
                            "  <th>Covariance Type:</th>     <td>nonrobust</td>    <th>  LLR p-value:       </th>  <td>0.2138</td> \n",
                            "</tr>\n",
                            "</table>\n",
                            "<table class=\"simpletable\">\n",
                            "<tr>\n",
                            "                     <td></td>                       <th>coef</th>     <th>std err</th>      <th>z</th>      <th>P>|z|</th>  <th>[0.025</th>    <th>0.975]</th>  \n",
                            "</tr>\n",
                            "<tr>\n",
                            "  <th>Intercept</th>                              <td>   12.1245</td> <td>    8.094</td> <td>    1.498</td> <td> 0.134</td> <td>   -3.740</td> <td>   27.989</td>\n",
                            "</tr>\n",
                            "<tr>\n",
                            "  <th>C(color, Treatment('orange'))[T.brown]</th> <td>    0.4594</td> <td>    2.257</td> <td>    0.204</td> <td> 0.839</td> <td>   -3.965</td> <td>    4.884</td>\n",
                            "</tr>\n",
                            "<tr>\n",
                            "  <th>C(color, Treatment('orange'))[T.grey]</th>  <td>    1.4708</td> <td>    2.289</td> <td>    0.643</td> <td> 0.520</td> <td>   -3.015</td> <td>    5.957</td>\n",
                            "</tr>\n",
                            "<tr>\n",
                            "  <th>length_in</th>                              <td>   -0.1944</td> <td>    0.126</td> <td>   -1.540</td> <td> 0.124</td> <td>   -0.442</td> <td>    0.053</td>\n",
                            "</tr>\n",
                            "<tr>\n",
                            "  <th>large_gauge</th>                            <td>    2.8814</td> <td>    2.845</td> <td>    1.013</td> <td> 0.311</td> <td>   -2.694</td> <td>    8.457</td>\n",
                            "</tr>\n",
                            "</table>"
                        ],
                        "text/plain": [
                            "<class 'statsmodels.iolib.summary.Summary'>\n",
                            "\"\"\"\n",
                            "                           Logit Regression Results                           \n",
                            "==============================================================================\n",
                            "Dep. Variable:              completed   No. Observations:                   11\n",
                            "Model:                          Logit   Df Residuals:                        6\n",
                            "Method:                           MLE   Df Model:                            4\n",
                            "Date:                Fri, 13 Dec 2019   Pseudo R-squ.:                  0.3833\n",
                            "Time:                        19:08:12   Log-Likelihood:                -4.6740\n",
                            "converged:                       True   LL-Null:                       -7.5791\n",
                            "Covariance Type:            nonrobust   LLR p-value:                    0.2138\n",
                            "==========================================================================================================\n",
                            "                                             coef    std err          z      P>|z|      [0.025      0.975]\n",
                            "----------------------------------------------------------------------------------------------------------\n",
                            "Intercept                                 12.1245      8.094      1.498      0.134      -3.740      27.989\n",
                            "C(color, Treatment('orange'))[T.brown]     0.4594      2.257      0.204      0.839      -3.965       4.884\n",
                            "C(color, Treatment('orange'))[T.grey]      1.4708      2.289      0.643      0.520      -3.015       5.957\n",
                            "length_in                                 -0.1944      0.126     -1.540      0.124      -0.442       0.053\n",
                            "large_gauge                                2.8814      2.845      1.013      0.311      -2.694       8.457\n",
                            "==========================================================================================================\n",
                            "\"\"\""
                        ]
                    },
                    "execution_count": 119,
                    "metadata": {},
                    "output_type": "execute_result"
                }
            ],
            "source": [
                "model = smf.logit(\"completed ~ length_in + large_gauge + C(color, Treatment('orange'))\", data=df)\n",
                "results = model.fit()\n",
                "results.summary()"
            ]
        },
        {
            "cell_type": "markdown",
            "metadata": {},
            "source": [
                "Despite our features being a little longer and uglier - `C(color, Treatment('orange'))[T.brown]` is a mouthful - we can now explain each color _in reference to orange_. Let's look at our updated odds ratios:"
            ]
        },
        {
            "cell_type": "code",
            "execution_count": 120,
            "metadata": {},
            "outputs": [
                {
                    "data": {
                        "text/html": [
                            "<div>\n",
                            "<style scoped>\n",
                            "    .dataframe tbody tr th:only-of-type {\n",
                            "        vertical-align: middle;\n",
                            "    }\n",
                            "\n",
                            "    .dataframe tbody tr th {\n",
                            "        vertical-align: top;\n",
                            "    }\n",
                            "\n",
                            "    .dataframe thead th {\n",
                            "        text-align: right;\n",
                            "    }\n",
                            "</style>\n",
                            "<table border=\"1\" class=\"dataframe\">\n",
                            "  <thead>\n",
                            "    <tr style=\"text-align: right;\">\n",
                            "      <th></th>\n",
                            "      <th>coef</th>\n",
                            "      <th>odds ratio</th>\n",
                            "      <th>name</th>\n",
                            "    </tr>\n",
                            "  </thead>\n",
                            "  <tbody>\n",
                            "    <tr>\n",
                            "      <th>0</th>\n",
                            "      <td>12.124529</td>\n",
                            "      <td>184338.541216</td>\n",
                            "      <td>Intercept</td>\n",
                            "    </tr>\n",
                            "    <tr>\n",
                            "      <th>1</th>\n",
                            "      <td>0.459412</td>\n",
                            "      <td>1.583143</td>\n",
                            "      <td>C(color, Treatment('orange'))[T.brown]</td>\n",
                            "    </tr>\n",
                            "    <tr>\n",
                            "      <th>2</th>\n",
                            "      <td>1.470759</td>\n",
                            "      <td>4.352538</td>\n",
                            "      <td>C(color, Treatment('orange'))[T.grey]</td>\n",
                            "    </tr>\n",
                            "    <tr>\n",
                            "      <th>3</th>\n",
                            "      <td>-0.194425</td>\n",
                            "      <td>0.823308</td>\n",
                            "      <td>length_in</td>\n",
                            "    </tr>\n",
                            "    <tr>\n",
                            "      <th>4</th>\n",
                            "      <td>2.881375</td>\n",
                            "      <td>17.838786</td>\n",
                            "      <td>large_gauge</td>\n",
                            "    </tr>\n",
                            "  </tbody>\n",
                            "</table>\n",
                            "</div>"
                        ],
                        "text/plain": [
                            "        coef     odds ratio                                    name\n",
                            "0  12.124529  184338.541216                               Intercept\n",
                            "1   0.459412       1.583143  C(color, Treatment('orange'))[T.brown]\n",
                            "2   1.470759       4.352538   C(color, Treatment('orange'))[T.grey]\n",
                            "3  -0.194425       0.823308                               length_in\n",
                            "4   2.881375      17.838786                             large_gauge"
                        ]
                    },
                    "execution_count": 120,
                    "metadata": {},
                    "output_type": "execute_result"
                }
            ],
            "source": [
                "coefs = pd.DataFrame({\n",
                "    'coef': results.params.values,\n",
                "    'odds ratio': np.exp(results.params.values),\n",
                "    'name': results.params.index\n",
                "})\n",
                "coefs"
            ]
        },
        {
            "cell_type": "markdown",
            "metadata": {},
            "source": [
                "Do we really love orange that much? Because if we used grey _our odds of finishing would be four times better_.\n",
                "\n",
                "While we've done a lot of work in figuring out how to build models and organize our features, **we don't yet know if our model is any good.** Our next step will be evaluating our models and our features to see our findings are accurate.\n",
                "\n",
                "## Review\n",
                "\n",
                "In this section, we learned how to perform **multivariable logistic regression** by adding additional features as our regression's input variables.\n",
                "\n",
                "We also saw how to encode **categorical variables** when writing formula-style regression. Along with using `C()` to convert a string to a statsmodels-friendly category, we also learned how to use `Treatment` to create **reference categories**.\n",
                "\n",
                "## Discussion topics\n",
                "\n",
                "TODO"
            ]
        },
        {
            "cell_type": "code",
            "execution_count": null,
            "metadata": {},
            "outputs": [],
            "source": []
        },
        {
            "cell_type": "code",
            "execution_count": null,
            "metadata": {},
            "outputs": [],
            "source": []
        },
        {
            "cell_type": "code",
            "execution_count": null,
            "metadata": {},
            "outputs": [],
            "source": []
        }
    ],
    "metadata": {
        "kernelspec": {
            "display_name": "Python 3",
            "language": "python",
            "name": "python3"
        },
        "language_info": {
            "codemirror_mode": {
                "name": "ipython",
                "version": 3
            },
            "file_extension": ".py",
            "mimetype": "text/x-python",
            "name": "python",
            "nbconvert_exporter": "python",
            "pygments_lexer": "ipython3",
            "version": "3.6.8"
        },
        "toc": {
            "base_numbering": 1,
            "nav_menu": {},
            "number_sections": true,
            "sideBar": true,
            "skip_h1_title": false,
            "title_cell": "Table of Contents",
            "title_sidebar": "Contents",
            "toc_cell": false,
            "toc_position": {},
            "toc_section_display": true,
            "toc_window_display": false
        }
    },
    "nbformat": 4,
    "nbformat_minor": 2
}