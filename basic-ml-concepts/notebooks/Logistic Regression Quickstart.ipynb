{
    "cells": [
        {
            "cell_type": "markdown",
            "metadata": {},
            "source": [
                "# Logistic Regression Quickstart\n",
                "\n",
                "Already know what's what with logistic regression, just need to know how to tackle it in Python? We're here for you! If not, continue on to the next section.\n",
                "\n",
                "We're going to **ignore the nuance of what we're doing** in this notebook, it's really just for people who need to see the process."
            ]
        },
        {
            "cell_type": "markdown",
            "metadata": {},
            "source": [
                "<p class=\"reading-options\">\n  <a class=\"btn\" href=\"/basic-ml-concepts/logistic-regression-quickstart\">\n    <i class=\"fa fa-sm fa-book\"></i>\n    Read online\n  </a>\n  <a class=\"btn\" href=\"/basic-ml-concepts/notebooks/Logistic Regression Quickstart.ipynb\">\n    <i class=\"fa fa-sm fa-download\"></i>\n    Download notebook\n  </a>\n  <a class=\"btn\" href=\"#\">\n    <i class=\"fa fa-sm fa-laptop\"></i>\n    Interactive version\n  </a>\n</p>"
            ]
        },
        {
            "cell_type": "markdown",
            "metadata": {},
            "source": [
                "## Pandas for our data\n",
                "\n",
                "As is typical, we'll be using [pandas dataframes](https://pandas.pydata.org/) for the data. "
            ]
        },
        {
            "cell_type": "code",
            "execution_count": 281,
            "metadata": {},
            "outputs": [
                {
                    "data": {
                        "text/html": [
                            "<div>\n",
                            "<style scoped>\n",
                            "    .dataframe tbody tr th:only-of-type {\n",
                            "        vertical-align: middle;\n",
                            "    }\n",
                            "\n",
                            "    .dataframe tbody tr th {\n",
                            "        vertical-align: top;\n",
                            "    }\n",
                            "\n",
                            "    .dataframe thead th {\n",
                            "        text-align: right;\n",
                            "    }\n",
                            "</style>\n",
                            "<table border=\"1\" class=\"dataframe\">\n",
                            "  <thead>\n",
                            "    <tr style=\"text-align: right;\">\n",
                            "      <th></th>\n",
                            "      <th>length_in</th>\n",
                            "      <th>completed</th>\n",
                            "    </tr>\n",
                            "  </thead>\n",
                            "  <tbody>\n",
                            "    <tr>\n",
                            "      <th>0</th>\n",
                            "      <td>55</td>\n",
                            "      <td>1</td>\n",
                            "    </tr>\n",
                            "    <tr>\n",
                            "      <th>1</th>\n",
                            "      <td>55</td>\n",
                            "      <td>1</td>\n",
                            "    </tr>\n",
                            "    <tr>\n",
                            "      <th>2</th>\n",
                            "      <td>55</td>\n",
                            "      <td>1</td>\n",
                            "    </tr>\n",
                            "    <tr>\n",
                            "      <th>3</th>\n",
                            "      <td>60</td>\n",
                            "      <td>1</td>\n",
                            "    </tr>\n",
                            "    <tr>\n",
                            "      <th>4</th>\n",
                            "      <td>60</td>\n",
                            "      <td>0</td>\n",
                            "    </tr>\n",
                            "    <tr>\n",
                            "      <th>5</th>\n",
                            "      <td>70</td>\n",
                            "      <td>1</td>\n",
                            "    </tr>\n",
                            "    <tr>\n",
                            "      <th>6</th>\n",
                            "      <td>70</td>\n",
                            "      <td>0</td>\n",
                            "    </tr>\n",
                            "    <tr>\n",
                            "      <th>7</th>\n",
                            "      <td>82</td>\n",
                            "      <td>1</td>\n",
                            "    </tr>\n",
                            "    <tr>\n",
                            "      <th>8</th>\n",
                            "      <td>82</td>\n",
                            "      <td>0</td>\n",
                            "    </tr>\n",
                            "    <tr>\n",
                            "      <th>9</th>\n",
                            "      <td>82</td>\n",
                            "      <td>0</td>\n",
                            "    </tr>\n",
                            "    <tr>\n",
                            "      <th>10</th>\n",
                            "      <td>82</td>\n",
                            "      <td>0</td>\n",
                            "    </tr>\n",
                            "  </tbody>\n",
                            "</table>\n",
                            "</div>"
                        ],
                        "text/plain": [
                            "    length_in  completed\n",
                            "0          55          1\n",
                            "1          55          1\n",
                            "2          55          1\n",
                            "3          60          1\n",
                            "4          60          0\n",
                            "5          70          1\n",
                            "6          70          0\n",
                            "7          82          1\n",
                            "8          82          0\n",
                            "9          82          0\n",
                            "10         82          0"
                        ]
                    },
                    "execution_count": 281,
                    "metadata": {},
                    "output_type": "execute_result"
                }
            ],
            "source": [
                "import pandas as pd\n",
                "import numpy as np\n",
                "\n",
                "df = pd.DataFrame([\n",
                "    { 'length_in': 55, 'completed': 1 },\n",
                "    { 'length_in': 55, 'completed': 1 },\n",
                "    { 'length_in': 55, 'completed': 1 },\n",
                "    { 'length_in': 60, 'completed': 1 },\n",
                "    { 'length_in': 60, 'completed': 0 },\n",
                "    { 'length_in': 70, 'completed': 1 },\n",
                "    { 'length_in': 70, 'completed': 0 },\n",
                "    { 'length_in': 82, 'completed': 1 },\n",
                "    { 'length_in': 82, 'completed': 0 },\n",
                "    { 'length_in': 82, 'completed': 0 },\n",
                "    { 'length_in': 82, 'completed': 0 },\n",
                "])\n",
                "df"
            ]
        },
        {
            "cell_type": "markdown",
            "metadata": {},
            "source": [
                "## Performing a regression\n",
                "\n",
                "The [statsmodels](statsmodels.org) package is your best friend when it comes to regression. In theory you can do it using other techniques or libraries, but statsmodels is just *so simple*.\n",
                "\n",
                "For the regression below, I'm using the formula method of describing the regression. If that makes you grumpy, check the [regression reference page](/reference/regression/) for more details."
            ]
        },
        {
            "cell_type": "code",
            "execution_count": 282,
            "metadata": {},
            "outputs": [
                {
                    "name": "stdout",
                    "output_type": "stream",
                    "text": [
                        "Optimization terminated successfully.\n",
                        "         Current function value: 0.531806\n",
                        "         Iterations 5\n"
                    ]
                },
                {
                    "data": {
                        "text/html": [
                            "<table class=\"simpletable\">\n",
                            "<caption>Logit Regression Results</caption>\n",
                            "<tr>\n",
                            "  <th>Dep. Variable:</th>       <td>completed</td>    <th>  No. Observations:  </th>  <td>    11</td> \n",
                            "</tr>\n",
                            "<tr>\n",
                            "  <th>Model:</th>                 <td>Logit</td>      <th>  Df Residuals:      </th>  <td>     9</td> \n",
                            "</tr>\n",
                            "<tr>\n",
                            "  <th>Method:</th>                 <td>MLE</td>       <th>  Df Model:          </th>  <td>     1</td> \n",
                            "</tr>\n",
                            "<tr>\n",
                            "  <th>Date:</th>            <td>Tue, 10 Dec 2019</td> <th>  Pseudo R-squ.:     </th>  <td>0.2282</td> \n",
                            "</tr>\n",
                            "<tr>\n",
                            "  <th>Time:</th>                <td>18:14:57</td>     <th>  Log-Likelihood:    </th> <td> -5.8499</td>\n",
                            "</tr>\n",
                            "<tr>\n",
                            "  <th>converged:</th>             <td>True</td>       <th>  LL-Null:           </th> <td> -7.5791</td>\n",
                            "</tr>\n",
                            "<tr>\n",
                            "  <th>Covariance Type:</th>     <td>nonrobust</td>    <th>  LLR p-value:       </th>  <td>0.06293</td>\n",
                            "</tr>\n",
                            "</table>\n",
                            "<table class=\"simpletable\">\n",
                            "<tr>\n",
                            "      <td></td>         <th>coef</th>     <th>std err</th>      <th>z</th>      <th>P>|z|</th>  <th>[0.025</th>    <th>0.975]</th>  \n",
                            "</tr>\n",
                            "<tr>\n",
                            "  <th>Intercept</th> <td>    7.8531</td> <td>    4.736</td> <td>    1.658</td> <td> 0.097</td> <td>   -1.429</td> <td>   17.135</td>\n",
                            "</tr>\n",
                            "<tr>\n",
                            "  <th>length_in</th> <td>   -0.1112</td> <td>    0.067</td> <td>   -1.649</td> <td> 0.099</td> <td>   -0.243</td> <td>    0.021</td>\n",
                            "</tr>\n",
                            "</table>"
                        ],
                        "text/plain": [
                            "<class 'statsmodels.iolib.summary.Summary'>\n",
                            "\"\"\"\n",
                            "                           Logit Regression Results                           \n",
                            "==============================================================================\n",
                            "Dep. Variable:              completed   No. Observations:                   11\n",
                            "Model:                          Logit   Df Residuals:                        9\n",
                            "Method:                           MLE   Df Model:                            1\n",
                            "Date:                Tue, 10 Dec 2019   Pseudo R-squ.:                  0.2282\n",
                            "Time:                        18:14:57   Log-Likelihood:                -5.8499\n",
                            "converged:                       True   LL-Null:                       -7.5791\n",
                            "Covariance Type:            nonrobust   LLR p-value:                   0.06293\n",
                            "==============================================================================\n",
                            "                 coef    std err          z      P>|z|      [0.025      0.975]\n",
                            "------------------------------------------------------------------------------\n",
                            "Intercept      7.8531      4.736      1.658      0.097      -1.429      17.135\n",
                            "length_in     -0.1112      0.067     -1.649      0.099      -0.243       0.021\n",
                            "==============================================================================\n",
                            "\"\"\""
                        ]
                    },
                    "execution_count": 282,
                    "metadata": {},
                    "output_type": "execute_result"
                }
            ],
            "source": [
                "import statsmodels.formula.api as smf\n",
                "\n",
                "model = smf.logit(\"completed ~ length_in\", data=df)\n",
                "results = model.fit()\n",
                "results.summary()"
            ]
        },
        {
            "cell_type": "markdown",
            "metadata": {},
            "source": [
                "### Converting coefficient to odds"
            ]
        },
        {
            "cell_type": "code",
            "execution_count": 283,
            "metadata": {},
            "outputs": [
                {
                    "data": {
                        "text/html": [
                            "<div>\n",
                            "<style scoped>\n",
                            "    .dataframe tbody tr th:only-of-type {\n",
                            "        vertical-align: middle;\n",
                            "    }\n",
                            "\n",
                            "    .dataframe tbody tr th {\n",
                            "        vertical-align: top;\n",
                            "    }\n",
                            "\n",
                            "    .dataframe thead th {\n",
                            "        text-align: right;\n",
                            "    }\n",
                            "</style>\n",
                            "<table border=\"1\" class=\"dataframe\">\n",
                            "  <thead>\n",
                            "    <tr style=\"text-align: right;\">\n",
                            "      <th></th>\n",
                            "      <th>coef</th>\n",
                            "      <th>odds ratio</th>\n",
                            "      <th>pvalue</th>\n",
                            "      <th>name</th>\n",
                            "    </tr>\n",
                            "  </thead>\n",
                            "  <tbody>\n",
                            "    <tr>\n",
                            "      <th>Intercept</th>\n",
                            "      <td>7.853131</td>\n",
                            "      <td>2573.780516</td>\n",
                            "      <td>0.097279</td>\n",
                            "      <td>Intercept</td>\n",
                            "    </tr>\n",
                            "    <tr>\n",
                            "      <th>length_in</th>\n",
                            "      <td>-0.111171</td>\n",
                            "      <td>0.894786</td>\n",
                            "      <td>0.099062</td>\n",
                            "      <td>length_in</td>\n",
                            "    </tr>\n",
                            "  </tbody>\n",
                            "</table>\n",
                            "</div>"
                        ],
                        "text/plain": [
                            "               coef   odds ratio    pvalue       name\n",
                            "Intercept  7.853131  2573.780516  0.097279  Intercept\n",
                            "length_in -0.111171     0.894786  0.099062  length_in"
                        ]
                    },
                    "execution_count": 283,
                    "metadata": {},
                    "output_type": "execute_result"
                }
            ],
            "source": [
                "coefs = pd.DataFrame({\n",
                "    'coef': results.params.values,\n",
                "    'odds ratio': np.exp(results.params.values),\n",
                "    'pvalue': results.pvalues,\n",
                "    'name': results.params.index\n",
                "})\n",
                "coefs"
            ]
        },
        {
            "cell_type": "markdown",
            "metadata": {},
            "source": [
                "For each additional inch I add to a scarf, my odds of finishing is 94% of what it was before (a.k.a. is lowered by 6%)."
            ]
        },
        {
            "cell_type": "markdown",
            "metadata": {},
            "source": [
                "## Making predictions"
            ]
        },
        {
            "cell_type": "code",
            "execution_count": 284,
            "metadata": {},
            "outputs": [
                {
                    "data": {
                        "text/html": [
                            "<div>\n",
                            "<style scoped>\n",
                            "    .dataframe tbody tr th:only-of-type {\n",
                            "        vertical-align: middle;\n",
                            "    }\n",
                            "\n",
                            "    .dataframe tbody tr th {\n",
                            "        vertical-align: top;\n",
                            "    }\n",
                            "\n",
                            "    .dataframe thead th {\n",
                            "        text-align: right;\n",
                            "    }\n",
                            "</style>\n",
                            "<table border=\"1\" class=\"dataframe\">\n",
                            "  <thead>\n",
                            "    <tr style=\"text-align: right;\">\n",
                            "      <th></th>\n",
                            "      <th>length_in</th>\n",
                            "      <th>prediction</th>\n",
                            "    </tr>\n",
                            "  </thead>\n",
                            "  <tbody>\n",
                            "    <tr>\n",
                            "      <th>0</th>\n",
                            "      <td>20</td>\n",
                            "      <td>0.996423</td>\n",
                            "    </tr>\n",
                            "    <tr>\n",
                            "      <th>1</th>\n",
                            "      <td>55</td>\n",
                            "      <td>0.850526</td>\n",
                            "    </tr>\n",
                            "    <tr>\n",
                            "      <th>2</th>\n",
                            "      <td>80</td>\n",
                            "      <td>0.261047</td>\n",
                            "    </tr>\n",
                            "    <tr>\n",
                            "      <th>3</th>\n",
                            "      <td>100</td>\n",
                            "      <td>0.036829</td>\n",
                            "    </tr>\n",
                            "  </tbody>\n",
                            "</table>\n",
                            "</div>"
                        ],
                        "text/plain": [
                            "   length_in  prediction\n",
                            "0         20    0.996423\n",
                            "1         55    0.850526\n",
                            "2         80    0.261047\n",
                            "3        100    0.036829"
                        ]
                    },
                    "execution_count": 284,
                    "metadata": {},
                    "output_type": "execute_result"
                }
            ],
            "source": [
                "X_unknown = pd.DataFrame([\n",
                "    { 'length_in': 20 },\n",
                "    { 'length_in': 55 },\n",
                "    { 'length_in': 80 },\n",
                "    { 'length_in': 100 }\n",
                "])\n",
                "\n",
                "X_unknown['prediction'] = results.predict(X_unknown)\n",
                "X_unknown"
            ]
        },
        {
            "cell_type": "markdown",
            "metadata": {},
            "source": [
                "## Multivariable regression\n",
                "\n",
                "Multivariable regression is easy-peasy. We're going to add the size of our needles to our dataset. Larger needles make work go faster, so lazy people like me are more likely to finish."
            ]
        },
        {
            "cell_type": "code",
            "execution_count": 285,
            "metadata": {},
            "outputs": [
                {
                    "data": {
                        "text/html": [
                            "<div>\n",
                            "<style scoped>\n",
                            "    .dataframe tbody tr th:only-of-type {\n",
                            "        vertical-align: middle;\n",
                            "    }\n",
                            "\n",
                            "    .dataframe tbody tr th {\n",
                            "        vertical-align: top;\n",
                            "    }\n",
                            "\n",
                            "    .dataframe thead th {\n",
                            "        text-align: right;\n",
                            "    }\n",
                            "</style>\n",
                            "<table border=\"1\" class=\"dataframe\">\n",
                            "  <thead>\n",
                            "    <tr style=\"text-align: right;\">\n",
                            "      <th></th>\n",
                            "      <th>length_in</th>\n",
                            "      <th>large_gauge</th>\n",
                            "      <th>completed</th>\n",
                            "    </tr>\n",
                            "  </thead>\n",
                            "  <tbody>\n",
                            "    <tr>\n",
                            "      <th>0</th>\n",
                            "      <td>55</td>\n",
                            "      <td>1</td>\n",
                            "      <td>1</td>\n",
                            "    </tr>\n",
                            "    <tr>\n",
                            "      <th>1</th>\n",
                            "      <td>55</td>\n",
                            "      <td>0</td>\n",
                            "      <td>1</td>\n",
                            "    </tr>\n",
                            "    <tr>\n",
                            "      <th>2</th>\n",
                            "      <td>55</td>\n",
                            "      <td>0</td>\n",
                            "      <td>1</td>\n",
                            "    </tr>\n",
                            "    <tr>\n",
                            "      <th>3</th>\n",
                            "      <td>60</td>\n",
                            "      <td>0</td>\n",
                            "      <td>1</td>\n",
                            "    </tr>\n",
                            "    <tr>\n",
                            "      <th>4</th>\n",
                            "      <td>60</td>\n",
                            "      <td>0</td>\n",
                            "      <td>0</td>\n",
                            "    </tr>\n",
                            "    <tr>\n",
                            "      <th>5</th>\n",
                            "      <td>70</td>\n",
                            "      <td>0</td>\n",
                            "      <td>1</td>\n",
                            "    </tr>\n",
                            "    <tr>\n",
                            "      <th>6</th>\n",
                            "      <td>70</td>\n",
                            "      <td>0</td>\n",
                            "      <td>0</td>\n",
                            "    </tr>\n",
                            "    <tr>\n",
                            "      <th>7</th>\n",
                            "      <td>82</td>\n",
                            "      <td>1</td>\n",
                            "      <td>1</td>\n",
                            "    </tr>\n",
                            "    <tr>\n",
                            "      <th>8</th>\n",
                            "      <td>82</td>\n",
                            "      <td>0</td>\n",
                            "      <td>0</td>\n",
                            "    </tr>\n",
                            "    <tr>\n",
                            "      <th>9</th>\n",
                            "      <td>82</td>\n",
                            "      <td>0</td>\n",
                            "      <td>0</td>\n",
                            "    </tr>\n",
                            "    <tr>\n",
                            "      <th>10</th>\n",
                            "      <td>82</td>\n",
                            "      <td>1</td>\n",
                            "      <td>0</td>\n",
                            "    </tr>\n",
                            "  </tbody>\n",
                            "</table>\n",
                            "</div>"
                        ],
                        "text/plain": [
                            "    length_in  large_gauge  completed\n",
                            "0          55            1          1\n",
                            "1          55            0          1\n",
                            "2          55            0          1\n",
                            "3          60            0          1\n",
                            "4          60            0          0\n",
                            "5          70            0          1\n",
                            "6          70            0          0\n",
                            "7          82            1          1\n",
                            "8          82            0          0\n",
                            "9          82            0          0\n",
                            "10         82            1          0"
                        ]
                    },
                    "execution_count": 285,
                    "metadata": {},
                    "output_type": "execute_result"
                }
            ],
            "source": [
                "df = pd.DataFrame([\n",
                "    { 'length_in': 55, 'large_gauge': 1, 'completed': 1 },\n",
                "    { 'length_in': 55, 'large_gauge': 0, 'completed': 1 },\n",
                "    { 'length_in': 55, 'large_gauge': 0, 'completed': 1 },\n",
                "    { 'length_in': 60, 'large_gauge': 0, 'completed': 1 },\n",
                "    { 'length_in': 60, 'large_gauge': 0, 'completed': 0 },\n",
                "    { 'length_in': 70, 'large_gauge': 0, 'completed': 1 },\n",
                "    { 'length_in': 70, 'large_gauge': 0, 'completed': 0 },\n",
                "    { 'length_in': 82, 'large_gauge': 1, 'completed': 1 },\n",
                "    { 'length_in': 82, 'large_gauge': 0, 'completed': 0 },\n",
                "    { 'length_in': 82, 'large_gauge': 0, 'completed': 0 },\n",
                "    { 'length_in': 82, 'large_gauge': 1, 'completed': 0 },\n",
                "])\n",
                "df"
            ]
        },
        {
            "cell_type": "code",
            "execution_count": 286,
            "metadata": {},
            "outputs": [
                {
                    "name": "stdout",
                    "output_type": "stream",
                    "text": [
                        "Optimization terminated successfully.\n",
                        "         Current function value: 0.449028\n",
                        "         Iterations 7\n"
                    ]
                },
                {
                    "data": {
                        "text/html": [
                            "<table class=\"simpletable\">\n",
                            "<caption>Logit Regression Results</caption>\n",
                            "<tr>\n",
                            "  <th>Dep. Variable:</th>       <td>completed</td>    <th>  No. Observations:  </th>  <td>    11</td> \n",
                            "</tr>\n",
                            "<tr>\n",
                            "  <th>Model:</th>                 <td>Logit</td>      <th>  Df Residuals:      </th>  <td>     8</td> \n",
                            "</tr>\n",
                            "<tr>\n",
                            "  <th>Method:</th>                 <td>MLE</td>       <th>  Df Model:          </th>  <td>     2</td> \n",
                            "</tr>\n",
                            "<tr>\n",
                            "  <th>Date:</th>            <td>Tue, 10 Dec 2019</td> <th>  Pseudo R-squ.:     </th>  <td>0.3483</td> \n",
                            "</tr>\n",
                            "<tr>\n",
                            "  <th>Time:</th>                <td>18:15:05</td>     <th>  Log-Likelihood:    </th> <td> -4.9393</td>\n",
                            "</tr>\n",
                            "<tr>\n",
                            "  <th>converged:</th>             <td>True</td>       <th>  LL-Null:           </th> <td> -7.5791</td>\n",
                            "</tr>\n",
                            "<tr>\n",
                            "  <th>Covariance Type:</th>     <td>nonrobust</td>    <th>  LLR p-value:       </th>  <td>0.07138</td>\n",
                            "</tr>\n",
                            "</table>\n",
                            "<table class=\"simpletable\">\n",
                            "<tr>\n",
                            "       <td></td>          <th>coef</th>     <th>std err</th>      <th>z</th>      <th>P>|z|</th>  <th>[0.025</th>    <th>0.975]</th>  \n",
                            "</tr>\n",
                            "<tr>\n",
                            "  <th>Intercept</th>   <td>   12.0850</td> <td>    7.615</td> <td>    1.587</td> <td> 0.113</td> <td>   -2.840</td> <td>   27.010</td>\n",
                            "</tr>\n",
                            "<tr>\n",
                            "  <th>length_in</th>   <td>   -0.1833</td> <td>    0.117</td> <td>   -1.573</td> <td> 0.116</td> <td>   -0.412</td> <td>    0.045</td>\n",
                            "</tr>\n",
                            "<tr>\n",
                            "  <th>large_gauge</th> <td>    2.9609</td> <td>    2.589</td> <td>    1.144</td> <td> 0.253</td> <td>   -2.113</td> <td>    8.035</td>\n",
                            "</tr>\n",
                            "</table>"
                        ],
                        "text/plain": [
                            "<class 'statsmodels.iolib.summary.Summary'>\n",
                            "\"\"\"\n",
                            "                           Logit Regression Results                           \n",
                            "==============================================================================\n",
                            "Dep. Variable:              completed   No. Observations:                   11\n",
                            "Model:                          Logit   Df Residuals:                        8\n",
                            "Method:                           MLE   Df Model:                            2\n",
                            "Date:                Tue, 10 Dec 2019   Pseudo R-squ.:                  0.3483\n",
                            "Time:                        18:15:05   Log-Likelihood:                -4.9393\n",
                            "converged:                       True   LL-Null:                       -7.5791\n",
                            "Covariance Type:            nonrobust   LLR p-value:                   0.07138\n",
                            "===============================================================================\n",
                            "                  coef    std err          z      P>|z|      [0.025      0.975]\n",
                            "-------------------------------------------------------------------------------\n",
                            "Intercept      12.0850      7.615      1.587      0.113      -2.840      27.010\n",
                            "length_in      -0.1833      0.117     -1.573      0.116      -0.412       0.045\n",
                            "large_gauge     2.9609      2.589      1.144      0.253      -2.113       8.035\n",
                            "===============================================================================\n",
                            "\"\"\""
                        ]
                    },
                    "execution_count": 286,
                    "metadata": {},
                    "output_type": "execute_result"
                }
            ],
            "source": [
                "model = smf.logit(\"completed ~ length_in + large_gauge\", data=df)\n",
                "results = model.fit()\n",
                "results.summary()"
            ]
        },
        {
            "cell_type": "markdown",
            "metadata": {},
            "source": [
                "### Converting coefficient to odds ratio"
            ]
        },
        {
            "cell_type": "code",
            "execution_count": 287,
            "metadata": {},
            "outputs": [
                {
                    "data": {
                        "text/html": [
                            "<div>\n",
                            "<style scoped>\n",
                            "    .dataframe tbody tr th:only-of-type {\n",
                            "        vertical-align: middle;\n",
                            "    }\n",
                            "\n",
                            "    .dataframe tbody tr th {\n",
                            "        vertical-align: top;\n",
                            "    }\n",
                            "\n",
                            "    .dataframe thead th {\n",
                            "        text-align: right;\n",
                            "    }\n",
                            "</style>\n",
                            "<table border=\"1\" class=\"dataframe\">\n",
                            "  <thead>\n",
                            "    <tr style=\"text-align: right;\">\n",
                            "      <th></th>\n",
                            "      <th>coef</th>\n",
                            "      <th>odds ratio</th>\n",
                            "      <th>pvalue</th>\n",
                            "      <th>name</th>\n",
                            "    </tr>\n",
                            "  </thead>\n",
                            "  <tbody>\n",
                            "    <tr>\n",
                            "      <th>Intercept</th>\n",
                            "      <td>12.085035</td>\n",
                            "      <td>177200.102739</td>\n",
                            "      <td>0.112516</td>\n",
                            "      <td>Intercept</td>\n",
                            "    </tr>\n",
                            "    <tr>\n",
                            "      <th>length_in</th>\n",
                            "      <td>-0.183318</td>\n",
                            "      <td>0.832504</td>\n",
                            "      <td>0.115759</td>\n",
                            "      <td>length_in</td>\n",
                            "    </tr>\n",
                            "    <tr>\n",
                            "      <th>large_gauge</th>\n",
                            "      <td>2.960890</td>\n",
                            "      <td>19.315158</td>\n",
                            "      <td>0.252771</td>\n",
                            "      <td>large_gauge</td>\n",
                            "    </tr>\n",
                            "  </tbody>\n",
                            "</table>\n",
                            "</div>"
                        ],
                        "text/plain": [
                            "                  coef     odds ratio    pvalue         name\n",
                            "Intercept    12.085035  177200.102739  0.112516    Intercept\n",
                            "length_in    -0.183318       0.832504  0.115759    length_in\n",
                            "large_gauge   2.960890      19.315158  0.252771  large_gauge"
                        ]
                    },
                    "execution_count": 287,
                    "metadata": {},
                    "output_type": "execute_result"
                }
            ],
            "source": [
                "coefs = pd.DataFrame({\n",
                "    'coef': results.params.values,\n",
                "    'odds ratio': np.exp(results.params.values),\n",
                "    'pvalue': results.pvalues,\n",
                "    'name': results.params.index\n",
                "})\n",
                "coefs"
            ]
        },
        {
            "cell_type": "markdown",
            "metadata": {},
            "source": [
                "Using large gauge needles doubles your odds of finishing a project!"
            ]
        },
        {
            "cell_type": "code",
            "execution_count": 288,
            "metadata": {},
            "outputs": [
                {
                    "data": {
                        "text/plain": [
                            "9.946173165532088"
                        ]
                    },
                    "execution_count": 288,
                    "metadata": {},
                    "output_type": "execute_result"
                }
            ],
            "source": [
                "# Switching from small to large gauge needles\n",
                "# is equivalent to how many inches?\n",
                "math.log(2.15, 1.08)"
            ]
        },
        {
            "cell_type": "code",
            "execution_count": 289,
            "metadata": {},
            "outputs": [
                {
                    "data": {
                        "text/html": [
                            "<div>\n",
                            "<style scoped>\n",
                            "    .dataframe tbody tr th:only-of-type {\n",
                            "        vertical-align: middle;\n",
                            "    }\n",
                            "\n",
                            "    .dataframe tbody tr th {\n",
                            "        vertical-align: top;\n",
                            "    }\n",
                            "\n",
                            "    .dataframe thead th {\n",
                            "        text-align: right;\n",
                            "    }\n",
                            "</style>\n",
                            "<table border=\"1\" class=\"dataframe\">\n",
                            "  <thead>\n",
                            "    <tr style=\"text-align: right;\">\n",
                            "      <th></th>\n",
                            "      <th>length_in</th>\n",
                            "      <th>large_gauge</th>\n",
                            "      <th>prediction</th>\n",
                            "    </tr>\n",
                            "  </thead>\n",
                            "  <tbody>\n",
                            "    <tr>\n",
                            "      <th>0</th>\n",
                            "      <td>60</td>\n",
                            "      <td>1</td>\n",
                            "      <td>0.982823</td>\n",
                            "    </tr>\n",
                            "    <tr>\n",
                            "      <th>1</th>\n",
                            "      <td>60</td>\n",
                            "      <td>0</td>\n",
                            "      <td>0.747624</td>\n",
                            "    </tr>\n",
                            "    <tr>\n",
                            "      <th>2</th>\n",
                            "      <td>70</td>\n",
                            "      <td>1</td>\n",
                            "      <td>0.901472</td>\n",
                            "    </tr>\n",
                            "    <tr>\n",
                            "      <th>3</th>\n",
                            "      <td>70</td>\n",
                            "      <td>0</td>\n",
                            "      <td>0.321432</td>\n",
                            "    </tr>\n",
                            "  </tbody>\n",
                            "</table>\n",
                            "</div>"
                        ],
                        "text/plain": [
                            "   length_in  large_gauge  prediction\n",
                            "0         60            1    0.982823\n",
                            "1         60            0    0.747624\n",
                            "2         70            1    0.901472\n",
                            "3         70            0    0.321432"
                        ]
                    },
                    "execution_count": 289,
                    "metadata": {},
                    "output_type": "execute_result"
                }
            ],
            "source": [
                "X_unknown = pd.DataFrame([\n",
                "    { 'length_in': 60, 'large_gauge': 1 },\n",
                "    { 'length_in': 60, 'large_gauge': 0 },\n",
                "    { 'length_in': 70, 'large_gauge': 1 },\n",
                "    { 'length_in': 70, 'large_gauge': 0 },\n",
                "])\n",
                "\n",
                "X_unknown['prediction'] = results.predict(X_unknown)\n",
                "X_unknown"
            ]
        },
        {
            "cell_type": "markdown",
            "metadata": {},
            "source": [
                "There you go!\n",
                "\n",
                "If you'd like more details, you can continue on in this section. If you'd just like the how-to-do-an-exact-thing explanations, check out the [regression reference page](/reference/regression/)."
            ]
        },
        {
            "cell_type": "code",
            "execution_count": null,
            "metadata": {},
            "outputs": [],
            "source": []
        }
    ],
    "metadata": {
        "kernelspec": {
            "display_name": "Python 3",
            "language": "python",
            "name": "python3"
        },
        "language_info": {
            "codemirror_mode": {
                "name": "ipython",
                "version": 3
            },
            "file_extension": ".py",
            "mimetype": "text/x-python",
            "name": "python",
            "nbconvert_exporter": "python",
            "pygments_lexer": "ipython3",
            "version": "3.6.8"
        },
        "toc": {
            "base_numbering": 1,
            "nav_menu": {},
            "number_sections": true,
            "sideBar": true,
            "skip_h1_title": false,
            "title_cell": "Table of Contents",
            "title_sidebar": "Contents",
            "toc_cell": false,
            "toc_position": {},
            "toc_section_display": true,
            "toc_window_display": false
        }
    },
    "nbformat": 4,
    "nbformat_minor": 2
}