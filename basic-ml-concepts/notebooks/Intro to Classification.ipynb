{
    "cells": [
        {
            "cell_type": "markdown",
            "metadata": {},
            "source": [
                "# Classification\n",
                "\n",
                "Need to predict what category something goes into? Hate speech/not hate speech, spy plane/not spy plane, dangerous doctor/not dangerous doctor? Classification is what you're looking for!\n",
                "\n",
                "While it's best if you've read up on logistic regression first, you'll definitely be okay even if you didn't. Maybe a few feelings of being left out here or there, but 100% physically survivable."
            ]
        },
        {
            "cell_type": "markdown",
            "metadata": {},
            "source": [
                "<p class=\"reading-options\">\n  <a class=\"btn\" href=\"/basic-ml-concepts/intro-to-classification\">\n    <i class=\"fa fa-sm fa-book\"></i>\n    Read online\n  </a>\n  <a class=\"btn\" href=\"/basic-ml-concepts/notebooks/Intro to Classification.ipynb\">\n    <i class=\"fa fa-sm fa-download\"></i>\n    Download notebook\n  </a>\n  <a class=\"btn\" href=\"#\">\n    <i class=\"fa fa-sm fa-laptop\"></i>\n    Interactive version\n  </a>\n</p>"
            ]
        },
        {
            "cell_type": "markdown",
            "metadata": {},
            "source": [
                "## Our dataset\n",
                "\n",
                "Once upon a time when we were studying logistic regression, we were really really into **knitting scarves**. We had a list of scarves we had attempted to knit, and whether we were successful or not in completing them. We're going to revisit our adventures in knitting, starting with these **four measurements** on each attempted scarf:\n",
                "\n",
                "* \ud83d\udccf How long each scarf was\n",
                "* \ud83e\uddf9 Whether we used a large-gauge knitting needle\n",
                "* \ud83c\udfa8 The color of our yarn\n",
                "* \ud83e\udde3 Whether we finished the scarf or not\n",
                "\n",
                "With these four pieces of data about each scarf, we wound up with a dataset that looked something like this:\n",
                "\n",
                "|\ud83d\udccf|\ud83e\uddf9|\ud83c\udfa8|\ud83e\udde3|\n",
                "|---|---|---|---|\n",
                "|55 inches|Yes|orange|**Finished!**|\n",
                "|55 inches|No|orange|**Finished!**|\n",
                "|55 inches|No|brown|**Finished!**|\n",
                "|60 inches|No|brown|**Finished!**|\n",
                "|60 inches|No|grey|Nope|\n",
                "|70 inches|No|grey|**Finished!**|\n",
                "|70 inches|No|orange|Nope|\n",
                "|82 inches|Yes|grey|**Finished!**|\n",
                "|82 inches|No|brown|Nope|\n",
                "|82 inches|No|orange|Nope|\n",
                "|82 inches|Yes|brown|Nope|\n",
                "\n",
                "We used logistic regression to **see how scarf length, needle gauge, and scarf color affected our ability to complete the scarf.** Our findings were as follows:\n",
                "\n",
                "* As scarves got longer we were **less likely** to complete them...\n",
                "* ...but if we used large-gauge needles we were **more likely** to finish them.\n",
                "* Certain colors seemed to have a positive or negative effect, but their p-values were just too high to consider significant.\n",
                "\n",
                "Let's review how we did this, nice and quickly. We'll be performing our logistic regression with the **statsmodels package**, which is a delight when it comes to running linear and logistic regression in Python.\n",
                "\n",
                "First we'll **make our dataframe.**"
            ]
        },
        {
            "cell_type": "code",
            "execution_count": 1,
            "metadata": {},
            "outputs": [
                {
                    "data": {
                        "text/html": [
                            "<div>\n",
                            "<style scoped>\n",
                            "    .dataframe tbody tr th:only-of-type {\n",
                            "        vertical-align: middle;\n",
                            "    }\n",
                            "\n",
                            "    .dataframe tbody tr th {\n",
                            "        vertical-align: top;\n",
                            "    }\n",
                            "\n",
                            "    .dataframe thead th {\n",
                            "        text-align: right;\n",
                            "    }\n",
                            "</style>\n",
                            "<table border=\"1\" class=\"dataframe\">\n",
                            "  <thead>\n",
                            "    <tr style=\"text-align: right;\">\n",
                            "      <th></th>\n",
                            "      <th>length_in</th>\n",
                            "      <th>large_gauge</th>\n",
                            "      <th>color</th>\n",
                            "      <th>completed</th>\n",
                            "    </tr>\n",
                            "  </thead>\n",
                            "  <tbody>\n",
                            "    <tr>\n",
                            "      <th>0</th>\n",
                            "      <td>55</td>\n",
                            "      <td>1</td>\n",
                            "      <td>orange</td>\n",
                            "      <td>1</td>\n",
                            "    </tr>\n",
                            "    <tr>\n",
                            "      <th>1</th>\n",
                            "      <td>55</td>\n",
                            "      <td>0</td>\n",
                            "      <td>orange</td>\n",
                            "      <td>1</td>\n",
                            "    </tr>\n",
                            "    <tr>\n",
                            "      <th>2</th>\n",
                            "      <td>55</td>\n",
                            "      <td>0</td>\n",
                            "      <td>brown</td>\n",
                            "      <td>1</td>\n",
                            "    </tr>\n",
                            "    <tr>\n",
                            "      <th>3</th>\n",
                            "      <td>60</td>\n",
                            "      <td>0</td>\n",
                            "      <td>brown</td>\n",
                            "      <td>1</td>\n",
                            "    </tr>\n",
                            "    <tr>\n",
                            "      <th>4</th>\n",
                            "      <td>60</td>\n",
                            "      <td>0</td>\n",
                            "      <td>grey</td>\n",
                            "      <td>0</td>\n",
                            "    </tr>\n",
                            "    <tr>\n",
                            "      <th>5</th>\n",
                            "      <td>70</td>\n",
                            "      <td>0</td>\n",
                            "      <td>grey</td>\n",
                            "      <td>1</td>\n",
                            "    </tr>\n",
                            "    <tr>\n",
                            "      <th>6</th>\n",
                            "      <td>70</td>\n",
                            "      <td>0</td>\n",
                            "      <td>orange</td>\n",
                            "      <td>0</td>\n",
                            "    </tr>\n",
                            "    <tr>\n",
                            "      <th>7</th>\n",
                            "      <td>82</td>\n",
                            "      <td>1</td>\n",
                            "      <td>grey</td>\n",
                            "      <td>1</td>\n",
                            "    </tr>\n",
                            "    <tr>\n",
                            "      <th>8</th>\n",
                            "      <td>82</td>\n",
                            "      <td>0</td>\n",
                            "      <td>brown</td>\n",
                            "      <td>0</td>\n",
                            "    </tr>\n",
                            "    <tr>\n",
                            "      <th>9</th>\n",
                            "      <td>82</td>\n",
                            "      <td>0</td>\n",
                            "      <td>orange</td>\n",
                            "      <td>0</td>\n",
                            "    </tr>\n",
                            "    <tr>\n",
                            "      <th>10</th>\n",
                            "      <td>82</td>\n",
                            "      <td>1</td>\n",
                            "      <td>brown</td>\n",
                            "      <td>0</td>\n",
                            "    </tr>\n",
                            "  </tbody>\n",
                            "</table>\n",
                            "</div>"
                        ],
                        "text/plain": [
                            "    length_in  large_gauge   color  completed\n",
                            "0          55            1  orange          1\n",
                            "1          55            0  orange          1\n",
                            "2          55            0   brown          1\n",
                            "3          60            0   brown          1\n",
                            "4          60            0    grey          0\n",
                            "5          70            0    grey          1\n",
                            "6          70            0  orange          0\n",
                            "7          82            1    grey          1\n",
                            "8          82            0   brown          0\n",
                            "9          82            0  orange          0\n",
                            "10         82            1   brown          0"
                        ]
                    },
                    "execution_count": 1,
                    "metadata": {},
                    "output_type": "execute_result"
                }
            ],
            "source": [
                "import pandas as pd\n",
                "\n",
                "df = pd.DataFrame([\n",
                "    { 'length_in': 55, 'large_gauge': 1, 'color': 'orange', 'completed': 1 },\n",
                "    { 'length_in': 55, 'large_gauge': 0, 'color': 'orange', 'completed': 1 },\n",
                "    { 'length_in': 55, 'large_gauge': 0, 'color': 'brown', 'completed': 1 },\n",
                "    { 'length_in': 60, 'large_gauge': 0, 'color': 'brown', 'completed': 1 },\n",
                "    { 'length_in': 60, 'large_gauge': 0, 'color': 'grey', 'completed': 0 },\n",
                "    { 'length_in': 70, 'large_gauge': 0, 'color': 'grey', 'completed': 1 },\n",
                "    { 'length_in': 70, 'large_gauge': 0, 'color': 'orange', 'completed': 0 },\n",
                "    { 'length_in': 82, 'large_gauge': 1, 'color': 'grey', 'completed': 1 },\n",
                "    { 'length_in': 82, 'large_gauge': 0, 'color': 'brown', 'completed': 0 },\n",
                "    { 'length_in': 82, 'large_gauge': 0, 'color': 'orange', 'completed': 0 },\n",
                "    { 'length_in': 82, 'large_gauge': 1, 'color': 'brown', 'completed': 0 },\n",
                "])\n",
                "\n",
                "df"
            ]
        },
        {
            "cell_type": "markdown",
            "metadata": {},
            "source": [
                "Then we'll feed it into statsmodels, asking it how the `completed` column is related to the other three."
            ]
        },
        {
            "cell_type": "code",
            "execution_count": 9,
            "metadata": {},
            "outputs": [
                {
                    "name": "stdout",
                    "output_type": "stream",
                    "text": [
                        "Optimization terminated successfully.\n",
                        "         Current function value: 0.424906\n",
                        "         Iterations 7\n"
                    ]
                },
                {
                    "data": {
                        "text/html": [
                            "<table class=\"simpletable\">\n",
                            "<caption>Logit Regression Results</caption>\n",
                            "<tr>\n",
                            "  <th>Dep. Variable:</th>       <td>completed</td>    <th>  No. Observations:  </th>  <td>    11</td> \n",
                            "</tr>\n",
                            "<tr>\n",
                            "  <th>Model:</th>                 <td>Logit</td>      <th>  Df Residuals:      </th>  <td>     6</td> \n",
                            "</tr>\n",
                            "<tr>\n",
                            "  <th>Method:</th>                 <td>MLE</td>       <th>  Df Model:          </th>  <td>     4</td> \n",
                            "</tr>\n",
                            "<tr>\n",
                            "  <th>Date:</th>            <td>Fri, 20 Dec 2019</td> <th>  Pseudo R-squ.:     </th>  <td>0.3833</td> \n",
                            "</tr>\n",
                            "<tr>\n",
                            "  <th>Time:</th>                <td>14:52:06</td>     <th>  Log-Likelihood:    </th> <td> -4.6740</td>\n",
                            "</tr>\n",
                            "<tr>\n",
                            "  <th>converged:</th>             <td>True</td>       <th>  LL-Null:           </th> <td> -7.5791</td>\n",
                            "</tr>\n",
                            "<tr>\n",
                            "  <th>Covariance Type:</th>     <td>nonrobust</td>    <th>  LLR p-value:       </th>  <td>0.2138</td> \n",
                            "</tr>\n",
                            "</table>\n",
                            "<table class=\"simpletable\">\n",
                            "<tr>\n",
                            "                     <td></td>                       <th>coef</th>     <th>std err</th>      <th>z</th>      <th>P>|z|</th>  <th>[0.025</th>    <th>0.975]</th>  \n",
                            "</tr>\n",
                            "<tr>\n",
                            "  <th>Intercept</th>                              <td>   12.1245</td> <td>    8.094</td> <td>    1.498</td> <td> 0.134</td> <td>   -3.740</td> <td>   27.989</td>\n",
                            "</tr>\n",
                            "<tr>\n",
                            "  <th>C(color, Treatment('orange'))[T.brown]</th> <td>    0.4594</td> <td>    2.257</td> <td>    0.204</td> <td> 0.839</td> <td>   -3.965</td> <td>    4.884</td>\n",
                            "</tr>\n",
                            "<tr>\n",
                            "  <th>C(color, Treatment('orange'))[T.grey]</th>  <td>    1.4708</td> <td>    2.289</td> <td>    0.643</td> <td> 0.520</td> <td>   -3.015</td> <td>    5.957</td>\n",
                            "</tr>\n",
                            "<tr>\n",
                            "  <th>length_in</th>                              <td>   -0.1944</td> <td>    0.126</td> <td>   -1.540</td> <td> 0.124</td> <td>   -0.442</td> <td>    0.053</td>\n",
                            "</tr>\n",
                            "<tr>\n",
                            "  <th>large_gauge</th>                            <td>    2.8814</td> <td>    2.845</td> <td>    1.013</td> <td> 0.311</td> <td>   -2.694</td> <td>    8.457</td>\n",
                            "</tr>\n",
                            "</table>"
                        ],
                        "text/plain": [
                            "<class 'statsmodels.iolib.summary.Summary'>\n",
                            "\"\"\"\n",
                            "                           Logit Regression Results                           \n",
                            "==============================================================================\n",
                            "Dep. Variable:              completed   No. Observations:                   11\n",
                            "Model:                          Logit   Df Residuals:                        6\n",
                            "Method:                           MLE   Df Model:                            4\n",
                            "Date:                Fri, 20 Dec 2019   Pseudo R-squ.:                  0.3833\n",
                            "Time:                        14:52:06   Log-Likelihood:                -4.6740\n",
                            "converged:                       True   LL-Null:                       -7.5791\n",
                            "Covariance Type:            nonrobust   LLR p-value:                    0.2138\n",
                            "==========================================================================================================\n",
                            "                                             coef    std err          z      P>|z|      [0.025      0.975]\n",
                            "----------------------------------------------------------------------------------------------------------\n",
                            "Intercept                                 12.1245      8.094      1.498      0.134      -3.740      27.989\n",
                            "C(color, Treatment('orange'))[T.brown]     0.4594      2.257      0.204      0.839      -3.965       4.884\n",
                            "C(color, Treatment('orange'))[T.grey]      1.4708      2.289      0.643      0.520      -3.015       5.957\n",
                            "length_in                                 -0.1944      0.126     -1.540      0.124      -0.442       0.053\n",
                            "large_gauge                                2.8814      2.845      1.013      0.311      -2.694       8.457\n",
                            "==========================================================================================================\n",
                            "\"\"\""
                        ]
                    },
                    "execution_count": 9,
                    "metadata": {},
                    "output_type": "execute_result"
                }
            ],
            "source": [
                "model = smf.logit(\"completed ~ length_in + large_gauge + C(color, Treatment('orange'))\", data=df)\n",
                "results = model.fit()\n",
                "results.summary()"
            ]
        },
        {
            "cell_type": "markdown",
            "metadata": {},
            "source": [
                "These results don't mean much, as we need to convert the coefficients into **odds ratios** to see how much better or worse our odds get as our features change."
            ]
        },
        {
            "cell_type": "code",
            "execution_count": 11,
            "metadata": {},
            "outputs": [
                {
                    "data": {
                        "text/html": [
                            "<div>\n",
                            "<style scoped>\n",
                            "    .dataframe tbody tr th:only-of-type {\n",
                            "        vertical-align: middle;\n",
                            "    }\n",
                            "\n",
                            "    .dataframe tbody tr th {\n",
                            "        vertical-align: top;\n",
                            "    }\n",
                            "\n",
                            "    .dataframe thead th {\n",
                            "        text-align: right;\n",
                            "    }\n",
                            "</style>\n",
                            "<table border=\"1\" class=\"dataframe\">\n",
                            "  <thead>\n",
                            "    <tr style=\"text-align: right;\">\n",
                            "      <th></th>\n",
                            "      <th>coef</th>\n",
                            "      <th>odds ratio</th>\n",
                            "      <th>name</th>\n",
                            "    </tr>\n",
                            "  </thead>\n",
                            "  <tbody>\n",
                            "    <tr>\n",
                            "      <th>0</th>\n",
                            "      <td>12.124529</td>\n",
                            "      <td>184338.541216</td>\n",
                            "      <td>Intercept</td>\n",
                            "    </tr>\n",
                            "    <tr>\n",
                            "      <th>1</th>\n",
                            "      <td>0.459412</td>\n",
                            "      <td>1.583143</td>\n",
                            "      <td>C(color, Treatment('orange'))[T.brown]</td>\n",
                            "    </tr>\n",
                            "    <tr>\n",
                            "      <th>2</th>\n",
                            "      <td>1.470759</td>\n",
                            "      <td>4.352538</td>\n",
                            "      <td>C(color, Treatment('orange'))[T.grey]</td>\n",
                            "    </tr>\n",
                            "    <tr>\n",
                            "      <th>3</th>\n",
                            "      <td>-0.194425</td>\n",
                            "      <td>0.823308</td>\n",
                            "      <td>length_in</td>\n",
                            "    </tr>\n",
                            "    <tr>\n",
                            "      <th>4</th>\n",
                            "      <td>2.881375</td>\n",
                            "      <td>17.838786</td>\n",
                            "      <td>large_gauge</td>\n",
                            "    </tr>\n",
                            "  </tbody>\n",
                            "</table>\n",
                            "</div>"
                        ],
                        "text/plain": [
                            "        coef     odds ratio                                    name\n",
                            "0  12.124529  184338.541216                               Intercept\n",
                            "1   0.459412       1.583143  C(color, Treatment('orange'))[T.brown]\n",
                            "2   1.470759       4.352538   C(color, Treatment('orange'))[T.grey]\n",
                            "3  -0.194425       0.823308                               length_in\n",
                            "4   2.881375      17.838786                             large_gauge"
                        ]
                    },
                    "execution_count": 11,
                    "metadata": {},
                    "output_type": "execute_result"
                }
            ],
            "source": [
                "coefs = pd.DataFrame({\n",
                "    'coef': results.params.values,\n",
                "    'odds ratio': np.exp(results.params.values),\n",
                "    'name': results.params.index\n",
                "})\n",
                "coefs"
            ]
        },
        {
            "cell_type": "markdown",
            "metadata": {},
            "source": [
                "Each extra inch decreases our ability to finish by about 18%, while using large gauge needles improves our odds of successfully finishing by 18x. **That's logistic regression:** how much each input changes the output.\n",
                "\n",
                "## Logistic Classifier\n",
                "\n",
                "Classifiers go in the opposite direction: **if I want to make a scarf that looks like _____, am I going to finish it?**\n",
                "\n",
                "Let's say we have a bunch of scarves in our todo list, scarves we _haven't_ made, and we're curious as to whether we're going to complete them or not.\n",
                "\n",
                "|\ud83d\udccf|\ud83e\uddf9|\ud83c\udfa8|\ud83e\udde3|\n",
                "|---|---|---|---|\n",
                "|55 inches|Yes|grey|???|\n",
                "|65 inches|No|grey|???|\n",
                "|75 inches|Yes|orange|???|\n",
                "|80 inches|No|orange|???|\n",
                "|90 inches|Yes|brown|???|\n"
            ]
        },
        {
            "cell_type": "markdown",
            "metadata": {},
            "source": [
                "**A classifier will tell us whether or not we're likely to finish each scarf.** To do this we're going to abandon our friend statsmodels and use a new Python library called [scikit-learn](http://scikit-learn.org/) (or sklearn). Scikit-learn is a **machine learning library** that can do all sorts of data science magic.\n",
                "\n",
                "> If you're thinking \"wait, we made predictions before!\" you're perfectly right, but you're just going to have to hold on for a while.\n",
                "\n",
                "There are **all sorts of classifiers** - scikit-learn has at _least_ ten different ones - but since we learned about logistic regression already we're going to start with a **logistic classifier**. It uses the same sort of math as the logistic regression, it's just more focused around *prediction* as opposed to giving us odds ratios and the like.\n",
                "\n",
                "Let's hop in!"
            ]
        },
        {
            "cell_type": "code",
            "execution_count": 21,
            "metadata": {},
            "outputs": [
                {
                    "data": {
                        "text/plain": [
                            "LogisticRegression(C=1000000000.0, class_weight=None, dual=False,\n",
                            "                   fit_intercept=True, intercept_scaling=1, l1_ratio=None,\n",
                            "                   max_iter=4000, multi_class='auto', n_jobs=None, penalty='l2',\n",
                            "                   random_state=None, solver='lbfgs', tol=0.0001, verbose=0,\n",
                            "                   warm_start=False)"
                        ]
                    },
                    "execution_count": 21,
                    "metadata": {},
                    "output_type": "execute_result"
                }
            ],
            "source": [
                "# Import the classifier from scikit-learn\n",
                "from sklearn.linear_model import LogisticRegression\n",
                "\n",
                "# Create a new classifier\n",
                "clf = LogisticRegression(C=1e9, solver='lbfgs', max_iter=4000)\n",
                "clf"
            ]
        },
        {
            "cell_type": "markdown",
            "metadata": {},
            "source": [
                "When we make a `LogisticRegression` in scikit-learn, we give it a few options. While we don't need all of these all of the time, I find it useful to always use them for ease of cut-and-paste.\n",
                "\n",
                "* `C=1e9` is a magic number that Just Makes Things Always Work. Don't worry about it, just use it. Sorry!!\n",
                "* `solver='lbfgs'` is the default technique for solving the regression in newer versions of scikit-learn. We specify it here so we don't get a warning in older versions.\n",
                "* `max_iter=4000` tells it to try reaaaally hard to find a solution to the problem. The default is 100 iterations, we up it to 4000 just in case working extra hard gets an answer.\n",
                "\n",
                "We call our classifier `clf` because it's, well, a **classifier**, and for some reason programmers hate typing more than three or four letters at a time.\n",
                "\n",
                "## Training our classifier\n",
                "\n",
                "When we build a classifier, we can't just tell it to start guessing answers about scarves - first we need **to show it what completed and incomplete scarves look like**. This is called **training** or **fitting** your model.\n",
                "\n",
                "To train our model on what a complete or incomplete scarf looks like, we need a **dataset that we know the answers to.** This might seem obvious, but it's an important part! This labeled dataset is (somewhat obviously) called your **training data.**\n",
                "\n",
                "We'll be using our original dataframe as our training data. To keep things simple, we're also going to get rid of the color column (don't worry, it'll come back later)."
            ]
        },
        {
            "cell_type": "code",
            "execution_count": 24,
            "metadata": {},
            "outputs": [
                {
                    "data": {
                        "text/html": [
                            "<div>\n",
                            "<style scoped>\n",
                            "    .dataframe tbody tr th:only-of-type {\n",
                            "        vertical-align: middle;\n",
                            "    }\n",
                            "\n",
                            "    .dataframe tbody tr th {\n",
                            "        vertical-align: top;\n",
                            "    }\n",
                            "\n",
                            "    .dataframe thead th {\n",
                            "        text-align: right;\n",
                            "    }\n",
                            "</style>\n",
                            "<table border=\"1\" class=\"dataframe\">\n",
                            "  <thead>\n",
                            "    <tr style=\"text-align: right;\">\n",
                            "      <th></th>\n",
                            "      <th>length_in</th>\n",
                            "      <th>large_gauge</th>\n",
                            "      <th>completed</th>\n",
                            "    </tr>\n",
                            "  </thead>\n",
                            "  <tbody>\n",
                            "    <tr>\n",
                            "      <th>0</th>\n",
                            "      <td>55</td>\n",
                            "      <td>1</td>\n",
                            "      <td>1</td>\n",
                            "    </tr>\n",
                            "    <tr>\n",
                            "      <th>1</th>\n",
                            "      <td>55</td>\n",
                            "      <td>0</td>\n",
                            "      <td>1</td>\n",
                            "    </tr>\n",
                            "    <tr>\n",
                            "      <th>2</th>\n",
                            "      <td>55</td>\n",
                            "      <td>0</td>\n",
                            "      <td>1</td>\n",
                            "    </tr>\n",
                            "    <tr>\n",
                            "      <th>3</th>\n",
                            "      <td>60</td>\n",
                            "      <td>0</td>\n",
                            "      <td>1</td>\n",
                            "    </tr>\n",
                            "    <tr>\n",
                            "      <th>4</th>\n",
                            "      <td>60</td>\n",
                            "      <td>0</td>\n",
                            "      <td>0</td>\n",
                            "    </tr>\n",
                            "  </tbody>\n",
                            "</table>\n",
                            "</div>"
                        ],
                        "text/plain": [
                            "   length_in  large_gauge  completed\n",
                            "0         55            1          1\n",
                            "1         55            0          1\n",
                            "2         55            0          1\n",
                            "3         60            0          1\n",
                            "4         60            0          0"
                        ]
                    },
                    "execution_count": 24,
                    "metadata": {},
                    "output_type": "execute_result"
                }
            ],
            "source": [
                "train_df = df.drop('color', axis=1).copy()\n",
                "train_df.head()"
            ]
        },
        {
            "cell_type": "markdown",
            "metadata": {},
            "source": [
                "This dataframe can be our training data because it has **features** or **inputs** (length and whether we used large gauge needles), as well as the **output label** or **class** (whether we finished it or not).\n",
                "\n",
                "### Separating features and labels\n",
                "\n",
                "Before we train our classifier, we'll need to actually separate the features and the labels. Typically these are called `X` (the features) and `y` (the labels). We'll follow convention because we love to fit in!"
            ]
        },
        {
            "cell_type": "code",
            "execution_count": 28,
            "metadata": {},
            "outputs": [],
            "source": [
                "# X will be the features, so we'll drop the 'completed' column\n",
                "X = train_df.drop('completed', axis=1)\n",
                "# y will be the labels, so just the 'completed' column\n",
                "y = train_df.completed"
            ]
        },
        {
            "cell_type": "markdown",
            "metadata": {},
            "source": [
                "Let's take a look, just to be sure. The features - the inputs that determine whether we're successful or not - are hiding inside of `X`. This should look like a dataframe."
            ]
        },
        {
            "cell_type": "code",
            "execution_count": 31,
            "metadata": {},
            "outputs": [
                {
                    "data": {
                        "text/html": [
                            "<div>\n",
                            "<style scoped>\n",
                            "    .dataframe tbody tr th:only-of-type {\n",
                            "        vertical-align: middle;\n",
                            "    }\n",
                            "\n",
                            "    .dataframe tbody tr th {\n",
                            "        vertical-align: top;\n",
                            "    }\n",
                            "\n",
                            "    .dataframe thead th {\n",
                            "        text-align: right;\n",
                            "    }\n",
                            "</style>\n",
                            "<table border=\"1\" class=\"dataframe\">\n",
                            "  <thead>\n",
                            "    <tr style=\"text-align: right;\">\n",
                            "      <th></th>\n",
                            "      <th>length_in</th>\n",
                            "      <th>large_gauge</th>\n",
                            "    </tr>\n",
                            "  </thead>\n",
                            "  <tbody>\n",
                            "    <tr>\n",
                            "      <th>0</th>\n",
                            "      <td>55</td>\n",
                            "      <td>1</td>\n",
                            "    </tr>\n",
                            "    <tr>\n",
                            "      <th>1</th>\n",
                            "      <td>55</td>\n",
                            "      <td>0</td>\n",
                            "    </tr>\n",
                            "    <tr>\n",
                            "      <th>2</th>\n",
                            "      <td>55</td>\n",
                            "      <td>0</td>\n",
                            "    </tr>\n",
                            "    <tr>\n",
                            "      <th>3</th>\n",
                            "      <td>60</td>\n",
                            "      <td>0</td>\n",
                            "    </tr>\n",
                            "    <tr>\n",
                            "      <th>4</th>\n",
                            "      <td>60</td>\n",
                            "      <td>0</td>\n",
                            "    </tr>\n",
                            "  </tbody>\n",
                            "</table>\n",
                            "</div>"
                        ],
                        "text/plain": [
                            "   length_in  large_gauge\n",
                            "0         55            1\n",
                            "1         55            0\n",
                            "2         55            0\n",
                            "3         60            0\n",
                            "4         60            0"
                        ]
                    },
                    "execution_count": 31,
                    "metadata": {},
                    "output_type": "execute_result"
                }
            ],
            "source": [
                "X.head()"
            ]
        },
        {
            "cell_type": "markdown",
            "metadata": {},
            "source": [
                "While whether we completed each scarf or not is inside of `y`. This should look like a single column."
            ]
        },
        {
            "cell_type": "code",
            "execution_count": 33,
            "metadata": {},
            "outputs": [
                {
                    "data": {
                        "text/plain": [
                            "0    1\n",
                            "1    1\n",
                            "2    1\n",
                            "3    1\n",
                            "4    0\n",
                            "Name: completed, dtype: int64"
                        ]
                    },
                    "execution_count": 33,
                    "metadata": {},
                    "output_type": "execute_result"
                }
            ],
            "source": [
                "y.head()"
            ]
        },
        {
            "cell_type": "markdown",
            "metadata": {},
            "source": [
                "### Training our model\n",
                "\n",
                "Now that we've split apart our features and labels, we can **train our classifier**. This will teach the logistic classifier about the relationship between the features and the labels, and what kind of label (completed/not completed) to connect with scarf lengths and needle gauges."
            ]
        },
        {
            "cell_type": "code",
            "execution_count": 34,
            "metadata": {},
            "outputs": [
                {
                    "data": {
                        "text/plain": [
                            "LogisticRegression(C=1000000000.0, class_weight=None, dual=False,\n",
                            "                   fit_intercept=True, intercept_scaling=1, l1_ratio=None,\n",
                            "                   max_iter=4000, multi_class='auto', n_jobs=None, penalty='l2',\n",
                            "                   random_state=None, solver='lbfgs', tol=0.0001, verbose=0,\n",
                            "                   warm_start=False)"
                        ]
                    },
                    "execution_count": 34,
                    "metadata": {},
                    "output_type": "execute_result"
                }
            ],
            "source": [
                "# Teach the classifier about scarves\n",
                "clf.fit(X, y)"
            ]
        },
        {
            "cell_type": "markdown",
            "metadata": {},
            "source": [
                "Anticlimatic, yeah? Sorry!\n",
                "\n",
                "Notice that **when you fit an sklearn classifier, it doesn't give fancy, readable results like statsmodels.** It might be a lot of the same math behind the scenes, but scikit-learn's logistic regression is based around _classification_, not for nice people-understandable relationships between inputs and outputs."
            ]
        },
        {
            "cell_type": "markdown",
            "metadata": {},
            "source": [
                "## Making predictions\n",
                "\n",
                "Now that the classifier has been successfully trained (no error message, right?), it should be able to make predictions about whether we'll finish a scarf or not.\n",
                "\n",
                "Let's build a **new dataset of mystery scarves.** We haven't started on them, so we don't know whether we'll finish them or not."
            ]
        },
        {
            "cell_type": "code",
            "execution_count": 50,
            "metadata": {},
            "outputs": [
                {
                    "data": {
                        "text/html": [
                            "<div>\n",
                            "<style scoped>\n",
                            "    .dataframe tbody tr th:only-of-type {\n",
                            "        vertical-align: middle;\n",
                            "    }\n",
                            "\n",
                            "    .dataframe tbody tr th {\n",
                            "        vertical-align: top;\n",
                            "    }\n",
                            "\n",
                            "    .dataframe thead th {\n",
                            "        text-align: right;\n",
                            "    }\n",
                            "</style>\n",
                            "<table border=\"1\" class=\"dataframe\">\n",
                            "  <thead>\n",
                            "    <tr style=\"text-align: right;\">\n",
                            "      <th></th>\n",
                            "      <th>length_in</th>\n",
                            "      <th>large_gauge</th>\n",
                            "      <th>color</th>\n",
                            "    </tr>\n",
                            "  </thead>\n",
                            "  <tbody>\n",
                            "    <tr>\n",
                            "      <th>0</th>\n",
                            "      <td>55</td>\n",
                            "      <td>1</td>\n",
                            "      <td>grey</td>\n",
                            "    </tr>\n",
                            "    <tr>\n",
                            "      <th>1</th>\n",
                            "      <td>65</td>\n",
                            "      <td>0</td>\n",
                            "      <td>grey</td>\n",
                            "    </tr>\n",
                            "    <tr>\n",
                            "      <th>2</th>\n",
                            "      <td>75</td>\n",
                            "      <td>1</td>\n",
                            "      <td>orange</td>\n",
                            "    </tr>\n",
                            "    <tr>\n",
                            "      <th>3</th>\n",
                            "      <td>80</td>\n",
                            "      <td>0</td>\n",
                            "      <td>orange</td>\n",
                            "    </tr>\n",
                            "    <tr>\n",
                            "      <th>4</th>\n",
                            "      <td>90</td>\n",
                            "      <td>1</td>\n",
                            "      <td>brown</td>\n",
                            "    </tr>\n",
                            "  </tbody>\n",
                            "</table>\n",
                            "</div>"
                        ],
                        "text/plain": [
                            "   length_in  large_gauge   color\n",
                            "0         55            1    grey\n",
                            "1         65            0    grey\n",
                            "2         75            1  orange\n",
                            "3         80            0  orange\n",
                            "4         90            1   brown"
                        ]
                    },
                    "execution_count": 50,
                    "metadata": {},
                    "output_type": "execute_result"
                }
            ],
            "source": [
                "unknown = pd.DataFrame([\n",
                "    { 'length_in': 55, 'large_gauge': 1, 'color': 'grey' },\n",
                "    { 'length_in': 65, 'large_gauge': 0, 'color': 'grey' },\n",
                "    { 'length_in': 75, 'large_gauge': 1, 'color': 'orange' },\n",
                "    { 'length_in': 80, 'large_gauge': 0, 'color': 'orange' },\n",
                "    { 'length_in': 90, 'large_gauge': 1, 'color': 'brown' },\n",
                "])\n",
                "unknown"
            ]
        },
        {
            "cell_type": "markdown",
            "metadata": {},
            "source": [
                "Just like we made an `X` variable with our training features, I like to make an `unknown_X` variable for the features of our mystery dataset. Since we aren't using the scarf's color when we make the prediction, I'm going to drop the column."
            ]
        },
        {
            "cell_type": "code",
            "execution_count": 51,
            "metadata": {},
            "outputs": [
                {
                    "data": {
                        "text/html": [
                            "<div>\n",
                            "<style scoped>\n",
                            "    .dataframe tbody tr th:only-of-type {\n",
                            "        vertical-align: middle;\n",
                            "    }\n",
                            "\n",
                            "    .dataframe tbody tr th {\n",
                            "        vertical-align: top;\n",
                            "    }\n",
                            "\n",
                            "    .dataframe thead th {\n",
                            "        text-align: right;\n",
                            "    }\n",
                            "</style>\n",
                            "<table border=\"1\" class=\"dataframe\">\n",
                            "  <thead>\n",
                            "    <tr style=\"text-align: right;\">\n",
                            "      <th></th>\n",
                            "      <th>length_in</th>\n",
                            "      <th>large_gauge</th>\n",
                            "    </tr>\n",
                            "  </thead>\n",
                            "  <tbody>\n",
                            "    <tr>\n",
                            "      <th>0</th>\n",
                            "      <td>55</td>\n",
                            "      <td>1</td>\n",
                            "    </tr>\n",
                            "    <tr>\n",
                            "      <th>1</th>\n",
                            "      <td>65</td>\n",
                            "      <td>0</td>\n",
                            "    </tr>\n",
                            "    <tr>\n",
                            "      <th>2</th>\n",
                            "      <td>75</td>\n",
                            "      <td>1</td>\n",
                            "    </tr>\n",
                            "    <tr>\n",
                            "      <th>3</th>\n",
                            "      <td>80</td>\n",
                            "      <td>0</td>\n",
                            "    </tr>\n",
                            "    <tr>\n",
                            "      <th>4</th>\n",
                            "      <td>90</td>\n",
                            "      <td>1</td>\n",
                            "    </tr>\n",
                            "  </tbody>\n",
                            "</table>\n",
                            "</div>"
                        ],
                        "text/plain": [
                            "   length_in  large_gauge\n",
                            "0         55            1\n",
                            "1         65            0\n",
                            "2         75            1\n",
                            "3         80            0\n",
                            "4         90            1"
                        ]
                    },
                    "execution_count": 51,
                    "metadata": {},
                    "output_type": "execute_result"
                }
            ],
            "source": [
                "X_unknown = unknown.drop('color', axis=1)\n",
                "X_unknown"
            ]
        },
        {
            "cell_type": "markdown",
            "metadata": {},
            "source": [
                "We can then use the classifier's `.predict` method to determine whether we're going to finish the scarf or not."
            ]
        },
        {
            "cell_type": "code",
            "execution_count": 52,
            "metadata": {},
            "outputs": [
                {
                    "data": {
                        "text/plain": [
                            "array([1, 1, 1, 0, 0])"
                        ]
                    },
                    "execution_count": 52,
                    "metadata": {},
                    "output_type": "execute_result"
                }
            ],
            "source": [
                "clf.predict(X_unknown)"
            ]
        },
        {
            "cell_type": "markdown",
            "metadata": {},
            "source": [
                "That's not very pleasant-lookng, so let's actually insert it into our dataframe."
            ]
        },
        {
            "cell_type": "code",
            "execution_count": 53,
            "metadata": {},
            "outputs": [
                {
                    "data": {
                        "text/html": [
                            "<div>\n",
                            "<style scoped>\n",
                            "    .dataframe tbody tr th:only-of-type {\n",
                            "        vertical-align: middle;\n",
                            "    }\n",
                            "\n",
                            "    .dataframe tbody tr th {\n",
                            "        vertical-align: top;\n",
                            "    }\n",
                            "\n",
                            "    .dataframe thead th {\n",
                            "        text-align: right;\n",
                            "    }\n",
                            "</style>\n",
                            "<table border=\"1\" class=\"dataframe\">\n",
                            "  <thead>\n",
                            "    <tr style=\"text-align: right;\">\n",
                            "      <th></th>\n",
                            "      <th>length_in</th>\n",
                            "      <th>large_gauge</th>\n",
                            "      <th>color</th>\n",
                            "      <th>predicted</th>\n",
                            "    </tr>\n",
                            "  </thead>\n",
                            "  <tbody>\n",
                            "    <tr>\n",
                            "      <th>0</th>\n",
                            "      <td>55</td>\n",
                            "      <td>1</td>\n",
                            "      <td>grey</td>\n",
                            "      <td>1</td>\n",
                            "    </tr>\n",
                            "    <tr>\n",
                            "      <th>1</th>\n",
                            "      <td>65</td>\n",
                            "      <td>0</td>\n",
                            "      <td>grey</td>\n",
                            "      <td>1</td>\n",
                            "    </tr>\n",
                            "    <tr>\n",
                            "      <th>2</th>\n",
                            "      <td>75</td>\n",
                            "      <td>1</td>\n",
                            "      <td>orange</td>\n",
                            "      <td>1</td>\n",
                            "    </tr>\n",
                            "    <tr>\n",
                            "      <th>3</th>\n",
                            "      <td>80</td>\n",
                            "      <td>0</td>\n",
                            "      <td>orange</td>\n",
                            "      <td>0</td>\n",
                            "    </tr>\n",
                            "    <tr>\n",
                            "      <th>4</th>\n",
                            "      <td>90</td>\n",
                            "      <td>1</td>\n",
                            "      <td>brown</td>\n",
                            "      <td>0</td>\n",
                            "    </tr>\n",
                            "  </tbody>\n",
                            "</table>\n",
                            "</div>"
                        ],
                        "text/plain": [
                            "   length_in  large_gauge   color  predicted\n",
                            "0         55            1    grey          1\n",
                            "1         65            0    grey          1\n",
                            "2         75            1  orange          1\n",
                            "3         80            0  orange          0\n",
                            "4         90            1   brown          0"
                        ]
                    },
                    "execution_count": 53,
                    "metadata": {},
                    "output_type": "execute_result"
                }
            ],
            "source": [
                "unknown['predicted'] = clf.predict(X_unknown)\n",
                "unknown"
            ]
        },
        {
            "cell_type": "markdown",
            "metadata": {},
            "source": [
                "**There we go!!!!!** A prediction!!! Incredible!!!\n",
                "\n",
                "So now we're guaranteed to finish the first three scarves, and the final two are doomed to be ignored forever? Not so fast!\n",
                "\n",
                "## Classes and probabilities\n",
                "\n",
                "The biggest flaw of using a classifier is falling in love with that `1` or `0` predicted value. **We love the finality of it, the distinct separation into yes/no categories**. If you want to use these tools successfully and ethnically, though, I have a big surprise for you:\n",
                "\n",
                "* `1` means you're more likely to finish the scarf than NOT finish the scarf\n",
                "* `0` means you're more likely to NOT finish the scarf than to finish the scarf\n",
                "\n",
                "While that seems kind of obvious, what's hiding inside is the fact that **a scarf we have a 50.1% chance of completing gets a 1, the exact same as a scarf we have a 99% chance of completing.** A scarf we have a 1% chance of completing gets marked as firmly in the 0 camp, _same as one that we have a 49.99% chance of finishing!_\n",
                "\n",
                "When running a classifier, the output labels are just shorthand for probabilities (or similar, depending on the classifier). **We're forcing our classifier to say yes or no, so it's going to put every data point in one bucket or the other.**\n",
                "\n",
                "If we feel like it's important to know about that probability, it's actually pretty easy to get (if a little awkward)."
            ]
        },
        {
            "cell_type": "code",
            "execution_count": 54,
            "metadata": {},
            "outputs": [
                {
                    "data": {
                        "text/plain": [
                            "array([[0.00694023, 0.99305977],\n",
                            "       [0.45775348, 0.54224652],\n",
                            "       [0.21465282, 0.78534718],\n",
                            "       [0.92958777, 0.07041223],\n",
                            "       [0.81040751, 0.18959249]])"
                        ]
                    },
                    "execution_count": 54,
                    "metadata": {},
                    "output_type": "execute_result"
                }
            ],
            "source": [
                "# Predict the probability of each category\n",
                "clf.predict_proba(unknown_X)"
            ]
        },
        {
            "cell_type": "markdown",
            "metadata": {},
            "source": [
                "The results are a little more complicated than a raw probability, so let's break it down. It's a list of list - each datapoint has **two numbers**\n",
                "\n",
                "* The first row, `[0.00694023, 0.99305977]`, means that the first datapoint has a 0.7% chance of being in class `0` (incomplete), and a 99.3% chance of being in class `1` (completed)\n",
                "* The second row - the second datapoint - lists `[0.45775348, 0.54224652]`, which is a 46% chance of being incomplete (0) and 54% chance of being completed (1)\n",
                "* The third datapoint gets `[0.21465282, 0.78534718]`, which is a 21% chance of being incomplete, and 79% of being completed\n",
                "\n",
                "In this case (and in most cases) we're interested in the second number - the chance of being a `1` - so we'll only grab that number for our dataframe."
            ]
        },
        {
            "cell_type": "code",
            "execution_count": 55,
            "metadata": {},
            "outputs": [
                {
                    "data": {
                        "text/html": [
                            "<div>\n",
                            "<style scoped>\n",
                            "    .dataframe tbody tr th:only-of-type {\n",
                            "        vertical-align: middle;\n",
                            "    }\n",
                            "\n",
                            "    .dataframe tbody tr th {\n",
                            "        vertical-align: top;\n",
                            "    }\n",
                            "\n",
                            "    .dataframe thead th {\n",
                            "        text-align: right;\n",
                            "    }\n",
                            "</style>\n",
                            "<table border=\"1\" class=\"dataframe\">\n",
                            "  <thead>\n",
                            "    <tr style=\"text-align: right;\">\n",
                            "      <th></th>\n",
                            "      <th>length_in</th>\n",
                            "      <th>large_gauge</th>\n",
                            "      <th>color</th>\n",
                            "      <th>predicted</th>\n",
                            "      <th>predict_proba</th>\n",
                            "    </tr>\n",
                            "  </thead>\n",
                            "  <tbody>\n",
                            "    <tr>\n",
                            "      <th>0</th>\n",
                            "      <td>55</td>\n",
                            "      <td>1</td>\n",
                            "      <td>grey</td>\n",
                            "      <td>1</td>\n",
                            "      <td>0.993060</td>\n",
                            "    </tr>\n",
                            "    <tr>\n",
                            "      <th>1</th>\n",
                            "      <td>65</td>\n",
                            "      <td>0</td>\n",
                            "      <td>grey</td>\n",
                            "      <td>1</td>\n",
                            "      <td>0.542247</td>\n",
                            "    </tr>\n",
                            "    <tr>\n",
                            "      <th>2</th>\n",
                            "      <td>75</td>\n",
                            "      <td>1</td>\n",
                            "      <td>orange</td>\n",
                            "      <td>1</td>\n",
                            "      <td>0.785347</td>\n",
                            "    </tr>\n",
                            "    <tr>\n",
                            "      <th>3</th>\n",
                            "      <td>80</td>\n",
                            "      <td>0</td>\n",
                            "      <td>orange</td>\n",
                            "      <td>0</td>\n",
                            "      <td>0.070412</td>\n",
                            "    </tr>\n",
                            "    <tr>\n",
                            "      <th>4</th>\n",
                            "      <td>90</td>\n",
                            "      <td>1</td>\n",
                            "      <td>brown</td>\n",
                            "      <td>0</td>\n",
                            "      <td>0.189592</td>\n",
                            "    </tr>\n",
                            "  </tbody>\n",
                            "</table>\n",
                            "</div>"
                        ],
                        "text/plain": [
                            "   length_in  large_gauge   color  predicted  predict_proba\n",
                            "0         55            1    grey          1       0.993060\n",
                            "1         65            0    grey          1       0.542247\n",
                            "2         75            1  orange          1       0.785347\n",
                            "3         80            0  orange          0       0.070412\n",
                            "4         90            1   brown          0       0.189592"
                        ]
                    },
                    "execution_count": 55,
                    "metadata": {},
                    "output_type": "execute_result"
                }
            ],
            "source": [
                "# Predict the probability of each category,\n",
                "# but only keep the probability for the label '1'\n",
                "unknown['predict_proba'] = clf.predict_proba(unknown_X)[:,1]\n",
                "unknown"
            ]
        },
        {
            "cell_type": "markdown",
            "metadata": {},
            "source": [
                "We can see that even though the first three are likely to be completed, the 75\" scarf is actually more likely to be completed than the 65\" scarf! Must be those large gauge needles.\n",
                "\n",
                "> The reason we need to jump through these hoops is **this classifier can predict more than just yes/no!** Given some information about an animal, for example, we could predict whether it was a bear, a wolf, or a housecat (very useful example, of course). We'll keep it to two categories for now.\n",
                "\n",
                "Depending on what you're doing with your machine learning, **the difference between using the class or using a probability might be a very very big deal.**\n",
                "\n",
                "For example, if we wanted to make the best use of our time, we might start with the scarf we're most likely to finish and work our way down the list."
            ]
        },
        {
            "cell_type": "code",
            "execution_count": 58,
            "metadata": {},
            "outputs": [
                {
                    "data": {
                        "text/html": [
                            "<div>\n",
                            "<style scoped>\n",
                            "    .dataframe tbody tr th:only-of-type {\n",
                            "        vertical-align: middle;\n",
                            "    }\n",
                            "\n",
                            "    .dataframe tbody tr th {\n",
                            "        vertical-align: top;\n",
                            "    }\n",
                            "\n",
                            "    .dataframe thead th {\n",
                            "        text-align: right;\n",
                            "    }\n",
                            "</style>\n",
                            "<table border=\"1\" class=\"dataframe\">\n",
                            "  <thead>\n",
                            "    <tr style=\"text-align: right;\">\n",
                            "      <th></th>\n",
                            "      <th>length_in</th>\n",
                            "      <th>large_gauge</th>\n",
                            "      <th>color</th>\n",
                            "      <th>predicted</th>\n",
                            "      <th>predict_proba</th>\n",
                            "    </tr>\n",
                            "  </thead>\n",
                            "  <tbody>\n",
                            "    <tr>\n",
                            "      <th>0</th>\n",
                            "      <td>55</td>\n",
                            "      <td>1</td>\n",
                            "      <td>grey</td>\n",
                            "      <td>1</td>\n",
                            "      <td>0.993060</td>\n",
                            "    </tr>\n",
                            "    <tr>\n",
                            "      <th>2</th>\n",
                            "      <td>75</td>\n",
                            "      <td>1</td>\n",
                            "      <td>orange</td>\n",
                            "      <td>1</td>\n",
                            "      <td>0.785347</td>\n",
                            "    </tr>\n",
                            "    <tr>\n",
                            "      <th>1</th>\n",
                            "      <td>65</td>\n",
                            "      <td>0</td>\n",
                            "      <td>grey</td>\n",
                            "      <td>1</td>\n",
                            "      <td>0.542247</td>\n",
                            "    </tr>\n",
                            "    <tr>\n",
                            "      <th>4</th>\n",
                            "      <td>90</td>\n",
                            "      <td>1</td>\n",
                            "      <td>brown</td>\n",
                            "      <td>0</td>\n",
                            "      <td>0.189592</td>\n",
                            "    </tr>\n",
                            "    <tr>\n",
                            "      <th>3</th>\n",
                            "      <td>80</td>\n",
                            "      <td>0</td>\n",
                            "      <td>orange</td>\n",
                            "      <td>0</td>\n",
                            "      <td>0.070412</td>\n",
                            "    </tr>\n",
                            "  </tbody>\n",
                            "</table>\n",
                            "</div>"
                        ],
                        "text/plain": [
                            "   length_in  large_gauge   color  predicted  predict_proba\n",
                            "0         55            1    grey          1       0.993060\n",
                            "2         75            1  orange          1       0.785347\n",
                            "1         65            0    grey          1       0.542247\n",
                            "4         90            1   brown          0       0.189592\n",
                            "3         80            0  orange          0       0.070412"
                        ]
                    },
                    "execution_count": 58,
                    "metadata": {},
                    "output_type": "execute_result"
                }
            ],
            "source": [
                "unknown.sort_values(by='predict_proba', ascending=False)"
            ]
        },
        {
            "cell_type": "markdown",
            "metadata": {},
            "source": [
                "If we successfully finished the first three and got to the 90-inch scarf, we wouldn't throw up our arms and say, _we shouldn't try this one!_ Instead, we'd start working on it known that _maybe_ we won't finish it, but not taking the `0` prediction as anything other than a maybe-wrong prediction.\n",
                "\n",
                "More practically, journalists often do this when **searching through documents**. Let's say we have a dump of 100,000 ultra-secret PDFs - are we going to be able to read them all? Probably not! After training a classifier about what \"interesting\" documents look like, we'll start down the list from the top and work our way down. Even if the classifier thinks something isn't interesting, **the classification is just a suggestion**. Going down the list until we find what we need (or hit our deadline) is probably a better journalistic practice.\n",
                "\n",
                "## Review\n",
                "\n",
                "In this section we looked at **classification**, which is a machine learning technique to predict yes/no answers (or other categories). You **train** a **classifier** with some known examples, then let it loose to make **predictions** on unknown data. While there are many kinds of classifiers, this time we used one based on logistic regression.\n",
                "\n",
                "When making predictions, classifiers put **each element into a category**, only caring if it's the **most likely category.** This makes it seem like \"yes\" or \"no\" are definitive statements, but it might be the difference between 49.9% likely and 50.1% likely!\n",
                "\n",
                "Outside of predictions, you can also have your classifier report back the **raw probability** (well, most of the time!). Sometimes it's more useful to use this number than the actual predicted class.\n",
                "\n",
                "## Discussion topics\n",
                "\n",
                "TODO"
            ]
        },
        {
            "cell_type": "code",
            "execution_count": null,
            "metadata": {},
            "outputs": [],
            "source": []
        }
    ],
    "metadata": {
        "kernelspec": {
            "display_name": "Python 3",
            "language": "python",
            "name": "python3"
        },
        "language_info": {
            "codemirror_mode": {
                "name": "ipython",
                "version": 3
            },
            "file_extension": ".py",
            "mimetype": "text/x-python",
            "name": "python",
            "nbconvert_exporter": "python",
            "pygments_lexer": "ipython3",
            "version": "3.6.8"
        },
        "toc": {
            "base_numbering": 1,
            "nav_menu": {},
            "number_sections": true,
            "sideBar": true,
            "skip_h1_title": false,
            "title_cell": "Table of Contents",
            "title_sidebar": "Contents",
            "toc_cell": false,
            "toc_position": {},
            "toc_section_display": true,
            "toc_window_display": false
        }
    },
    "nbformat": 4,
    "nbformat_minor": 2
}