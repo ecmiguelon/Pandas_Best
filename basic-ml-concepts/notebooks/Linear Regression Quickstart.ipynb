{
    "cells": [
        {
            "cell_type": "markdown",
            "metadata": {},
            "source": [
                "# Linear Regression Quickstart\n",
                "\n",
                "Already know what's what with linear regression, just need to know how to tackle it in Python? We're here for you! If not, continue on to the next section.\n",
                "\n",
                "We're going to **ignore the nuance of what we're doing** in this notebook, it's really just for people who need to see the process."
            ]
        },
        {
            "cell_type": "markdown",
            "metadata": {},
            "source": [
                "<p class=\"reading-options\">\n  <a class=\"btn\" href=\"/basic-ml-concepts/linear-regression-quickstart\">\n    <i class=\"fa fa-sm fa-book\"></i>\n    Read online\n  </a>\n  <a class=\"btn\" href=\"/basic-ml-concepts/notebooks/Linear Regression Quickstart.ipynb\">\n    <i class=\"fa fa-sm fa-download\"></i>\n    Download notebook\n  </a>\n  <a class=\"btn\" href=\"#\">\n    <i class=\"fa fa-sm fa-laptop\"></i>\n    Interactive version\n  </a>\n</p>"
            ]
        },
        {
            "cell_type": "markdown",
            "metadata": {},
            "source": [
                "## Pandas for our data\n",
                "\n",
                "As is typical, we'll be using [pandas dataframes](https://pandas.pydata.org/) for the data."
            ]
        },
        {
            "cell_type": "code",
            "execution_count": 27,
            "metadata": {},
            "outputs": [
                {
                    "data": {
                        "text/html": [
                            "<div>\n",
                            "<style scoped>\n",
                            "    .dataframe tbody tr th:only-of-type {\n",
                            "        vertical-align: middle;\n",
                            "    }\n",
                            "\n",
                            "    .dataframe tbody tr th {\n",
                            "        vertical-align: top;\n",
                            "    }\n",
                            "\n",
                            "    .dataframe thead th {\n",
                            "        text-align: right;\n",
                            "    }\n",
                            "</style>\n",
                            "<table border=\"1\" class=\"dataframe\">\n",
                            "  <thead>\n",
                            "    <tr style=\"text-align: right;\">\n",
                            "      <th></th>\n",
                            "      <th>sold</th>\n",
                            "      <th>revenue</th>\n",
                            "    </tr>\n",
                            "  </thead>\n",
                            "  <tbody>\n",
                            "    <tr>\n",
                            "      <th>0</th>\n",
                            "      <td>0</td>\n",
                            "      <td>0</td>\n",
                            "    </tr>\n",
                            "    <tr>\n",
                            "      <th>1</th>\n",
                            "      <td>4</td>\n",
                            "      <td>8</td>\n",
                            "    </tr>\n",
                            "    <tr>\n",
                            "      <th>2</th>\n",
                            "      <td>16</td>\n",
                            "      <td>32</td>\n",
                            "    </tr>\n",
                            "  </tbody>\n",
                            "</table>\n",
                            "</div>"
                        ],
                        "text/plain": [
                            "   sold  revenue\n",
                            "0     0        0\n",
                            "1     4        8\n",
                            "2    16       32"
                        ]
                    },
                    "execution_count": 27,
                    "metadata": {},
                    "output_type": "execute_result"
                }
            ],
            "source": [
                "import pandas as pd\n",
                "\n",
                "df = pd.DataFrame([\n",
                "    { 'sold': 0, 'revenue': 0 },\n",
                "    { 'sold': 4, 'revenue': 8 },\n",
                "    { 'sold': 16, 'revenue': 32 },\n",
                "])\n",
                "df"
            ]
        },
        {
            "cell_type": "markdown",
            "metadata": {},
            "source": [
                "## Performing a regression\n",
                "\n",
                "The [statsmodels](statsmodels.org) package is your best friend when it comes to regression. In theory you can do it using other techniques or libraries, but statsmodels is just *so simple*.\n",
                "\n",
                "For the regression below, I'm using the formula method of describing the regression. If that makes you grumpy, check the [regression reference page](/reference/regression/) for more details."
            ]
        },
        {
            "cell_type": "code",
            "execution_count": 28,
            "metadata": {},
            "outputs": [
                {
                    "data": {
                        "text/html": [
                            "<table class=\"simpletable\">\n",
                            "<caption>OLS Regression Results</caption>\n",
                            "<tr>\n",
                            "  <th>Dep. Variable:</th>         <td>revenue</td>     <th>  R-squared:         </th> <td>   1.000</td> \n",
                            "</tr>\n",
                            "<tr>\n",
                            "  <th>Model:</th>                   <td>OLS</td>       <th>  Adj. R-squared:    </th> <td>   1.000</td> \n",
                            "</tr>\n",
                            "<tr>\n",
                            "  <th>Method:</th>             <td>Least Squares</td>  <th>  F-statistic:       </th> <td>9.502e+30</td>\n",
                            "</tr>\n",
                            "<tr>\n",
                            "  <th>Date:</th>             <td>Sun, 08 Dec 2019</td> <th>  Prob (F-statistic):</th> <td>2.07e-16</td> \n",
                            "</tr>\n",
                            "<tr>\n",
                            "  <th>Time:</th>                 <td>10:14:18</td>     <th>  Log-Likelihood:    </th> <td>  94.907</td> \n",
                            "</tr>\n",
                            "<tr>\n",
                            "  <th>No. Observations:</th>      <td>     3</td>      <th>  AIC:               </th> <td>  -185.8</td> \n",
                            "</tr>\n",
                            "<tr>\n",
                            "  <th>Df Residuals:</th>          <td>     1</td>      <th>  BIC:               </th> <td>  -187.6</td> \n",
                            "</tr>\n",
                            "<tr>\n",
                            "  <th>Df Model:</th>              <td>     1</td>      <th>                     </th>     <td> </td>    \n",
                            "</tr>\n",
                            "<tr>\n",
                            "  <th>Covariance Type:</th>      <td>nonrobust</td>    <th>                     </th>     <td> </td>    \n",
                            "</tr>\n",
                            "</table>\n",
                            "<table class=\"simpletable\">\n",
                            "<tr>\n",
                            "      <td></td>         <th>coef</th>     <th>std err</th>      <th>t</th>      <th>P>|t|</th>  <th>[0.025</th>    <th>0.975]</th>  \n",
                            "</tr>\n",
                            "<tr>\n",
                            "  <th>Intercept</th> <td>-2.665e-15</td> <td> 6.18e-15</td> <td>   -0.431</td> <td> 0.741</td> <td>-8.12e-14</td> <td> 7.58e-14</td>\n",
                            "</tr>\n",
                            "<tr>\n",
                            "  <th>sold</th>      <td>    2.0000</td> <td> 6.49e-16</td> <td> 3.08e+15</td> <td> 0.000</td> <td>    2.000</td> <td>    2.000</td>\n",
                            "</tr>\n",
                            "</table>\n",
                            "<table class=\"simpletable\">\n",
                            "<tr>\n",
                            "  <th>Omnibus:</th>       <td>   nan</td> <th>  Durbin-Watson:     </th> <td>   1.149</td>\n",
                            "</tr>\n",
                            "<tr>\n",
                            "  <th>Prob(Omnibus):</th> <td>   nan</td> <th>  Jarque-Bera (JB):  </th> <td>   0.471</td>\n",
                            "</tr>\n",
                            "<tr>\n",
                            "  <th>Skew:</th>          <td>-0.616</td> <th>  Prob(JB):          </th> <td>   0.790</td>\n",
                            "</tr>\n",
                            "<tr>\n",
                            "  <th>Kurtosis:</th>      <td> 1.500</td> <th>  Cond. No.          </th> <td>    13.4</td>\n",
                            "</tr>\n",
                            "</table><br/><br/>Warnings:<br/>[1] Standard Errors assume that the covariance matrix of the errors is correctly specified."
                        ],
                        "text/plain": [
                            "<class 'statsmodels.iolib.summary.Summary'>\n",
                            "\"\"\"\n",
                            "                            OLS Regression Results                            \n",
                            "==============================================================================\n",
                            "Dep. Variable:                revenue   R-squared:                       1.000\n",
                            "Model:                            OLS   Adj. R-squared:                  1.000\n",
                            "Method:                 Least Squares   F-statistic:                 9.502e+30\n",
                            "Date:                Sun, 08 Dec 2019   Prob (F-statistic):           2.07e-16\n",
                            "Time:                        10:14:18   Log-Likelihood:                 94.907\n",
                            "No. Observations:                   3   AIC:                            -185.8\n",
                            "Df Residuals:                       1   BIC:                            -187.6\n",
                            "Df Model:                           1                                         \n",
                            "Covariance Type:            nonrobust                                         \n",
                            "==============================================================================\n",
                            "                 coef    std err          t      P>|t|      [0.025      0.975]\n",
                            "------------------------------------------------------------------------------\n",
                            "Intercept  -2.665e-15   6.18e-15     -0.431      0.741   -8.12e-14    7.58e-14\n",
                            "sold           2.0000   6.49e-16   3.08e+15      0.000       2.000       2.000\n",
                            "==============================================================================\n",
                            "Omnibus:                          nan   Durbin-Watson:                   1.149\n",
                            "Prob(Omnibus):                    nan   Jarque-Bera (JB):                0.471\n",
                            "Skew:                          -0.616   Prob(JB):                        0.790\n",
                            "Kurtosis:                       1.500   Cond. No.                         13.4\n",
                            "==============================================================================\n",
                            "\n",
                            "Warnings:\n",
                            "[1] Standard Errors assume that the covariance matrix of the errors is correctly specified.\n",
                            "\"\"\""
                        ]
                    },
                    "execution_count": 28,
                    "metadata": {},
                    "output_type": "execute_result"
                }
            ],
            "source": [
                "import statsmodels.formula.api as smf\n",
                "\n",
                "model = smf.ols(\"revenue ~ sold\", data=df)\n",
                "results = model.fit()\n",
                "results.summary()"
            ]
        },
        {
            "cell_type": "markdown",
            "metadata": {},
            "source": [
                "For each unit sold, we get 2 revenue. That's about it."
            ]
        },
        {
            "cell_type": "markdown",
            "metadata": {},
            "source": [
                "## Multivariable regression\n",
                "\n",
                "Multivariable regression is easy-peasy. Let's add a couple more columns to our dataset, adding tips to the equation."
            ]
        },
        {
            "cell_type": "code",
            "execution_count": 29,
            "metadata": {},
            "outputs": [
                {
                    "data": {
                        "text/html": [
                            "<div>\n",
                            "<style scoped>\n",
                            "    .dataframe tbody tr th:only-of-type {\n",
                            "        vertical-align: middle;\n",
                            "    }\n",
                            "\n",
                            "    .dataframe tbody tr th {\n",
                            "        vertical-align: top;\n",
                            "    }\n",
                            "\n",
                            "    .dataframe thead th {\n",
                            "        text-align: right;\n",
                            "    }\n",
                            "</style>\n",
                            "<table border=\"1\" class=\"dataframe\">\n",
                            "  <thead>\n",
                            "    <tr style=\"text-align: right;\">\n",
                            "      <th></th>\n",
                            "      <th>sold</th>\n",
                            "      <th>revenue</th>\n",
                            "      <th>tips</th>\n",
                            "      <th>charge_amount</th>\n",
                            "    </tr>\n",
                            "  </thead>\n",
                            "  <tbody>\n",
                            "    <tr>\n",
                            "      <th>0</th>\n",
                            "      <td>0</td>\n",
                            "      <td>0</td>\n",
                            "      <td>0</td>\n",
                            "      <td>0</td>\n",
                            "    </tr>\n",
                            "    <tr>\n",
                            "      <th>1</th>\n",
                            "      <td>4</td>\n",
                            "      <td>8</td>\n",
                            "      <td>1</td>\n",
                            "      <td>9</td>\n",
                            "    </tr>\n",
                            "    <tr>\n",
                            "      <th>2</th>\n",
                            "      <td>16</td>\n",
                            "      <td>32</td>\n",
                            "      <td>2</td>\n",
                            "      <td>34</td>\n",
                            "    </tr>\n",
                            "  </tbody>\n",
                            "</table>\n",
                            "</div>"
                        ],
                        "text/plain": [
                            "   sold  revenue  tips  charge_amount\n",
                            "0     0        0     0              0\n",
                            "1     4        8     1              9\n",
                            "2    16       32     2             34"
                        ]
                    },
                    "execution_count": 29,
                    "metadata": {},
                    "output_type": "execute_result"
                }
            ],
            "source": [
                "import pandas as pd\n",
                "\n",
                "df = pd.DataFrame([\n",
                "    { 'sold': 0, 'revenue': 0, 'tips': 0, 'charge_amount': 0 },\n",
                "    { 'sold': 4, 'revenue': 8, 'tips': 1, 'charge_amount': 9 },\n",
                "    { 'sold': 16, 'revenue': 32, 'tips': 2, 'charge_amount': 34 },\n",
                "])\n",
                "df"
            ]
        },
        {
            "cell_type": "code",
            "execution_count": 30,
            "metadata": {},
            "outputs": [
                {
                    "data": {
                        "text/html": [
                            "<table class=\"simpletable\">\n",
                            "<caption>OLS Regression Results</caption>\n",
                            "<tr>\n",
                            "  <th>Dep. Variable:</th>      <td>charge_amount</td>  <th>  R-squared:         </th> <td>   1.000</td>\n",
                            "</tr>\n",
                            "<tr>\n",
                            "  <th>Model:</th>                   <td>OLS</td>       <th>  Adj. R-squared:    </th> <td>     nan</td>\n",
                            "</tr>\n",
                            "<tr>\n",
                            "  <th>Method:</th>             <td>Least Squares</td>  <th>  F-statistic:       </th> <td>   0.000</td>\n",
                            "</tr>\n",
                            "<tr>\n",
                            "  <th>Date:</th>             <td>Sun, 08 Dec 2019</td> <th>  Prob (F-statistic):</th>  <td>   nan</td> \n",
                            "</tr>\n",
                            "<tr>\n",
                            "  <th>Time:</th>                 <td>10:14:20</td>     <th>  Log-Likelihood:    </th> <td>  89.745</td>\n",
                            "</tr>\n",
                            "<tr>\n",
                            "  <th>No. Observations:</th>      <td>     3</td>      <th>  AIC:               </th> <td>  -173.5</td>\n",
                            "</tr>\n",
                            "<tr>\n",
                            "  <th>Df Residuals:</th>          <td>     0</td>      <th>  BIC:               </th> <td>  -176.2</td>\n",
                            "</tr>\n",
                            "<tr>\n",
                            "  <th>Df Model:</th>              <td>     2</td>      <th>                     </th>     <td> </td>   \n",
                            "</tr>\n",
                            "<tr>\n",
                            "  <th>Covariance Type:</th>      <td>nonrobust</td>    <th>                     </th>     <td> </td>   \n",
                            "</tr>\n",
                            "</table>\n",
                            "<table class=\"simpletable\">\n",
                            "<tr>\n",
                            "      <td></td>         <th>coef</th>     <th>std err</th>      <th>t</th>      <th>P>|t|</th>  <th>[0.025</th>    <th>0.975]</th>  \n",
                            "</tr>\n",
                            "<tr>\n",
                            "  <th>Intercept</th> <td>-1.685e-15</td> <td>      inf</td> <td>       -0</td> <td>   nan</td> <td>      nan</td> <td>      nan</td>\n",
                            "</tr>\n",
                            "<tr>\n",
                            "  <th>sold</th>      <td>    2.0000</td> <td>      inf</td> <td>        0</td> <td>   nan</td> <td>      nan</td> <td>      nan</td>\n",
                            "</tr>\n",
                            "<tr>\n",
                            "  <th>tips</th>      <td>    1.0000</td> <td>      inf</td> <td>        0</td> <td>   nan</td> <td>      nan</td> <td>      nan</td>\n",
                            "</tr>\n",
                            "</table>\n",
                            "<table class=\"simpletable\">\n",
                            "<tr>\n",
                            "  <th>Omnibus:</th>       <td>   nan</td> <th>  Durbin-Watson:     </th> <td>   0.922</td>\n",
                            "</tr>\n",
                            "<tr>\n",
                            "  <th>Prob(Omnibus):</th> <td>   nan</td> <th>  Jarque-Bera (JB):  </th> <td>   0.520</td>\n",
                            "</tr>\n",
                            "<tr>\n",
                            "  <th>Skew:</th>          <td>-0.691</td> <th>  Prob(JB):          </th> <td>   0.771</td>\n",
                            "</tr>\n",
                            "<tr>\n",
                            "  <th>Kurtosis:</th>      <td> 1.500</td> <th>  Cond. No.          </th> <td>    44.0</td>\n",
                            "</tr>\n",
                            "</table><br/><br/>Warnings:<br/>[1] Standard Errors assume that the covariance matrix of the errors is correctly specified."
                        ],
                        "text/plain": [
                            "<class 'statsmodels.iolib.summary.Summary'>\n",
                            "\"\"\"\n",
                            "                            OLS Regression Results                            \n",
                            "==============================================================================\n",
                            "Dep. Variable:          charge_amount   R-squared:                       1.000\n",
                            "Model:                            OLS   Adj. R-squared:                    nan\n",
                            "Method:                 Least Squares   F-statistic:                     0.000\n",
                            "Date:                Sun, 08 Dec 2019   Prob (F-statistic):                nan\n",
                            "Time:                        10:14:20   Log-Likelihood:                 89.745\n",
                            "No. Observations:                   3   AIC:                            -173.5\n",
                            "Df Residuals:                       0   BIC:                            -176.2\n",
                            "Df Model:                           2                                         \n",
                            "Covariance Type:            nonrobust                                         \n",
                            "==============================================================================\n",
                            "                 coef    std err          t      P>|t|      [0.025      0.975]\n",
                            "------------------------------------------------------------------------------\n",
                            "Intercept  -1.685e-15        inf         -0        nan         nan         nan\n",
                            "sold           2.0000        inf          0        nan         nan         nan\n",
                            "tips           1.0000        inf          0        nan         nan         nan\n",
                            "==============================================================================\n",
                            "Omnibus:                          nan   Durbin-Watson:                   0.922\n",
                            "Prob(Omnibus):                    nan   Jarque-Bera (JB):                0.520\n",
                            "Skew:                          -0.691   Prob(JB):                        0.771\n",
                            "Kurtosis:                       1.500   Cond. No.                         44.0\n",
                            "==============================================================================\n",
                            "\n",
                            "Warnings:\n",
                            "[1] Standard Errors assume that the covariance matrix of the errors is correctly specified.\n",
                            "\"\"\""
                        ]
                    },
                    "execution_count": 30,
                    "metadata": {},
                    "output_type": "execute_result"
                }
            ],
            "source": [
                "import statsmodels.formula.api as smf\n",
                "\n",
                "model = smf.ols(\"charge_amount ~ sold + tips\", data=df)\n",
                "results = model.fit()\n",
                "results.summary()"
            ]
        },
        {
            "cell_type": "markdown",
            "metadata": {},
            "source": [
                "There you go!\n",
                "\n",
                "If you'd like more details, you can continue on in this section. If you'd just like the how-to-do-an-exact-thing explanations, check out the [regression reference page](/reference/regression/)."
            ]
        },
        {
            "cell_type": "code",
            "execution_count": null,
            "metadata": {},
            "outputs": [],
            "source": []
        }
    ],
    "metadata": {
        "kernelspec": {
            "display_name": "Python 3",
            "language": "python",
            "name": "python3"
        },
        "language_info": {
            "codemirror_mode": {
                "name": "ipython",
                "version": 3
            },
            "file_extension": ".py",
            "mimetype": "text/x-python",
            "name": "python",
            "nbconvert_exporter": "python",
            "pygments_lexer": "ipython3",
            "version": "3.6.8"
        },
        "toc": {
            "base_numbering": 1,
            "nav_menu": {},
            "number_sections": true,
            "sideBar": true,
            "skip_h1_title": false,
            "title_cell": "Table of Contents",
            "title_sidebar": "Contents",
            "toc_cell": false,
            "toc_position": {},
            "toc_section_display": true,
            "toc_window_display": false
        }
    },
    "nbformat": 4,
    "nbformat_minor": 2
}