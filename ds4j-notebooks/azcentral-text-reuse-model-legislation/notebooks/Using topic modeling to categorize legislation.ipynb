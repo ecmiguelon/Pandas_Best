{
    "cells": [
        {
            "cell_type": "markdown",
            "metadata": {},
            "source": [
                "# Using topic modeling to categorize legislation\n",
                "\n",
                "As we reproduced USA Today's piece on model legislation, we used text similarity to narrow down our search field of similar bills. An alternative approach could be to use keywords, or to assign topics to each bill, and only search within those in the same category.\n",
                "\n",
                "Topic modeling is one way of assigning categories to your texts."
            ]
        },
        {
            "cell_type": "markdown",
            "metadata": {},
            "source": [
                "<p class=\"reading-options\">\n  <a class=\"btn\" href=\"/azcentral-text-reuse-model-legislation/using-topic-modeling-to-categorize-legislation\">\n    <i class=\"fa fa-sm fa-book\"></i>\n    Read online\n  </a>\n  <a class=\"btn\" href=\"/azcentral-text-reuse-model-legislation/notebooks/Using topic modeling to categorize legislation.ipynb\">\n    <i class=\"fa fa-sm fa-download\"></i>\n    Download notebook\n  </a>\n  <a class=\"btn\" href=\"https://colab.research.google.com/github/littlecolumns/ds4j-notebooks/blob/master/azcentral-text-reuse-model-legislation/notebooks/Using topic modeling to categorize legislation.ipynb\" target=\"_new\">\n    <i class=\"fa fa-sm fa-laptop\"></i>\n    Interactive version\n  </a>\n</p>"
            ]
        },
        {
            "cell_type": "code",
            "execution_count": 1,
            "metadata": {},
            "outputs": [],
            "source": [
                "import pandas as pd\n",
                "from sqlalchemy import create_engine\n",
                "\n",
                "engine = create_engine('postgresql://localhost:5432/legislation', isolation_level=\"AUTOCOMMIT\")"
            ]
        },
        {
            "cell_type": "code",
            "execution_count": 101,
            "metadata": {},
            "outputs": [
                {
                    "data": {
                        "text/plain": [
                            "(202882, 15)"
                        ]
                    },
                    "execution_count": 101,
                    "metadata": {},
                    "output_type": "execute_result"
                }
            ],
            "source": [
                "df = pd.read_sql_query(\"\"\"\n",
                "        SELECT *\n",
                "        FROM bills\n",
                "        TABLESAMPLE BERNOULLI (20)\n",
                "        WHERE content is not null\n",
                "\"\"\", engine)\n",
                "df.shape"
            ]
        },
        {
            "cell_type": "code",
            "execution_count": 102,
            "metadata": {},
            "outputs": [
                {
                    "data": {
                        "text/html": [
                            "<div>\n",
                            "<style scoped>\n",
                            "    .dataframe tbody tr th:only-of-type {\n",
                            "        vertical-align: middle;\n",
                            "    }\n",
                            "\n",
                            "    .dataframe tbody tr th {\n",
                            "        vertical-align: top;\n",
                            "    }\n",
                            "\n",
                            "    .dataframe thead th {\n",
                            "        text-align: right;\n",
                            "    }\n",
                            "</style>\n",
                            "<table border=\"1\" class=\"dataframe\">\n",
                            "  <thead>\n",
                            "    <tr style=\"text-align: right;\">\n",
                            "      <th></th>\n",
                            "      <th>id</th>\n",
                            "      <th>bill_id</th>\n",
                            "      <th>code</th>\n",
                            "      <th>bill_number</th>\n",
                            "      <th>title</th>\n",
                            "      <th>description</th>\n",
                            "      <th>state</th>\n",
                            "      <th>session</th>\n",
                            "      <th>filename</th>\n",
                            "      <th>status</th>\n",
                            "      <th>status_date</th>\n",
                            "      <th>url</th>\n",
                            "      <th>error</th>\n",
                            "      <th>content</th>\n",
                            "      <th>processed_at</th>\n",
                            "    </tr>\n",
                            "  </thead>\n",
                            "  <tbody>\n",
                            "    <tr>\n",
                            "      <th>0</th>\n",
                            "      <td>17</td>\n",
                            "      <td>288308</td>\n",
                            "      <td>JRH012</td>\n",
                            "      <td>JRH012</td>\n",
                            "      <td>Joint Resolution Urging Congress To Retain Fed...</td>\n",
                            "      <td>Joint Resolution Urging Congress To Retain Fed...</td>\n",
                            "      <td>VT</td>\n",
                            "      <td>2011-2012 Session</td>\n",
                            "      <td>bill_data/VT/2011-2012_Regular_Session/bill/JR...</td>\n",
                            "      <td>3</td>\n",
                            "      <td>2011-03-08</td>\n",
                            "      <td>http://www.leg.state.vt.us/docs/2012/resolutn/...</td>\n",
                            "      <td>None</td>\n",
                            "      <td>Microsoft Word - BillTemp.doc\\n\\n\\nState of Ve...</td>\n",
                            "      <td>2019-11-18 01:05:48.973909+00:00</td>\n",
                            "    </tr>\n",
                            "    <tr>\n",
                            "      <th>1</th>\n",
                            "      <td>13</td>\n",
                            "      <td>373755</td>\n",
                            "      <td>SCR032</td>\n",
                            "      <td>SCR032</td>\n",
                            "      <td>Senate Concurrent Resolution Honoring The Publ...</td>\n",
                            "      <td>Senate Concurrent Resolution Honoring The Publ...</td>\n",
                            "      <td>VT</td>\n",
                            "      <td>2011-2012 Session</td>\n",
                            "      <td>bill_data/VT/2011-2012_Regular_Session/bill/SC...</td>\n",
                            "      <td>4</td>\n",
                            "      <td>2012-01-27</td>\n",
                            "      <td>http://www.leg.state.vt.us/docs/2012/Acts/ACTR...</td>\n",
                            "      <td>None</td>\n",
                            "      <td>Microsoft Word - GENERAL-#276218-v1-Act_No__R-...</td>\n",
                            "      <td>2019-11-17 22:04:56.879037+00:00</td>\n",
                            "    </tr>\n",
                            "    <tr>\n",
                            "      <th>2</th>\n",
                            "      <td>6</td>\n",
                            "      <td>250811</td>\n",
                            "      <td>H0157</td>\n",
                            "      <td>H0157</td>\n",
                            "      <td>An Act Relating To Restrictions On Tanning Beds</td>\n",
                            "      <td>An Act Relating To Restrictions On Tanning Beds</td>\n",
                            "      <td>VT</td>\n",
                            "      <td>2011-2012 Session</td>\n",
                            "      <td>bill_data/VT/2011-2012_Regular_Session/bill/H0...</td>\n",
                            "      <td>3</td>\n",
                            "      <td>2012-04-24</td>\n",
                            "      <td>http://www.leg.state.vt.us/docs/2012/Acts/ACT0...</td>\n",
                            "      <td>None</td>\n",
                            "      <td>Microsoft Word - GENERAL-#280144-v1-Act_No__97...</td>\n",
                            "      <td>2019-11-17 22:05:05.226667+00:00</td>\n",
                            "    </tr>\n",
                            "    <tr>\n",
                            "      <th>3</th>\n",
                            "      <td>8</td>\n",
                            "      <td>410679</td>\n",
                            "      <td>HCR285</td>\n",
                            "      <td>HCR285</td>\n",
                            "      <td>House Concurrent Resolution Commemorating The ...</td>\n",
                            "      <td>House Concurrent Resolution Commemorating The ...</td>\n",
                            "      <td>VT</td>\n",
                            "      <td>2011-2012 Session</td>\n",
                            "      <td>bill_data/VT/2011-2012_Regular_Session/bill/HC...</td>\n",
                            "      <td>4</td>\n",
                            "      <td>2012-03-02</td>\n",
                            "      <td>http://www.leg.state.vt.us/docs/2012/resolutn/...</td>\n",
                            "      <td>None</td>\n",
                            "      <td>Microsoft Word - BillTemp.doc\\n\\n\\nState of Ve...</td>\n",
                            "      <td>2019-11-17 22:22:21.848827+00:00</td>\n",
                            "    </tr>\n",
                            "    <tr>\n",
                            "      <th>4</th>\n",
                            "      <td>15</td>\n",
                            "      <td>427012</td>\n",
                            "      <td>HCR401</td>\n",
                            "      <td>HCR401</td>\n",
                            "      <td>House Concurrent Resolution Congratulating Sco...</td>\n",
                            "      <td>House Concurrent Resolution Congratulating Sco...</td>\n",
                            "      <td>VT</td>\n",
                            "      <td>2011-2012 Session</td>\n",
                            "      <td>bill_data/VT/2011-2012_Regular_Session/bill/HC...</td>\n",
                            "      <td>4</td>\n",
                            "      <td>2012-05-05</td>\n",
                            "      <td>http://www.leg.state.vt.us/docs/2012/Acts/ACTR...</td>\n",
                            "      <td>None</td>\n",
                            "      <td>Microsoft Word - GENERAL-#281388-v1-Act_No__R-...</td>\n",
                            "      <td>2019-11-17 23:09:30.982677+00:00</td>\n",
                            "    </tr>\n",
                            "  </tbody>\n",
                            "</table>\n",
                            "</div>"
                        ],
                        "text/plain": [
                            "   id  bill_id    code bill_number  \\\n",
                            "0  17   288308  JRH012      JRH012   \n",
                            "1  13   373755  SCR032      SCR032   \n",
                            "2   6   250811   H0157       H0157   \n",
                            "3   8   410679  HCR285      HCR285   \n",
                            "4  15   427012  HCR401      HCR401   \n",
                            "\n",
                            "                                               title  \\\n",
                            "0  Joint Resolution Urging Congress To Retain Fed...   \n",
                            "1  Senate Concurrent Resolution Honoring The Publ...   \n",
                            "2    An Act Relating To Restrictions On Tanning Beds   \n",
                            "3  House Concurrent Resolution Commemorating The ...   \n",
                            "4  House Concurrent Resolution Congratulating Sco...   \n",
                            "\n",
                            "                                         description state            session  \\\n",
                            "0  Joint Resolution Urging Congress To Retain Fed...    VT  2011-2012 Session   \n",
                            "1  Senate Concurrent Resolution Honoring The Publ...    VT  2011-2012 Session   \n",
                            "2    An Act Relating To Restrictions On Tanning Beds    VT  2011-2012 Session   \n",
                            "3  House Concurrent Resolution Commemorating The ...    VT  2011-2012 Session   \n",
                            "4  House Concurrent Resolution Congratulating Sco...    VT  2011-2012 Session   \n",
                            "\n",
                            "                                            filename  status status_date  \\\n",
                            "0  bill_data/VT/2011-2012_Regular_Session/bill/JR...       3  2011-03-08   \n",
                            "1  bill_data/VT/2011-2012_Regular_Session/bill/SC...       4  2012-01-27   \n",
                            "2  bill_data/VT/2011-2012_Regular_Session/bill/H0...       3  2012-04-24   \n",
                            "3  bill_data/VT/2011-2012_Regular_Session/bill/HC...       4  2012-03-02   \n",
                            "4  bill_data/VT/2011-2012_Regular_Session/bill/HC...       4  2012-05-05   \n",
                            "\n",
                            "                                                 url error  \\\n",
                            "0  http://www.leg.state.vt.us/docs/2012/resolutn/...  None   \n",
                            "1  http://www.leg.state.vt.us/docs/2012/Acts/ACTR...  None   \n",
                            "2  http://www.leg.state.vt.us/docs/2012/Acts/ACT0...  None   \n",
                            "3  http://www.leg.state.vt.us/docs/2012/resolutn/...  None   \n",
                            "4  http://www.leg.state.vt.us/docs/2012/Acts/ACTR...  None   \n",
                            "\n",
                            "                                             content  \\\n",
                            "0  Microsoft Word - BillTemp.doc\\n\\n\\nState of Ve...   \n",
                            "1  Microsoft Word - GENERAL-#276218-v1-Act_No__R-...   \n",
                            "2  Microsoft Word - GENERAL-#280144-v1-Act_No__97...   \n",
                            "3  Microsoft Word - BillTemp.doc\\n\\n\\nState of Ve...   \n",
                            "4  Microsoft Word - GENERAL-#281388-v1-Act_No__R-...   \n",
                            "\n",
                            "                      processed_at  \n",
                            "0 2019-11-18 01:05:48.973909+00:00  \n",
                            "1 2019-11-17 22:04:56.879037+00:00  \n",
                            "2 2019-11-17 22:05:05.226667+00:00  \n",
                            "3 2019-11-17 22:22:21.848827+00:00  \n",
                            "4 2019-11-17 23:09:30.982677+00:00  "
                        ]
                    },
                    "execution_count": 102,
                    "metadata": {},
                    "output_type": "execute_result"
                }
            ],
            "source": [
                "df.head()"
            ]
        },
        {
            "cell_type": "code",
            "execution_count": 94,
            "metadata": {
                "scrolled": true
            },
            "outputs": [
                {
                    "name": "stdout",
                    "output_type": "stream",
                    "text": [
                        "CPU times: user 47.4 s, sys: 2.35 s, total: 49.7 s\n",
                        "Wall time: 54.5 s\n"
                    ]
                }
            ],
            "source": [
                "%%time\n",
                "\n",
                "from sklearn.feature_extraction.text import CountVectorizer\n",
                "import Stemmer\n",
                "\n",
                "stemmer = Stemmer.Stemmer('en')\n",
                "\n",
                "analyzer = CountVectorizer().build_analyzer()\n",
                "\n",
                "class StemmedCountVectorizer(CountVectorizer):\n",
                "    def build_analyzer(self):\n",
                "        analyzer = super(CountVectorizer, self).build_analyzer()\n",
                "        return lambda doc: stemmer.stemWords(analyzer(doc))\n",
                "\n",
                "vectorizer = StemmedCountVectorizer(max_features=10000, max_df=0.25)\n",
                "matrix = vectorizer.fit_transform(df.head(10000).content)"
            ]
        },
        {
            "cell_type": "code",
            "execution_count": 103,
            "metadata": {},
            "outputs": [
                {
                    "name": "stdout",
                    "output_type": "stream",
                    "text": [
                        "Fitting 5 folds for each of 12 candidates, totalling 60 fits\n"
                    ]
                },
                {
                    "name": "stdout",
                    "output_type": "stream",
                    "text": [
                        "CPU times: user 4min 57s, sys: 31 s, total: 5min 28s\n",
                        "Wall time: 1h 14min 25s\n"
                    ]
                },
                {
                    "data": {
                        "text/plain": [
                            "GridSearchCV(cv=5, error_score='raise-deprecating',\n",
                            "             estimator=LatentDirichletAllocation(batch_size=128,\n",
                            "                                                 doc_topic_prior=None,\n",
                            "                                                 evaluate_every=-1,\n",
                            "                                                 learning_decay=0.7,\n",
                            "                                                 learning_method='online',\n",
                            "                                                 learning_offset=10.0,\n",
                            "                                                 max_doc_update_iter=100,\n",
                            "                                                 max_iter=10,\n",
                            "                                                 mean_change_tol=0.001,\n",
                            "                                                 n_components=10, n_jobs=None,\n",
                            "                                                 perp_tol=0.1,\n",
                            "                                                 random_state=None,\n",
                            "                                                 topic_word_prior=None,\n",
                            "                                                 total_samples=1000000.0,\n",
                            "                                                 verbose=0),\n",
                            "             iid='warn', n_jobs=-1,\n",
                            "             param_grid={'learning_decay': [0.5, 0.7, 0.9],\n",
                            "                         'n_components': [5, 10, 20, 30]},\n",
                            "             pre_dispatch='2*n_jobs', refit=True, return_train_score=False,\n",
                            "             scoring=None, verbose=1)"
                        ]
                    },
                    "execution_count": 103,
                    "metadata": {},
                    "output_type": "execute_result"
                }
            ],
            "source": [
                "%%time\n",
                "from sklearn.model_selection import GridSearchCV\n",
                "\n",
                "# Define Search Param\n",
                "search_params = {'n_components': [5, 10, 20, 30], 'learning_decay': [.5, .7, .9]}\n",
                "\n",
                "# Init the Model\n",
                "lda = LatentDirichletAllocation(learning_method='online')\n",
                "\n",
                "# Init Grid Search Class\n",
                "gridsearch = GridSearchCV(lda, param_grid=search_params, cv=5, n_jobs=-1, verbose=1)\n",
                "\n",
                "# Do the Grid Search\n",
                "gridsearch.fit(matrix)"
            ]
        },
        {
            "cell_type": "code",
            "execution_count": 104,
            "metadata": {},
            "outputs": [
                {
                    "name": "stdout",
                    "output_type": "stream",
                    "text": [
                        "Best Model's Params:  {'learning_decay': 0.7, 'n_components': 20}\n",
                        "Best Log Likelihood Score:  -13428302.519729739\n"
                    ]
                }
            ],
            "source": [
                "# Model Parameters\n",
                "print(\"Best Model's Params: \", gridsearch.best_params_)\n",
                "\n",
                "# Log Likelihood Score\n",
                "print(\"Best Log Likelihood Score: \", gridsearch.best_score_)"
            ]
        },
        {
            "cell_type": "code",
            "execution_count": null,
            "metadata": {},
            "outputs": [],
            "source": []
        },
        {
            "cell_type": "code",
            "execution_count": 105,
            "metadata": {},
            "outputs": [
                {
                    "name": "stdout",
                    "output_type": "stream",
                    "text": [
                        "CPU times: user 6min 13s, sys: 38.8 s, total: 6min 52s\n",
                        "Wall time: 4min 29s\n"
                    ]
                },
                {
                    "data": {
                        "text/plain": [
                            "array([[3.05810398e-05, 3.05810398e-05, 3.05810398e-05, ...,\n",
                            "        3.05810398e-05, 4.39805830e-03, 7.39428549e-02],\n",
                            "       [2.03416311e-02, 1.97238659e-04, 1.97238659e-04, ...,\n",
                            "        1.08501653e-02, 6.65828721e-01, 1.97238659e-04],\n",
                            "       [1.28205128e-04, 1.28205128e-04, 1.96927761e-02, ...,\n",
                            "        1.28205128e-04, 1.28205128e-04, 1.28205128e-04],\n",
                            "       ...,\n",
                            "       [4.01248331e-02, 4.63734847e-02, 2.68168410e-05, ...,\n",
                            "        2.68168410e-05, 2.68168410e-05, 2.68168410e-05],\n",
                            "       [6.28930818e-05, 6.28930818e-05, 6.28930818e-05, ...,\n",
                            "        6.28930818e-05, 6.28930818e-05, 3.99125002e-03],\n",
                            "       [3.67107195e-05, 6.62362324e-03, 1.45994652e-02, ...,\n",
                            "        3.67107195e-05, 3.67107195e-05, 3.67107195e-05]])"
                        ]
                    },
                    "execution_count": 105,
                    "metadata": {},
                    "output_type": "execute_result"
                }
            ],
            "source": [
                "%%time\n",
                "from sklearn.decomposition import LatentDirichletAllocation\n",
                "\n",
                "lda = LatentDirichletAllocation(n_components=30, learning_method='online')\n",
                "lda.fit_transform(matrix)"
            ]
        },
        {
            "cell_type": "code",
            "execution_count": 106,
            "metadata": {},
            "outputs": [
                {
                    "name": "stdout",
                    "output_type": "stream",
                    "text": [
                        "Best Model's Params:  {'learning_decay': 0.7, 'n_components': 5}\n",
                        "Best Log Likelihood Score:  -1296987.2198103345\n",
                        "Model Perplexity:  32484.16220204515\n"
                    ]
                }
            ],
            "source": [
                "# Best Model\n",
                "best_lda_model = model.best_estimator_\n",
                "\n",
                "# Model Parameters\n",
                "print(\"Best Model's Params: \", model.best_params_)\n",
                "\n",
                "# Log Likelihood Score\n",
                "print(\"Best Log Likelihood Score: \", model.best_score_)\n",
                "\n",
                "# Perplexity\n",
                "print(\"Model Perplexity: \", best_lda_model.perplexity(matrix))"
            ]
        },
        {
            "cell_type": "code",
            "execution_count": 107,
            "metadata": {},
            "outputs": [
                {
                    "name": "stdout",
                    "output_type": "stream",
                    "text": [
                        "Topic #0: emerg fire medic injuri safeti\n",
                        "Topic #1: assist paragraph grant elig plan\n",
                        "Topic #2: 2019 fiscal head expens 2020\n",
                        "Topic #3: mississippi dollar 00 hundr thousand\n",
                        "Topic #4: kentucki research lrc calendar caucus\n",
                        "Topic #5: me photo 01 veto 06\n",
                        "Topic #6: land township rang water right\n",
                        "Topic #7: text begin statut schedul joint\n",
                        "Topic #8: il ls po ith frm\n",
                        "Topic #9: credit tax incom retir subdivis\n",
                        "Topic #10: minnesota subdivis commission subd bond\n",
                        "Topic #11: 32 50 35 38 39\n",
                        "Topic #12: elect vote candid ballot voter\n",
                        "Topic #13: your pleas lis call could\n",
                        "Topic #14: tax properti district citi municip\n",
                        "Topic #15: child parent famili care home\n",
                        "Topic #16: sale product manufactur retail food\n",
                        "Topic #17: health care licens medic insur\n",
                        "Topic #18: block substanc salt group cas\n",
                        "Topic #19: fals true pdf 00000 adob\n",
                        "Topic #20: project energi facil water resourc\n",
                        "Topic #21: facil need health bed certif\n",
                        "Topic #22: offens convict crimin violat offend\n",
                        "Topic #23: board employe appoint director district\n",
                        "Topic #24: utah mr le 2010 gov\n",
                        "Topic #25: file record action notic attorney\n",
                        "Topic #26: student district teacher charter enrol\n",
                        "Topic #27: vehicl licens motor fee highway\n",
                        "Topic #28: wherea resolut his alabama resolv\n",
                        "Topic #29: properti licens equip facil purchas\n",
                        "\n"
                    ]
                }
            ],
            "source": [
                "n_words = 5\n",
                "feature_names = vectorizer.get_feature_names()\n",
                "\n",
                "for topic_idx, topic in enumerate(lda.components_):\n",
                "    message = \"Topic #%d: \" % topic_idx\n",
                "    message += \" \".join([feature_names[i]\n",
                "                         for i in topic.argsort()[:-n_words - 1:-1]])\n",
                "    print(message)\n",
                "print()"
            ]
        },
        {
            "cell_type": "code",
            "execution_count": null,
            "metadata": {},
            "outputs": [],
            "source": []
        }
    ],
    "metadata": {
        "kernelspec": {
            "display_name": "Python 3",
            "language": "python",
            "name": "python3"
        },
        "language_info": {
            "codemirror_mode": {
                "name": "ipython",
                "version": 3
            },
            "file_extension": ".py",
            "mimetype": "text/x-python",
            "name": "python",
            "nbconvert_exporter": "python",
            "pygments_lexer": "ipython3",
            "version": "3.6.8"
        },
        "toc": {
            "base_numbering": 1,
            "nav_menu": {},
            "number_sections": true,
            "sideBar": true,
            "skip_h1_title": false,
            "title_cell": "Table of Contents",
            "title_sidebar": "Contents",
            "toc_cell": false,
            "toc_position": {},
            "toc_section_display": true,
            "toc_window_display": false
        }
    },
    "nbformat": 4,
    "nbformat_minor": 2
}