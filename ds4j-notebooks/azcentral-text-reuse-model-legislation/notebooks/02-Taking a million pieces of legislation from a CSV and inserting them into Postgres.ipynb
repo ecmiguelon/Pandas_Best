{
    "cells": [
        {
            "cell_type": "markdown",
            "metadata": {},
            "source": [
                "# Inserting data from a CSV into a Postgres database\n",
                "\n",
                "Our dataset of legislation information is a big big big CSV - over a million rows! To make it easier to manage later on - to process it in chunks, to query easily - it's probably best to move it into a database. We're going to use a Postgres database. On OS X an easy way to install Postgress is using [Postgres.app](https://postgresapp.com/)\n",
                "\n",
                "## Read in our data\n",
                "\n",
                "We'll start by reading in our dataset."
            ]
        },
        {
            "cell_type": "markdown",
            "metadata": {},
            "source": [
                "<p class=\"reading-options\">\n  <a class=\"btn\" href=\"/azcentral-text-reuse-model-legislation/02-taking-a-million-pieces-of-legislation-from-a-csv-and-inserting-them-into-postgres\">\n    <i class=\"fa fa-sm fa-book\"></i>\n    Read online\n  </a>\n  <a class=\"btn\" href=\"/azcentral-text-reuse-model-legislation/notebooks/02-Taking a million pieces of legislation from a CSV and inserting them into Postgres.ipynb\">\n    <i class=\"fa fa-sm fa-download\"></i>\n    Download notebook\n  </a>\n  <a class=\"btn\" href=\"https://colab.research.google.com/github/littlecolumns/ds4j-notebooks/blob/master/azcentral-text-reuse-model-legislation/notebooks/02-Taking a million pieces of legislation from a CSV and inserting them into Postgres.ipynb\" target=\"_new\">\n    <i class=\"fa fa-sm fa-laptop\"></i>\n    Interactive version\n  </a>\n</p>"
            ]
        },
        {
            "cell_type": "markdown",
            "metadata": {},
            "source": [
                "### Prep work: Downloading necessary files\n",
                "Before we get started, we need to download all of the data we'll be using.\n",
                "* **bills-with-urls.csv:** bill data with urls - TK\n"
            ]
        },
        {
            "cell_type": "code",
            "metadata": {},
            "source": [
                "# Make data directory if it doesn't exist\n",
                "!mkdir -p data\n",
                "!wget -nc https://nyc3.digitaloceanspaces.com/ml-files-distro/v1/azcentral-text-reuse-model-legislation/data/bills-with-urls.csv.zip -P data\n",
                "!unzip -n -d data data/bills-with-urls.csv.zip"
            ],
            "outputs": [],
            "execution_count": null
        },
        {
            "cell_type": "code",
            "execution_count": 1,
            "metadata": {},
            "outputs": [
                {
                    "data": {
                        "text/plain": [
                            "(1253402, 11)"
                        ]
                    },
                    "execution_count": 1,
                    "metadata": {},
                    "output_type": "execute_result"
                }
            ],
            "source": [
                "import pandas as pd\n",
                "\n",
                "df = pd.read_csv(\"data/bills-with-urls.csv\")\n",
                "df.shape"
            ]
        },
        {
            "cell_type": "code",
            "execution_count": 2,
            "metadata": {},
            "outputs": [
                {
                    "data": {
                        "text/html": [
                            "<div>\n",
                            "<style scoped>\n",
                            "    .dataframe tbody tr th:only-of-type {\n",
                            "        vertical-align: middle;\n",
                            "    }\n",
                            "\n",
                            "    .dataframe tbody tr th {\n",
                            "        vertical-align: top;\n",
                            "    }\n",
                            "\n",
                            "    .dataframe thead th {\n",
                            "        text-align: right;\n",
                            "    }\n",
                            "</style>\n",
                            "<table border=\"1\" class=\"dataframe\">\n",
                            "  <thead>\n",
                            "    <tr style=\"text-align: right;\">\n",
                            "      <th></th>\n",
                            "      <th>bill_id</th>\n",
                            "      <th>code</th>\n",
                            "      <th>bill_number</th>\n",
                            "      <th>title</th>\n",
                            "      <th>description</th>\n",
                            "      <th>state</th>\n",
                            "      <th>session</th>\n",
                            "      <th>filename</th>\n",
                            "      <th>status</th>\n",
                            "      <th>status_date</th>\n",
                            "      <th>url</th>\n",
                            "    </tr>\n",
                            "  </thead>\n",
                            "  <tbody>\n",
                            "    <tr>\n",
                            "      <th>0</th>\n",
                            "      <td>325258</td>\n",
                            "      <td>HCR143</td>\n",
                            "      <td>HCR143</td>\n",
                            "      <td>House Concurrent Resolution Congratulating The...</td>\n",
                            "      <td>House Concurrent Resolution Congratulating The...</td>\n",
                            "      <td>VT</td>\n",
                            "      <td>2011-2012 Session</td>\n",
                            "      <td>bill_data/VT/2011-2012_Regular_Session/bill/HC...</td>\n",
                            "      <td>4</td>\n",
                            "      <td>2011-04-22</td>\n",
                            "      <td>http://www.leg.state.vt.us/docs/2012/Acts/ACTR...</td>\n",
                            "    </tr>\n",
                            "    <tr>\n",
                            "      <th>1</th>\n",
                            "      <td>285625</td>\n",
                            "      <td>H0291</td>\n",
                            "      <td>H0291</td>\n",
                            "      <td>An Act Relating To Raising The Penalties For A...</td>\n",
                            "      <td>An Act Relating To Raising The Penalties For A...</td>\n",
                            "      <td>VT</td>\n",
                            "      <td>2011-2012 Session</td>\n",
                            "      <td>bill_data/VT/2011-2012_Regular_Session/bill/H0...</td>\n",
                            "      <td>1</td>\n",
                            "      <td>2011-02-22</td>\n",
                            "      <td>http://www.leg.state.vt.us/docs/2012/bills/Int...</td>\n",
                            "    </tr>\n",
                            "    <tr>\n",
                            "      <th>2</th>\n",
                            "      <td>398232</td>\n",
                            "      <td>S0162</td>\n",
                            "      <td>S0162</td>\n",
                            "      <td>An Act Relating To Powers Of Attorney</td>\n",
                            "      <td>An Act Relating To Powers Of Attorney</td>\n",
                            "      <td>VT</td>\n",
                            "      <td>2011-2012 Session</td>\n",
                            "      <td>bill_data/VT/2011-2012_Regular_Session/bill/S0...</td>\n",
                            "      <td>1</td>\n",
                            "      <td>2012-01-03</td>\n",
                            "      <td>http://www.leg.state.vt.us/docs/2012/bills/Int...</td>\n",
                            "    </tr>\n",
                            "    <tr>\n",
                            "      <th>3</th>\n",
                            "      <td>243054</td>\n",
                            "      <td>S0027</td>\n",
                            "      <td>S0027</td>\n",
                            "      <td>An Act Relating To The Role Of Municipalities ...</td>\n",
                            "      <td>An Act Relating To The Role Of Municipalities ...</td>\n",
                            "      <td>VT</td>\n",
                            "      <td>2011-2012 Session</td>\n",
                            "      <td>bill_data/VT/2011-2012_Regular_Session/bill/S0...</td>\n",
                            "      <td>1</td>\n",
                            "      <td>2011-01-25</td>\n",
                            "      <td>http://www.leg.state.vt.us/docs/2012/bills/Int...</td>\n",
                            "    </tr>\n",
                            "    <tr>\n",
                            "      <th>4</th>\n",
                            "      <td>417691</td>\n",
                            "      <td>H0784</td>\n",
                            "      <td>H0784</td>\n",
                            "      <td>An Act Relating To Approval Of The Adoption An...</td>\n",
                            "      <td>An Act Relating To Approval Of The Adoption An...</td>\n",
                            "      <td>VT</td>\n",
                            "      <td>2011-2012 Session</td>\n",
                            "      <td>bill_data/VT/2011-2012_Regular_Session/bill/H0...</td>\n",
                            "      <td>4</td>\n",
                            "      <td>2012-05-05</td>\n",
                            "      <td>http://www.leg.state.vt.us/docs/2012/Acts/ACTM...</td>\n",
                            "    </tr>\n",
                            "  </tbody>\n",
                            "</table>\n",
                            "</div>"
                        ],
                        "text/plain": [
                            "   bill_id    code bill_number  \\\n",
                            "0   325258  HCR143      HCR143   \n",
                            "1   285625   H0291       H0291   \n",
                            "2   398232   S0162       S0162   \n",
                            "3   243054   S0027       S0027   \n",
                            "4   417691   H0784       H0784   \n",
                            "\n",
                            "                                               title  \\\n",
                            "0  House Concurrent Resolution Congratulating The...   \n",
                            "1  An Act Relating To Raising The Penalties For A...   \n",
                            "2              An Act Relating To Powers Of Attorney   \n",
                            "3  An Act Relating To The Role Of Municipalities ...   \n",
                            "4  An Act Relating To Approval Of The Adoption An...   \n",
                            "\n",
                            "                                         description state            session  \\\n",
                            "0  House Concurrent Resolution Congratulating The...    VT  2011-2012 Session   \n",
                            "1  An Act Relating To Raising The Penalties For A...    VT  2011-2012 Session   \n",
                            "2              An Act Relating To Powers Of Attorney    VT  2011-2012 Session   \n",
                            "3  An Act Relating To The Role Of Municipalities ...    VT  2011-2012 Session   \n",
                            "4  An Act Relating To Approval Of The Adoption An...    VT  2011-2012 Session   \n",
                            "\n",
                            "                                            filename  status status_date  \\\n",
                            "0  bill_data/VT/2011-2012_Regular_Session/bill/HC...       4  2011-04-22   \n",
                            "1  bill_data/VT/2011-2012_Regular_Session/bill/H0...       1  2011-02-22   \n",
                            "2  bill_data/VT/2011-2012_Regular_Session/bill/S0...       1  2012-01-03   \n",
                            "3  bill_data/VT/2011-2012_Regular_Session/bill/S0...       1  2011-01-25   \n",
                            "4  bill_data/VT/2011-2012_Regular_Session/bill/H0...       4  2012-05-05   \n",
                            "\n",
                            "                                                 url  \n",
                            "0  http://www.leg.state.vt.us/docs/2012/Acts/ACTR...  \n",
                            "1  http://www.leg.state.vt.us/docs/2012/bills/Int...  \n",
                            "2  http://www.leg.state.vt.us/docs/2012/bills/Int...  \n",
                            "3  http://www.leg.state.vt.us/docs/2012/bills/Int...  \n",
                            "4  http://www.leg.state.vt.us/docs/2012/Acts/ACTM...  "
                        ]
                    },
                    "execution_count": 2,
                    "metadata": {},
                    "output_type": "execute_result"
                }
            ],
            "source": [
                "df.head()"
            ]
        },
        {
            "cell_type": "markdown",
            "metadata": {},
            "source": [
                "## Create our database\n",
                "\n",
                "You could create the database by actually logging into postgres and running the commands below, but we'll do it by using the `sqlalchemy` and `psycopg2` packages.\n",
                "\n",
                "Our database is going to be called `legislation`. Just in case it's already been created, we're going to forcibly delete it and then re-create it."
            ]
        },
        {
            "cell_type": "code",
            "execution_count": 8,
            "metadata": {},
            "outputs": [],
            "source": [
                "from sqlalchemy import create_engine\n",
                "\n",
                "engine = create_engine('postgresql://localhost:5432/postgres', isolation_level=\"AUTOCOMMIT\")\n",
                "with engine.connect() as conn:\n",
                "    try:\n",
                "        # If anyone is connected to it, we'll need to kick them off.\n",
                "        conn.execute(\"\"\"\n",
                "        SELECT pg_terminate_backend(pg_stat_activity.pid)\n",
                "            FROM pg_stat_activity\n",
                "            WHERE pg_stat_activity.datname = 'legislation' AND pid <> pg_backend_pid();\n",
                "        \"\"\")\n",
                "    except:\n",
                "        pass\n",
                "    conn.execute(\"\"\"\n",
                "        DROP DATABASE IF EXISTS legislation;\n",
                "    \"\"\")\n",
                "    conn.execute(\"\"\"\n",
                "        CREATE DATABASE legislation;\n",
                "    \"\"\")"
            ]
        },
        {
            "cell_type": "markdown",
            "metadata": {},
            "source": [
                "We'll then connect to our database and create the table we'll be storing our bills in. If you need a reminder of what the fields were that we created:"
            ]
        },
        {
            "cell_type": "code",
            "execution_count": 9,
            "metadata": {},
            "outputs": [
                {
                    "data": {
                        "text/html": [
                            "<div>\n",
                            "<style scoped>\n",
                            "    .dataframe tbody tr th:only-of-type {\n",
                            "        vertical-align: middle;\n",
                            "    }\n",
                            "\n",
                            "    .dataframe tbody tr th {\n",
                            "        vertical-align: top;\n",
                            "    }\n",
                            "\n",
                            "    .dataframe thead th {\n",
                            "        text-align: right;\n",
                            "    }\n",
                            "</style>\n",
                            "<table border=\"1\" class=\"dataframe\">\n",
                            "  <thead>\n",
                            "    <tr style=\"text-align: right;\">\n",
                            "      <th></th>\n",
                            "      <th>0</th>\n",
                            "    </tr>\n",
                            "  </thead>\n",
                            "  <tbody>\n",
                            "    <tr>\n",
                            "      <th>bill_id</th>\n",
                            "      <td>325258</td>\n",
                            "    </tr>\n",
                            "    <tr>\n",
                            "      <th>code</th>\n",
                            "      <td>HCR143</td>\n",
                            "    </tr>\n",
                            "    <tr>\n",
                            "      <th>bill_number</th>\n",
                            "      <td>HCR143</td>\n",
                            "    </tr>\n",
                            "    <tr>\n",
                            "      <th>title</th>\n",
                            "      <td>House Concurrent Resolution Congratulating The...</td>\n",
                            "    </tr>\n",
                            "    <tr>\n",
                            "      <th>description</th>\n",
                            "      <td>House Concurrent Resolution Congratulating The...</td>\n",
                            "    </tr>\n",
                            "    <tr>\n",
                            "      <th>state</th>\n",
                            "      <td>VT</td>\n",
                            "    </tr>\n",
                            "    <tr>\n",
                            "      <th>session</th>\n",
                            "      <td>2011-2012 Session</td>\n",
                            "    </tr>\n",
                            "    <tr>\n",
                            "      <th>filename</th>\n",
                            "      <td>bill_data/VT/2011-2012_Regular_Session/bill/HC...</td>\n",
                            "    </tr>\n",
                            "    <tr>\n",
                            "      <th>status</th>\n",
                            "      <td>4</td>\n",
                            "    </tr>\n",
                            "    <tr>\n",
                            "      <th>status_date</th>\n",
                            "      <td>2011-04-22</td>\n",
                            "    </tr>\n",
                            "    <tr>\n",
                            "      <th>url</th>\n",
                            "      <td>http://www.leg.state.vt.us/docs/2012/Acts/ACTR...</td>\n",
                            "    </tr>\n",
                            "  </tbody>\n",
                            "</table>\n",
                            "</div>"
                        ],
                        "text/plain": [
                            "                                                             0\n",
                            "bill_id                                                 325258\n",
                            "code                                                    HCR143\n",
                            "bill_number                                             HCR143\n",
                            "title        House Concurrent Resolution Congratulating The...\n",
                            "description  House Concurrent Resolution Congratulating The...\n",
                            "state                                                       VT\n",
                            "session                                      2011-2012 Session\n",
                            "filename     bill_data/VT/2011-2012_Regular_Session/bill/HC...\n",
                            "status                                                       4\n",
                            "status_date                                         2011-04-22\n",
                            "url          http://www.leg.state.vt.us/docs/2012/Acts/ACTR..."
                        ]
                    },
                    "execution_count": 9,
                    "metadata": {},
                    "output_type": "execute_result"
                }
            ],
            "source": [
                "df.head(1).T"
            ]
        },
        {
            "cell_type": "markdown",
            "metadata": {},
            "source": [
                "We'll also create fields to keep track of converting them to text:\n",
                "* A **content** column to store the text of the bill\n",
                "* An **error** column to store a note about any errors we encountered processing the bill\n",
                "* A **processed_at** column to keep track of which ones have been attempted and which have not."
            ]
        },
        {
            "cell_type": "code",
            "execution_count": 104,
            "metadata": {},
            "outputs": [],
            "source": [
                "engine = create_engine('postgresql://localhost:5432/legislation', isolation_level=\"AUTOCOMMIT\")\n",
                "with engine.connect() as conn:\n",
                "    conn.execute(\"\"\"\n",
                "        CREATE TABLE public.bills (\n",
                "            id serial NOT NULL,\n",
                "            bill_id numeric NOT NULL,\n",
                "            code text,\n",
                "            bill_number text,\n",
                "            title text,\n",
                "            description text,\n",
                "            state varchar(2),\n",
                "            session text,\n",
                "            filename text,\n",
                "            status numeric,\n",
                "            status_date TIMESTAMPTZ,   \n",
                "            url text,\n",
                "\n",
                "            content text,\n",
                "            error text,\n",
                "            processed_at TIMESTAMPTZ,\n",
                "            PRIMARY KEY (\"id\")\n",
                "        );\n",
                "    \"\"\")"
            ]
        },
        {
            "cell_type": "markdown",
            "metadata": {},
            "source": [
                "# Insert our data into the database\n",
                "\n",
                "Now that we have our database created, we can insert them all into the database. We'll be using pandas' `to_sql` method. How many are we adding?"
            ]
        },
        {
            "cell_type": "code",
            "execution_count": 13,
            "metadata": {},
            "outputs": [
                {
                    "data": {
                        "text/plain": [
                            "(1253402, 11)"
                        ]
                    },
                    "execution_count": 13,
                    "metadata": {},
                    "output_type": "execute_result"
                }
            ],
            "source": [
                "df.shape"
            ]
        },
        {
            "cell_type": "markdown",
            "metadata": {},
            "source": [
                "## ...and add some empty columns\n",
                "\n",
                "We'll also specify some extra columns that we'll be using later like **content** and **error**. We need to make them blank first, then set the `dtype` when we save to the database so that postgres knows they're text columns."
            ]
        },
        {
            "cell_type": "code",
            "execution_count": 16,
            "metadata": {},
            "outputs": [
                {
                    "data": {
                        "text/html": [
                            "<div>\n",
                            "<style scoped>\n",
                            "    .dataframe tbody tr th:only-of-type {\n",
                            "        vertical-align: middle;\n",
                            "    }\n",
                            "\n",
                            "    .dataframe tbody tr th {\n",
                            "        vertical-align: top;\n",
                            "    }\n",
                            "\n",
                            "    .dataframe thead th {\n",
                            "        text-align: right;\n",
                            "    }\n",
                            "</style>\n",
                            "<table border=\"1\" class=\"dataframe\">\n",
                            "  <thead>\n",
                            "    <tr style=\"text-align: right;\">\n",
                            "      <th></th>\n",
                            "      <th>bill_id</th>\n",
                            "      <th>code</th>\n",
                            "      <th>bill_number</th>\n",
                            "      <th>title</th>\n",
                            "      <th>description</th>\n",
                            "      <th>state</th>\n",
                            "      <th>session</th>\n",
                            "      <th>filename</th>\n",
                            "      <th>status</th>\n",
                            "      <th>status_date</th>\n",
                            "      <th>url</th>\n",
                            "      <th>error</th>\n",
                            "      <th>content</th>\n",
                            "      <th>processed_at</th>\n",
                            "    </tr>\n",
                            "  </thead>\n",
                            "  <tbody>\n",
                            "    <tr>\n",
                            "      <th>0</th>\n",
                            "      <td>325258</td>\n",
                            "      <td>HCR143</td>\n",
                            "      <td>HCR143</td>\n",
                            "      <td>House Concurrent Resolution Congratulating The...</td>\n",
                            "      <td>House Concurrent Resolution Congratulating The...</td>\n",
                            "      <td>VT</td>\n",
                            "      <td>2011-2012 Session</td>\n",
                            "      <td>bill_data/VT/2011-2012_Regular_Session/bill/HC...</td>\n",
                            "      <td>4</td>\n",
                            "      <td>2011-04-22</td>\n",
                            "      <td>http://www.leg.state.vt.us/docs/2012/Acts/ACTR...</td>\n",
                            "      <td>NaN</td>\n",
                            "      <td>NaN</td>\n",
                            "      <td>NaN</td>\n",
                            "    </tr>\n",
                            "    <tr>\n",
                            "      <th>1</th>\n",
                            "      <td>285625</td>\n",
                            "      <td>H0291</td>\n",
                            "      <td>H0291</td>\n",
                            "      <td>An Act Relating To Raising The Penalties For A...</td>\n",
                            "      <td>An Act Relating To Raising The Penalties For A...</td>\n",
                            "      <td>VT</td>\n",
                            "      <td>2011-2012 Session</td>\n",
                            "      <td>bill_data/VT/2011-2012_Regular_Session/bill/H0...</td>\n",
                            "      <td>1</td>\n",
                            "      <td>2011-02-22</td>\n",
                            "      <td>http://www.leg.state.vt.us/docs/2012/bills/Int...</td>\n",
                            "      <td>NaN</td>\n",
                            "      <td>NaN</td>\n",
                            "      <td>NaN</td>\n",
                            "    </tr>\n",
                            "  </tbody>\n",
                            "</table>\n",
                            "</div>"
                        ],
                        "text/plain": [
                            "   bill_id    code bill_number  \\\n",
                            "0   325258  HCR143      HCR143   \n",
                            "1   285625   H0291       H0291   \n",
                            "\n",
                            "                                               title  \\\n",
                            "0  House Concurrent Resolution Congratulating The...   \n",
                            "1  An Act Relating To Raising The Penalties For A...   \n",
                            "\n",
                            "                                         description state            session  \\\n",
                            "0  House Concurrent Resolution Congratulating The...    VT  2011-2012 Session   \n",
                            "1  An Act Relating To Raising The Penalties For A...    VT  2011-2012 Session   \n",
                            "\n",
                            "                                            filename  status status_date  \\\n",
                            "0  bill_data/VT/2011-2012_Regular_Session/bill/HC...       4  2011-04-22   \n",
                            "1  bill_data/VT/2011-2012_Regular_Session/bill/H0...       1  2011-02-22   \n",
                            "\n",
                            "                                                 url  error  content  \\\n",
                            "0  http://www.leg.state.vt.us/docs/2012/Acts/ACTR...    NaN      NaN   \n",
                            "1  http://www.leg.state.vt.us/docs/2012/bills/Int...    NaN      NaN   \n",
                            "\n",
                            "   processed_at  \n",
                            "0           NaN  \n",
                            "1           NaN  "
                        ]
                    },
                    "execution_count": 16,
                    "metadata": {},
                    "output_type": "execute_result"
                }
            ],
            "source": [
                "import numpy as np\n",
                "\n",
                "df['error'] = np.nan\n",
                "df['content'] = np.nan\n",
                "df['processed_at'] = np.nan\n",
                "\n",
                "df.head(2)"
            ]
        },
        {
            "cell_type": "code",
            "execution_count": 17,
            "metadata": {},
            "outputs": [],
            "source": [
                "import sqlalchemy\n",
                "\n",
                "engine = create_engine('postgresql://localhost:5432/legislation', isolation_level=\"AUTOCOMMIT\")\n",
                "\n",
                "df.to_sql('bills',\n",
                "          engine,\n",
                "          if_exists='replace',\n",
                "          index_label='id',\n",
                "          chunksize=10000,\n",
                "          dtype= {\n",
                "            'bill_id': sqlalchemy.types.INTEGER(), \n",
                "            'code':  sqlalchemy.types.TEXT(),\n",
                "            'bill_number': sqlalchemy.types.TEXT(),\n",
                "            'title': sqlalchemy.types.TEXT(),\n",
                "            'description': sqlalchemy.types.TEXT(),\n",
                "            'state': sqlalchemy.types.TEXT(),\n",
                "            'session': sqlalchemy.types.TEXT(),\n",
                "            'filename': sqlalchemy.types.TEXT(),\n",
                "            'status': sqlalchemy.types.INTEGER(),\n",
                "            'status_date': sqlalchemy.types.TIMESTAMP(timezone=False),\n",
                "            'url': sqlalchemy.types.TEXT(),\n",
                "            'content': sqlalchemy.types.TEXT(),\n",
                "            'error': sqlalchemy.types.TEXT(),\n",
                "            'processed_at': sqlalchemy.types.TIMESTAMP(timezone=True),\n",
                "          })\n",
                "\n",
                "# Add indices to speed up processing\n",
                "with engine.connect() as conn:\n",
                "    conn.execute(\"\"\"\n",
                "        CREATE INDEX idx_bill_id ON bills (bill_id);\n",
                "        CREATE INDEX idx_processed_at ON bills (processed_at);\n",
                "    \"\"\")"
            ]
        },
        {
            "cell_type": "code",
            "execution_count": null,
            "metadata": {},
            "outputs": [],
            "source": []
        }
    ],
    "metadata": {
        "kernelspec": {
            "display_name": "Python 3",
            "language": "python",
            "name": "python3"
        },
        "language_info": {
            "codemirror_mode": {
                "name": "ipython",
                "version": 3
            },
            "file_extension": ".py",
            "mimetype": "text/x-python",
            "name": "python",
            "nbconvert_exporter": "python",
            "pygments_lexer": "ipython3",
            "version": "3.6.8"
        }
    },
    "nbformat": 4,
    "nbformat_minor": 2
}