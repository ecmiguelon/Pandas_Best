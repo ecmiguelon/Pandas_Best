{
    "cells": [
        {
            "cell_type": "markdown",
            "metadata": {},
            "source": [
                "# Importing content in Solr for advanced text searching\n",
                "\n",
                "We've imported over a million pieces of legislation into a postgres database, **but that just isn't good enough!** While our database system can do a lot, we have some **intense text searching** in our future, and postgres just isn't up to the task.\n",
                "\n",
                "Instead, we're going to use another Apache product - [Apache Solr](https://lucene.apache.org/solr/) - as a search tool that sits next to our postgres database and performs lightning-fast text searches."
            ]
        },
        {
            "cell_type": "markdown",
            "metadata": {},
            "source": [
                "<p class=\"reading-options\">\n  <a class=\"btn\" href=\"/azcentral-text-reuse-model-legislation/04-import-content-into-solr-for-advanced-text-searching\">\n    <i class=\"fa fa-sm fa-book\"></i>\n    Read online\n  </a>\n  <a class=\"btn\" href=\"/azcentral-text-reuse-model-legislation/notebooks/04-Import content into Solr for advanced text searching.ipynb\">\n    <i class=\"fa fa-sm fa-download\"></i>\n    Download notebook\n  </a>\n  <a class=\"btn\" href=\"https://colab.research.google.com/github/littlecolumns/ds4j-notebooks/blob/master/azcentral-text-reuse-model-legislation/notebooks/04-Import content into Solr for advanced text searching.ipynb\" target=\"_new\">\n    <i class=\"fa fa-sm fa-laptop\"></i>\n    Interactive version\n  </a>\n</p>"
            ]
        },
        {
            "cell_type": "markdown",
            "metadata": {},
            "source": [
                "### Prep work: Downloading necessary files\n",
                "Before we get started, we need to download all of the data we'll be using.\n",
                "* **solrconfig:** solr configuration - TK\n"
            ]
        },
        {
            "cell_type": "code",
            "metadata": {},
            "source": [
                "# Make data directory if it doesn't exist\n",
                "!mkdir -p data\n",
                "!wget -nc https://nyc3.digitaloceanspaces.com/ml-files-distro/v1/azcentral-text-reuse-model-legislation/data/solrconfig.zip -P data\n",
                "!unzip -n -d data data/solrconfig.zip"
            ],
            "outputs": [],
            "execution_count": null
        },
        {
            "cell_type": "markdown",
            "metadata": {},
            "source": [
                "## Why do we need Solr?\n",
                "\n",
                "Asking why we need to use Solr for this is an excellent question! With over a million documents, it's going to be very, very, very slow to do the kinds of fancy searches we want to do using Python or postgres. We're going to feed our documents to Solr in order to speed up searching.\n",
                "\n",
                "Solr isn't a database, though! We'll just use it to say, \"hey, do you recognize any legislation like this one?\" and it will give us some bill identifiers in return. We'll take those identifiers back to postgres to find the actual content of the bills.\n",
                "\n",
                "What magic can Solr do? For example, take the sentence **Put taxes on fishing**. Even though **PLACE A TAX ON FISH** might _seem_ very similar, even after we ignore punctuation \"on\" is the only thing technically shared between the two. Solr can do magic like automatically lowercasing, removing boring words like \"on,\" \"a,\" and \"and,\" and **stemming** words like \"fish\" and \"fishes\" and \"fishing\" so they all mean the same thing.\n",
                "\n",
                "This sort of pre-processing allows us to get more accurate results more quickly in the next step.\n",
                "\n",
                "## Create the legislation database\n",
                "\n",
                "First we'll need to start solr.\n",
                "\n",
                "Because indexing 6-grams is demanding from a hardware point of view, we're going to assign Solr **5GB of RAM**. It won't use all of the RAM the entire time, but if you don't grant it all five gigs it will mysteriously halt partway through the process.\n",
                "\n",
                "If you aren't using the ngrams technique you should be able to use the default `solr start` command (which assigns 512MB of RAM)."
            ]
        },
        {
            "cell_type": "code",
            "execution_count": 5,
            "metadata": {},
            "outputs": [
                {
                    "name": "stdout",
                    "output_type": "stream",
                    "text": [
                        "Sending stop command to Solr running on port 8983 ... waiting up to 180 seconds to allow Jetty process 10755 to stop gracefully.\n",
                        " [|] [/] [-] [\\] [|] [/] [-] [\\] [|] [/] [-] [\\] [|] [/] [-] [\\] [|] [/] [-] [\\] [|] [/] [-] [\\] [|] [/] [-] [\\]  "
                    ]
                }
            ],
            "source": [
                "# Stop solr if it's running\n",
                "!solr stop"
            ]
        },
        {
            "cell_type": "code",
            "execution_count": null,
            "metadata": {},
            "outputs": [],
            "source": [
                "# Start solr with 5 gigs of RAM"
            ]
        },
        {
            "cell_type": "code",
            "execution_count": 6,
            "metadata": {},
            "outputs": [
                {
                    "name": "stdout",
                    "output_type": "stream",
                    "text": [
                        "*** [WARN] ***  Your Max Processes Limit is currently 2048. \n",
                        " It should be set to 65000 to avoid operational disruption. \n",
                        " If you no longer wish to see this warning, set SOLR_ULIMIT_CHECKS to false in your profile or solr.in.sh\n",
                        "Waiting up to 180 seconds to see Solr running on port 8983 [|] [/] [-] [\\] [|] [/] [-] [\\] [|] [/] [-] [\\] [|] [/] [-] [\\] [|] [/] [-]  \n",
                        "Started Solr server on port 8983 (pid=11858). Happy searching!\n",
                        "\n",
                        "  "
                    ]
                }
            ],
            "source": [
                "!solr start -m 5g"
            ]
        },
        {
            "cell_type": "markdown",
            "metadata": {},
            "source": [
                "Are we re-running this to recreate our database? If so, it will destroy the existing `legislation` database. Otherwise we'll just create a new database called `legislation`.\n",
                "\n",
                "We're also going to use the `solrconfig` folder as the default configuration. It's faster than trying to set up new columns and imports manually."
            ]
        },
        {
            "cell_type": "code",
            "execution_count": 1,
            "metadata": {},
            "outputs": [
                {
                    "name": "stdout",
                    "output_type": "stream",
                    "text": [
                        "\r\n",
                        "Deleting core 'legislation' using command:\r\n",
                        "http://localhost:8983/solr/admin/cores?action=UNLOAD&core=legislation&deleteIndex=true&deleteDataDir=true&deleteInstanceDir=true\r\n",
                        "\r\n"
                    ]
                }
            ],
            "source": [
                "# Delete index if already exists\n",
                "!solr delete -c legislation"
            ]
        },
        {
            "cell_type": "code",
            "execution_count": 2,
            "metadata": {},
            "outputs": [
                {
                    "name": "stdout",
                    "output_type": "stream",
                    "text": [
                        "\r\n",
                        "Created new core 'legislation'\r\n"
                    ]
                }
            ],
            "source": [
                "# Use the settings in data/solrconfig to initialize our setup\n",
                "!solr create -c legislation -d data/solrconfig"
            ]
        },
        {
            "cell_type": "markdown",
            "metadata": {},
            "source": [
                "## Connect to Solr\n",
                "\n",
                "Let's connect to our Solr database and See if it works. We're going to be using two different ways of talking to solr - the [pysolr](https://github.com/django-haystack/pysolr) library when it's convenient and just normal `requests` when we want to use a feature that pysolr doesn't support.\n",
                "\n",
                "In this case, we don't use the library at all. We just want to do a health check below that can't be done with the current version of pysolr!"
            ]
        },
        {
            "cell_type": "code",
            "execution_count": 9,
            "metadata": {},
            "outputs": [],
            "source": [
                "import requests\n",
                "import pysolr\n",
                "\n",
                "# Connecting just so you see what it looks like\n",
                "solr_url = 'http://localhost:8983/solr/legislation'\n",
                "solr = pysolr.Solr(solr_url, always_commit=True)"
            ]
        },
        {
            "cell_type": "code",
            "execution_count": 10,
            "metadata": {},
            "outputs": [
                {
                    "data": {
                        "text/plain": [
                            "{'responseHeader': {'zkConnected': None,\n",
                            "  'status': 0,\n",
                            "  'QTime': 148,\n",
                            "  'params': {'q': '{!lucene}*:*',\n",
                            "   'distrib': 'false',\n",
                            "   'df': '_text_',\n",
                            "   'rows': '10',\n",
                            "   'echoParams': 'all'}},\n",
                            " 'status': 'OK'}"
                        ]
                    },
                    "execution_count": 10,
                    "metadata": {},
                    "output_type": "execute_result"
                }
            ],
            "source": [
                "# Health check\n",
                "response = requests.get('http://localhost:8983/solr/legislation/admin/ping')\n",
                "response.json()"
            ]
        },
        {
            "cell_type": "markdown",
            "metadata": {},
            "source": [
                "Now that solr is set up, we want to do a **data import** from postgres. You can start that by visiting the Solr web interface at http://localhost:8983/solr/#/legislation/dataimport/. Click **Execute** and we're good to go!\n",
                "\n",
                "You could use the API for this, but I find that you can read error messages more easily if you use the web interface (and it's fun to see how quickly things are filling up!)."
            ]
        },
        {
            "cell_type": "markdown",
            "metadata": {},
            "source": [
                "## Stopping solr\n",
                "\n",
                "Once you're done with your import, you can stop solr. When you're ready to do searching you can restart it with the `solr start` command, without having it tie up 5 gigs of memory."
            ]
        },
        {
            "cell_type": "code",
            "execution_count": 1,
            "metadata": {},
            "outputs": [
                {
                    "name": "stdout",
                    "output_type": "stream",
                    "text": [
                        "Sending stop command to Solr running on port 8983 ... waiting up to 180 seconds to allow Jetty process 622 to stop gracefully.\n",
                        " [|] [/] [-] [\\] [|] [/] [-] [\\]  "
                    ]
                }
            ],
            "source": [
                "!solr stop"
            ]
        },
        {
            "cell_type": "code",
            "execution_count": null,
            "metadata": {},
            "outputs": [],
            "source": []
        }
    ],
    "metadata": {
        "kernelspec": {
            "display_name": "Python 3",
            "language": "python",
            "name": "python3"
        },
        "language_info": {
            "codemirror_mode": {
                "name": "ipython",
                "version": 3
            },
            "file_extension": ".py",
            "mimetype": "text/x-python",
            "name": "python",
            "nbconvert_exporter": "python",
            "pygments_lexer": "ipython3",
            "version": "3.6.8"
        },
        "toc": {
            "base_numbering": 1,
            "nav_menu": {},
            "number_sections": true,
            "sideBar": true,
            "skip_h1_title": false,
            "title_cell": "Table of Contents",
            "title_sidebar": "Contents",
            "toc_cell": false,
            "toc_position": {},
            "toc_section_display": true,
            "toc_window_display": false
        }
    },
    "nbformat": 4,
    "nbformat_minor": 2
}