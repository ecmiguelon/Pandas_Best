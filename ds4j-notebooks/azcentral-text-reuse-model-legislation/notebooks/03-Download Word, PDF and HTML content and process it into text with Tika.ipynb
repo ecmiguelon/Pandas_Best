{
    "cells": [
        {
            "cell_type": "markdown",
            "metadata": {},
            "source": [
                "# Download bill content from the web and process into our database with Tika\n",
                "\n",
                "When we're dealing with bill content, it comes in many many types of documents. Word, PDF, web pages - it's an impossible mix!\n",
                "\n",
                "Fortunately, there's a great tool called [Apache Tika](https://tika.apache.org/) that takes almost any type of document and converts it into text. It even does OCR on image-based PDFs! Tika is a dream.\n",
                "\n",
                "## How many have been processed?\n",
                "\n",
                "Since you might run this notebook a few times, we'll start off by seeing how many of the rows we've processed so far."
            ]
        },
        {
            "cell_type": "markdown",
            "metadata": {},
            "source": [
                "<p class=\"reading-options\">\n  <a class=\"btn\" href=\"/azcentral-text-reuse-model-legislation/03-download-word-pdf-and-html-content-and-process-it-into-text-with-tika\">\n    <i class=\"fa fa-sm fa-book\"></i>\n    Read online\n  </a>\n  <a class=\"btn\" href=\"/azcentral-text-reuse-model-legislation/notebooks/03-Download Word, PDF and HTML content and process it into text with Tika.ipynb\">\n    <i class=\"fa fa-sm fa-download\"></i>\n    Download notebook\n  </a>\n  <a class=\"btn\" href=\"https://colab.research.google.com/github/littlecolumns/ds4j-notebooks/blob/master/azcentral-text-reuse-model-legislation/notebooks/03-Download Word, PDF and HTML content and process it into text with Tika.ipynb\" target=\"_new\">\n    <i class=\"fa fa-sm fa-laptop\"></i>\n    Interactive version\n  </a>\n</p>"
            ]
        },
        {
            "cell_type": "code",
            "execution_count": 1,
            "metadata": {},
            "outputs": [],
            "source": [
                "import pandas as pd\n",
                "from sqlalchemy import create_engine\n",
                "\n",
                "engine = create_engine('postgresql://localhost:5432/legislation', isolation_level=\"AUTOCOMMIT\")"
            ]
        },
        {
            "cell_type": "code",
            "execution_count": 4,
            "metadata": {},
            "outputs": [
                {
                    "data": {
                        "text/html": [
                            "<div>\n",
                            "<style scoped>\n",
                            "    .dataframe tbody tr th:only-of-type {\n",
                            "        vertical-align: middle;\n",
                            "    }\n",
                            "\n",
                            "    .dataframe tbody tr th {\n",
                            "        vertical-align: top;\n",
                            "    }\n",
                            "\n",
                            "    .dataframe thead th {\n",
                            "        text-align: right;\n",
                            "    }\n",
                            "</style>\n",
                            "<table border=\"1\" class=\"dataframe\">\n",
                            "  <thead>\n",
                            "    <tr style=\"text-align: right;\">\n",
                            "      <th></th>\n",
                            "      <th>unprocessed</th>\n",
                            "      <th>processed</th>\n",
                            "      <th>processed_pct</th>\n",
                            "    </tr>\n",
                            "  </thead>\n",
                            "  <tbody>\n",
                            "    <tr>\n",
                            "      <th>0</th>\n",
                            "      <td>1198810</td>\n",
                            "      <td>54592</td>\n",
                            "      <td>0.043555</td>\n",
                            "    </tr>\n",
                            "  </tbody>\n",
                            "</table>\n",
                            "</div>"
                        ],
                        "text/plain": [
                            "   unprocessed  processed  processed_pct\n",
                            "0      1198810      54592       0.043555"
                        ]
                    },
                    "execution_count": 4,
                    "metadata": {},
                    "output_type": "execute_result"
                }
            ],
            "source": [
                "pd.read_sql(\"\"\"\n",
                "    SELECT\n",
                "        COUNT(bill_id) - COUNT(processed_at) AS unprocessed,\n",
                "        COUNT(processed_at) as processed,\n",
                "        COUNT(processed_at) / COUNT(id)::decimal as processed_pct\n",
                "    FROM bills;\n",
                "\"\"\", engine)"
            ]
        },
        {
            "cell_type": "markdown",
            "metadata": {},
            "source": [
                "## Let's look at the processed rows\n",
                "\n",
                "While we're at it, let's take a look at the rows that have been processed. This can help you make sure the `content` column is being filled up, and that `error` shows up here or there."
            ]
        },
        {
            "cell_type": "code",
            "execution_count": 5,
            "metadata": {},
            "outputs": [
                {
                    "data": {
                        "text/html": [
                            "<div>\n",
                            "<style scoped>\n",
                            "    .dataframe tbody tr th:only-of-type {\n",
                            "        vertical-align: middle;\n",
                            "    }\n",
                            "\n",
                            "    .dataframe tbody tr th {\n",
                            "        vertical-align: top;\n",
                            "    }\n",
                            "\n",
                            "    .dataframe thead th {\n",
                            "        text-align: right;\n",
                            "    }\n",
                            "</style>\n",
                            "<table border=\"1\" class=\"dataframe\">\n",
                            "  <thead>\n",
                            "    <tr style=\"text-align: right;\">\n",
                            "      <th></th>\n",
                            "      <th>id</th>\n",
                            "      <th>bill_id</th>\n",
                            "      <th>code</th>\n",
                            "      <th>bill_number</th>\n",
                            "      <th>title</th>\n",
                            "      <th>description</th>\n",
                            "      <th>state</th>\n",
                            "      <th>session</th>\n",
                            "      <th>filename</th>\n",
                            "      <th>status</th>\n",
                            "      <th>status_date</th>\n",
                            "      <th>url</th>\n",
                            "      <th>error</th>\n",
                            "      <th>content</th>\n",
                            "      <th>processed_at</th>\n",
                            "    </tr>\n",
                            "  </thead>\n",
                            "  <tbody>\n",
                            "    <tr>\n",
                            "      <th>0</th>\n",
                            "      <td>56</td>\n",
                            "      <td>307787</td>\n",
                            "      <td>H0454</td>\n",
                            "      <td>H0454</td>\n",
                            "      <td>An Act Relating To The Administration And Issu...</td>\n",
                            "      <td>An Act Relating To The Administration And Issu...</td>\n",
                            "      <td>VT</td>\n",
                            "      <td>2011-2012 Session</td>\n",
                            "      <td>bill_data/VT/2011-2012_Regular_Session/bill/H0...</td>\n",
                            "      <td>1</td>\n",
                            "      <td>2011-04-19</td>\n",
                            "      <td>http://www.leg.state.vt.us/docs/2012/bills/Hou...</td>\n",
                            "      <td>None</td>\n",
                            "      <td>Microsoft Word - BillTemp.doc\\n\\n\\nBILL AS PAS...</td>\n",
                            "      <td>2019-11-17 20:16:24.520099+00:00</td>\n",
                            "    </tr>\n",
                            "    <tr>\n",
                            "      <th>1</th>\n",
                            "      <td>18</td>\n",
                            "      <td>267749</td>\n",
                            "      <td>H0229</td>\n",
                            "      <td>H0229</td>\n",
                            "      <td>An Act Relating To Requiring That Certain Surg...</td>\n",
                            "      <td>An Act Relating To Requiring That Certain Surg...</td>\n",
                            "      <td>VT</td>\n",
                            "      <td>2011-2012 Session</td>\n",
                            "      <td>bill_data/VT/2011-2012_Regular_Session/bill/H0...</td>\n",
                            "      <td>1</td>\n",
                            "      <td>2011-02-11</td>\n",
                            "      <td>http://www.leg.state.vt.us/docs/2012/bills/Int...</td>\n",
                            "      <td>None</td>\n",
                            "      <td>Microsoft Word - GENERAL-#264910-v1-Dr_11-777;...</td>\n",
                            "      <td>2019-11-17 20:39:25.924196+00:00</td>\n",
                            "    </tr>\n",
                            "    <tr>\n",
                            "      <th>2</th>\n",
                            "      <td>55</td>\n",
                            "      <td>247704</td>\n",
                            "      <td>H0141</td>\n",
                            "      <td>H0141</td>\n",
                            "      <td>An Act Relating To Improving Transparency In G...</td>\n",
                            "      <td>An Act Relating To Improving Transparency In G...</td>\n",
                            "      <td>VT</td>\n",
                            "      <td>2011-2012 Session</td>\n",
                            "      <td>bill_data/VT/2011-2012_Regular_Session/bill/H0...</td>\n",
                            "      <td>1</td>\n",
                            "      <td>2011-01-28</td>\n",
                            "      <td>http://www.leg.state.vt.us/docs/2012/bills/Int...</td>\n",
                            "      <td>None</td>\n",
                            "      <td>Microsoft Word - GENERAL-#262040-v5A-H_141_-_2...</td>\n",
                            "      <td>2019-11-17 20:39:27.023591+00:00</td>\n",
                            "    </tr>\n",
                            "    <tr>\n",
                            "      <th>3</th>\n",
                            "      <td>37</td>\n",
                            "      <td>271790</td>\n",
                            "      <td>HCR047</td>\n",
                            "      <td>HCR047</td>\n",
                            "      <td>House Concurrent Resolution Honoring The Town ...</td>\n",
                            "      <td>House Concurrent Resolution Honoring The Town ...</td>\n",
                            "      <td>VT</td>\n",
                            "      <td>2011-2012 Session</td>\n",
                            "      <td>bill_data/VT/2011-2012_Regular_Session/bill/HC...</td>\n",
                            "      <td>4</td>\n",
                            "      <td>2011-02-15</td>\n",
                            "      <td>http://www.leg.state.vt.us/docs/2012/Acts/ACTR...</td>\n",
                            "      <td>None</td>\n",
                            "      <td>Microsoft Word - GENERAL-#266635-v1-Act_No__R-...</td>\n",
                            "      <td>2019-11-17 20:16:24.720864+00:00</td>\n",
                            "    </tr>\n",
                            "    <tr>\n",
                            "      <th>4</th>\n",
                            "      <td>83</td>\n",
                            "      <td>417770</td>\n",
                            "      <td>HCR315</td>\n",
                            "      <td>HCR315</td>\n",
                            "      <td>House Concurrent Resolution Congratulating The...</td>\n",
                            "      <td>House Concurrent Resolution Congratulating The...</td>\n",
                            "      <td>VT</td>\n",
                            "      <td>2011-2012 Session</td>\n",
                            "      <td>bill_data/VT/2011-2012_Regular_Session/bill/HC...</td>\n",
                            "      <td>4</td>\n",
                            "      <td>2012-03-23</td>\n",
                            "      <td>http://www.leg.state.vt.us/docs/2012/Acts/ACTR...</td>\n",
                            "      <td>None</td>\n",
                            "      <td>Microsoft Word - GENERAL-#279477-v1-Act_No__R-...</td>\n",
                            "      <td>2019-11-17 20:27:44.197148+00:00</td>\n",
                            "    </tr>\n",
                            "  </tbody>\n",
                            "</table>\n",
                            "</div>"
                        ],
                        "text/plain": [
                            "   id  bill_id    code bill_number  \\\n",
                            "0  56   307787   H0454       H0454   \n",
                            "1  18   267749   H0229       H0229   \n",
                            "2  55   247704   H0141       H0141   \n",
                            "3  37   271790  HCR047      HCR047   \n",
                            "4  83   417770  HCR315      HCR315   \n",
                            "\n",
                            "                                               title  \\\n",
                            "0  An Act Relating To The Administration And Issu...   \n",
                            "1  An Act Relating To Requiring That Certain Surg...   \n",
                            "2  An Act Relating To Improving Transparency In G...   \n",
                            "3  House Concurrent Resolution Honoring The Town ...   \n",
                            "4  House Concurrent Resolution Congratulating The...   \n",
                            "\n",
                            "                                         description state            session  \\\n",
                            "0  An Act Relating To The Administration And Issu...    VT  2011-2012 Session   \n",
                            "1  An Act Relating To Requiring That Certain Surg...    VT  2011-2012 Session   \n",
                            "2  An Act Relating To Improving Transparency In G...    VT  2011-2012 Session   \n",
                            "3  House Concurrent Resolution Honoring The Town ...    VT  2011-2012 Session   \n",
                            "4  House Concurrent Resolution Congratulating The...    VT  2011-2012 Session   \n",
                            "\n",
                            "                                            filename  status status_date  \\\n",
                            "0  bill_data/VT/2011-2012_Regular_Session/bill/H0...       1  2011-04-19   \n",
                            "1  bill_data/VT/2011-2012_Regular_Session/bill/H0...       1  2011-02-11   \n",
                            "2  bill_data/VT/2011-2012_Regular_Session/bill/H0...       1  2011-01-28   \n",
                            "3  bill_data/VT/2011-2012_Regular_Session/bill/HC...       4  2011-02-15   \n",
                            "4  bill_data/VT/2011-2012_Regular_Session/bill/HC...       4  2012-03-23   \n",
                            "\n",
                            "                                                 url error  \\\n",
                            "0  http://www.leg.state.vt.us/docs/2012/bills/Hou...  None   \n",
                            "1  http://www.leg.state.vt.us/docs/2012/bills/Int...  None   \n",
                            "2  http://www.leg.state.vt.us/docs/2012/bills/Int...  None   \n",
                            "3  http://www.leg.state.vt.us/docs/2012/Acts/ACTR...  None   \n",
                            "4  http://www.leg.state.vt.us/docs/2012/Acts/ACTR...  None   \n",
                            "\n",
                            "                                             content  \\\n",
                            "0  Microsoft Word - BillTemp.doc\\n\\n\\nBILL AS PAS...   \n",
                            "1  Microsoft Word - GENERAL-#264910-v1-Dr_11-777;...   \n",
                            "2  Microsoft Word - GENERAL-#262040-v5A-H_141_-_2...   \n",
                            "3  Microsoft Word - GENERAL-#266635-v1-Act_No__R-...   \n",
                            "4  Microsoft Word - GENERAL-#279477-v1-Act_No__R-...   \n",
                            "\n",
                            "                      processed_at  \n",
                            "0 2019-11-17 20:16:24.520099+00:00  \n",
                            "1 2019-11-17 20:39:25.924196+00:00  \n",
                            "2 2019-11-17 20:39:27.023591+00:00  \n",
                            "3 2019-11-17 20:16:24.720864+00:00  \n",
                            "4 2019-11-17 20:27:44.197148+00:00  "
                        ]
                    },
                    "execution_count": 5,
                    "metadata": {},
                    "output_type": "execute_result"
                }
            ],
            "source": [
                "pd.read_sql(\"\"\"\n",
                "    SELECT * from bills where processed_at is not null limit 5\n",
                "\"\"\", engine)"
            ]
        },
        {
            "cell_type": "markdown",
            "metadata": {},
            "source": [
                "# Use Tika to process the bills into text\n",
                "\n",
                "Now we'll go through the entries in the postgres database. For all of the unprocessed rows, we'll pull down the URL and try to convert whatever it's pointing at (PDF, Word doc, HTML page, etc) into some text. If it's successful, we'll save that into the `contents` column. If we fail, we'll try to update the `error` column instead.\n",
                "\n",
                "This use of Tika is a little overly complex - it uses a class, saves to a database, all sorts of magic. There's another simpler notebook if you're just interested in seeing how Tika works."
            ]
        },
        {
            "cell_type": "code",
            "execution_count": 6,
            "metadata": {},
            "outputs": [],
            "source": [
                "import requests\n",
                "import tika\n",
                "from tika import parser\n",
                "\n",
                "# Should we use OCR if normal processing fails?\n",
                "USE_OCR = False\n",
                "\n",
                "class Bill:\n",
                "\n",
                "    def __init__(self, id, url, conn):\n",
                "        self.id = id,\n",
                "        self.url = url\n",
                "        try:\n",
                "            # A little cleaning for URLs that have moved domains\n",
                "            self.url = self.url.replace(\"www.rilin.state.ri.us\", \"webserver.rilin.state.ri.us\")\n",
                "            self.url = self.url.replace('legis.sd.gov', 'sdlegislature.gov')\n",
                "        except:\n",
                "            pass\n",
                "        self.conn = conn\n",
                "\n",
                "    def update_content(self):\n",
                "        self.content = None\n",
                "        self.error = None\n",
                "\n",
                "        try:\n",
                "            headers = {'User-Agent': 'Mozilla/5.0 (Macintosh; Intel Mac OS X 10_10_1) AppleWebKit/537.36 (KHTML, like Gecko) Chrome/39.0.2171.95 Safari/537.36'}\n",
                "            response = requests.get(self.url, headers=headers, allow_redirects=True, timeout=2)\n",
                "\n",
                "            # Send to tika\n",
                "            tika_output = parser.from_buffer(response)\n",
                "\n",
                "            # If we get nothing back, try OCR\n",
                "            if USE_OCR and ('content' not in tika_output or not tika_output['content']):\n",
                "                # headers = { 'X-Tika-PDFOcrStrategy': 'ocr_only' }\n",
                "                headers = { 'X-Tika-PDFextractInlineImages': 'true' }\n",
                "                tika_output = parser.from_buffer(response, headers=headers)\n",
                "\n",
                "            if 'content' in tika_output and tika_output['content']:\n",
                "                self.content = tika_output['content'].strip()        \n",
                "            else:\n",
                "                self.error = 'tika'\n",
                "        except requests.exceptions.MissingSchema:\n",
                "            self.error = 'bad_url'\n",
                "        except requests.exceptions.Timeout:\n",
                "            self.error = 'timeout'\n",
                "        except requests.exceptions.ConnectionError:\n",
                "            self.error = 'connection'\n",
                "        \n",
                "        self.save()\n",
                "        \n",
                "    def save(self):\n",
                "        self.conn.execute(\"\"\"\n",
                "            UPDATE bills SET content=(%s), error=(%s), processed_at=NOW()\n",
                "            WHERE id = (%s)\n",
                "        \"\"\", (self.content, self.error, self.id));\n",
                "\n",
                "    @classmethod\n",
                "    def get(cls, conn, id):\n",
                "        results = conn.execute(f\"\"\"\n",
                "            SELECT id, url\n",
                "            FROM bills\n",
                "            WHERE id = (%s)\n",
                "            LIMIT 1;\n",
                "        \"\"\", (id))\n",
                "        result = list(results)[0]\n",
                "        return Bill(result[0], result[1], conn)\n",
                "        \n",
                "    @classmethod\n",
                "    def unprocessed(cls, conn, limit=10):\n",
                "        results = conn.execute(f\"\"\"\n",
                "            SELECT id, url\n",
                "            FROM bills\n",
                "            TABLESAMPLE BERNOULLI (1)\n",
                "            WHERE processed_at is null\n",
                "            LIMIT (%s);\n",
                "        \"\"\", (limit))\n",
                "        return [Bill(result[0], result[1], conn) for result in results]\n",
                "    \n",
                "    @classmethod\n",
                "    def process_queue(cls, conn, limit=10):\n",
                "        todo = Bill.unprocessed(conn, limit)\n",
                "        for bill in todo:\n",
                "            bill.update_content()"
            ]
        },
        {
            "cell_type": "code",
            "execution_count": 7,
            "metadata": {},
            "outputs": [],
            "source": [
                "def connect_and_update(_):\n",
                "    engine = create_engine('postgresql://localhost:5432/legislation', isolation_level=\"AUTOCOMMIT\")\n",
                "    conn = engine.connect()\n",
                "    Bill.process_queue(conn)\n",
                "    conn.close()\n",
                "    engine.dispose()"
            ]
        },
        {
            "cell_type": "markdown",
            "metadata": {},
            "source": [
                "## Make sure Tika is started up\n",
                "\n",
                "We need to make sure Tika is started and running and working before we get down to business, so we'll pick one of the documents to give it a try."
            ]
        },
        {
            "cell_type": "code",
            "execution_count": 8,
            "metadata": {},
            "outputs": [
                {
                    "name": "stdout",
                    "output_type": "stream",
                    "text": [
                        "Done\n"
                    ]
                }
            ],
            "source": [
                "engine = create_engine('postgresql://localhost:5432/legislation', isolation_level=\"AUTOCOMMIT\")\n",
                "\n",
                "try:\n",
                "    conn.close()\n",
                "except:\n",
                "    pass\n",
                "\n",
                "conn = engine.connect()\n",
                "bill = Bill.get(conn, 1137554)\n",
                "bill.update_content()\n",
                "print(\"Done\")\n",
                "conn.close()"
            ]
        },
        {
            "cell_type": "markdown",
            "metadata": {},
            "source": [
                "# Run many\n",
                "\n",
                "Now we'll process them all! We process them in baches of 10, so we need to see how many more batches to perform."
            ]
        },
        {
            "cell_type": "code",
            "execution_count": 9,
            "metadata": {},
            "outputs": [
                {
                    "data": {
                        "text/plain": [
                            "119881"
                        ]
                    },
                    "execution_count": 9,
                    "metadata": {},
                    "output_type": "execute_result"
                }
            ],
            "source": [
                "import math\n",
                "\n",
                "conn = engine.connect()\n",
                "result = conn.execute(\"SELECT COUNT(id) - COUNT(processed_at) AS unprocessed FROM bills\")\n",
                "remaining = list(result)[0][0]\n",
                "conn.close()\n",
                "\n",
                "batches = math.ceil(remaining / 10)\n",
                "batches"
            ]
        },
        {
            "cell_type": "markdown",
            "metadata": {},
            "source": [
                "Tika loves to display warning messages, and I haven't figured out how to suppress them. I run this JavaScript code to make the millions of warnings disappear off of the page."
            ]
        },
        {
            "cell_type": "code",
            "execution_count": 10,
            "metadata": {},
            "outputs": [
                {
                    "data": {
                        "application/javascript": [
                            "setInterval(() => [...document.querySelectorAll('.output_stderr')].forEach(e => e.remove()), 5000)\n"
                        ],
                        "text/plain": [
                            "<IPython.core.display.Javascript object>"
                        ]
                    },
                    "metadata": {},
                    "output_type": "display_data"
                }
            ],
            "source": [
                "%%javascript\n",
                "setInterval(() => [...document.querySelectorAll('.output_stderr')].forEach(e => e.remove()), 5000)"
            ]
        },
        {
            "cell_type": "markdown",
            "metadata": {},
            "source": [
                "Here goes! Let's go grab all those documents and insert their contents into our database. **If our notebook crashes, no problem - we can just start all this again and it'll resume from where it left off.**"
            ]
        },
        {
            "cell_type": "code",
            "execution_count": null,
            "metadata": {},
            "outputs": [
                {
                    "data": {
                        "application/vnd.jupyter.widget-view+json": {
                            "model_id": "7cffc947070c4350b7c8a2840a912a97",
                            "version_major": 2,
                            "version_minor": 0
                        },
                        "text/plain": [
                            "HBox(children=(IntProgress(value=0, max=119881), HTML(value='')))"
                        ]
                    },
                    "metadata": {},
                    "output_type": "display_data"
                }
            ],
            "source": [
                "%%capture --no-display --no-stdout\n",
                "\n",
                "from multiprocessing import Pool\n",
                "import math\n",
                "import tqdm\n",
                "\n",
                "tasks = list(range(batches))\n",
                "\n",
                "pool = Pool(processes=30)\n",
                "\n",
                "for _ in tqdm.tqdm_notebook(pool.imap_unordered(connect_and_update, tasks), total=len(tasks)):\n",
                "    pass\n",
                "\n",
                "pool.close()\n",
                "pool.join()"
            ]
        },
        {
            "cell_type": "markdown",
            "metadata": {},
            "source": [
                "After a **long long long while:** we're all set! And if it gets interrupted partway through, don't worry: we can just restart this notebook, run from the top, and it'll resume from where we left off."
            ]
        },
        {
            "cell_type": "code",
            "execution_count": null,
            "metadata": {},
            "outputs": [],
            "source": []
        }
    ],
    "metadata": {
        "kernelspec": {
            "display_name": "Python 3",
            "language": "python",
            "name": "python3"
        },
        "language_info": {
            "codemirror_mode": {
                "name": "ipython",
                "version": 3
            },
            "file_extension": ".py",
            "mimetype": "text/x-python",
            "name": "python",
            "nbconvert_exporter": "python",
            "pygments_lexer": "ipython3",
            "version": "3.6.8"
        },
        "toc": {
            "base_numbering": 1,
            "nav_menu": {},
            "number_sections": true,
            "sideBar": true,
            "skip_h1_title": false,
            "title_cell": "Table of Contents",
            "title_sidebar": "Contents",
            "toc_cell": false,
            "toc_position": {},
            "toc_section_display": true,
            "toc_window_display": false
        }
    },
    "nbformat": 4,
    "nbformat_minor": 2
}