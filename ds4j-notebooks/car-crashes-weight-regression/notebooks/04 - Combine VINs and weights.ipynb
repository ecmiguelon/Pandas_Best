{
    "cells": [
        {
            "cell_type": "markdown",
            "metadata": {},
            "source": [
                "# Combining car VIN data with vehicle weights\n",
                "\n",
                "A simple bit of data wrangling."
            ]
        },
        {
            "cell_type": "markdown",
            "metadata": {},
            "source": [
                "<p class=\"reading-options\">\n  <a class=\"btn\" href=\"/car-crashes-weight-regression/04-combine-vins-and-weights\">\n    <i class=\"fa fa-sm fa-book\"></i>\n    Read online\n  </a>\n  <a class=\"btn\" href=\"/car-crashes-weight-regression/notebooks/04 - Combine VINs and weights.ipynb\">\n    <i class=\"fa fa-sm fa-download\"></i>\n    Download notebook\n  </a>\n  <a class=\"btn\" href=\"https://colab.research.google.com/github/littlecolumns/ds4j-notebooks/blob/master/car-crashes-weight-regression/notebooks/04 - Combine VINs and weights.ipynb\" target=\"_new\">\n    <i class=\"fa fa-sm fa-laptop\"></i>\n    Interactive version\n  </a>\n</p>"
            ]
        },
        {
            "cell_type": "markdown",
            "metadata": {},
            "source": [
                "### VIN data"
            ]
        },
        {
            "cell_type": "code",
            "execution_count": 3,
            "metadata": {},
            "outputs": [
                {
                    "data": {
                        "text/html": [
                            "<div>\n",
                            "<style scoped>\n",
                            "    .dataframe tbody tr th:only-of-type {\n",
                            "        vertical-align: middle;\n",
                            "    }\n",
                            "\n",
                            "    .dataframe tbody tr th {\n",
                            "        vertical-align: top;\n",
                            "    }\n",
                            "\n",
                            "    .dataframe thead th {\n",
                            "        text-align: right;\n",
                            "    }\n",
                            "</style>\n",
                            "<table border=\"1\" class=\"dataframe\">\n",
                            "  <thead>\n",
                            "    <tr style=\"text-align: right;\">\n",
                            "      <th></th>\n",
                            "      <th>VIN</th>\n",
                            "      <th>Make</th>\n",
                            "      <th>Model</th>\n",
                            "      <th>ModelYear</th>\n",
                            "    </tr>\n",
                            "  </thead>\n",
                            "  <tbody>\n",
                            "    <tr>\n",
                            "      <th>0</th>\n",
                            "      <td>2FMDA5143TBB45576</td>\n",
                            "      <td>FORD</td>\n",
                            "      <td>WINDSTAR</td>\n",
                            "      <td>1996</td>\n",
                            "    </tr>\n",
                            "    <tr>\n",
                            "      <th>1</th>\n",
                            "      <td>2G1WC5E37E1120089</td>\n",
                            "      <td>CHEVROLET</td>\n",
                            "      <td>IMPALA</td>\n",
                            "      <td>2014</td>\n",
                            "    </tr>\n",
                            "    <tr>\n",
                            "      <th>2</th>\n",
                            "      <td>5J6RE4H55AL053951</td>\n",
                            "      <td>HONDA</td>\n",
                            "      <td>CR-V</td>\n",
                            "      <td>2010</td>\n",
                            "    </tr>\n",
                            "    <tr>\n",
                            "      <th>3</th>\n",
                            "      <td>1N4AA5AP0EC435185</td>\n",
                            "      <td>NISSAN</td>\n",
                            "      <td>MAXIMA</td>\n",
                            "      <td>2014</td>\n",
                            "    </tr>\n",
                            "    <tr>\n",
                            "      <th>4</th>\n",
                            "      <td>JTHCK262075010440</td>\n",
                            "      <td>LEXUS</td>\n",
                            "      <td>IS</td>\n",
                            "      <td>2007</td>\n",
                            "    </tr>\n",
                            "  </tbody>\n",
                            "</table>\n",
                            "</div>"
                        ],
                        "text/plain": [
                            "                 VIN       Make     Model  ModelYear\n",
                            "0  2FMDA5143TBB45576       FORD  WINDSTAR       1996\n",
                            "1  2G1WC5E37E1120089  CHEVROLET    IMPALA       2014\n",
                            "2  5J6RE4H55AL053951      HONDA      CR-V       2010\n",
                            "3  1N4AA5AP0EC435185     NISSAN    MAXIMA       2014\n",
                            "4  JTHCK262075010440      LEXUS        IS       2007"
                        ]
                    },
                    "execution_count": 3,
                    "metadata": {},
                    "output_type": "execute_result"
                }
            ],
            "source": [
                "vin_df = pd.read_csv(\"data/vin_data.csv\")\n",
                "vin_df.head()"
            ]
        },
        {
            "cell_type": "markdown",
            "metadata": {},
            "source": [
                "### Weight data"
            ]
        },
        {
            "cell_type": "code",
            "execution_count": 4,
            "metadata": {},
            "outputs": [
                {
                    "data": {
                        "text/html": [
                            "<div>\n",
                            "<style scoped>\n",
                            "    .dataframe tbody tr th:only-of-type {\n",
                            "        vertical-align: middle;\n",
                            "    }\n",
                            "\n",
                            "    .dataframe tbody tr th {\n",
                            "        vertical-align: top;\n",
                            "    }\n",
                            "\n",
                            "    .dataframe thead th {\n",
                            "        text-align: right;\n",
                            "    }\n",
                            "</style>\n",
                            "<table border=\"1\" class=\"dataframe\">\n",
                            "  <thead>\n",
                            "    <tr style=\"text-align: right;\">\n",
                            "      <th></th>\n",
                            "      <th>Make</th>\n",
                            "      <th>Model</th>\n",
                            "      <th>ModelYear</th>\n",
                            "      <th>weight</th>\n",
                            "    </tr>\n",
                            "  </thead>\n",
                            "  <tbody>\n",
                            "    <tr>\n",
                            "      <th>0</th>\n",
                            "      <td>ACURA</td>\n",
                            "      <td>CL</td>\n",
                            "      <td>1988</td>\n",
                            "      <td>3009.0</td>\n",
                            "    </tr>\n",
                            "    <tr>\n",
                            "      <th>1</th>\n",
                            "      <td>ACURA</td>\n",
                            "      <td>CL</td>\n",
                            "      <td>1989</td>\n",
                            "      <td>3009.0</td>\n",
                            "    </tr>\n",
                            "    <tr>\n",
                            "      <th>2</th>\n",
                            "      <td>ACURA</td>\n",
                            "      <td>CL</td>\n",
                            "      <td>1990</td>\n",
                            "      <td>3009.0</td>\n",
                            "    </tr>\n",
                            "    <tr>\n",
                            "      <th>3</th>\n",
                            "      <td>ACURA</td>\n",
                            "      <td>CL</td>\n",
                            "      <td>1991</td>\n",
                            "      <td>3009.0</td>\n",
                            "    </tr>\n",
                            "    <tr>\n",
                            "      <th>4</th>\n",
                            "      <td>ACURA</td>\n",
                            "      <td>CL</td>\n",
                            "      <td>1992</td>\n",
                            "      <td>3009.0</td>\n",
                            "    </tr>\n",
                            "  </tbody>\n",
                            "</table>\n",
                            "</div>"
                        ],
                        "text/plain": [
                            "    Make Model  ModelYear  weight\n",
                            "0  ACURA    CL       1988  3009.0\n",
                            "1  ACURA    CL       1989  3009.0\n",
                            "2  ACURA    CL       1990  3009.0\n",
                            "3  ACURA    CL       1991  3009.0\n",
                            "4  ACURA    CL       1992  3009.0"
                        ]
                    },
                    "execution_count": 4,
                    "metadata": {},
                    "output_type": "execute_result"
                }
            ],
            "source": [
                "weights_df = pd.read_csv(\"data/weights.csv\")\n",
                "weights_df.head()"
            ]
        },
        {
            "cell_type": "code",
            "execution_count": 5,
            "metadata": {},
            "outputs": [
                {
                    "data": {
                        "text/html": [
                            "<div>\n",
                            "<style scoped>\n",
                            "    .dataframe tbody tr th:only-of-type {\n",
                            "        vertical-align: middle;\n",
                            "    }\n",
                            "\n",
                            "    .dataframe tbody tr th {\n",
                            "        vertical-align: top;\n",
                            "    }\n",
                            "\n",
                            "    .dataframe thead th {\n",
                            "        text-align: right;\n",
                            "    }\n",
                            "</style>\n",
                            "<table border=\"1\" class=\"dataframe\">\n",
                            "  <thead>\n",
                            "    <tr style=\"text-align: right;\">\n",
                            "      <th></th>\n",
                            "      <th>VIN</th>\n",
                            "      <th>Make</th>\n",
                            "      <th>Model</th>\n",
                            "      <th>ModelYear</th>\n",
                            "      <th>weight</th>\n",
                            "    </tr>\n",
                            "  </thead>\n",
                            "  <tbody>\n",
                            "    <tr>\n",
                            "      <th>0</th>\n",
                            "      <td>2FMDA5143TBB45576</td>\n",
                            "      <td>FORD</td>\n",
                            "      <td>WINDSTAR</td>\n",
                            "      <td>1996</td>\n",
                            "      <td>3733.0</td>\n",
                            "    </tr>\n",
                            "    <tr>\n",
                            "      <th>1</th>\n",
                            "      <td>2G1WC5E37E1120089</td>\n",
                            "      <td>CHEVROLET</td>\n",
                            "      <td>IMPALA</td>\n",
                            "      <td>2014</td>\n",
                            "      <td>3618.0</td>\n",
                            "    </tr>\n",
                            "    <tr>\n",
                            "      <th>2</th>\n",
                            "      <td>5J6RE4H55AL053951</td>\n",
                            "      <td>HONDA</td>\n",
                            "      <td>CR-V</td>\n",
                            "      <td>2010</td>\n",
                            "      <td>3389.0</td>\n",
                            "    </tr>\n",
                            "    <tr>\n",
                            "      <th>3</th>\n",
                            "      <td>1N4AA5AP0EC435185</td>\n",
                            "      <td>NISSAN</td>\n",
                            "      <td>MAXIMA</td>\n",
                            "      <td>2014</td>\n",
                            "      <td>3556.0</td>\n",
                            "    </tr>\n",
                            "    <tr>\n",
                            "      <th>4</th>\n",
                            "      <td>JTHCK262075010440</td>\n",
                            "      <td>LEXUS</td>\n",
                            "      <td>IS</td>\n",
                            "      <td>2007</td>\n",
                            "      <td>3527.0</td>\n",
                            "    </tr>\n",
                            "  </tbody>\n",
                            "</table>\n",
                            "</div>"
                        ],
                        "text/plain": [
                            "                 VIN       Make     Model  ModelYear  weight\n",
                            "0  2FMDA5143TBB45576       FORD  WINDSTAR       1996  3733.0\n",
                            "1  2G1WC5E37E1120089  CHEVROLET    IMPALA       2014  3618.0\n",
                            "2  5J6RE4H55AL053951      HONDA      CR-V       2010  3389.0\n",
                            "3  1N4AA5AP0EC435185     NISSAN    MAXIMA       2014  3556.0\n",
                            "4  JTHCK262075010440      LEXUS        IS       2007  3527.0"
                        ]
                    },
                    "execution_count": 5,
                    "metadata": {},
                    "output_type": "execute_result"
                }
            ],
            "source": [
                "vins_weights = vin_df.merge(weights_df, \n",
                "           left_on=['Make', 'Model', 'ModelYear'], \n",
                "           right_on=['Make', 'Model', 'ModelYear'], \n",
                "           how='left')\n",
                "vins_weights.head(5)"
            ]
        },
        {
            "cell_type": "code",
            "execution_count": 6,
            "metadata": {},
            "outputs": [
                {
                    "data": {
                        "text/plain": [
                            "(500661, 5)"
                        ]
                    },
                    "execution_count": 6,
                    "metadata": {},
                    "output_type": "execute_result"
                }
            ],
            "source": [
                "vins_weights = vins_weights.dropna(subset=['weight'])\n",
                "vins_weights.shape"
            ]
        },
        {
            "cell_type": "code",
            "execution_count": 7,
            "metadata": {},
            "outputs": [],
            "source": [
                "vins_weights.to_csv(\"data/vins_and_weights.csv\", index=False)"
            ]
        },
        {
            "cell_type": "code",
            "execution_count": null,
            "metadata": {},
            "outputs": [],
            "source": []
        }
    ],
    "metadata": {
        "kernelspec": {
            "display_name": "Python 3",
            "language": "python",
            "name": "python3"
        },
        "language_info": {
            "codemirror_mode": {
                "name": "ipython",
                "version": 3
            },
            "file_extension": ".py",
            "mimetype": "text/x-python",
            "name": "python",
            "nbconvert_exporter": "python",
            "pygments_lexer": "ipython3",
            "version": "3.6.8"
        },
        "toc": {
            "base_numbering": 1,
            "nav_menu": {},
            "number_sections": true,
            "sideBar": true,
            "skip_h1_title": false,
            "title_cell": "Table of Contents",
            "title_sidebar": "Contents",
            "toc_cell": false,
            "toc_position": {},
            "toc_section_display": true,
            "toc_window_display": false
        }
    },
    "nbformat": 4,
    "nbformat_minor": 2
}