{
    "cells": [
        {
            "cell_type": "markdown",
            "metadata": {},
            "source": [
                "# Breaking down Machine Bias\n",
                "\n",
                "> This notebook was created by [Jonathan Stray](https://twitter.com/jonathanstray) for the Algorithms course in 2017's summer [Lede Program](http://ledeprogram.com/). The repository for the course is [located here](https://github.com/jstray/lede-algorithms)\n",
                "\n",
                "This notebook explores the classic ProPublica story [Machine Bias](https://www.propublica.org/article/machine-bias-risk-assessments-in-criminal-sentencing). It uses the original data that the reporters collected for the story, through FOIA requests to Broward County, Florida.\n",
                "\n",
                "The COMPAS score uses answers to [137 questions](https://www.documentcloud.org/documents/2702103-Sample-Risk-Assessment-COMPAS-CORE.html) to assign a risk score to defendents -- essentially a probability of re-arrest. The actual output is two-fold: a risk rating of 1-10 and a \"low\", \"medium\", or \"high\" risk label\n",
                "\n",
                "This analysis is based on ProPublica's [original notebook](https://github.com/propublica/compas-analysis/blob/master/Compas%20Analysis.ipynb)\n",
                "\n",
                "There has been a lot of discussion about this story and its particular definition of fairness. The best overall reference is the [Fairness in Machine Learning\n",
                "NIPS 2017 Tutorial](http://fairml.how) by Solon Barocas and Moritz Hardt"
            ]
        },
        {
            "cell_type": "markdown",
            "metadata": {},
            "source": [
                "<p class=\"reading-options\">\n  <a class=\"btn\" href=\"/propublica-criminal-sentencing/week-5-1-machine-bias-class\">\n    <i class=\"fa fa-sm fa-book\"></i>\n    Read online\n  </a>\n  <a class=\"btn\" href=\"/propublica-criminal-sentencing/notebooks/week-5-1-machine-bias-class.ipynb\">\n    <i class=\"fa fa-sm fa-download\"></i>\n    Download notebook\n  </a>\n  <a class=\"btn\" href=\"https://colab.research.google.com/github/littlecolumns/ds4j-notebooks/blob/master/propublica-criminal-sentencing/notebooks/week-5-1-machine-bias-class.ipynb\" target=\"_new\">\n    <i class=\"fa fa-sm fa-laptop\"></i>\n    Interactive version\n  </a>\n</p>"
            ]
        },
        {
            "cell_type": "markdown",
            "metadata": {},
            "source": [
                "### Prep work: Downloading necessary files\n",
                "Before we get started, we need to download all of the data we'll be using.\n",
                "* **compas-scores-two-years.csv:** COMPAS scores, non-violent crimes - non-violent crimes only\n",
                "* **compas-scores-two-years-violent.csv:** COMPAS scores, violent crimes - violent crimes only\n"
            ]
        },
        {
            "cell_type": "code",
            "metadata": {},
            "source": [
                "# Make data directory if it doesn't exist\n",
                "!mkdir -p data\n",
                "!wget -nc https://nyc3.digitaloceanspaces.com/ml-files-distro/v1/propublica-criminal-sentencing/data/compas-scores-two-years.csv -P data\n",
                "!wget -nc https://nyc3.digitaloceanspaces.com/ml-files-distro/v1/propublica-criminal-sentencing/data/compas-scores-two-years-violent.csv -P data"
            ],
            "outputs": [],
            "execution_count": null
        },
        {
            "cell_type": "code",
            "execution_count": 1,
            "metadata": {},
            "outputs": [],
            "source": [
                "import pandas as pd\n",
                "import numpy as np\n",
                "import matplotlib.pyplot as plt\n",
                "from sklearn.linear_model import LogisticRegression\n",
                "from pandas.plotting import scatter_matrix\n",
                "from sklearn import metrics\n",
                "%matplotlib inline"
            ]
        },
        {
            "cell_type": "markdown",
            "metadata": {},
            "source": [
                "This notebook is designed to let you select between data on arrests for non-violent or violent crimes. This allows quick comparisons of the difference between these two data sets.\n",
                "\n",
                "\n",
                "There is some reason to suspect that arrest data for violent crime is both more accurate and less biased than non-violent crime data. See e.g. [Skeem and Lowenkamp](https://www.law.berkeley.edu/wp-content/uploads/2015/04/SSRN-id2687339.pdf). Also, we do get more accurate predictors wih the violent data (including COMPAS).\n"
            ]
        },
        {
            "cell_type": "code",
            "execution_count": 2,
            "metadata": {},
            "outputs": [],
            "source": [
                "violent = False\n",
                "\n",
                "if violent:\n",
                "    fname ='data/compas-scores-two-years-violent.csv'\n",
                "    decile_col = 'v_decile_score'\n",
                "    score_col = 'v_score_text'\n",
                "else:\n",
                "    fname ='data/compas-scores-two-years.csv'\n",
                "    decile_col = 'decile_score'\n",
                "    score_col = 'score_text'\n"
            ]
        },
        {
            "cell_type": "code",
            "execution_count": 3,
            "metadata": {},
            "outputs": [
                {
                    "data": {
                        "text/html": [
                            "<div>\n",
                            "<style scoped>\n",
                            "    .dataframe tbody tr th:only-of-type {\n",
                            "        vertical-align: middle;\n",
                            "    }\n",
                            "\n",
                            "    .dataframe tbody tr th {\n",
                            "        vertical-align: top;\n",
                            "    }\n",
                            "\n",
                            "    .dataframe thead th {\n",
                            "        text-align: right;\n",
                            "    }\n",
                            "</style>\n",
                            "<table border=\"1\" class=\"dataframe\">\n",
                            "  <thead>\n",
                            "    <tr style=\"text-align: right;\">\n",
                            "      <th></th>\n",
                            "      <th>id</th>\n",
                            "      <th>name</th>\n",
                            "      <th>first</th>\n",
                            "      <th>last</th>\n",
                            "      <th>compas_screening_date</th>\n",
                            "      <th>sex</th>\n",
                            "      <th>dob</th>\n",
                            "      <th>age</th>\n",
                            "      <th>age_cat</th>\n",
                            "      <th>race</th>\n",
                            "      <th>...</th>\n",
                            "      <th>v_decile_score</th>\n",
                            "      <th>v_score_text</th>\n",
                            "      <th>v_screening_date</th>\n",
                            "      <th>in_custody</th>\n",
                            "      <th>out_custody</th>\n",
                            "      <th>priors_count.1</th>\n",
                            "      <th>start</th>\n",
                            "      <th>end</th>\n",
                            "      <th>event</th>\n",
                            "      <th>two_year_recid</th>\n",
                            "    </tr>\n",
                            "  </thead>\n",
                            "  <tbody>\n",
                            "    <tr>\n",
                            "      <th>0</th>\n",
                            "      <td>1</td>\n",
                            "      <td>miguel hernandez</td>\n",
                            "      <td>miguel</td>\n",
                            "      <td>hernandez</td>\n",
                            "      <td>2013-08-14</td>\n",
                            "      <td>Male</td>\n",
                            "      <td>1947-04-18</td>\n",
                            "      <td>69</td>\n",
                            "      <td>Greater than 45</td>\n",
                            "      <td>Other</td>\n",
                            "      <td>...</td>\n",
                            "      <td>1</td>\n",
                            "      <td>Low</td>\n",
                            "      <td>2013-08-14</td>\n",
                            "      <td>2014-07-07</td>\n",
                            "      <td>2014-07-14</td>\n",
                            "      <td>0</td>\n",
                            "      <td>0</td>\n",
                            "      <td>327</td>\n",
                            "      <td>0</td>\n",
                            "      <td>0</td>\n",
                            "    </tr>\n",
                            "    <tr>\n",
                            "      <th>1</th>\n",
                            "      <td>3</td>\n",
                            "      <td>kevon dixon</td>\n",
                            "      <td>kevon</td>\n",
                            "      <td>dixon</td>\n",
                            "      <td>2013-01-27</td>\n",
                            "      <td>Male</td>\n",
                            "      <td>1982-01-22</td>\n",
                            "      <td>34</td>\n",
                            "      <td>25 - 45</td>\n",
                            "      <td>African-American</td>\n",
                            "      <td>...</td>\n",
                            "      <td>1</td>\n",
                            "      <td>Low</td>\n",
                            "      <td>2013-01-27</td>\n",
                            "      <td>2013-01-26</td>\n",
                            "      <td>2013-02-05</td>\n",
                            "      <td>0</td>\n",
                            "      <td>9</td>\n",
                            "      <td>159</td>\n",
                            "      <td>1</td>\n",
                            "      <td>1</td>\n",
                            "    </tr>\n",
                            "    <tr>\n",
                            "      <th>2</th>\n",
                            "      <td>4</td>\n",
                            "      <td>ed philo</td>\n",
                            "      <td>ed</td>\n",
                            "      <td>philo</td>\n",
                            "      <td>2013-04-14</td>\n",
                            "      <td>Male</td>\n",
                            "      <td>1991-05-14</td>\n",
                            "      <td>24</td>\n",
                            "      <td>Less than 25</td>\n",
                            "      <td>African-American</td>\n",
                            "      <td>...</td>\n",
                            "      <td>3</td>\n",
                            "      <td>Low</td>\n",
                            "      <td>2013-04-14</td>\n",
                            "      <td>2013-06-16</td>\n",
                            "      <td>2013-06-16</td>\n",
                            "      <td>4</td>\n",
                            "      <td>0</td>\n",
                            "      <td>63</td>\n",
                            "      <td>0</td>\n",
                            "      <td>1</td>\n",
                            "    </tr>\n",
                            "    <tr>\n",
                            "      <th>3</th>\n",
                            "      <td>5</td>\n",
                            "      <td>marcu brown</td>\n",
                            "      <td>marcu</td>\n",
                            "      <td>brown</td>\n",
                            "      <td>2013-01-13</td>\n",
                            "      <td>Male</td>\n",
                            "      <td>1993-01-21</td>\n",
                            "      <td>23</td>\n",
                            "      <td>Less than 25</td>\n",
                            "      <td>African-American</td>\n",
                            "      <td>...</td>\n",
                            "      <td>6</td>\n",
                            "      <td>Medium</td>\n",
                            "      <td>2013-01-13</td>\n",
                            "      <td>NaN</td>\n",
                            "      <td>NaN</td>\n",
                            "      <td>1</td>\n",
                            "      <td>0</td>\n",
                            "      <td>1174</td>\n",
                            "      <td>0</td>\n",
                            "      <td>0</td>\n",
                            "    </tr>\n",
                            "    <tr>\n",
                            "      <th>4</th>\n",
                            "      <td>6</td>\n",
                            "      <td>bouthy pierrelouis</td>\n",
                            "      <td>bouthy</td>\n",
                            "      <td>pierrelouis</td>\n",
                            "      <td>2013-03-26</td>\n",
                            "      <td>Male</td>\n",
                            "      <td>1973-01-22</td>\n",
                            "      <td>43</td>\n",
                            "      <td>25 - 45</td>\n",
                            "      <td>Other</td>\n",
                            "      <td>...</td>\n",
                            "      <td>1</td>\n",
                            "      <td>Low</td>\n",
                            "      <td>2013-03-26</td>\n",
                            "      <td>NaN</td>\n",
                            "      <td>NaN</td>\n",
                            "      <td>2</td>\n",
                            "      <td>0</td>\n",
                            "      <td>1102</td>\n",
                            "      <td>0</td>\n",
                            "      <td>0</td>\n",
                            "    </tr>\n",
                            "  </tbody>\n",
                            "</table>\n",
                            "<p>5 rows \u00d7 53 columns</p>\n",
                            "</div>"
                        ],
                        "text/plain": [
                            "   id                name   first         last compas_screening_date   sex  \\\n",
                            "0   1    miguel hernandez  miguel    hernandez            2013-08-14  Male   \n",
                            "1   3         kevon dixon   kevon        dixon            2013-01-27  Male   \n",
                            "2   4            ed philo      ed        philo            2013-04-14  Male   \n",
                            "3   5         marcu brown   marcu        brown            2013-01-13  Male   \n",
                            "4   6  bouthy pierrelouis  bouthy  pierrelouis            2013-03-26  Male   \n",
                            "\n",
                            "          dob  age          age_cat              race  ...  v_decile_score  \\\n",
                            "0  1947-04-18   69  Greater than 45             Other  ...               1   \n",
                            "1  1982-01-22   34          25 - 45  African-American  ...               1   \n",
                            "2  1991-05-14   24     Less than 25  African-American  ...               3   \n",
                            "3  1993-01-21   23     Less than 25  African-American  ...               6   \n",
                            "4  1973-01-22   43          25 - 45             Other  ...               1   \n",
                            "\n",
                            "   v_score_text  v_screening_date  in_custody  out_custody  priors_count.1  \\\n",
                            "0           Low        2013-08-14  2014-07-07   2014-07-14               0   \n",
                            "1           Low        2013-01-27  2013-01-26   2013-02-05               0   \n",
                            "2           Low        2013-04-14  2013-06-16   2013-06-16               4   \n",
                            "3        Medium        2013-01-13         NaN          NaN               1   \n",
                            "4           Low        2013-03-26         NaN          NaN               2   \n",
                            "\n",
                            "  start   end event two_year_recid  \n",
                            "0     0   327     0              0  \n",
                            "1     9   159     1              1  \n",
                            "2     0    63     0              1  \n",
                            "3     0  1174     0              0  \n",
                            "4     0  1102     0              0  \n",
                            "\n",
                            "[5 rows x 53 columns]"
                        ]
                    },
                    "execution_count": 3,
                    "metadata": {},
                    "output_type": "execute_result"
                }
            ],
            "source": [
                "cv = pd.read_csv(fname)\n",
                "cv.head()"
            ]
        },
        {
            "cell_type": "code",
            "execution_count": 4,
            "metadata": {},
            "outputs": [
                {
                    "data": {
                        "text/plain": [
                            "Index(['id', 'name', 'first', 'last', 'compas_screening_date', 'sex', 'dob',\n",
                            "       'age', 'age_cat', 'race', 'juv_fel_count', 'decile_score',\n",
                            "       'juv_misd_count', 'juv_other_count', 'priors_count',\n",
                            "       'days_b_screening_arrest', 'c_jail_in', 'c_jail_out', 'c_case_number',\n",
                            "       'c_offense_date', 'c_arrest_date', 'c_days_from_compas',\n",
                            "       'c_charge_degree', 'c_charge_desc', 'is_recid', 'r_case_number',\n",
                            "       'r_charge_degree', 'r_days_from_arrest', 'r_offense_date',\n",
                            "       'r_charge_desc', 'r_jail_in', 'r_jail_out', 'violent_recid',\n",
                            "       'is_violent_recid', 'vr_case_number', 'vr_charge_degree',\n",
                            "       'vr_offense_date', 'vr_charge_desc', 'type_of_assessment',\n",
                            "       'decile_score.1', 'score_text', 'screening_date',\n",
                            "       'v_type_of_assessment', 'v_decile_score', 'v_score_text',\n",
                            "       'v_screening_date', 'in_custody', 'out_custody', 'priors_count.1',\n",
                            "       'start', 'end', 'event', 'two_year_recid'],\n",
                            "      dtype='object')"
                        ]
                    },
                    "execution_count": 4,
                    "metadata": {},
                    "output_type": "execute_result"
                }
            ],
            "source": [
                "cv.columns"
            ]
        },
        {
            "cell_type": "markdown",
            "metadata": {},
            "source": [
                "Following ProPublica, we filter out certain rows which are missing data. As they put it:\n",
                "\n",
                "- If the charge date of a defendants Compas scored crime was not within 30 days from when the person was arrested, we assume that because of data quality reasons, that we do not have the right offense.\n",
                "- We coded the recidivist flag -- is_recid -- to be -1 if we could not find a compas case at all.\n",
                "- In a similar vein, ordinary traffic offenses -- those with a c_charge_degree of 'O' -- will not result in Jail time are removed\n",
                "- We filtered the underlying data from Broward county to include only those rows representing people who had either recidivated in two years, or had at least two years outside of a correctional facility."
            ]
        },
        {
            "cell_type": "code",
            "execution_count": 5,
            "metadata": {},
            "outputs": [
                {
                    "data": {
                        "text/plain": [
                            "(6172, 53)"
                        ]
                    },
                    "execution_count": 5,
                    "metadata": {},
                    "output_type": "execute_result"
                }
            ],
            "source": [
                "cv = cv[\n",
                "    (cv.days_b_screening_arrest <= 30) &  \n",
                "    (cv.days_b_screening_arrest >= -30) &  \n",
                "    (cv.is_recid != -1) &\n",
                "    (cv.c_charge_degree != 'O') &\n",
                "    (cv[score_col] != 'N/A')\n",
                "]\n",
                "\n",
                "cv.reset_index(inplace=True, drop=True) # renumber the rows from 0 again\n",
                "cv.shape"
            ]
        },
        {
            "cell_type": "markdown",
            "metadata": {},
            "source": [
                "## 1. A first look at the data \n",
                "\n",
                "Let's do some basic analysis on the demographics"
            ]
        },
        {
            "cell_type": "code",
            "execution_count": 6,
            "metadata": {},
            "outputs": [
                {
                    "data": {
                        "text/plain": [
                            "25 - 45            3532\n",
                            "Less than 25       1347\n",
                            "Greater than 45    1293\n",
                            "Name: age_cat, dtype: int64"
                        ]
                    },
                    "execution_count": 6,
                    "metadata": {},
                    "output_type": "execute_result"
                }
            ],
            "source": [
                "# age value coutns\n",
                "cv.age_cat.value_counts()"
            ]
        },
        {
            "cell_type": "code",
            "execution_count": 7,
            "metadata": {},
            "outputs": [
                {
                    "data": {
                        "text/plain": [
                            "African-American    3175\n",
                            "Caucasian           2103\n",
                            "Hispanic             509\n",
                            "Other                343\n",
                            "Asian                 31\n",
                            "Native American       11\n",
                            "Name: race, dtype: int64"
                        ]
                    },
                    "execution_count": 7,
                    "metadata": {},
                    "output_type": "execute_result"
                }
            ],
            "source": [
                "# race value counts\n",
                "cv.race.value_counts()"
            ]
        },
        {
            "cell_type": "markdown",
            "metadata": {},
            "source": [
                "The COMPAS model predictions are in `v_decile_score` from 1 to 10, and low/med/high in `v_score_text`"
            ]
        },
        {
            "cell_type": "code",
            "execution_count": 8,
            "metadata": {},
            "outputs": [
                {
                    "data": {
                        "text/plain": [
                            "1     1286\n",
                            "2      822\n",
                            "4      666\n",
                            "3      647\n",
                            "5      582\n",
                            "6      529\n",
                            "7      496\n",
                            "9      420\n",
                            "8      420\n",
                            "10     304\n",
                            "Name: decile_score, dtype: int64"
                        ]
                    },
                    "execution_count": 8,
                    "metadata": {},
                    "output_type": "execute_result"
                }
            ],
            "source": [
                "# COMPAS decile score value counts\n",
                "cv[decile_col].value_counts()"
            ]
        },
        {
            "cell_type": "code",
            "execution_count": 9,
            "metadata": {},
            "outputs": [
                {
                    "data": {
                        "text/plain": [
                            "Low       3421\n",
                            "Medium    1607\n",
                            "High      1144\n",
                            "Name: score_text, dtype: int64"
                        ]
                    },
                    "execution_count": 9,
                    "metadata": {},
                    "output_type": "execute_result"
                }
            ],
            "source": [
                "# COMPAS text score value counts\n",
                "cv[score_col].value_counts()"
            ]
        },
        {
            "cell_type": "markdown",
            "metadata": {},
            "source": [
                "We can look at the decile scores white and black to get our first look at how the COMPAS algorithm handles different races."
            ]
        },
        {
            "cell_type": "code",
            "execution_count": 10,
            "metadata": {},
            "outputs": [
                {
                    "data": {
                        "text/plain": [
                            "<matplotlib.axes._subplots.AxesSubplot at 0x126e4b9b0>"
                        ]
                    },
                    "execution_count": 10,
                    "metadata": {},
                    "output_type": "execute_result"
                },
                {
                    "data": {
                        "image/png": "[encoded data removed]",
                        "text/plain": [
                            "<Figure size 432x288 with 1 Axes>"
                        ]
                    },
                    "metadata": {
                        "needs_background": "light"
                    },
                    "output_type": "display_data"
                }
            ],
            "source": [
                "# Histogram of decile scores for White\n",
                "cv[cv.race == 'Caucasian'][decile_col].plot(kind='hist', title='White Defendant\\'s Decile Scores ')"
            ]
        },
        {
            "cell_type": "code",
            "execution_count": 11,
            "metadata": {
                "scrolled": true
            },
            "outputs": [
                {
                    "data": {
                        "text/plain": [
                            "<matplotlib.axes._subplots.AxesSubplot at 0x124e1cbe0>"
                        ]
                    },
                    "execution_count": 11,
                    "metadata": {},
                    "output_type": "execute_result"
                },
                {
                    "data": {
                        "image/png": "[encoded data removed]",
                        "text/plain": [
                            "<Figure size 432x288 with 1 Axes>"
                        ]
                    },
                    "metadata": {
                        "needs_background": "light"
                    },
                    "output_type": "display_data"
                }
            ],
            "source": [
                "# Histogram of decile scores for Black\n",
                "cv[cv.race == 'African-American'][decile_col].plot(kind='hist', title='Black Defendant\\'s Decile Scores')"
            ]
        },
        {
            "cell_type": "markdown",
            "metadata": {},
            "source": [
                "Meanwhile the `two_year_recid` field records whether or not each person was re-arrested for a violent offense within two years, which is what COMPAS is trying to predict."
            ]
        },
        {
            "cell_type": "code",
            "execution_count": 12,
            "metadata": {},
            "outputs": [
                {
                    "data": {
                        "text/plain": [
                            "0    3363\n",
                            "1    2809\n",
                            "Name: two_year_recid, dtype: int64"
                        ]
                    },
                    "execution_count": 12,
                    "metadata": {},
                    "output_type": "execute_result"
                }
            ],
            "source": [
                "# recidivism value counts\n",
                "cv.two_year_recid.value_counts()"
            ]
        },
        {
            "cell_type": "markdown",
            "metadata": {},
            "source": [
                "Now we can start looking at the relationships between these variables. First, recidivism by race.\n"
            ]
        },
        {
            "cell_type": "code",
            "execution_count": 13,
            "metadata": {
                "scrolled": false
            },
            "outputs": [
                {
                    "data": {
                        "text/html": [
                            "<div>\n",
                            "<style scoped>\n",
                            "    .dataframe tbody tr th:only-of-type {\n",
                            "        vertical-align: middle;\n",
                            "    }\n",
                            "\n",
                            "    .dataframe tbody tr th {\n",
                            "        vertical-align: top;\n",
                            "    }\n",
                            "\n",
                            "    .dataframe thead th {\n",
                            "        text-align: right;\n",
                            "    }\n",
                            "</style>\n",
                            "<table border=\"1\" class=\"dataframe\">\n",
                            "  <thead>\n",
                            "    <tr style=\"text-align: right;\">\n",
                            "      <th>two_year_recid</th>\n",
                            "      <th>0</th>\n",
                            "      <th>1</th>\n",
                            "      <th>rate</th>\n",
                            "    </tr>\n",
                            "    <tr>\n",
                            "      <th>race</th>\n",
                            "      <th></th>\n",
                            "      <th></th>\n",
                            "      <th></th>\n",
                            "    </tr>\n",
                            "  </thead>\n",
                            "  <tbody>\n",
                            "    <tr>\n",
                            "      <th>African-American</th>\n",
                            "      <td>1514</td>\n",
                            "      <td>1661</td>\n",
                            "      <td>0.523150</td>\n",
                            "    </tr>\n",
                            "    <tr>\n",
                            "      <th>Asian</th>\n",
                            "      <td>23</td>\n",
                            "      <td>8</td>\n",
                            "      <td>0.258065</td>\n",
                            "    </tr>\n",
                            "    <tr>\n",
                            "      <th>Caucasian</th>\n",
                            "      <td>1281</td>\n",
                            "      <td>822</td>\n",
                            "      <td>0.390870</td>\n",
                            "    </tr>\n",
                            "    <tr>\n",
                            "      <th>Hispanic</th>\n",
                            "      <td>320</td>\n",
                            "      <td>189</td>\n",
                            "      <td>0.371316</td>\n",
                            "    </tr>\n",
                            "    <tr>\n",
                            "      <th>Native American</th>\n",
                            "      <td>6</td>\n",
                            "      <td>5</td>\n",
                            "      <td>0.454545</td>\n",
                            "    </tr>\n",
                            "    <tr>\n",
                            "      <th>Other</th>\n",
                            "      <td>219</td>\n",
                            "      <td>124</td>\n",
                            "      <td>0.361516</td>\n",
                            "    </tr>\n",
                            "  </tbody>\n",
                            "</table>\n",
                            "</div>"
                        ],
                        "text/plain": [
                            "two_year_recid       0     1      rate\n",
                            "race                                  \n",
                            "African-American  1514  1661  0.523150\n",
                            "Asian               23     8  0.258065\n",
                            "Caucasian         1281   822  0.390870\n",
                            "Hispanic           320   189  0.371316\n",
                            "Native American      6     5  0.454545\n",
                            "Other              219   124  0.361516"
                        ]
                    },
                    "execution_count": 13,
                    "metadata": {},
                    "output_type": "execute_result"
                }
            ],
            "source": [
                "# recidivism rates by race\n",
                "recid_race = pd.crosstab(cv.race, cv.two_year_recid)\n",
                "recid_race['rate'] = recid_race[1] / recid_race.sum(axis=1)\n",
                "recid_race"
            ]
        },
        {
            "cell_type": "markdown",
            "metadata": {},
            "source": [
                "Similarly for sex:"
            ]
        },
        {
            "cell_type": "code",
            "execution_count": 14,
            "metadata": {},
            "outputs": [
                {
                    "data": {
                        "text/html": [
                            "<div>\n",
                            "<style>\n",
                            "    .dataframe thead tr:only-child th {\n",
                            "        text-align: right;\n",
                            "    }\n",
                            "\n",
                            "    .dataframe thead th {\n",
                            "        text-align: left;\n",
                            "    }\n",
                            "\n",
                            "    .dataframe tbody tr th {\n",
                            "        vertical-align: top;\n",
                            "    }\n",
                            "</style>\n",
                            "<table border=\"1\" class=\"dataframe\">\n",
                            "  <thead>\n",
                            "    <tr style=\"text-align: right;\">\n",
                            "      <th>two_year_recid</th>\n",
                            "      <th>0</th>\n",
                            "      <th>1</th>\n",
                            "      <th>rate</th>\n",
                            "    </tr>\n",
                            "    <tr>\n",
                            "      <th>sex</th>\n",
                            "      <th></th>\n",
                            "      <th></th>\n",
                            "      <th></th>\n",
                            "    </tr>\n",
                            "  </thead>\n",
                            "  <tbody>\n",
                            "    <tr>\n",
                            "      <th>Female</th>\n",
                            "      <td>762</td>\n",
                            "      <td>413</td>\n",
                            "      <td>0.351489</td>\n",
                            "    </tr>\n",
                            "    <tr>\n",
                            "      <th>Male</th>\n",
                            "      <td>2601</td>\n",
                            "      <td>2396</td>\n",
                            "      <td>0.479488</td>\n",
                            "    </tr>\n",
                            "  </tbody>\n",
                            "</table>\n",
                            "</div>"
                        ],
                        "text/plain": [
                            "two_year_recid     0     1      rate\n",
                            "sex                                 \n",
                            "Female           762   413  0.351489\n",
                            "Male            2601  2396  0.479488"
                        ]
                    },
                    "execution_count": 14,
                    "metadata": {},
                    "output_type": "execute_result"
                }
            ],
            "source": [
                "# recidivism rates by sex\n",
                "recid_sex = pd.crosstab(cv.sex, cv.two_year_recid)\n",
                "recid_sex['rate'] = recid_sex[1] / recid_sex.sum(axis=1)\n",
                "recid_sex"
            ]
        },
        {
            "cell_type": "markdown",
            "metadata": {},
            "source": [
                "There are significant differences in recidivisim in this population by race and gender. These are the \"base rates\" we will talk about more. However, there may also be significant differences in the composition of these populations -- they may have different age, criminal histories, etc.\n",
                "\n",
                "Let's see how the COMPAS risk scores break down by race and gender."
            ]
        },
        {
            "cell_type": "code",
            "execution_count": 15,
            "metadata": {},
            "outputs": [
                {
                    "data": {
                        "text/html": [
                            "<div>\n",
                            "<style>\n",
                            "    .dataframe thead tr:only-child th {\n",
                            "        text-align: right;\n",
                            "    }\n",
                            "\n",
                            "    .dataframe thead th {\n",
                            "        text-align: left;\n",
                            "    }\n",
                            "\n",
                            "    .dataframe tbody tr th {\n",
                            "        vertical-align: top;\n",
                            "    }\n",
                            "</style>\n",
                            "<table border=\"1\" class=\"dataframe\">\n",
                            "  <thead>\n",
                            "    <tr style=\"text-align: right;\">\n",
                            "      <th>score_text</th>\n",
                            "      <th>High</th>\n",
                            "      <th>Low</th>\n",
                            "      <th>Medium</th>\n",
                            "      <th>High risk rate</th>\n",
                            "    </tr>\n",
                            "    <tr>\n",
                            "      <th>race</th>\n",
                            "      <th></th>\n",
                            "      <th></th>\n",
                            "      <th></th>\n",
                            "      <th></th>\n",
                            "    </tr>\n",
                            "  </thead>\n",
                            "  <tbody>\n",
                            "    <tr>\n",
                            "      <th>African-American</th>\n",
                            "      <td>845</td>\n",
                            "      <td>1346</td>\n",
                            "      <td>984</td>\n",
                            "      <td>0.266142</td>\n",
                            "    </tr>\n",
                            "    <tr>\n",
                            "      <th>Asian</th>\n",
                            "      <td>3</td>\n",
                            "      <td>24</td>\n",
                            "      <td>4</td>\n",
                            "      <td>0.096774</td>\n",
                            "    </tr>\n",
                            "    <tr>\n",
                            "      <th>Caucasian</th>\n",
                            "      <td>223</td>\n",
                            "      <td>1407</td>\n",
                            "      <td>473</td>\n",
                            "      <td>0.106039</td>\n",
                            "    </tr>\n",
                            "    <tr>\n",
                            "      <th>Hispanic</th>\n",
                            "      <td>47</td>\n",
                            "      <td>368</td>\n",
                            "      <td>94</td>\n",
                            "      <td>0.092338</td>\n",
                            "    </tr>\n",
                            "    <tr>\n",
                            "      <th>Native American</th>\n",
                            "      <td>4</td>\n",
                            "      <td>3</td>\n",
                            "      <td>4</td>\n",
                            "      <td>0.363636</td>\n",
                            "    </tr>\n",
                            "    <tr>\n",
                            "      <th>Other</th>\n",
                            "      <td>22</td>\n",
                            "      <td>273</td>\n",
                            "      <td>48</td>\n",
                            "      <td>0.064140</td>\n",
                            "    </tr>\n",
                            "  </tbody>\n",
                            "</table>\n",
                            "</div>"
                        ],
                        "text/plain": [
                            "score_text        High   Low  Medium  High risk rate\n",
                            "race                                                \n",
                            "African-American   845  1346     984        0.266142\n",
                            "Asian                3    24       4        0.096774\n",
                            "Caucasian          223  1407     473        0.106039\n",
                            "Hispanic            47   368      94        0.092338\n",
                            "Native American      4     3       4        0.363636\n",
                            "Other               22   273      48        0.064140"
                        ]
                    },
                    "execution_count": 15,
                    "metadata": {},
                    "output_type": "execute_result"
                }
            ],
            "source": [
                "# high risk rates by race\n",
                "score_race = pd.crosstab(cv.race, cv[score_col])\n",
                "score_race['High risk rate'] = score_race['High'] / score_race.sum(axis=1)\n",
                "score_race"
            ]
        },
        {
            "cell_type": "code",
            "execution_count": 16,
            "metadata": {},
            "outputs": [
                {
                    "data": {
                        "text/html": [
                            "<div>\n",
                            "<style>\n",
                            "    .dataframe thead tr:only-child th {\n",
                            "        text-align: right;\n",
                            "    }\n",
                            "\n",
                            "    .dataframe thead th {\n",
                            "        text-align: left;\n",
                            "    }\n",
                            "\n",
                            "    .dataframe tbody tr th {\n",
                            "        vertical-align: top;\n",
                            "    }\n",
                            "</style>\n",
                            "<table border=\"1\" class=\"dataframe\">\n",
                            "  <thead>\n",
                            "    <tr style=\"text-align: right;\">\n",
                            "      <th>score_text</th>\n",
                            "      <th>High</th>\n",
                            "      <th>Low</th>\n",
                            "      <th>Medium</th>\n",
                            "      <th>High risk rate</th>\n",
                            "    </tr>\n",
                            "    <tr>\n",
                            "      <th>sex</th>\n",
                            "      <th></th>\n",
                            "      <th></th>\n",
                            "      <th></th>\n",
                            "      <th></th>\n",
                            "    </tr>\n",
                            "  </thead>\n",
                            "  <tbody>\n",
                            "    <tr>\n",
                            "      <th>Female</th>\n",
                            "      <td>151</td>\n",
                            "      <td>699</td>\n",
                            "      <td>325</td>\n",
                            "      <td>0.128511</td>\n",
                            "    </tr>\n",
                            "    <tr>\n",
                            "      <th>Male</th>\n",
                            "      <td>993</td>\n",
                            "      <td>2722</td>\n",
                            "      <td>1282</td>\n",
                            "      <td>0.198719</td>\n",
                            "    </tr>\n",
                            "  </tbody>\n",
                            "</table>\n",
                            "</div>"
                        ],
                        "text/plain": [
                            "score_text  High   Low  Medium  High risk rate\n",
                            "sex                                           \n",
                            "Female       151   699     325        0.128511\n",
                            "Male         993  2722    1282        0.198719"
                        ]
                    },
                    "execution_count": 16,
                    "metadata": {},
                    "output_type": "execute_result"
                }
            ],
            "source": [
                "# high risk rates by sex\n",
                "score_sex = pd.crosstab(cv.sex, cv[score_col])\n",
                "score_sex['High risk rate'] = score_sex['High'] / score_sex.sum(axis=1)\n",
                "score_sex"
            ]
        },
        {
            "cell_type": "markdown",
            "metadata": {},
            "source": [
                "Generally, the fraction of people assigned a `high` risk is greater where the recidivism rates are also higher. \n",
                "\n"
            ]
        },
        {
            "cell_type": "markdown",
            "metadata": {},
            "source": [
                "## 2. Predictive calibration and accuracy\n",
                "Being \"accurate\" in a predictive sense is only one type of \"fairness,\" as we shall see, but it's still a desirable characteristic.\n",
                "\n",
                "Let's start by looking at the proportion of people who are re-arrested in each decile score."
            ]
        },
        {
            "cell_type": "code",
            "execution_count": 17,
            "metadata": {},
            "outputs": [
                {
                    "data": {
                        "text/plain": [
                            "<matplotlib.axes._subplots.AxesSubplot at 0x112f9e940>"
                        ]
                    },
                    "execution_count": 17,
                    "metadata": {},
                    "output_type": "execute_result"
                },
                {
                    "data": {
                        "image/png": "[encoded data removed]",
                        "text/plain": [
                            "<Figure size 432x288 with 1 Axes>"
                        ]
                    },
                    "metadata": {},
                    "output_type": "display_data"
                }
            ],
            "source": [
                "# probability of recidivism by decile\n",
                "cv.groupby(decile_col).mean()['two_year_recid'].plot(kind='bar')"
            ]
        },
        {
            "cell_type": "code",
            "execution_count": 18,
            "metadata": {
                "scrolled": true
            },
            "outputs": [
                {
                    "data": {
                        "text/plain": [
                            "<matplotlib.axes._subplots.AxesSubplot at 0x1132dd908>"
                        ]
                    },
                    "execution_count": 18,
                    "metadata": {},
                    "output_type": "execute_result"
                },
                {
                    "data": {
                        "image/png": "[encoded data removed]",
                        "text/plain": [
                            "<Figure size 432x288 with 1 Axes>"
                        ]
                    },
                    "metadata": {},
                    "output_type": "display_data"
                }
            ],
            "source": [
                "# probability of recidivism by decile and race\n",
                "b = cv[cv.race=='African-American'].groupby([decile_col]).mean()['two_year_recid']\n",
                "w = cv[cv.race=='Caucasian'].groupby([decile_col]).mean()['two_year_recid']\n",
                "\n",
                "a = pd.concat([w,b], axis=1)\n",
                "a.columns = ['White','Black']\n",
                "a.plot.bar()"
            ]
        },
        {
            "cell_type": "markdown",
            "metadata": {},
            "source": [
                "The outcome variable `two_year_recid` is the actually observed results in the world, and it is binary -- was this person re-arrested within two years of their initial arrest and risk score assignment? To work with this data further we're going to simplify the COMPAS classifier scores  it by thresholding them into a binary variable as well. ProPublica splits \"low\" from \"medium or high\" risk, according to their [methodology](https://www.propublica.org/article/how-we-analyzed-the-compas-recidivism-algorithm). \n",
                "\n",
                "Using this binary prediction variable lets us compute a confusion matrix for the COMPAS algorithm."
            ]
        },
        {
            "cell_type": "code",
            "execution_count": 19,
            "metadata": {},
            "outputs": [
                {
                    "data": {
                        "text/html": [
                            "<div>\n",
                            "<style>\n",
                            "    .dataframe thead tr:only-child th {\n",
                            "        text-align: right;\n",
                            "    }\n",
                            "\n",
                            "    .dataframe thead th {\n",
                            "        text-align: left;\n",
                            "    }\n",
                            "\n",
                            "    .dataframe tbody tr th {\n",
                            "        vertical-align: top;\n",
                            "    }\n",
                            "</style>\n",
                            "<table border=\"1\" class=\"dataframe\">\n",
                            "  <thead>\n",
                            "    <tr style=\"text-align: right;\">\n",
                            "      <th>guessed_recid</th>\n",
                            "      <th>False</th>\n",
                            "      <th>True</th>\n",
                            "    </tr>\n",
                            "    <tr>\n",
                            "      <th>actual_recid</th>\n",
                            "      <th></th>\n",
                            "      <th></th>\n",
                            "    </tr>\n",
                            "  </thead>\n",
                            "  <tbody>\n",
                            "    <tr>\n",
                            "      <th>False</th>\n",
                            "      <td>2345</td>\n",
                            "      <td>1018</td>\n",
                            "    </tr>\n",
                            "    <tr>\n",
                            "      <th>True</th>\n",
                            "      <td>1076</td>\n",
                            "      <td>1733</td>\n",
                            "    </tr>\n",
                            "  </tbody>\n",
                            "</table>\n",
                            "</div>"
                        ],
                        "text/plain": [
                            "guessed_recid  False  True \n",
                            "actual_recid               \n",
                            "False           2345   1018\n",
                            "True            1076   1733"
                        ]
                    },
                    "execution_count": 19,
                    "metadata": {},
                    "output_type": "execute_result"
                }
            ],
            "source": [
                "# COMPAS recidivism confusion matrix\n",
                "cv['guessed_recid'] = cv[score_col] != 'Low'\n",
                "cv['actual_recid'] = cv.two_year_recid == 1\n",
                "cm = pd.crosstab(cv.actual_recid, cv.guessed_recid)\n",
                "cm # for \"confusion matrix\""
            ]
        },
        {
            "cell_type": "markdown",
            "metadata": {},
            "source": [
                "All of the information about binary classifier performance and error (for a particular group) is in a 2x2 confusion matrix (also called a contingency table.) But we're usually interested in rates as opposed to raw numbers, so we're going to convert this table into the following values:\n",
                "\n",
                "- Accuracy: the fraction of guesses that were correct\n",
                "- Precision or Positive Predictive Value: of the people we guessed would recidivate, what fraction did?\n",
                "- False Positive Rate: of the people who didn't recidivate, how many did we guess would?\n",
                "- False Negative Rate: of the people who did recidivate, how many did we guess would not?\n",
                "\n",
                "There's a wonderful little [diagram on the qauntitative definitions of fairness](https://speak-statistics-to-power.github.io/fairness/#definitions-metric-parities) page that shows how all of these relate, and Wikipedia is also a [good reference](https://en.wikipedia.org/wiki/Confusion_matrix)."
            ]
        },
        {
            "cell_type": "code",
            "execution_count": 20,
            "metadata": {
                "collapsed": true
            },
            "outputs": [],
            "source": [
                "# The usual definitions. First index is predicted, second is actual\n",
                "TN = cm[False][False]\n",
                "TP = cm[True][True]\n",
                "FN = cm[False][True]\n",
                "FP = cm[True][False]\n"
            ]
        },
        {
            "cell_type": "markdown",
            "metadata": {},
            "source": [
                "About 63% of those scored as medium or high risk end up getting arrested again within two years. This is the **Positive Predictive Value (PPV)** or **Precision**. "
            ]
        },
        {
            "cell_type": "code",
            "execution_count": 21,
            "metadata": {},
            "outputs": [
                {
                    "data": {
                        "text/plain": [
                            "0.62995274445656124"
                        ]
                    },
                    "execution_count": 21,
                    "metadata": {},
                    "output_type": "execute_result"
                }
            ],
            "source": [
                "# PPV\n",
                "TP / (TP + FP)"
            ]
        },
        {
            "cell_type": "markdown",
            "metadata": {},
            "source": [
                "Of those who did not go on to be re-arrested, about 30% were classified as medium or high risk. This is the **False Positive Rate (FPR)**."
            ]
        },
        {
            "cell_type": "code",
            "execution_count": 22,
            "metadata": {},
            "outputs": [
                {
                    "data": {
                        "text/plain": [
                            "0.30270591733571217"
                        ]
                    },
                    "execution_count": 22,
                    "metadata": {},
                    "output_type": "execute_result"
                }
            ],
            "source": [
                "# FPR\n",
                "FP / (FP + TN)"
            ]
        },
        {
            "cell_type": "markdown",
            "metadata": {},
            "source": [
                "It may help to understand many of these formulas if we define variables for the total number of true positive and negative cases:"
            ]
        },
        {
            "cell_type": "code",
            "execution_count": 23,
            "metadata": {
                "collapsed": true
            },
            "outputs": [],
            "source": [
                "P = TP + FN\n",
                "N = TN + FP"
            ]
        },
        {
            "cell_type": "code",
            "execution_count": 24,
            "metadata": {},
            "outputs": [
                {
                    "data": {
                        "text/plain": [
                            "0.30270591733571217"
                        ]
                    },
                    "execution_count": 24,
                    "metadata": {},
                    "output_type": "execute_result"
                }
            ],
            "source": [
                "# Equivalent definition of FPR that might be easier to understand, N in denominator\n",
                "FP / N"
            ]
        },
        {
            "cell_type": "markdown",
            "metadata": {},
            "source": [
                "We can also calculate the **False Negative Rate (FNR)** which counts those who were  classified as low risk, as a fraction of those who were re-arrested.\n"
            ]
        },
        {
            "cell_type": "code",
            "execution_count": 25,
            "metadata": {},
            "outputs": [
                {
                    "data": {
                        "text/plain": [
                            "0.38305446778212887"
                        ]
                    },
                    "execution_count": 25,
                    "metadata": {},
                    "output_type": "execute_result"
                }
            ],
            "source": [
                "# FNR\n",
                "FN / (FN + TP)"
            ]
        },
        {
            "cell_type": "code",
            "execution_count": 26,
            "metadata": {},
            "outputs": [
                {
                    "data": {
                        "text/plain": [
                            "0.38305446778212887"
                        ]
                    },
                    "execution_count": 26,
                    "metadata": {},
                    "output_type": "execute_result"
                }
            ],
            "source": [
                "# Alternate form with P in denominator\n",
                "FN / P"
            ]
        },
        {
            "cell_type": "markdown",
            "metadata": {},
            "source": [
                "To study the difference betwen races, let's define a few helper functions."
            ]
        },
        {
            "cell_type": "code",
            "execution_count": 27,
            "metadata": {
                "collapsed": true
            },
            "outputs": [],
            "source": [
                "# cm is a confusion matrix. The rows are guessed, the columns are actual \n",
                "def print_ppv_fpv(cm):\n",
                "    # the indices here are [col][row] or [actual][guessed]\n",
                "    TN = cm[False][False]   \n",
                "    TP = cm[True][True]\n",
                "    FN = cm[True][False]\n",
                "    FP = cm[False][True]\n",
                "    print('Accuracy: ', (TN+TP)/(TN+TP+FN+FP))\n",
                "    print('PPV: ', TP / (TP + FP))\n",
                "    print('FPR: ', FP / (FP + TN))\n",
                "    print('FNR: ', FN / (FN + TP))\n",
                "    print()\n",
                "\n",
                "def print_metrics(guessed, actual):\n",
                "    cm = pd.crosstab(guessed, actual, rownames=['guessed'], colnames=['actual'])\n",
                "    print(cm)\n",
                "    print()\n",
                "    print_ppv_fpv(cm)    \n"
            ]
        },
        {
            "cell_type": "code",
            "execution_count": 28,
            "metadata": {},
            "outputs": [
                {
                    "name": "stdout",
                    "output_type": "stream",
                    "text": [
                        "White\n",
                        "actual   False  True \n",
                        "guessed              \n",
                        "False      999    408\n",
                        "True       282    414\n",
                        "\n",
                        "Accuracy:  0.671897289586\n",
                        "PPV:  0.594827586207\n",
                        "FPR:  0.220140515222\n",
                        "FNR:  0.496350364964\n",
                        "\n",
                        "Black\n",
                        "actual   False  True \n",
                        "guessed              \n",
                        "False      873    473\n",
                        "True       641   1188\n",
                        "\n",
                        "Accuracy:  0.649133858268\n",
                        "PPV:  0.649535265172\n",
                        "FPR:  0.423381770145\n",
                        "FNR:  0.284768211921\n",
                        "\n"
                    ]
                }
            ],
            "source": [
                "print('White')\n",
                "subset = cv[cv.race == 'Caucasian']\n",
                "print_metrics(subset.guessed_recid, subset.actual_recid)\n",
                "\n",
                "print('Black')\n",
                "subset = cv[cv.race == 'African-American']\n",
                "print_metrics(subset.guessed_recid, subset.actual_recid)"
            ]
        },
        {
            "cell_type": "markdown",
            "metadata": {},
            "source": [
                "And here is the statistical core of ProPublica's story: the False Positive Rate is substantially higher for black defendants. \n",
                "\n",
                "However, also note that the PPV is similar between black and white. In fact the lower PPV for white means the score is has greater predictive accuracy for black defendants. Here \"accurate\" measures the proportion of people that actually were re-arrested, as a proportion of the people that COMPAS guessed would be."
            ]
        },
        {
            "cell_type": "markdown",
            "metadata": {},
            "source": [
                "## 3. Logistic regression to build our own predictor\n",
                "\n",
                "We are going to use logistic regression to try to build our own predictor, just from the information we we have. This is actually quite a lot:\n",
                "- Age\n",
                "- Sex\n",
                "- Felony or Misdemeanor charge (`c_charge_degree`)\n",
                "- Number of prior arrests (`c_priors_count`)\n",
                "\n",
                "And we'll try this both with and without race as a predictive factor, too."
            ]
        },
        {
            "cell_type": "code",
            "execution_count": 29,
            "metadata": {
                "collapsed": true
            },
            "outputs": [],
            "source": [
                "# build up dummy variables for age, race, gender\n",
                "features = pd.concat(\n",
                "    [pd.get_dummies(cv.age_cat, prefix='age'),\n",
                "     pd.get_dummies(cv.sex, prefix='sex'),\n",
                "     pd.get_dummies(cv.c_charge_degree, prefix='degree'), # felony or misdemeanor charge ('f' or 'm')\n",
                "     cv.priors_count],\n",
                "    axis=1)\n",
                "\n",
                "# We should have one less dummy variable than the number of categories, to avoid the \"dummy variable trap\"\n",
                "# See https://www.quora.com/When-do-I-fall-in-the-dummy-variable-trap\n",
                "features.drop(['age_25 - 45', 'sex_Female', 'degree_M'], axis=1, inplace=True)\n",
                "\n",
                "# Try to predict whether someone is re-arrested\n",
                "target = cv.two_year_recid\n"
            ]
        },
        {
            "cell_type": "code",
            "execution_count": 30,
            "metadata": {},
            "outputs": [
                {
                    "data": {
                        "text/plain": [
                            "LogisticRegression(C=1.0, class_weight=None, dual=False, fit_intercept=True,\n",
                            "          intercept_scaling=1, max_iter=100, multi_class='ovr', n_jobs=1,\n",
                            "          penalty='l2', random_state=None, solver='liblinear', tol=0.0001,\n",
                            "          verbose=0, warm_start=False)"
                        ]
                    },
                    "execution_count": 30,
                    "metadata": {},
                    "output_type": "execute_result"
                }
            ],
            "source": [
                "x = features.values\n",
                "y = target.values\n",
                "lr = LogisticRegression()\n",
                "lr.fit(x,y)"
            ]
        },
        {
            "cell_type": "markdown",
            "metadata": {},
            "source": [
                "This is a logistic regression, so the coefficients are odds ratios (after undoing the logarithm.) Let's look at them to see what weights it used to make its predictions."
            ]
        },
        {
            "cell_type": "code",
            "execution_count": 31,
            "metadata": {},
            "outputs": [
                {
                    "data": {
                        "text/html": [
                            "<div>\n",
                            "<style>\n",
                            "    .dataframe thead tr:only-child th {\n",
                            "        text-align: right;\n",
                            "    }\n",
                            "\n",
                            "    .dataframe thead th {\n",
                            "        text-align: left;\n",
                            "    }\n",
                            "\n",
                            "    .dataframe tbody tr th {\n",
                            "        vertical-align: top;\n",
                            "    }\n",
                            "</style>\n",
                            "<table border=\"1\" class=\"dataframe\">\n",
                            "  <thead>\n",
                            "    <tr style=\"text-align: right;\">\n",
                            "      <th></th>\n",
                            "      <th>age_Greater than 45</th>\n",
                            "      <th>age_Less than 25</th>\n",
                            "      <th>sex_Male</th>\n",
                            "      <th>degree_F</th>\n",
                            "      <th>priors_count</th>\n",
                            "    </tr>\n",
                            "  </thead>\n",
                            "  <tbody>\n",
                            "    <tr>\n",
                            "      <th>0</th>\n",
                            "      <td>0.504745</td>\n",
                            "      <td>2.105168</td>\n",
                            "      <td>1.397191</td>\n",
                            "      <td>1.250864</td>\n",
                            "      <td>1.185331</td>\n",
                            "    </tr>\n",
                            "  </tbody>\n",
                            "</table>\n",
                            "</div>"
                        ],
                        "text/plain": [
                            "   age_Greater than 45  age_Less than 25  sex_Male  degree_F  priors_count\n",
                            "0             0.504745          2.105168  1.397191  1.250864      1.185331"
                        ]
                    },
                    "execution_count": 31,
                    "metadata": {},
                    "output_type": "execute_result"
                }
            ],
            "source": [
                "# Examine regression coefficients\n",
                "coeffs = pd.DataFrame(np.exp(lr.coef_), columns=features.columns)\n",
                "coeffs"
            ]
        },
        {
            "cell_type": "markdown",
            "metadata": {},
            "source": [
                "The model thinks that (for the non-violent data set):\n",
                "\n",
                "- being young (<25) more than doubles your odds of recidivism\n",
                "- but being >45 years old makes half as likely\n",
                "- being male increases your odds by 40%\n",
                "- every prior arrest increases your odds by 18%\n",
                "\n",
                "Now let's put our model through the same tests as we used on the COMPAS score to see how well this predictor does."
            ]
        },
        {
            "cell_type": "code",
            "execution_count": 32,
            "metadata": {},
            "outputs": [
                {
                    "data": {
                        "text/html": [
                            "<div>\n",
                            "<style>\n",
                            "    .dataframe thead tr:only-child th {\n",
                            "        text-align: right;\n",
                            "    }\n",
                            "\n",
                            "    .dataframe thead th {\n",
                            "        text-align: left;\n",
                            "    }\n",
                            "\n",
                            "    .dataframe tbody tr th {\n",
                            "        vertical-align: top;\n",
                            "    }\n",
                            "</style>\n",
                            "<table border=\"1\" class=\"dataframe\">\n",
                            "  <thead>\n",
                            "    <tr style=\"text-align: right;\">\n",
                            "      <th>actual</th>\n",
                            "      <th>False</th>\n",
                            "      <th>True</th>\n",
                            "    </tr>\n",
                            "    <tr>\n",
                            "      <th>guessed</th>\n",
                            "      <th></th>\n",
                            "      <th></th>\n",
                            "    </tr>\n",
                            "  </thead>\n",
                            "  <tbody>\n",
                            "    <tr>\n",
                            "      <th>False</th>\n",
                            "      <td>2568</td>\n",
                            "      <td>1239</td>\n",
                            "    </tr>\n",
                            "    <tr>\n",
                            "      <th>True</th>\n",
                            "      <td>795</td>\n",
                            "      <td>1570</td>\n",
                            "    </tr>\n",
                            "  </tbody>\n",
                            "</table>\n",
                            "</div>"
                        ],
                        "text/plain": [
                            "actual   False  True \n",
                            "guessed              \n",
                            "False     2568   1239\n",
                            "True       795   1570"
                        ]
                    },
                    "execution_count": 32,
                    "metadata": {},
                    "output_type": "execute_result"
                }
            ],
            "source": [
                "# Crosstab for our predictive model\n",
                "y_pred = lr.predict(x)\n",
                "guessed=pd.Series(y_pred)==1\n",
                "\n",
                "actual=cv.two_year_recid==1\n",
                "\n",
                "cm = pd.crosstab(guessed, actual, rownames=['guessed'], colnames=['actual'])\n",
                "cm"
            ]
        },
        {
            "cell_type": "code",
            "execution_count": 33,
            "metadata": {
                "scrolled": true
            },
            "outputs": [
                {
                    "name": "stdout",
                    "output_type": "stream",
                    "text": [
                        "Accuracy:  0.670447180817\n",
                        "PPV:  0.663847780127\n",
                        "FPR:  0.236396074933\n",
                        "FNR:  0.441082235671\n",
                        "\n"
                    ]
                }
            ],
            "source": [
                "print_ppv_fpv(cm)"
            ]
        },
        {
            "cell_type": "markdown",
            "metadata": {},
            "source": [
                "Once again, we can compare between White and Black."
            ]
        },
        {
            "cell_type": "code",
            "execution_count": 34,
            "metadata": {},
            "outputs": [
                {
                    "name": "stdout",
                    "output_type": "stream",
                    "text": [
                        "White\n",
                        "actual   False  True \n",
                        "guessed              \n",
                        "False     1068    494\n",
                        "True       213    328\n",
                        "\n",
                        "Accuracy:  0.66381359962\n",
                        "PPV:  0.606284658041\n",
                        "FPR:  0.166276346604\n",
                        "FNR:  0.60097323601\n",
                        "\n",
                        "Black\n",
                        "actual   False  True \n",
                        "guessed              \n",
                        "False     1026    564\n",
                        "True       488   1097\n",
                        "\n",
                        "Accuracy:  0.668661417323\n",
                        "PPV:  0.692113564669\n",
                        "FPR:  0.322324966975\n",
                        "FNR:  0.33955448525\n",
                        "\n"
                    ]
                }
            ],
            "source": [
                "print('White')\n",
                "subset = cv.race == 'Caucasian'\n",
                "print_metrics(guessed[subset], actual[subset])\n",
                "\n",
                "print('Black')\n",
                "subset = cv.race == 'African-American'\n",
                "print_metrics(guessed[subset], actual[subset])"
            ]
        },
        {
            "cell_type": "markdown",
            "metadata": {},
            "source": [
                "## 4. The limits of prediction\n",
                "Both COMPAS and our logistic regression classifier only get about 65% accuracy overall. Would it be possible to do better with are more sophisticated classifier or feature encoding? We can take a look at two variables at a time to try to see what's happening here."
            ]
        },
        {
            "cell_type": "code",
            "execution_count": 35,
            "metadata": {},
            "outputs": [
                {
                    "data": {
                        "text/plain": [
                            "<matplotlib.collections.PathCollection at 0x1176abf28>"
                        ]
                    },
                    "execution_count": 35,
                    "metadata": {},
                    "output_type": "execute_result"
                },
                {
                    "data": {
                        "image/png": "[encoded data removed]",
                        "text/plain": [
                            "<Figure size 432x288 with 1 Axes>"
                        ]
                    },
                    "metadata": {},
                    "output_type": "display_data"
                }
            ],
            "source": [
                "# Scatterpolot of age vs. priors, colored by two_year_recid\n",
                "colors = cv.two_year_recid.apply(lambda x: 'red' if x else 'blue')\n",
                "plt.scatter(cv.age, cv.priors_count, c=colors, alpha=0.05)"
            ]
        },
        {
            "cell_type": "code",
            "execution_count": 36,
            "metadata": {
                "collapsed": true
            },
            "outputs": [],
            "source": [
                "# add a  noise to the values in the array\n",
                "def jitter(arr):\n",
                "    # pick a standard deviation for the jitter of 3% of the data range\n",
                "    stdev = .02*(max(arr)-min(arr))\n",
                "    return arr + np.random.randn(len(arr)) * stdev"
            ]
        },
        {
            "cell_type": "code",
            "execution_count": 37,
            "metadata": {},
            "outputs": [
                {
                    "data": {
                        "text/plain": [
                            "<matplotlib.collections.PathCollection at 0x1177d1fd0>"
                        ]
                    },
                    "execution_count": 37,
                    "metadata": {},
                    "output_type": "execute_result"
                },
                {
                    "data": {
                        "image/png": "[encoded data removed]",
                        "text/plain": [
                            "<Figure size 432x288 with 1 Axes>"
                        ]
                    },
                    "metadata": {},
                    "output_type": "display_data"
                }
            ],
            "source": [
                "# Scatterpolot of age vs. sex, colored by two_year_recid\n",
                "plt.scatter(cv.age, jitter(features.sex_Male), c=colors, alpha=0.05)"
            ]
        },
        {
            "cell_type": "markdown",
            "metadata": {},
            "source": [
                "There is no way to draw a line (even a curved line) that cleanly separates the red (recidivated) and blue (did not recidivate) dots. We can do a little better by looking at more than two axes at a time, and might be able to imagine fitting a curved plane, but it's still not possible to separate red and blue enough to give us a very accurate classifier."
            ]
        }
    ],
    "metadata": {
        "kernelspec": {
            "display_name": "Python 3",
            "language": "python",
            "name": "python3"
        },
        "language_info": {
            "codemirror_mode": {
                "name": "ipython",
                "version": 3
            },
            "file_extension": ".py",
            "mimetype": "text/x-python",
            "name": "python",
            "nbconvert_exporter": "python",
            "pygments_lexer": "ipython3",
            "version": "3.6.8"
        },
        "toc": {
            "base_numbering": 1,
            "nav_menu": {},
            "number_sections": true,
            "sideBar": true,
            "skip_h1_title": false,
            "title_cell": "Table of Contents",
            "title_sidebar": "Contents",
            "toc_cell": false,
            "toc_position": {},
            "toc_section_display": true,
            "toc_window_display": false
        }
    },
    "nbformat": 4,
    "nbformat_minor": 2
}