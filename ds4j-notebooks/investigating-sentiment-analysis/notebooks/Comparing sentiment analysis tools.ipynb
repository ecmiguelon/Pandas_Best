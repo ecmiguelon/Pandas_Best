{
    "cells": [
        {
            "cell_type": "markdown",
            "metadata": {},
            "source": [
                "# Sentiment Analysis Tools\n",
                "\n",
                "Lots of libraries exist that will do sentiment analysis for you. Imagine that: just taking a sentence, throwing it into a library, and geting back a score! How convenient!\n",
                "\n",
                "It also might be **totally irresponsible** unless you know how the sentiment analyzer was built. In this section we're going to see how sentiment analysis is done with a few different packages."
            ]
        },
        {
            "cell_type": "markdown",
            "metadata": {},
            "source": [
                "<p class=\"reading-options\">\n  <a class=\"btn\" href=\"/investigating-sentiment-analysis/comparing-sentiment-analysis-tools\">\n    <i class=\"fa fa-sm fa-book\"></i>\n    Read online\n  </a>\n  <a class=\"btn\" href=\"/investigating-sentiment-analysis/notebooks/Comparing sentiment analysis tools.ipynb\">\n    <i class=\"fa fa-sm fa-download\"></i>\n    Download notebook\n  </a>\n  <a class=\"btn\" href=\"https://colab.research.google.com/github/littlecolumns/ds4j-notebooks/blob/master/investigating-sentiment-analysis/notebooks/Comparing sentiment analysis tools.ipynb\" target=\"_new\">\n    <i class=\"fa fa-sm fa-laptop\"></i>\n    Interactive version\n  </a>\n</p>"
            ]
        },
        {
            "cell_type": "markdown",
            "metadata": {},
            "source": [
                "## Installation\n",
                "\n",
                "If you haven't already, you'll want to `pip install` two language processing packages, NLTK and Textblob, along with a couple data analysis/visualization libraries, matplotlib and pandas. You can uncomment and run the cell below if you need to."
            ]
        },
        {
            "cell_type": "code",
            "execution_count": 3,
            "metadata": {},
            "outputs": [],
            "source": [
                "# !pip install matplotlib pandas nltk textblob "
            ]
        },
        {
            "cell_type": "markdown",
            "metadata": {},
            "source": [
                "## Tools\n",
                "\n",
                "### NLTK: Natural Language Tooklit\n",
                "\n",
                "[Natural Language Toolkit](https://www.nltk.org/) is the basis for a lot of text analysis done in Python. It's old and terrible and slow, but it's just been used for so long and does so many things that it's generally the default when people get into text analysis. The new kid on the block is [spaCy](https://spacy.io/) (but it doesn't do sentiment analysis out of the box so we're leaving it out of this).\n",
                "\n",
                "When you first run NLTK, you need to download some datasets to make sure it will be able to do everything you want."
            ]
        },
        {
            "cell_type": "code",
            "execution_count": 4,
            "metadata": {},
            "outputs": [
                {
                    "data": {
                        "text/plain": [
                            "True"
                        ]
                    },
                    "execution_count": 4,
                    "metadata": {},
                    "output_type": "execute_result"
                }
            ],
            "source": [
                "import nltk\n",
                "nltk.download('vader_lexicon')\n",
                "nltk.download('movie_reviews')\n",
                "nltk.download('punkt')"
            ]
        },
        {
            "cell_type": "markdown",
            "metadata": {},
            "source": [
                "To do sentiment analysis with NLTK, it only takes a couple lines of code. To determine sentiment, it's using a tool called **VADER**."
            ]
        },
        {
            "cell_type": "code",
            "execution_count": 1,
            "metadata": {},
            "outputs": [
                {
                    "data": {
                        "text/plain": [
                            "{'neg': 0.153, 'neu': 0.688, 'pos': 0.159, 'compound': 0.0276}"
                        ]
                    },
                    "execution_count": 1,
                    "metadata": {},
                    "output_type": "execute_result"
                }
            ],
            "source": [
                "from nltk.sentiment.vader import SentimentIntensityAnalyzer as SIA\n",
                "\n",
                "sia = SIA()\n",
                "sia.polarity_scores(\"This restaurant was great, but I'm not sure if I'll go there again.\")"
            ]
        },
        {
            "cell_type": "markdown",
            "metadata": {},
            "source": [
                "Asking `SentimentIntensityAnalyzer` for the `polarity_score` gave us four values in a dictionary:\n",
                "\n",
                "- **negative:** the negative sentiment in a sentence\n",
                "- **neutral:** the neutral sentiment in a sentence\n",
                "- **positive:** the postivie sentiment in the sentence\n",
                "- **compound:** the aggregated sentiment. \n",
                "    \n",
                "Seems simple enough!"
            ]
        },
        {
            "cell_type": "code",
            "execution_count": 2,
            "metadata": {},
            "outputs": [
                {
                    "data": {
                        "text/plain": [
                            "{'neg': 0.0, 'neu': 1.0, 'pos': 0.0, 'compound': 0.0}"
                        ]
                    },
                    "execution_count": 2,
                    "metadata": {},
                    "output_type": "execute_result"
                }
            ],
            "source": [
                "text = \"I just got a call from my boss - does he realise it's Saturday?\"\n",
                "sia.polarity_scores(text)"
            ]
        },
        {
            "cell_type": "markdown",
            "metadata": {},
            "source": [
                "Just like in real life, if you use an emoticon you can be read as being more positive:"
            ]
        },
        {
            "cell_type": "code",
            "execution_count": 3,
            "metadata": {},
            "outputs": [
                {
                    "data": {
                        "text/plain": [
                            "{'neg': 0.0, 'neu': 0.786, 'pos': 0.214, 'compound': 0.4588}"
                        ]
                    },
                    "execution_count": 3,
                    "metadata": {},
                    "output_type": "execute_result"
                }
            ],
            "source": [
                "text = \"I just got a call from my boss - does he realise it's Saturday? :)\"\n",
                "sia.polarity_scores(text)"
            ]
        },
        {
            "cell_type": "markdown",
            "metadata": {},
            "source": [
                "But what if we swap out the emoticon for an emoji?"
            ]
        },
        {
            "cell_type": "code",
            "execution_count": 4,
            "metadata": {},
            "outputs": [
                {
                    "data": {
                        "text/plain": [
                            "{'neg': 0.0, 'neu': 1.0, 'pos': 0.0, 'compound': 0.0}"
                        ]
                    },
                    "execution_count": 4,
                    "metadata": {},
                    "output_type": "execute_result"
                }
            ],
            "source": [
                "text = \"I just got a call from my boss - does he realise it's Saturday? \ud83d\ude0a\"\n",
                "sia.polarity_scores(text)"
            ]
        },
        {
            "cell_type": "markdown",
            "metadata": {},
            "source": [
                "Back to neutral! Why didn't it understand the emoji the same way it understood the emoticon? Well, **text analysis tools only knows the words that they've been taught,** and if VADER's never seen \ud83d\ude0a before it won't know what to think of it."
            ]
        },
        {
            "cell_type": "markdown",
            "metadata": {},
            "source": [
                "### TextBlob\n",
                "\n",
                "TextBlob is built on top of NLTK, but is infinitely easier to use. It's still slow, but _it's so so so easy to use_. \n",
                "\n",
                "You can just feed TextBlob your sentence, then ask for a `.sentiment`!"
            ]
        },
        {
            "cell_type": "code",
            "execution_count": 9,
            "metadata": {},
            "outputs": [],
            "source": [
                "from textblob import TextBlob\n",
                "from textblob import Blobber\n",
                "from textblob.sentiments import NaiveBayesAnalyzer"
            ]
        },
        {
            "cell_type": "code",
            "execution_count": 10,
            "metadata": {},
            "outputs": [
                {
                    "data": {
                        "text/plain": [
                            "Sentiment(polarity=0.275, subjectivity=0.8194444444444444)"
                        ]
                    },
                    "execution_count": 10,
                    "metadata": {},
                    "output_type": "execute_result"
                }
            ],
            "source": [
                "blob = TextBlob(\"This restaurant was great, but I'm not sure if I'll go there again.\")\n",
                "blob.sentiment"
            ]
        },
        {
            "cell_type": "markdown",
            "metadata": {},
            "source": [
                "**How could it possibly be easier than that?!?!?** This time we get a `polarity` and a `subjectivity` instead of all of those different scores, but it's basically the same idea.\n",
                "\n",
                "If you like options: it turns out TextBlob actually has multiple sentiment analysis tools! How fun! We can plug in a different analyzer to get a different result."
            ]
        },
        {
            "cell_type": "code",
            "execution_count": 11,
            "metadata": {},
            "outputs": [
                {
                    "data": {
                        "text/plain": [
                            "Sentiment(classification='pos', p_pos=0.5879425317005774, p_neg=0.41205746829942275)"
                        ]
                    },
                    "execution_count": 11,
                    "metadata": {},
                    "output_type": "execute_result"
                }
            ],
            "source": [
                "blobber = Blobber(analyzer=NaiveBayesAnalyzer())\n",
                "\n",
                "blob = blobber(\"This restaurant was great, but I'm not sure if I'll go there again.\")\n",
                "blob.sentiment"
            ]
        },
        {
            "cell_type": "markdown",
            "metadata": {},
            "source": [
                "Wow, that's a **very different result.** To understand why it's so different, we need to talk about where these sentiment numbers come from."
            ]
        },
        {
            "cell_type": "markdown",
            "metadata": {},
            "source": [
                "## How were they made?\n",
                "\n",
                "The most important thing to understand is **sentiment is always just an opinion.** In this case it's an opinion, yes, but specifically **the opinion of a machine.**\n",
                "\n",
                "### VADER\n",
                "\n",
                "NLTK's Sentiment Intensity Analyzer works is using something called **VADER**, which is a list of words that have a sentiment associated with each of them.\n",
                "\n",
                "|Word|Sentiment rating|\n",
                "|---|---|\n",
                "|tragedy|-3.4|\n",
                "|rejoiced|2.0|\n",
                "|disaster|-3.1|\n",
                "|great|3.1|\n",
                "\n",
                "If you have more positives, the sentence is more positive. If you have more negatives, it's more negative. It can also take into account things like capitalization - you can read more about the classifier [here](http://t-redactyl.io/blog/2017/04/using-vader-to-handle-sentiment-analysis-with-social-media-text.html), or the actual paper it came out of [here](http://comp.social.gatech.edu/papers/icwsm14.vader.hutto.pdf).\n",
                "\n",
                "**How do they know what's positive/negative?** They came up with a very big list of words, then asked people on the internet and paid them one cent for each word they scored.\n",
                "\n",
                "### TextBlob's `.sentiment`\n",
                "\n",
                "TextBlob's sentiment analysis is based on a separate library called [pattern](https://www.clips.uantwerpen.be/pattern).\n",
                "\n",
                "> The sentiment analysis lexicon bundled in Pattern focuses on adjectives. It contains adjectives that occur frequently in customer reviews, hand-tagged with values for polarity and subjectivity.\n",
                "\n",
                "Same kind of thing as NLTK's VADER, but it specifically looks at words from customer reviews.\n",
                "\n",
                "**How do they know what's positive/negative?** They look at (mostly) adjectives that occur in customer reviews and hand-tag them.\n",
                "\n",
                "### TextBlob's `.sentiment` + NaiveBayesAnalyzer\n",
                "\n",
                "TextBlob's other option uses a `NaiveBayesAnalyzer`, which is a machine learning technique. When you use this option with TextBlob, the sentiment is coming from \"an NLTK classifier trained on a movie reviews corpus.\"\n",
                "\n",
                "**How do they know what's positive/negative?** Looked at movie reviews and scores using machine learning, the computer _automatically learned_ what words are associated with a positive or negative rating.\n",
                "\n",
                "## What's this mean for me?\n",
                "\n",
                "When you're doing sentiment analysis with tools like this, you should have a few major questions: \n",
                "\n",
                "* Where kind of dataset does the list of known words come from?\n",
                "* Do they use all the words, or a selection of the words?\n",
                "* Where do the positive/negative scores come from?\n",
                "\n",
                "Let's compare the tools we've used so far.\n",
                "\n",
                "|technique|word source|word selection|scores|\n",
                "|---|---|---|---|\n",
                "|NLTK (VADER)|everywhere|hand-picked|internet people, word-by-word|\n",
                "|TextBlob|product reviews|hand-picked, mostly adjectives|internet people, word-by-word|\n",
                "|TextBlob + NaiveBayesAnalyzer|movie reviews|all words|automatic based on score|\n",
                "\n",
                "A major thing that should jump out at you is **how different the sources are.**\n",
                "\n",
                "While VADER focuses on content found everywhere, TextBlob's two options are specific to certain domains. The [original paper for VADER](http://comp.social.gatech.edu/papers/icwsm14.vader.hutto.pdf) passive-aggressively noted that VADER is effective at general use, but being trained on a specific domain can have benefits: \n",
                "\n",
                "> While some algorithms performed decently on test data from the specific domain for which it was expressly trained, they do not significantly outstrip the simple model we use.\n",
                "\n",
                "They're basically saying, \"if you train a model on words from a certain field, it will be good at sentiment in that certain field.\""
            ]
        },
        {
            "cell_type": "markdown",
            "metadata": {},
            "source": [
                "### Comparison chart\n",
                "\n",
                "Because they're build differently, sentiment analysis tools don't always agree. Let's take a set of sentences and compare each analyzer's understanding of them."
            ]
        },
        {
            "cell_type": "code",
            "execution_count": 46,
            "metadata": {},
            "outputs": [
                {
                    "data": {
                        "text/html": [
                            "<div>\n",
                            "<style scoped>\n",
                            "    .dataframe tbody tr th:only-of-type {\n",
                            "        vertical-align: middle;\n",
                            "    }\n",
                            "\n",
                            "    .dataframe tbody tr th {\n",
                            "        vertical-align: top;\n",
                            "    }\n",
                            "\n",
                            "    .dataframe thead th {\n",
                            "        text-align: right;\n",
                            "    }\n",
                            "</style>\n",
                            "<table border=\"1\" class=\"dataframe\">\n",
                            "  <thead>\n",
                            "    <tr style=\"text-align: right;\">\n",
                            "      <th></th>\n",
                            "      <th>content</th>\n",
                            "    </tr>\n",
                            "  </thead>\n",
                            "  <tbody>\n",
                            "    <tr>\n",
                            "      <th>0</th>\n",
                            "      <td>I love love love love this kitten</td>\n",
                            "    </tr>\n",
                            "    <tr>\n",
                            "      <th>1</th>\n",
                            "      <td>I hate hate hate hate this keyboard</td>\n",
                            "    </tr>\n",
                            "    <tr>\n",
                            "      <th>2</th>\n",
                            "      <td>I'm not sure how I feel about toast</td>\n",
                            "    </tr>\n",
                            "    <tr>\n",
                            "      <th>3</th>\n",
                            "      <td>Did you see the baseball game yesterday?</td>\n",
                            "    </tr>\n",
                            "    <tr>\n",
                            "      <th>4</th>\n",
                            "      <td>The package was delivered late and the contents were broken</td>\n",
                            "    </tr>\n",
                            "    <tr>\n",
                            "      <th>5</th>\n",
                            "      <td>Trashy television shows are some of my favorites</td>\n",
                            "    </tr>\n",
                            "    <tr>\n",
                            "      <th>6</th>\n",
                            "      <td>I'm seeing a Kubrick film tomorrow, I hear not so great things about it.</td>\n",
                            "    </tr>\n",
                            "    <tr>\n",
                            "      <th>7</th>\n",
                            "      <td>I find chirping birds irritating, but I know I'm not the only one</td>\n",
                            "    </tr>\n",
                            "  </tbody>\n",
                            "</table>\n",
                            "</div>"
                        ],
                        "text/plain": [
                            "                                                                    content\n",
                            "0                                         I love love love love this kitten\n",
                            "1                                       I hate hate hate hate this keyboard\n",
                            "2                                       I'm not sure how I feel about toast\n",
                            "3                                  Did you see the baseball game yesterday?\n",
                            "4               The package was delivered late and the contents were broken\n",
                            "5                          Trashy television shows are some of my favorites\n",
                            "6  I'm seeing a Kubrick film tomorrow, I hear not so great things about it.\n",
                            "7         I find chirping birds irritating, but I know I'm not the only one"
                        ]
                    },
                    "execution_count": 46,
                    "metadata": {},
                    "output_type": "execute_result"
                }
            ],
            "source": [
                "import pandas as pd\n",
                "pd.set_option(\"display.max_colwidth\", 200)\n",
                "\n",
                "df = pd.DataFrame({'content': [\n",
                "    \"I love love love love this kitten\",\n",
                "    \"I hate hate hate hate this keyboard\",\n",
                "    \"I'm not sure how I feel about toast\",\n",
                "    \"Did you see the baseball game yesterday?\",\n",
                "    \"The package was delivered late and the contents were broken\",\n",
                "    \"Trashy television shows are some of my favorites\",\n",
                "    \"I'm seeing a Kubrick film tomorrow, I hear not so great things about it.\",\n",
                "    \"I find chirping birds irritating, but I know I'm not the only one\",\n",
                "]})\n",
                "df"
            ]
        },
        {
            "cell_type": "code",
            "execution_count": 47,
            "metadata": {},
            "outputs": [
                {
                    "data": {
                        "text/html": [
                            "<style  type=\"text/css\" >\n",
                            "    #T_35568402_fd6e_11e9_8b45_9801a7c3989drow0_col1 {\n",
                            "            background-color:  #c3e67d;\n",
                            "            color:  #000000;\n",
                            "        }    #T_35568402_fd6e_11e9_8b45_9801a7c3989drow0_col2 {\n",
                            "            background-color:  #fff6b0;\n",
                            "            color:  #000000;\n",
                            "        }    #T_35568402_fd6e_11e9_8b45_9801a7c3989drow0_col3 {\n",
                            "            background-color:  #73c264;\n",
                            "            color:  #000000;\n",
                            "        }    #T_35568402_fd6e_11e9_8b45_9801a7c3989drow1_col1 {\n",
                            "            background-color:  #fa9656;\n",
                            "            color:  #000000;\n",
                            "        }    #T_35568402_fd6e_11e9_8b45_9801a7c3989drow1_col2 {\n",
                            "            background-color:  #feeb9d;\n",
                            "            color:  #000000;\n",
                            "        }    #T_35568402_fd6e_11e9_8b45_9801a7c3989drow1_col3 {\n",
                            "            background-color:  #f67a49;\n",
                            "            color:  #000000;\n",
                            "        }    #T_35568402_fd6e_11e9_8b45_9801a7c3989drow2_col1 {\n",
                            "            background-color:  #fee797;\n",
                            "            color:  #000000;\n",
                            "        }    #T_35568402_fd6e_11e9_8b45_9801a7c3989drow2_col2 {\n",
                            "            background-color:  #d3ec87;\n",
                            "            color:  #000000;\n",
                            "        }    #T_35568402_fd6e_11e9_8b45_9801a7c3989drow2_col3 {\n",
                            "            background-color:  #fee999;\n",
                            "            color:  #000000;\n",
                            "        }    #T_35568402_fd6e_11e9_8b45_9801a7c3989drow3_col1 {\n",
                            "            background-color:  #fed683;\n",
                            "            color:  #000000;\n",
                            "        }    #T_35568402_fd6e_11e9_8b45_9801a7c3989drow3_col2 {\n",
                            "            background-color:  #b1de71;\n",
                            "            color:  #000000;\n",
                            "        }    #T_35568402_fd6e_11e9_8b45_9801a7c3989drow3_col3 {\n",
                            "            background-color:  #fffebe;\n",
                            "            color:  #000000;\n",
                            "        }    #T_35568402_fd6e_11e9_8b45_9801a7c3989drow4_col1 {\n",
                            "            background-color:  #fede89;\n",
                            "            color:  #000000;\n",
                            "        }    #T_35568402_fd6e_11e9_8b45_9801a7c3989drow4_col2 {\n",
                            "            background-color:  #fdbd6d;\n",
                            "            color:  #000000;\n",
                            "        }    #T_35568402_fd6e_11e9_8b45_9801a7c3989drow4_col3 {\n",
                            "            background-color:  #feca79;\n",
                            "            color:  #000000;\n",
                            "        }    #T_35568402_fd6e_11e9_8b45_9801a7c3989drow5_col1 {\n",
                            "            background-color:  #fffebe;\n",
                            "            color:  #000000;\n",
                            "        }    #T_35568402_fd6e_11e9_8b45_9801a7c3989drow5_col2 {\n",
                            "            background-color:  #fbfdba;\n",
                            "            color:  #000000;\n",
                            "        }    #T_35568402_fd6e_11e9_8b45_9801a7c3989drow5_col3 {\n",
                            "            background-color:  #cfeb85;\n",
                            "            color:  #000000;\n",
                            "        }    #T_35568402_fd6e_11e9_8b45_9801a7c3989drow6_col1 {\n",
                            "            background-color:  #91d068;\n",
                            "            color:  #000000;\n",
                            "        }    #T_35568402_fd6e_11e9_8b45_9801a7c3989drow6_col2 {\n",
                            "            background-color:  #a0d669;\n",
                            "            color:  #000000;\n",
                            "        }    #T_35568402_fd6e_11e9_8b45_9801a7c3989drow6_col3 {\n",
                            "            background-color:  #fdb567;\n",
                            "            color:  #000000;\n",
                            "        }    #T_35568402_fd6e_11e9_8b45_9801a7c3989drow7_col1 {\n",
                            "            background-color:  #feec9f;\n",
                            "            color:  #000000;\n",
                            "        }    #T_35568402_fd6e_11e9_8b45_9801a7c3989drow7_col2 {\n",
                            "            background-color:  #e3f399;\n",
                            "            color:  #000000;\n",
                            "        }    #T_35568402_fd6e_11e9_8b45_9801a7c3989drow7_col3 {\n",
                            "            background-color:  #fee797;\n",
                            "            color:  #000000;\n",
                            "        }</style><table id=\"T_35568402_fd6e_11e9_8b45_9801a7c3989d\" ><thead>    <tr>        <th class=\"blank level0\" ></th>        <th class=\"col_heading level0 col0\" >content</th>        <th class=\"col_heading level0 col1\" >textblob</th>        <th class=\"col_heading level0 col2\" >textblob_bayes</th>        <th class=\"col_heading level0 col3\" >nltk</th>    </tr></thead><tbody>\n",
                            "                <tr>\n",
                            "                        <th id=\"T_35568402_fd6e_11e9_8b45_9801a7c3989dlevel0_row0\" class=\"row_heading level0 row0\" >0</th>\n",
                            "                        <td id=\"T_35568402_fd6e_11e9_8b45_9801a7c3989drow0_col0\" class=\"data row0 col0\" >I love love love love this kitten</td>\n",
                            "                        <td id=\"T_35568402_fd6e_11e9_8b45_9801a7c3989drow0_col1\" class=\"data row0 col1\" >0.5</td>\n",
                            "                        <td id=\"T_35568402_fd6e_11e9_8b45_9801a7c3989drow0_col2\" class=\"data row0 col2\" >-0.0879325</td>\n",
                            "                        <td id=\"T_35568402_fd6e_11e9_8b45_9801a7c3989drow0_col3\" class=\"data row0 col3\" >0.9571</td>\n",
                            "            </tr>\n",
                            "            <tr>\n",
                            "                        <th id=\"T_35568402_fd6e_11e9_8b45_9801a7c3989dlevel0_row1\" class=\"row_heading level0 row1\" >1</th>\n",
                            "                        <td id=\"T_35568402_fd6e_11e9_8b45_9801a7c3989drow1_col0\" class=\"data row1 col0\" >I hate hate hate hate this keyboard</td>\n",
                            "                        <td id=\"T_35568402_fd6e_11e9_8b45_9801a7c3989drow1_col1\" class=\"data row1 col1\" >-0.8</td>\n",
                            "                        <td id=\"T_35568402_fd6e_11e9_8b45_9801a7c3989drow1_col2\" class=\"data row1 col2\" >-0.214151</td>\n",
                            "                        <td id=\"T_35568402_fd6e_11e9_8b45_9801a7c3989drow1_col3\" class=\"data row1 col3\" >-0.9413</td>\n",
                            "            </tr>\n",
                            "            <tr>\n",
                            "                        <th id=\"T_35568402_fd6e_11e9_8b45_9801a7c3989dlevel0_row2\" class=\"row_heading level0 row2\" >2</th>\n",
                            "                        <td id=\"T_35568402_fd6e_11e9_8b45_9801a7c3989drow2_col0\" class=\"data row2 col0\" >I'm not sure how I feel about toast</td>\n",
                            "                        <td id=\"T_35568402_fd6e_11e9_8b45_9801a7c3989drow2_col1\" class=\"data row2 col1\" >-0.25</td>\n",
                            "                        <td id=\"T_35568402_fd6e_11e9_8b45_9801a7c3989drow2_col2\" class=\"data row2 col2\" >0.394659</td>\n",
                            "                        <td id=\"T_35568402_fd6e_11e9_8b45_9801a7c3989drow2_col3\" class=\"data row2 col3\" >-0.2411</td>\n",
                            "            </tr>\n",
                            "            <tr>\n",
                            "                        <th id=\"T_35568402_fd6e_11e9_8b45_9801a7c3989dlevel0_row3\" class=\"row_heading level0 row3\" >3</th>\n",
                            "                        <td id=\"T_35568402_fd6e_11e9_8b45_9801a7c3989drow3_col0\" class=\"data row3 col0\" >Did you see the baseball game yesterday?</td>\n",
                            "                        <td id=\"T_35568402_fd6e_11e9_8b45_9801a7c3989drow3_col1\" class=\"data row3 col1\" >-0.4</td>\n",
                            "                        <td id=\"T_35568402_fd6e_11e9_8b45_9801a7c3989drow3_col2\" class=\"data row3 col2\" >0.61305</td>\n",
                            "                        <td id=\"T_35568402_fd6e_11e9_8b45_9801a7c3989drow3_col3\" class=\"data row3 col3\" >0</td>\n",
                            "            </tr>\n",
                            "            <tr>\n",
                            "                        <th id=\"T_35568402_fd6e_11e9_8b45_9801a7c3989dlevel0_row4\" class=\"row_heading level0 row4\" >4</th>\n",
                            "                        <td id=\"T_35568402_fd6e_11e9_8b45_9801a7c3989drow4_col0\" class=\"data row4 col0\" >The package was delivered late and the contents were broken</td>\n",
                            "                        <td id=\"T_35568402_fd6e_11e9_8b45_9801a7c3989drow4_col1\" class=\"data row4 col1\" >-0.35</td>\n",
                            "                        <td id=\"T_35568402_fd6e_11e9_8b45_9801a7c3989drow4_col2\" class=\"data row4 col2\" >-0.57427</td>\n",
                            "                        <td id=\"T_35568402_fd6e_11e9_8b45_9801a7c3989drow4_col3\" class=\"data row4 col3\" >-0.4767</td>\n",
                            "            </tr>\n",
                            "            <tr>\n",
                            "                        <th id=\"T_35568402_fd6e_11e9_8b45_9801a7c3989dlevel0_row5\" class=\"row_heading level0 row5\" >5</th>\n",
                            "                        <td id=\"T_35568402_fd6e_11e9_8b45_9801a7c3989drow5_col0\" class=\"data row5 col0\" >Trashy television shows are some of my favorites</td>\n",
                            "                        <td id=\"T_35568402_fd6e_11e9_8b45_9801a7c3989drow5_col1\" class=\"data row5 col1\" >0</td>\n",
                            "                        <td id=\"T_35568402_fd6e_11e9_8b45_9801a7c3989drow5_col2\" class=\"data row5 col2\" >0.0400757</td>\n",
                            "                        <td id=\"T_35568402_fd6e_11e9_8b45_9801a7c3989drow5_col3\" class=\"data row5 col3\" >0.4215</td>\n",
                            "            </tr>\n",
                            "            <tr>\n",
                            "                        <th id=\"T_35568402_fd6e_11e9_8b45_9801a7c3989dlevel0_row6\" class=\"row_heading level0 row6\" >6</th>\n",
                            "                        <td id=\"T_35568402_fd6e_11e9_8b45_9801a7c3989drow6_col0\" class=\"data row6 col0\" >I'm seeing a Kubrick film tomorrow, I hear not so great things about it.</td>\n",
                            "                        <td id=\"T_35568402_fd6e_11e9_8b45_9801a7c3989drow6_col1\" class=\"data row6 col1\" >0.8</td>\n",
                            "                        <td id=\"T_35568402_fd6e_11e9_8b45_9801a7c3989drow6_col2\" class=\"data row6 col2\" >0.717875</td>\n",
                            "                        <td id=\"T_35568402_fd6e_11e9_8b45_9801a7c3989drow6_col3\" class=\"data row6 col3\" >-0.6296</td>\n",
                            "            </tr>\n",
                            "            <tr>\n",
                            "                        <th id=\"T_35568402_fd6e_11e9_8b45_9801a7c3989dlevel0_row7\" class=\"row_heading level0 row7\" >7</th>\n",
                            "                        <td id=\"T_35568402_fd6e_11e9_8b45_9801a7c3989drow7_col0\" class=\"data row7 col0\" >I find chirping birds irritating, but I know I'm not the only one</td>\n",
                            "                        <td id=\"T_35568402_fd6e_11e9_8b45_9801a7c3989drow7_col1\" class=\"data row7 col1\" >-0.2</td>\n",
                            "                        <td id=\"T_35568402_fd6e_11e9_8b45_9801a7c3989drow7_col2\" class=\"data row7 col2\" >0.257148</td>\n",
                            "                        <td id=\"T_35568402_fd6e_11e9_8b45_9801a7c3989drow7_col3\" class=\"data row7 col3\" >-0.25</td>\n",
                            "            </tr>\n",
                            "    </tbody></table>"
                        ],
                        "text/plain": [
                            "<pandas.io.formats.style.Styler at 0x11ac3b668>"
                        ]
                    },
                    "execution_count": 47,
                    "metadata": {},
                    "output_type": "execute_result"
                }
            ],
            "source": [
                "def get_scores(content):\n",
                "    blob = TextBlob(content)\n",
                "    nb_blob = blobber(content)\n",
                "    sia_scores = sia.polarity_scores(content)\n",
                "    \n",
                "    return pd.Series({\n",
                "        'content': content,\n",
                "        'textblob': blob.sentiment.polarity,\n",
                "        'textblob_bayes': nb_blob.sentiment.p_pos - nb_blob.sentiment.p_neg,\n",
                "        'nltk': sia_scores['compound'],\n",
                "    })\n",
                "\n",
                "scores = df.content.apply(get_scores)\n",
                "scores.style.background_gradient(cmap='RdYlGn', axis=None, low=0.4, high=0.4)"
            ]
        },
        {
            "cell_type": "markdown",
            "metadata": {},
            "source": [
                "Wow, those really don't agree with one another! Which one do you agree with the most? Did it get everything \"right?\"\n",
                "\n",
                "While it seemed like magic to be able to plug a sentence into a sentiment analyzer and get a result back... maybe things aren't as magical as we thought."
            ]
        },
        {
            "cell_type": "markdown",
            "metadata": {},
            "source": [
                "## Review\n",
                "\n",
                "**Sentiment analysis** is judging whether a piece of text has positive or negative emotion. We covered several tools for doing automatic sentiment analysis: **NLTK**, and two techniques inside of **TextBlob**.\n",
                "\n",
                "Each tool uses a different data to determine what is positive and negative, and while some use **humans** to flag things as positive or negative, others use a automatic **machine learning**.\n",
                "\n",
                "As a result of these differences, each tool can come up with very **different sentiment scores** for the same piece of text."
            ]
        },
        {
            "cell_type": "markdown",
            "metadata": {},
            "source": [
                "## Discussion topics\n",
                "\n",
                "The first questions are about whether an analyzer can be applied in situations other than where it was trained. Among other things, you'll want to think about whether the language it was trained on is similar to the language you're using it on.\n",
                "\n",
                "**Is it okay to use a sentiment analyzer built on product reviews to check the sentiment of tweets?** How about to check the sentiment of wine reviews?\n",
                "\n",
                "**Is it okay to use a sentiment analyzer trained on everything to check the sentiment of tweets?** How about to check the sentiment of wine reviews?\n",
                "\n",
                "**Let's say it's a night of political debates.** If I'm trying to report on whether people generally like or dislike what is happening throughout the debates, could I use these sorts of tools on tweets?\n",
                "\n",
                "We're using the incredibly vague word \"okay\" on purpose, as there are varying levels of comfort depending on your sitaution. Are you doing this for preliminary research? Are you publishing the results in a journal, in a newspaper, in a report at work, in a public policy recommendation? What if I tell you that the ideal of \"I'd only use a sentiment analysis tool trained exactly for my specific domain\" is both _rare and impractical?_\n",
                "\n",
                "As we saw in the last section, **these tools don't always agree with one another, which might be problematic.**\n",
                "\n",
                "* What might make them agree or disagree?\n",
                "* Do we think one is the \"best?\"\n",
                "* Can you think of any ways to test which one is the 'best' for our purposes?"
            ]
        },
        {
            "cell_type": "code",
            "execution_count": null,
            "metadata": {},
            "outputs": [],
            "source": []
        }
    ],
    "metadata": {
        "kernelspec": {
            "display_name": "Python 3",
            "language": "python",
            "name": "python3"
        },
        "language_info": {
            "codemirror_mode": {
                "name": "ipython",
                "version": 3
            },
            "file_extension": ".py",
            "mimetype": "text/x-python",
            "name": "python",
            "nbconvert_exporter": "python",
            "pygments_lexer": "ipython3",
            "version": "3.6.8"
        },
        "toc": {
            "base_numbering": 1,
            "nav_menu": {},
            "number_sections": true,
            "sideBar": true,
            "skip_h1_title": false,
            "title_cell": "Table of Contents",
            "title_sidebar": "Contents",
            "toc_cell": false,
            "toc_position": {},
            "toc_section_display": true,
            "toc_window_display": false
        }
    },
    "nbformat": 4,
    "nbformat_minor": 2
}