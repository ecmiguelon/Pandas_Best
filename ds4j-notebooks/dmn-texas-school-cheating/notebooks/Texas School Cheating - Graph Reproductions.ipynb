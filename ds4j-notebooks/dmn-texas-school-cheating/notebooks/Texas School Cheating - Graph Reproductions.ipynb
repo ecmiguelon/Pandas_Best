{
    "cells": [
        {
            "cell_type": "markdown",
            "metadata": {},
            "source": [
                "# Reproducing test score graphics from The Dallas Morning News' investigation of TAKS scores\n",
                "\n",
                "While text-based analysis can take you far, a good graphic can help you see patterns in your data."
            ]
        },
        {
            "cell_type": "markdown",
            "metadata": {},
            "source": [
                "<p class=\"reading-options\">\n  <a class=\"btn\" href=\"/dmn-texas-school-cheating/texas-school-cheating-graph-reproductions\">\n    <i class=\"fa fa-sm fa-book\"></i>\n    Read online\n  </a>\n  <a class=\"btn\" href=\"/dmn-texas-school-cheating/notebooks/Texas School Cheating - Graph Reproductions.ipynb\">\n    <i class=\"fa fa-sm fa-download\"></i>\n    Download notebook\n  </a>\n  <a class=\"btn\" href=\"https://colab.research.google.com/github/littlecolumns/ds4j-notebooks/blob/master/dmn-texas-school-cheating/notebooks/Texas School Cheating - Graph Reproductions.ipynb\" target=\"_new\">\n    <i class=\"fa fa-sm fa-laptop\"></i>\n    Interactive version\n  </a>\n</p>"
            ]
        },
        {
            "cell_type": "markdown",
            "metadata": {},
            "source": [
                "### Prep work: Downloading necessary files\n",
                "Before we get started, we need to download all of the data we'll be using.\n",
                "* **cfy04e4.dat:** 2004 fourth-grade TAKS scores - standardized test scores for 2004's fourth-graders\n",
                "* **cfy03e3.dat:** 2003 third-grade TAKS scores - standardized test scores for 2003's third-graders\n",
                "* **cfy04e5.dat:** 2004 fifth-grade TAKS scores - standardized test scores for 2004's fifth-graders\n",
                "* **cfy04e3.dat:** 2004 third-grade TAKS scores - standardized test scores for 2004's third-graders\n"
            ]
        },
        {
            "cell_type": "code",
            "metadata": {},
            "source": [
                "# Make data directory if it doesn't exist\n",
                "!mkdir -p data\n",
                "!wget -nc https://nyc3.digitaloceanspaces.com/ml-files-distro/v1/dmn-texas-school-cheating/data/cfy04e4.dat -P data\n",
                "!wget -nc https://nyc3.digitaloceanspaces.com/ml-files-distro/v1/dmn-texas-school-cheating/data/cfy03e3.dat -P data\n",
                "!wget -nc https://nyc3.digitaloceanspaces.com/ml-files-distro/v1/dmn-texas-school-cheating/data/cfy04e5.dat -P data\n",
                "!wget -nc https://nyc3.digitaloceanspaces.com/ml-files-distro/v1/dmn-texas-school-cheating/data/cfy04e3.dat -P data"
            ],
            "outputs": [],
            "execution_count": null
        },
        {
            "cell_type": "code",
            "execution_count": 47,
            "metadata": {},
            "outputs": [],
            "source": [
                "import matplotlib.pyplot as plt\n",
                "import pandas as pd\n",
                "import seaborn as sns\n",
                "import numpy as np\n",
                "\n",
                "%matplotlib inline"
            ]
        },
        {
            "cell_type": "markdown",
            "metadata": {},
            "source": [
                "# 2003 third-grade reading scores vs 2004 fourth-grade reading scores\n",
                "\n",
                "We'll read in two years of data and combine them, roughly tracking students at the same school as they move between third and fourth grade.\n",
                "\n",
                "From The Dallas Morning News:\n",
                "\n",
                "> Harrell Budd scored poorly in third and fifth grade. But its fourth-grade reading scores were among the best in the state\n",
                "\n",
                "We are able to highlight Harrell Budd using its campus code of `57905115`. You have also filtered by name, etc."
            ]
        },
        {
            "cell_type": "code",
            "execution_count": 48,
            "metadata": {},
            "outputs": [
                {
                    "data": {
                        "text/html": [
                            "<div>\n",
                            "<style scoped>\n",
                            "    .dataframe tbody tr th:only-of-type {\n",
                            "        vertical-align: middle;\n",
                            "    }\n",
                            "\n",
                            "    .dataframe tbody tr th {\n",
                            "        vertical-align: top;\n",
                            "    }\n",
                            "\n",
                            "    .dataframe thead th {\n",
                            "        text-align: right;\n",
                            "    }\n",
                            "</style>\n",
                            "<table border=\"1\" class=\"dataframe\">\n",
                            "  <thead>\n",
                            "    <tr style=\"text-align: right;\">\n",
                            "      <th></th>\n",
                            "      <th>CNAME_fourth</th>\n",
                            "      <th>r_all_rs_fourth</th>\n",
                            "      <th>r_all_rs_third</th>\n",
                            "    </tr>\n",
                            "    <tr>\n",
                            "      <th>CAMPUS</th>\n",
                            "      <th></th>\n",
                            "      <th></th>\n",
                            "      <th></th>\n",
                            "    </tr>\n",
                            "  </thead>\n",
                            "  <tbody>\n",
                            "    <tr>\n",
                            "      <th>1902103</th>\n",
                            "      <td>CAYUGA EL</td>\n",
                            "      <td>2392.0</td>\n",
                            "      <td>2330.0</td>\n",
                            "    </tr>\n",
                            "    <tr>\n",
                            "      <th>1903101</th>\n",
                            "      <td>ELKHART EL</td>\n",
                            "      <td>2263.0</td>\n",
                            "      <td>2285.0</td>\n",
                            "    </tr>\n",
                            "    <tr>\n",
                            "      <th>1904102</th>\n",
                            "      <td>FRANKSTON EL</td>\n",
                            "      <td>2242.0</td>\n",
                            "      <td>2299.0</td>\n",
                            "    </tr>\n",
                            "  </tbody>\n",
                            "</table>\n",
                            "</div>"
                        ],
                        "text/plain": [
                            "         CNAME_fourth  r_all_rs_fourth  r_all_rs_third\n",
                            "CAMPUS                                                \n",
                            "1902103     CAYUGA EL           2392.0          2330.0\n",
                            "1903101    ELKHART EL           2263.0          2285.0\n",
                            "1904102  FRANKSTON EL           2242.0          2299.0"
                        ]
                    },
                    "execution_count": 48,
                    "metadata": {},
                    "output_type": "execute_result"
                }
            ],
            "source": [
                "df1 = pd.read_csv(\"data/cfy04e4.dat\", usecols=['r_all_rs', 'CAMPUS', 'CNAME'])\n",
                "df1 = df1.set_index('CAMPUS').add_suffix('_fourth')\n",
                "df2 = pd.read_csv(\"data/cfy03e3.dat\", usecols=['r_all_rs', 'CAMPUS'])\n",
                "df2 = df2.set_index('CAMPUS').add_suffix('_third')\n",
                "\n",
                "merged = df1.join(df2)\n",
                "merged.head(3)"
            ]
        },
        {
            "cell_type": "code",
            "execution_count": 49,
            "metadata": {},
            "outputs": [
                {
                    "data": {
                        "text/plain": [
                            "[<matplotlib.lines.Line2D at 0x121762320>]"
                        ]
                    },
                    "execution_count": 49,
                    "metadata": {},
                    "output_type": "execute_result"
                },
                {
                    "data": {
                        "image/png": "[encoded data removed]",
                        "text/plain": [
                            "<Figure size 288x288 with 1 Axes>"
                        ]
                    },
                    "metadata": {
                        "needs_background": "light"
                    },
                    "output_type": "display_data"
                }
            ],
            "source": [
                "fig, ax = plt.subplots(figsize=(4,4))\n",
                "\n",
                "ax.set_xlim(2000, 2500)\n",
                "ax.set_ylim(1900, 2500)\n",
                "ax.set_facecolor('lightgrey')\n",
                "ax.grid(True, color='white')\n",
                "ax.set_axisbelow(True)\n",
                "\n",
                "sns.regplot('r_all_rs_third',\n",
                "            'r_all_rs_fourth',\n",
                "            data=merged,\n",
                "            marker='.', \n",
                "            line_kws={\"color\": \"black\", \"linewidth\": 1},\n",
                "            scatter_kws={\"color\": \"grey\"})\n",
                "\n",
                "highlight = merged.loc[57905115]\n",
                "plt.plot(highlight.r_all_rs_third, highlight.r_all_rs_fourth, 'ro')"
            ]
        },
        {
            "cell_type": "code",
            "execution_count": 50,
            "metadata": {},
            "outputs": [
                {
                    "data": {
                        "text/plain": [
                            "CNAME_fourth       HARRELL BUDD EL\n",
                            "r_all_rs_fourth               2470\n",
                            "r_all_rs_third                2140\n",
                            "Name: 57905115, dtype: object"
                        ]
                    },
                    "execution_count": 50,
                    "metadata": {},
                    "output_type": "execute_result"
                }
            ],
            "source": [
                "highlight"
            ]
        },
        {
            "cell_type": "markdown",
            "metadata": {},
            "source": [
                "# 2004 fifth-grade math scores vs fifth-grade reading scores\n",
                "\n",
                "This time we'll only read in one year of data - 2004 - and compare the math and reading scores at each school.From The Dallas Morning News:\n",
                "\n",
                "> Sanderson's fourth-grade math scores were exceedingly low. Its fifth-grade scores were No. 1 in the state.\n",
                "\n",
                "We are able to highlight Sanderson using its campus code of `101912236`. You have also filtered by name, etc."
            ]
        },
        {
            "cell_type": "code",
            "execution_count": 51,
            "metadata": {},
            "outputs": [
                {
                    "data": {
                        "text/html": [
                            "<div>\n",
                            "<style scoped>\n",
                            "    .dataframe tbody tr th:only-of-type {\n",
                            "        vertical-align: middle;\n",
                            "    }\n",
                            "\n",
                            "    .dataframe tbody tr th {\n",
                            "        vertical-align: top;\n",
                            "    }\n",
                            "\n",
                            "    .dataframe thead th {\n",
                            "        text-align: right;\n",
                            "    }\n",
                            "</style>\n",
                            "<table border=\"1\" class=\"dataframe\">\n",
                            "  <thead>\n",
                            "    <tr style=\"text-align: right;\">\n",
                            "      <th></th>\n",
                            "      <th>CNAME_fifth</th>\n",
                            "      <th>r_all_rs_fifth</th>\n",
                            "      <th>m_all_rs_fifth</th>\n",
                            "    </tr>\n",
                            "    <tr>\n",
                            "      <th>CAMPUS</th>\n",
                            "      <th></th>\n",
                            "      <th></th>\n",
                            "      <th></th>\n",
                            "    </tr>\n",
                            "  </thead>\n",
                            "  <tbody>\n",
                            "    <tr>\n",
                            "      <th>1902103</th>\n",
                            "      <td>CAYUGA EL</td>\n",
                            "      <td>2308.0</td>\n",
                            "      <td>2317.0</td>\n",
                            "    </tr>\n",
                            "    <tr>\n",
                            "      <th>1903101</th>\n",
                            "      <td>ELKHART EL</td>\n",
                            "      <td>2193.0</td>\n",
                            "      <td>2153.0</td>\n",
                            "    </tr>\n",
                            "    <tr>\n",
                            "      <th>1904102</th>\n",
                            "      <td>FRANKSTON EL</td>\n",
                            "      <td>2288.0</td>\n",
                            "      <td>2256.0</td>\n",
                            "    </tr>\n",
                            "  </tbody>\n",
                            "</table>\n",
                            "</div>"
                        ],
                        "text/plain": [
                            "          CNAME_fifth  r_all_rs_fifth  m_all_rs_fifth\n",
                            "CAMPUS                                               \n",
                            "1902103     CAYUGA EL          2308.0          2317.0\n",
                            "1903101    ELKHART EL          2193.0          2153.0\n",
                            "1904102  FRANKSTON EL          2288.0          2256.0"
                        ]
                    },
                    "execution_count": 51,
                    "metadata": {},
                    "output_type": "execute_result"
                }
            ],
            "source": [
                "df = pd.read_csv(\"data/cfy04e5.dat\", usecols=['m_all_rs', 'r_all_rs', 'CAMPUS', 'CNAME'])\n",
                "df = df.set_index('CAMPUS').add_suffix('_fifth')\n",
                "df.head(3)"
            ]
        },
        {
            "cell_type": "code",
            "execution_count": 52,
            "metadata": {},
            "outputs": [
                {
                    "data": {
                        "text/plain": [
                            "[<matplotlib.lines.Line2D at 0x12033e6d8>]"
                        ]
                    },
                    "execution_count": 52,
                    "metadata": {},
                    "output_type": "execute_result"
                },
                {
                    "data": {
                        "image/png": "[encoded data removed]",
                        "text/plain": [
                            "<Figure size 288x288 with 1 Axes>"
                        ]
                    },
                    "metadata": {
                        "needs_background": "light"
                    },
                    "output_type": "display_data"
                }
            ],
            "source": [
                "fig, ax = plt.subplots(figsize=(4,4))\n",
                "\n",
                "ax.set_xlim(1900, 2500)\n",
                "ax.set_ylim(1800, 2750)\n",
                "ax.set_facecolor('lightgrey')\n",
                "ax.grid(True, color='white')\n",
                "ax.set_axisbelow(True)\n",
                "\n",
                "sns.regplot('r_all_rs_fifth',\n",
                "            'm_all_rs_fifth',\n",
                "            data=df,\n",
                "            marker='.', \n",
                "            line_kws={\"color\": \"black\", \"linewidth\": 1},\n",
                "            scatter_kws={\"color\": \"grey\"})\n",
                "\n",
                "highlight = df.loc[101912236]\n",
                "plt.plot(highlight.r_all_rs_fifth, highlight.m_all_rs_fifth, 'ro')"
            ]
        },
        {
            "cell_type": "code",
            "execution_count": 53,
            "metadata": {},
            "outputs": [
                {
                    "data": {
                        "text/plain": [
                            "CNAME_fifth       SANDERSON EL\n",
                            "r_all_rs_fifth            2235\n",
                            "m_all_rs_fifth            2696\n",
                            "Name: 101912236, dtype: object"
                        ]
                    },
                    "execution_count": 53,
                    "metadata": {},
                    "output_type": "execute_result"
                }
            ],
            "source": [
                "highlight"
            ]
        },
        {
            "cell_type": "markdown",
            "metadata": {},
            "source": [
                "# 2004 third-grade reading scores vs 2004 fourth-grade reading scores\n",
                "\n",
                "This time we'll see how third- and fourth-graders performed at the same school in the same year. From The Dallas Morning News:\n",
                "\n",
                "> Garza's third-grade students, most of whom have problems with English, finished in the top 2 percent of the state in reading."
            ]
        },
        {
            "cell_type": "code",
            "execution_count": 57,
            "metadata": {},
            "outputs": [
                {
                    "data": {
                        "text/html": [
                            "<div>\n",
                            "<style scoped>\n",
                            "    .dataframe tbody tr th:only-of-type {\n",
                            "        vertical-align: middle;\n",
                            "    }\n",
                            "\n",
                            "    .dataframe tbody tr th {\n",
                            "        vertical-align: top;\n",
                            "    }\n",
                            "\n",
                            "    .dataframe thead th {\n",
                            "        text-align: right;\n",
                            "    }\n",
                            "</style>\n",
                            "<table border=\"1\" class=\"dataframe\">\n",
                            "  <thead>\n",
                            "    <tr style=\"text-align: right;\">\n",
                            "      <th></th>\n",
                            "      <th>CNAME_fourth</th>\n",
                            "      <th>r_all_rs_fourth</th>\n",
                            "      <th>r_all_rs_third</th>\n",
                            "    </tr>\n",
                            "    <tr>\n",
                            "      <th>CAMPUS</th>\n",
                            "      <th></th>\n",
                            "      <th></th>\n",
                            "      <th></th>\n",
                            "    </tr>\n",
                            "  </thead>\n",
                            "  <tbody>\n",
                            "    <tr>\n",
                            "      <th>1902103</th>\n",
                            "      <td>CAYUGA EL</td>\n",
                            "      <td>2392.0</td>\n",
                            "      <td>2410.0</td>\n",
                            "    </tr>\n",
                            "    <tr>\n",
                            "      <th>1903101</th>\n",
                            "      <td>ELKHART EL</td>\n",
                            "      <td>2263.0</td>\n",
                            "      <td>2256.0</td>\n",
                            "    </tr>\n",
                            "    <tr>\n",
                            "      <th>1904102</th>\n",
                            "      <td>FRANKSTON EL</td>\n",
                            "      <td>2242.0</td>\n",
                            "      <td>2284.0</td>\n",
                            "    </tr>\n",
                            "  </tbody>\n",
                            "</table>\n",
                            "</div>"
                        ],
                        "text/plain": [
                            "         CNAME_fourth  r_all_rs_fourth  r_all_rs_third\n",
                            "CAMPUS                                                \n",
                            "1902103     CAYUGA EL           2392.0          2410.0\n",
                            "1903101    ELKHART EL           2263.0          2256.0\n",
                            "1904102  FRANKSTON EL           2242.0          2284.0"
                        ]
                    },
                    "execution_count": 57,
                    "metadata": {},
                    "output_type": "execute_result"
                }
            ],
            "source": [
                "df1 = pd.read_csv(\"data/cfy04e4.dat\", usecols=['r_all_rs', 'CAMPUS', 'CNAME'])\n",
                "df1 = df1.set_index('CAMPUS').add_suffix('_fourth')\n",
                "df2 = pd.read_csv(\"data/cfy04e3.dat\", usecols=['r_all_rs', 'CAMPUS'])\n",
                "df2 = df2.set_index('CAMPUS').add_suffix('_third')\n",
                "merged = df1.join(df2)\n",
                "merged.head(3)"
            ]
        },
        {
            "cell_type": "code",
            "execution_count": 58,
            "metadata": {},
            "outputs": [
                {
                    "data": {
                        "text/plain": [
                            "[<matplotlib.lines.Line2D at 0x1211d7c18>]"
                        ]
                    },
                    "execution_count": 58,
                    "metadata": {},
                    "output_type": "execute_result"
                },
                {
                    "data": {
                        "image/png": "[encoded data removed]",
                        "text/plain": [
                            "<Figure size 288x288 with 1 Axes>"
                        ]
                    },
                    "metadata": {
                        "needs_background": "light"
                    },
                    "output_type": "display_data"
                }
            ],
            "source": [
                "fig, ax = plt.subplots(figsize=(4,4))\n",
                "\n",
                "ax.set_xlim(2000, 2600)\n",
                "ax.set_ylim(1900, 2500)\n",
                "ax.set_facecolor('lightgrey')\n",
                "ax.grid(True, color='white')\n",
                "ax.set_axisbelow(True)\n",
                "\n",
                "sns.regplot('r_all_rs_third',\n",
                "            'r_all_rs_fourth',\n",
                "            data=merged,\n",
                "            marker='.', \n",
                "            line_kws={\"color\": \"black\", \"linewidth\": 1},\n",
                "            scatter_kws={\"color\": \"grey\"})\n",
                "\n",
                "highlight = merged.loc[[31901124, 57905115, 57920108]]\n",
                "plt.plot(highlight.r_all_rs_third, highlight.r_all_rs_fourth, 'ro')"
            ]
        },
        {
            "cell_type": "code",
            "execution_count": 59,
            "metadata": {},
            "outputs": [
                {
                    "data": {
                        "text/html": [
                            "<div>\n",
                            "<style scoped>\n",
                            "    .dataframe tbody tr th:only-of-type {\n",
                            "        vertical-align: middle;\n",
                            "    }\n",
                            "\n",
                            "    .dataframe tbody tr th {\n",
                            "        vertical-align: top;\n",
                            "    }\n",
                            "\n",
                            "    .dataframe thead th {\n",
                            "        text-align: right;\n",
                            "    }\n",
                            "</style>\n",
                            "<table border=\"1\" class=\"dataframe\">\n",
                            "  <thead>\n",
                            "    <tr style=\"text-align: right;\">\n",
                            "      <th></th>\n",
                            "      <th>CNAME_fourth</th>\n",
                            "      <th>r_all_rs_fourth</th>\n",
                            "      <th>r_all_rs_third</th>\n",
                            "    </tr>\n",
                            "    <tr>\n",
                            "      <th>CAMPUS</th>\n",
                            "      <th></th>\n",
                            "      <th></th>\n",
                            "      <th></th>\n",
                            "    </tr>\n",
                            "  </thead>\n",
                            "  <tbody>\n",
                            "    <tr>\n",
                            "      <th>31901124</th>\n",
                            "      <td>GARZA EL</td>\n",
                            "      <td>2142.0</td>\n",
                            "      <td>2398.0</td>\n",
                            "    </tr>\n",
                            "    <tr>\n",
                            "      <th>57905115</th>\n",
                            "      <td>HARRELL BUDD EL</td>\n",
                            "      <td>2470.0</td>\n",
                            "      <td>2160.0</td>\n",
                            "    </tr>\n",
                            "    <tr>\n",
                            "      <th>57920108</th>\n",
                            "      <td>WILMER EL</td>\n",
                            "      <td>2168.0</td>\n",
                            "      <td>2501.0</td>\n",
                            "    </tr>\n",
                            "  </tbody>\n",
                            "</table>\n",
                            "</div>"
                        ],
                        "text/plain": [
                            "             CNAME_fourth  r_all_rs_fourth  r_all_rs_third\n",
                            "CAMPUS                                                    \n",
                            "31901124         GARZA EL           2142.0          2398.0\n",
                            "57905115  HARRELL BUDD EL           2470.0          2160.0\n",
                            "57920108        WILMER EL           2168.0          2501.0"
                        ]
                    },
                    "execution_count": 59,
                    "metadata": {},
                    "output_type": "execute_result"
                }
            ],
            "source": [
                "highlight"
            ]
        },
        {
            "cell_type": "code",
            "execution_count": null,
            "metadata": {},
            "outputs": [],
            "source": []
        }
    ],
    "metadata": {
        "kernelspec": {
            "display_name": "Python 3",
            "language": "python",
            "name": "python3"
        },
        "language_info": {
            "codemirror_mode": {
                "name": "ipython",
                "version": 3
            },
            "file_extension": ".py",
            "mimetype": "text/x-python",
            "name": "python",
            "nbconvert_exporter": "python",
            "pygments_lexer": "ipython3",
            "version": "3.6.8"
        },
        "toc": {
            "base_numbering": 1,
            "nav_menu": {},
            "number_sections": true,
            "sideBar": true,
            "skip_h1_title": false,
            "title_cell": "Table of Contents",
            "title_sidebar": "Contents",
            "toc_cell": false,
            "toc_position": {},
            "toc_section_display": true,
            "toc_window_display": false
        }
    },
    "nbformat": 4,
    "nbformat_minor": 2
}