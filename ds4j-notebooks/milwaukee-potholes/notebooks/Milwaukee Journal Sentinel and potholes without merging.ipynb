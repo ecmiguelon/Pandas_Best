{
    "cells": [
        {
            "cell_type": "markdown",
            "metadata": {},
            "source": [
                "# The Milwaukee Journal Sentinel and pothole fill times (No merging)\n",
                "\n",
                "**Story:** [Race gap found in pothole patching](https://web.archive.org/web/20081223094123/http://www.jsonline.com/news/milwaukee/32580034.html)\n",
                "\n",
                "**Author:** Keegan Kyle, Grant Smith and Ben Poston, Milwaukee Journal Sentinel\n",
                "\n",
                "**Topics:** Census Data, Geocoding, QGIS Spatial Joins, Linear Regression\n",
                "\n",
                "**Datasets**\n",
                "\n",
                "* **potholes-cleaned-merged.csv:** a series of merged datasets (minus the income dataset). The datasets include:\n",
                "    - **2007-2010 POTHOLES.xls**: Pothole data, July 2007-July 2010 from the Milwaukee [DPW](https://city.milwaukee.gov/dpw)\n",
                "    - **2010-2013 POTHOLES.xls**: Pothole data, July 2010-July 2013 from the Milwaukee [DPW](https://city.milwaukee.gov/dpw)\n",
                "    - **2013-2017 POTHOLES.xls**: Pothole data, July 2013-July 2017 from the Milwaukee [DPW](https://city.milwaukee.gov/dpw)\n",
                "    - **tl_2013_55_tract.zip:** 2013 census tract boundaries from the [US Census Bureau](https://www.census.gov/cgi-bin/geo/shapefiles/index.php)\n",
                "    - **addresses_geocoded.csv:** a large selection of addresses in Milwaukee, geocoded by [Geocod.io](https://geocod.io)\n",
                "    - **R12216099_SL140.csv:** ACS 2013 5-year, tract level, from [Social Explorer](https://www.socialexplorer.com)\n",
                "        - (Table A04001, Hispanic or Latino by Race, `R12216099.txt` is the data dictionary\n",
                "* **R12216226_SL140.csv** ACS 2013 5-year, tract level, from [Social Explorer](https://www.socialexplorer.com)\n",
                "    - Table A14006, 2013 Median Household income\n",
                "    - Data dictionary [is here](https://www.socialexplorer.com/data/ACS2013_5yr/metadata/?ds=SE&table=A14006)\n",
                "\n",
                "# What's the story?\n",
                "\n",
                "We're trying to figure out if the **time it took Milwaukee to fill pot holes** is related to the racial makeup of a census tract."
            ]
        },
        {
            "cell_type": "markdown",
            "metadata": {},
            "source": [
                "<p class=\"reading-options\">\n  <a class=\"btn\" href=\"/milwaukee-potholes/milwaukee-journal-sentinel-and-potholes-without-merging\">\n    <i class=\"fa fa-sm fa-book\"></i>\n    Read online\n  </a>\n  <a class=\"btn\" href=\"/milwaukee-potholes/notebooks/Milwaukee Journal Sentinel and potholes without merging.ipynb\">\n    <i class=\"fa fa-sm fa-download\"></i>\n    Download notebook\n  </a>\n  <a class=\"btn\" href=\"https://colab.research.google.com/github/littlecolumns/ds4j-notebooks/blob/master/milwaukee-potholes/notebooks/Milwaukee Journal Sentinel and potholes without merging.ipynb\" target=\"_new\">\n    <i class=\"fa fa-sm fa-laptop\"></i>\n    Interactive version\n  </a>\n</p>"
            ]
        },
        {
            "cell_type": "markdown",
            "metadata": {},
            "source": [
                "### Prep work: Downloading necessary files\n",
                "Before we get started, we need to download all of the data we'll be using.\n",
                "* **potholes-cleaned-merged.csv:** merged and cleaned pothole data - combined and completed\n",
                "* **R12216226_SL140.csv:** median income census data - American Community Survey table A14006\n",
                "* **R12216099_SL140.csv:** racial makeup census data - American Community Survey table A04001\n"
            ]
        },
        {
            "cell_type": "code",
            "metadata": {},
            "source": [
                "# Make data directory if it doesn't exist\n",
                "!mkdir -p data\n",
                "!wget -nc https://nyc3.digitaloceanspaces.com/ml-files-distro/v1/milwaukee-potholes/data/potholes-cleaned-merged.csv -P data\n",
                "!wget -nc https://nyc3.digitaloceanspaces.com/ml-files-distro/v1/milwaukee-potholes/data/R12216226_SL140.csv -P data\n",
                "!wget -nc https://nyc3.digitaloceanspaces.com/ml-files-distro/v1/milwaukee-potholes/data/R12216099_SL140.csv -P data"
            ],
            "outputs": [],
            "execution_count": null
        },
        {
            "cell_type": "markdown",
            "metadata": {},
            "source": [
                "# Do your imports\n",
                "\n",
                "You'll also want to set pandas to display **up to 200 columns at a time**."
            ]
        },
        {
            "cell_type": "code",
            "execution_count": null,
            "metadata": {},
            "outputs": [],
            "source": []
        },
        {
            "cell_type": "markdown",
            "metadata": {},
            "source": [
                "# Read in your data\n",
                "\n",
                "We're just reading in `potholes-cleaned-merged.csv` for now. It's a lot lot lot of other files, somewhat cleaned and all merged together.\n",
                "\n",
                "* **Tip:** Both `GEOID` and `Geo_FIPS` are census tract identifiers. You'll want to read them in as strings so they don't lose leading zeroes"
            ]
        },
        {
            "cell_type": "code",
            "execution_count": null,
            "metadata": {},
            "outputs": [],
            "source": []
        },
        {
            "cell_type": "markdown",
            "metadata": {},
            "source": [
                "## What is the maximum and minimum `EnterDt` and `ResolvDt`?\n",
                "\n",
                "Use this to confirm that your date range is what you expected. If it isn't, take a look at what might have happened with your dataset.\n",
                "\n",
                "* **Tip:** Missing data might be a headache"
            ]
        },
        {
            "cell_type": "code",
            "execution_count": null,
            "metadata": {},
            "outputs": [],
            "source": []
        },
        {
            "cell_type": "code",
            "execution_count": null,
            "metadata": {},
            "outputs": [],
            "source": []
        },
        {
            "cell_type": "markdown",
            "metadata": {},
            "source": [
                "## Calculate how long it took to fill potholes in 2013\n",
                "\n",
                "Save it into a new column.\n",
                "\n",
                "* **Tip:** It's possible to subtract two dates"
            ]
        },
        {
            "cell_type": "code",
            "execution_count": null,
            "metadata": {},
            "outputs": [],
            "source": []
        },
        {
            "cell_type": "markdown",
            "metadata": {},
            "source": [
                "### Hrm, well, I think we need that difference to be an integer\n",
                "\n",
                "If your new column isn't an integer, create _another_ column that is.\n",
                "\n",
                "* **Tip:** Just like you might use `.str.strip()` on a string column, if your column is a datetime you can use `.dt.components` to get the days, hours, minutes, seconds, etc of the column."
            ]
        },
        {
            "cell_type": "code",
            "execution_count": null,
            "metadata": {},
            "outputs": [],
            "source": []
        },
        {
            "cell_type": "markdown",
            "metadata": {},
            "source": [
                "## Cleaning up your census data\n",
                "\n",
                "The `SE_` columns are all from the census data, you can find out what they mean by reading the data dictionary `R12216099.txt`.\n",
                "\n",
                "Add new columns to create:\n",
                "\n",
                "* `pct_white` The percent of the population that is White\n",
                "* `pct_black` The percent of the population that is Black\n",
                "* `pct_hispanic` The percent of the population that is Hispanic\n",
                "* `pct_minority` The percent of the population that is a minority (non-White)\n",
                "\n",
                "The column names don't match exactly, but you can figure it out."
            ]
        },
        {
            "cell_type": "code",
            "execution_count": null,
            "metadata": {},
            "outputs": [],
            "source": []
        },
        {
            "cell_type": "markdown",
            "metadata": {},
            "source": [
                "Feel free to drop the census if you're not interested in them any more."
            ]
        },
        {
            "cell_type": "markdown",
            "metadata": {},
            "source": [
                "# Linear regression\n",
                "\n",
                "Using the `statsmodels` package, run a linear regression to find the coefficient relating percent minority and pothole fill times.\n",
                "\n",
                "* **Tip:** Be sure to remove missing data with `.dropna()` first. How many rows get removed?\n",
                "* **Tip:** Don't forget to use `sm.add_constant`. Why do we use it?"
            ]
        },
        {
            "cell_type": "code",
            "execution_count": null,
            "metadata": {},
            "outputs": [],
            "source": []
        },
        {
            "cell_type": "code",
            "execution_count": null,
            "metadata": {},
            "outputs": [],
            "source": []
        },
        {
            "cell_type": "code",
            "execution_count": null,
            "metadata": {},
            "outputs": [],
            "source": []
        },
        {
            "cell_type": "markdown",
            "metadata": {},
            "source": [
                "Translate that into the form **\"every X percentage point change in the minority population translates to a Y change in pot hole fill times\"**"
            ]
        },
        {
            "cell_type": "code",
            "execution_count": null,
            "metadata": {},
            "outputs": [],
            "source": []
        },
        {
            "cell_type": "markdown",
            "metadata": {},
            "source": [
                "Do you feel comfortable that someone can understand that? Can you reword it to make it more easily understandable?"
            ]
        },
        {
            "cell_type": "code",
            "execution_count": null,
            "metadata": {},
            "outputs": [],
            "source": []
        },
        {
            "cell_type": "markdown",
            "metadata": {},
            "source": [
                "# Other methods of explanation\n",
                "\n",
                "While the regression is technically correct, it just does't sound very nice. What other options do we have?\n",
                "\n",
                "## What's the average wait to fill a pothole between majority-white and majority-minority census tracts?\n",
                "\n",
                "You'll need to create a new column to specify whether the census tract is majority White or not."
            ]
        },
        {
            "cell_type": "code",
            "execution_count": null,
            "metadata": {},
            "outputs": [],
            "source": []
        },
        {
            "cell_type": "markdown",
            "metadata": {},
            "source": [
                "## How does the average wait time to fill a pothole change as more minorities live in an area?\n",
                "\n",
                "* **Tip:** Use `.cut` to split the percent minority (or white) into a few different bins."
            ]
        },
        {
            "cell_type": "code",
            "execution_count": null,
            "metadata": {},
            "outputs": [],
            "source": []
        },
        {
            "cell_type": "code",
            "execution_count": null,
            "metadata": {},
            "outputs": [],
            "source": []
        },
        {
            "cell_type": "code",
            "execution_count": null,
            "metadata": {},
            "outputs": [],
            "source": []
        },
        {
            "cell_type": "markdown",
            "metadata": {},
            "source": [
                "# Analyzing Income\n",
                "\n",
                "`R12216226_SL140.csv` contains income data for each census tract in Wisconsin. Add it into your analysis.\n",
                "\n",
                "If you run a multivariate regression also including income, how does this change things?\n",
                "\n",
                "* **Tip:** Be sure to read in `Geo_FIPS` as a string so leading zeroes don't get removed\n",
                "* **Tip:** You can use [this data dictionary](https://www.socialexplorer.com/data/ACS2013_5yr/metadata/?ds=SE&table=A14006) to understand what column you're interested in."
            ]
        },
        {
            "cell_type": "code",
            "execution_count": null,
            "metadata": {},
            "outputs": [],
            "source": []
        },
        {
            "cell_type": "markdown",
            "metadata": {},
            "source": [
                "### Filter out every column except the one you'll be joining on and the median income"
            ]
        },
        {
            "cell_type": "code",
            "execution_count": null,
            "metadata": {},
            "outputs": [],
            "source": []
        },
        {
            "cell_type": "markdown",
            "metadata": {},
            "source": [
                "## Merge with your existing dataset on census tract"
            ]
        },
        {
            "cell_type": "code",
            "execution_count": null,
            "metadata": {},
            "outputs": [],
            "source": []
        },
        {
            "cell_type": "markdown",
            "metadata": {},
            "source": [
                "### Run another regression, this time including both percent minority and income"
            ]
        },
        {
            "cell_type": "code",
            "execution_count": null,
            "metadata": {},
            "outputs": [],
            "source": []
        },
        {
            "cell_type": "markdown",
            "metadata": {},
            "source": [
                "### The income coefficient is very unfriendly!\n",
                "\n",
                "Try to explain what it means in normal words. Or... don't, and just skip to the next question."
            ]
        },
        {
            "cell_type": "code",
            "execution_count": null,
            "metadata": {},
            "outputs": [],
            "source": []
        },
        {
            "cell_type": "markdown",
            "metadata": {},
            "source": [
                "### Create a new column that stands for income in $10,000 increments, and try the regression again"
            ]
        },
        {
            "cell_type": "code",
            "execution_count": null,
            "metadata": {},
            "outputs": [],
            "source": []
        },
        {
            "cell_type": "code",
            "execution_count": null,
            "metadata": {},
            "outputs": [],
            "source": []
        },
        {
            "cell_type": "markdown",
            "metadata": {},
            "source": [
                "### Explain that in normal human-being words\n",
                "\n",
                "Controlling for minority population, for an X change in income, there is a Y change in how long it takes to get potholes filled."
            ]
        },
        {
            "cell_type": "code",
            "execution_count": null,
            "metadata": {},
            "outputs": [],
            "source": []
        },
        {
            "cell_type": "markdown",
            "metadata": {},
            "source": [
                "...does that make sense? \n",
                "\n",
                "### Bin income levels and graph it"
            ]
        },
        {
            "cell_type": "code",
            "execution_count": null,
            "metadata": {},
            "outputs": [],
            "source": []
        },
        {
            "cell_type": "markdown",
            "metadata": {},
            "source": [
                "## This seems unexpected, maybe?\n",
                "\n",
                "Not like we were _hoping_ for the race this, but this seems like not what we were going to get. That means there's either a story or we're forgetting something obvious. What might be causing this trend? How could we investigate it?"
            ]
        },
        {
            "cell_type": "code",
            "execution_count": null,
            "metadata": {},
            "outputs": [],
            "source": []
        }
    ],
    "metadata": {
        "kernelspec": {
            "display_name": "Python 3",
            "language": "python",
            "name": "python3"
        },
        "language_info": {
            "codemirror_mode": {
                "name": "ipython",
                "version": 3
            },
            "file_extension": ".py",
            "mimetype": "text/x-python",
            "name": "python",
            "nbconvert_exporter": "python",
            "pygments_lexer": "ipython3",
            "version": "3.6.8"
        },
        "toc": {
            "base_numbering": 1,
            "nav_menu": {},
            "number_sections": true,
            "sideBar": true,
            "skip_h1_title": false,
            "title_cell": "Table of Contents",
            "title_sidebar": "Contents",
            "toc_cell": false,
            "toc_position": {},
            "toc_section_display": true,
            "toc_window_display": false
        }
    },
    "nbformat": 4,
    "nbformat_minor": 2
}