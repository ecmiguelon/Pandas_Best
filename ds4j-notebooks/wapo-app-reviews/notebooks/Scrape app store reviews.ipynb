{
    "cells": [
        {
            "cell_type": "markdown",
            "metadata": {},
            "source": [
                "# Scraping app store reviews\n",
                "\n",
                "In the Washington Post's project, they found a \"secret API\" that allowed them to download all the App Store reviews of target \"random chat apps.\" We're going to download reviews using the marketing platform Sensor Tower instead. Our target apps will be Chat with Strangers, Yubo, Holla, and Skout.\n",
                "\n",
                "Their reviews section doesn't have a download button, so we use a Selenium web scraper to download the information instead."
            ]
        },
        {
            "cell_type": "markdown",
            "metadata": {},
            "source": [
                "<p class=\"reading-options\">\n  <a class=\"btn\" href=\"/wapo-app-reviews/scrape-app-store-reviews\">\n    <i class=\"fa fa-sm fa-book\"></i>\n    Read online\n  </a>\n  <a class=\"btn\" href=\"/wapo-app-reviews/notebooks/Scrape app store reviews.ipynb\">\n    <i class=\"fa fa-sm fa-download\"></i>\n    Download notebook\n  </a>\n  <a class=\"btn\" href=\"https://colab.research.google.com/github/littlecolumns/ds4j-notebooks/blob/master/wapo-app-reviews/notebooks/Scrape app store reviews.ipynb\" target=\"_new\">\n    <i class=\"fa fa-sm fa-laptop\"></i>\n    Interactive version\n  </a>\n</p>"
            ]
        },
        {
            "cell_type": "code",
            "execution_count": 4,
            "metadata": {},
            "outputs": [],
            "source": [
                "from bs4 import BeautifulSoup\n",
                "import pandas as pd\n",
                "import time\n",
                "import numpy as np\n",
                "\n",
                "from selenium import webdriver\n",
                "from selenium.webdriver.common.by import By\n",
                "from selenium.webdriver.support.ui import WebDriverWait\n",
                "from selenium.webdriver.support import expected_conditions as EC"
            ]
        },
        {
            "cell_type": "code",
            "execution_count": 94,
            "metadata": {},
            "outputs": [],
            "source": [
                "driver = webdriver.Chrome()\n",
                "driver.get('https://sensortower.com/ios/US/twelve-app/app/yubo-make-new-friends/1038653883/review-history?selected_tab=reviews')"
            ]
        },
        {
            "cell_type": "markdown",
            "metadata": {},
            "source": [
                "### Select your options and scrape\n",
                "\n",
                "After you log in, select the following options to make sure you're only scraping US-based reviews. This is mostly to make sure we keep everything in English, as we won't be able to manually find racism etc in non-English reviews.\n",
                "\n",
                "* **Date:** All time\n",
                "* **Country:** US"
            ]
        },
        {
            "cell_type": "code",
            "execution_count": 99,
            "metadata": {},
            "outputs": [
                {
                    "data": {
                        "text/html": [
                            "<div>\n",
                            "<style scoped>\n",
                            "    .dataframe tbody tr th:only-of-type {\n",
                            "        vertical-align: middle;\n",
                            "    }\n",
                            "\n",
                            "    .dataframe tbody tr th {\n",
                            "        vertical-align: top;\n",
                            "    }\n",
                            "\n",
                            "    .dataframe thead th {\n",
                            "        text-align: right;\n",
                            "    }\n",
                            "</style>\n",
                            "<table border=\"1\" class=\"dataframe\">\n",
                            "  <thead>\n",
                            "    <tr style=\"text-align: right;\">\n",
                            "      <th></th>\n",
                            "      <th>Country</th>\n",
                            "      <th>Date</th>\n",
                            "      <th>Rating</th>\n",
                            "      <th>Review</th>\n",
                            "      <th>Version</th>\n",
                            "    </tr>\n",
                            "  </thead>\n",
                            "  <tbody>\n",
                            "    <tr>\n",
                            "      <th>0</th>\n",
                            "      <td>US</td>\n",
                            "      <td>11/19/2019</td>\n",
                            "      <td>width: 19%;</td>\n",
                            "      <td>This is an Omegle knockoff. Don\u2019t recommend. 9...</td>\n",
                            "      <td>-</td>\n",
                            "    </tr>\n",
                            "    <tr>\n",
                            "      <th>1</th>\n",
                            "      <td>US</td>\n",
                            "      <td>11/03/2019</td>\n",
                            "      <td>width: 99%;</td>\n",
                            "      <td>So much fun</td>\n",
                            "      <td>4.3.9</td>\n",
                            "    </tr>\n",
                            "    <tr>\n",
                            "      <th>2</th>\n",
                            "      <td>US</td>\n",
                            "      <td>10/31/2019</td>\n",
                            "      <td>width: 19%;</td>\n",
                            "      <td>No woman</td>\n",
                            "      <td>4.3.9</td>\n",
                            "    </tr>\n",
                            "    <tr>\n",
                            "      <th>3</th>\n",
                            "      <td>US</td>\n",
                            "      <td>10/31/2019</td>\n",
                            "      <td>width: 79%;</td>\n",
                            "      <td>My camera is still not working</td>\n",
                            "      <td>4.3.9</td>\n",
                            "    </tr>\n",
                            "    <tr>\n",
                            "      <th>4</th>\n",
                            "      <td>US</td>\n",
                            "      <td>10/25/2019</td>\n",
                            "      <td>width: 19%;</td>\n",
                            "      <td>Cam broke with new iOS update just green lines</td>\n",
                            "      <td>4.3.8</td>\n",
                            "    </tr>\n",
                            "    <tr>\n",
                            "      <th>...</th>\n",
                            "      <td>...</td>\n",
                            "      <td>...</td>\n",
                            "      <td>...</td>\n",
                            "      <td>...</td>\n",
                            "      <td>...</td>\n",
                            "    </tr>\n",
                            "    <tr>\n",
                            "      <th>3179</th>\n",
                            "      <td>US</td>\n",
                            "      <td>07/19/2011</td>\n",
                            "      <td>width: 99%;</td>\n",
                            "      <td>Fun app glad I got it for free, would be aweso...</td>\n",
                            "      <td>1.0</td>\n",
                            "    </tr>\n",
                            "    <tr>\n",
                            "      <th>3180</th>\n",
                            "      <td>US</td>\n",
                            "      <td>07/19/2011</td>\n",
                            "      <td>width: 39%;</td>\n",
                            "      <td>Love this on iPad, but I'm trying to download ...</td>\n",
                            "      <td>-</td>\n",
                            "    </tr>\n",
                            "    <tr>\n",
                            "      <th>3181</th>\n",
                            "      <td>US</td>\n",
                            "      <td>07/18/2011</td>\n",
                            "      <td>width: 59%;</td>\n",
                            "      <td>Great but drops convo all tge time :(</td>\n",
                            "      <td>-</td>\n",
                            "    </tr>\n",
                            "    <tr>\n",
                            "      <th>3182</th>\n",
                            "      <td>US</td>\n",
                            "      <td>07/18/2011</td>\n",
                            "      <td>width: 99%;</td>\n",
                            "      <td>Works just like the service it connects to.</td>\n",
                            "      <td>-</td>\n",
                            "    </tr>\n",
                            "    <tr>\n",
                            "      <th>3183</th>\n",
                            "      <td>US</td>\n",
                            "      <td>07/16/2011</td>\n",
                            "      <td>width: 19%;</td>\n",
                            "      <td>This app is a waste of money. Connect randomly...</td>\n",
                            "      <td>-</td>\n",
                            "    </tr>\n",
                            "  </tbody>\n",
                            "</table>\n",
                            "<p>3184 rows \u00d7 5 columns</p>\n",
                            "</div>"
                        ],
                        "text/plain": [
                            "     Country        Date       Rating  \\\n",
                            "0         US  11/19/2019  width: 19%;   \n",
                            "1         US  11/03/2019  width: 99%;   \n",
                            "2         US  10/31/2019  width: 19%;   \n",
                            "3         US  10/31/2019  width: 79%;   \n",
                            "4         US  10/25/2019  width: 19%;   \n",
                            "...      ...         ...          ...   \n",
                            "3179      US  07/19/2011  width: 99%;   \n",
                            "3180      US  07/19/2011  width: 39%;   \n",
                            "3181      US  07/18/2011  width: 59%;   \n",
                            "3182      US  07/18/2011  width: 99%;   \n",
                            "3183      US  07/16/2011  width: 19%;   \n",
                            "\n",
                            "                                                 Review Version  \n",
                            "0     This is an Omegle knockoff. Don\u2019t recommend. 9...       -  \n",
                            "1                                           So much fun   4.3.9  \n",
                            "2                                              No woman   4.3.9  \n",
                            "3                        My camera is still not working   4.3.9  \n",
                            "4        Cam broke with new iOS update just green lines   4.3.8  \n",
                            "...                                                 ...     ...  \n",
                            "3179  Fun app glad I got it for free, would be aweso...     1.0  \n",
                            "3180  Love this on iPad, but I'm trying to download ...       -  \n",
                            "3181              Great but drops convo all tge time :(       -  \n",
                            "3182        Works just like the service it connects to.       -  \n",
                            "3183  This app is a waste of money. Connect randomly...       -  \n",
                            "\n",
                            "[3184 rows x 5 columns]"
                        ]
                    },
                    "execution_count": 99,
                    "metadata": {},
                    "output_type": "execute_result"
                }
            ],
            "source": [
                "def get_page():\n",
                "    doc = BeautifulSoup(driver.page_source)\n",
                "    rows = doc.select(\"tbody tr\")\n",
                "\n",
                "    datapoints = []\n",
                "    for row in rows:\n",
                "        cells = row.select(\"td\")\n",
                "        data = {\n",
                "            'Country': cells[0].text.strip(),\n",
                "            'Date': cells[1].text.strip(),\n",
                "            'Rating': cells[2].select_one('.gold')['style'],\n",
                "            'Review': cells[3].select_one('.break-wrap-review').text.strip(),\n",
                "            'Version': cells[4].text.strip()\n",
                "        }\n",
                "        datapoints.append(data)\n",
                "    return datapoints\n",
                "\n",
                "all_data = []\n",
                "wait = WebDriverWait(driver, 5, poll_frequency=0.05)\n",
                "while True:\n",
                "    wait.until(EC.invisibility_of_element_located((By.CSS_SELECTOR, '.ajax-loading-cover')))\n",
                "\n",
                "    results = get_page()    \n",
                "    all_data.extend(results)\n",
                "\n",
                "    next_button = driver.find_elements_by_css_selector(\".btn-group .pagination\")[1]\n",
                "    if next_button.get_attribute('disabled'):\n",
                "        break\n",
                "    next_button.click()\n",
                "    time.sleep(0.5)\n",
                "    # Doesn't trigger fast enough!\n",
                "    # wait.until(EC.visibility_of_element_located((By.CSS_SELECTOR, '.ajax-loading-cover')))\n",
                "\n",
                "df = pd.DataFrame(all_data)\n",
                "df"
            ]
        },
        {
            "cell_type": "code",
            "execution_count": 2,
            "metadata": {},
            "outputs": [],
            "source": [
                "# You'll change this filename for each app you're storing reviews for\n",
                "df.to_csv(\"data/chat-for-strangers.csv\", index=False)"
            ]
        },
        {
            "cell_type": "markdown",
            "metadata": {},
            "source": [
                "## Combine and add columns\n",
                "\n",
                "Once we've saved reviews for several different apps, we're ready to go. We'll combine them all into one single file and add a note about what app each review came from."
            ]
        },
        {
            "cell_type": "code",
            "execution_count": 5,
            "metadata": {},
            "outputs": [],
            "source": [
                "holla = pd.read_csv('data/holla.csv')\n",
                "holla['source'] = 'holla'\n",
                "\n",
                "yubo = pd.read_csv('data/yubo.csv')\n",
                "yubo['source'] = 'yubo'\n",
                "\n",
                "skout = pd.read_csv('data/skout.csv')\n",
                "skout['source'] = 'skout'\n",
                "\n",
                "strangers = pd.read_csv('data/chat-for-strangers.csv')\n",
                "strangers['source'] = 'chat-for-strangers'"
            ]
        },
        {
            "cell_type": "code",
            "execution_count": 6,
            "metadata": {},
            "outputs": [
                {
                    "data": {
                        "text/plain": [
                            "(56056, 6)"
                        ]
                    },
                    "execution_count": 6,
                    "metadata": {},
                    "output_type": "execute_result"
                }
            ],
            "source": [
                "df = pd.concat([holla, yubo, skout, strangers], ignore_index=True)\n",
                "df.shape"
            ]
        },
        {
            "cell_type": "code",
            "execution_count": 7,
            "metadata": {},
            "outputs": [
                {
                    "data": {
                        "text/plain": [
                            "skout                 37484\n",
                            "holla                 10467\n",
                            "yubo                   4921\n",
                            "chat-for-strangers     3184\n",
                            "Name: source, dtype: int64"
                        ]
                    },
                    "execution_count": 7,
                    "metadata": {},
                    "output_type": "execute_result"
                }
            ],
            "source": [
                "df.source.value_counts()"
            ]
        },
        {
            "cell_type": "markdown",
            "metadata": {},
            "source": [
                "We'll also add columns for racism, bullying, and unwanted sexual behavior. While we don't know which reviews contain this content yet, we'll use these columns to mark it in Excel or Google Sheets later."
            ]
        },
        {
            "cell_type": "code",
            "execution_count": 114,
            "metadata": {},
            "outputs": [
                {
                    "data": {
                        "text/html": [
                            "<div>\n",
                            "<style scoped>\n",
                            "    .dataframe tbody tr th:only-of-type {\n",
                            "        vertical-align: middle;\n",
                            "    }\n",
                            "\n",
                            "    .dataframe tbody tr th {\n",
                            "        vertical-align: top;\n",
                            "    }\n",
                            "\n",
                            "    .dataframe thead th {\n",
                            "        text-align: right;\n",
                            "    }\n",
                            "</style>\n",
                            "<table border=\"1\" class=\"dataframe\">\n",
                            "  <thead>\n",
                            "    <tr style=\"text-align: right;\">\n",
                            "      <th></th>\n",
                            "      <th>Country</th>\n",
                            "      <th>Date</th>\n",
                            "      <th>Rating</th>\n",
                            "      <th>Review</th>\n",
                            "      <th>Version</th>\n",
                            "      <th>source</th>\n",
                            "      <th>racism</th>\n",
                            "      <th>bullying</th>\n",
                            "      <th>sexual</th>\n",
                            "    </tr>\n",
                            "  </thead>\n",
                            "  <tbody>\n",
                            "    <tr>\n",
                            "      <th>0</th>\n",
                            "      <td>US</td>\n",
                            "      <td>11/22/2019</td>\n",
                            "      <td>width: 99%;</td>\n",
                            "      <td>It\u2019s a great app to meet new people and chat i...</td>\n",
                            "      <td>4.4.5</td>\n",
                            "      <td>holla</td>\n",
                            "      <td>NaN</td>\n",
                            "      <td>NaN</td>\n",
                            "      <td>NaN</td>\n",
                            "    </tr>\n",
                            "    <tr>\n",
                            "      <th>1</th>\n",
                            "      <td>US</td>\n",
                            "      <td>11/22/2019</td>\n",
                            "      <td>width: 99%;</td>\n",
                            "      <td>Holla is an excellent app, where I get to know...</td>\n",
                            "      <td>4.4.5</td>\n",
                            "      <td>holla</td>\n",
                            "      <td>NaN</td>\n",
                            "      <td>NaN</td>\n",
                            "      <td>NaN</td>\n",
                            "    </tr>\n",
                            "    <tr>\n",
                            "      <th>2</th>\n",
                            "      <td>US</td>\n",
                            "      <td>11/22/2019</td>\n",
                            "      <td>width: 19%;</td>\n",
                            "      <td>This app charges for everything now and is con...</td>\n",
                            "      <td>-</td>\n",
                            "      <td>holla</td>\n",
                            "      <td>NaN</td>\n",
                            "      <td>NaN</td>\n",
                            "      <td>NaN</td>\n",
                            "    </tr>\n",
                            "    <tr>\n",
                            "      <th>3</th>\n",
                            "      <td>US</td>\n",
                            "      <td>11/22/2019</td>\n",
                            "      <td>width: 99%;</td>\n",
                            "      <td>Free to use app, meet people around the world.</td>\n",
                            "      <td>-</td>\n",
                            "      <td>holla</td>\n",
                            "      <td>NaN</td>\n",
                            "      <td>NaN</td>\n",
                            "      <td>NaN</td>\n",
                            "    </tr>\n",
                            "    <tr>\n",
                            "      <th>4</th>\n",
                            "      <td>US</td>\n",
                            "      <td>11/21/2019</td>\n",
                            "      <td>width: 99%;</td>\n",
                            "      <td>I got this app and everything has been differe...</td>\n",
                            "      <td>4.4.5</td>\n",
                            "      <td>holla</td>\n",
                            "      <td>NaN</td>\n",
                            "      <td>NaN</td>\n",
                            "      <td>NaN</td>\n",
                            "    </tr>\n",
                            "  </tbody>\n",
                            "</table>\n",
                            "</div>"
                        ],
                        "text/plain": [
                            "  Country        Date       Rating  \\\n",
                            "0      US  11/22/2019  width: 99%;   \n",
                            "1      US  11/22/2019  width: 99%;   \n",
                            "2      US  11/22/2019  width: 19%;   \n",
                            "3      US  11/22/2019  width: 99%;   \n",
                            "4      US  11/21/2019  width: 99%;   \n",
                            "\n",
                            "                                              Review Version source  racism  \\\n",
                            "0  It\u2019s a great app to meet new people and chat i...   4.4.5  holla     NaN   \n",
                            "1  Holla is an excellent app, where I get to know...   4.4.5  holla     NaN   \n",
                            "2  This app charges for everything now and is con...       -  holla     NaN   \n",
                            "3     Free to use app, meet people around the world.       -  holla     NaN   \n",
                            "4  I got this app and everything has been differe...   4.4.5  holla     NaN   \n",
                            "\n",
                            "   bullying  sexual  \n",
                            "0       NaN     NaN  \n",
                            "1       NaN     NaN  \n",
                            "2       NaN     NaN  \n",
                            "3       NaN     NaN  \n",
                            "4       NaN     NaN  "
                        ]
                    },
                    "execution_count": 114,
                    "metadata": {},
                    "output_type": "execute_result"
                }
            ],
            "source": [
                "# Using a machine learning algorithm to identify App Store reviews\n",
                "# containing reports of unwanted sexual content, racism and bullying...\n",
                "df['racism'] = np.nan\n",
                "df['bullying'] = np.nan\n",
                "df['sexual'] = np.nan\n",
                "\n",
                "df.head()"
            ]
        },
        {
            "cell_type": "markdown",
            "metadata": {},
            "source": [
                "### Clean up the rating\n",
                "\n",
                "We don't have ratings that are numeric! Let's convert the weird HTML star percentage to actual numbers."
            ]
        },
        {
            "cell_type": "code",
            "execution_count": 8,
            "metadata": {},
            "outputs": [
                {
                    "data": {
                        "text/plain": [
                            "width: 99%;    32761\n",
                            "width: 19%;     8807\n",
                            "width: 79%;     6418\n",
                            "width: 59%;     4885\n",
                            "width: 39%;     3185\n",
                            "Name: Rating, dtype: int64"
                        ]
                    },
                    "execution_count": 8,
                    "metadata": {},
                    "output_type": "execute_result"
                }
            ],
            "source": [
                "df.Rating.value_counts()"
            ]
        },
        {
            "cell_type": "code",
            "execution_count": 9,
            "metadata": {},
            "outputs": [
                {
                    "data": {
                        "text/html": [
                            "<div>\n",
                            "<style scoped>\n",
                            "    .dataframe tbody tr th:only-of-type {\n",
                            "        vertical-align: middle;\n",
                            "    }\n",
                            "\n",
                            "    .dataframe tbody tr th {\n",
                            "        vertical-align: top;\n",
                            "    }\n",
                            "\n",
                            "    .dataframe thead th {\n",
                            "        text-align: right;\n",
                            "    }\n",
                            "</style>\n",
                            "<table border=\"1\" class=\"dataframe\">\n",
                            "  <thead>\n",
                            "    <tr style=\"text-align: right;\">\n",
                            "      <th></th>\n",
                            "      <th>Country</th>\n",
                            "      <th>Date</th>\n",
                            "      <th>Rating</th>\n",
                            "      <th>Review</th>\n",
                            "      <th>Version</th>\n",
                            "      <th>source</th>\n",
                            "    </tr>\n",
                            "  </thead>\n",
                            "  <tbody>\n",
                            "    <tr>\n",
                            "      <th>0</th>\n",
                            "      <td>US</td>\n",
                            "      <td>11/22/2019</td>\n",
                            "      <td>5</td>\n",
                            "      <td>It\u2019s a great app to meet new people and chat i...</td>\n",
                            "      <td>4.4.5</td>\n",
                            "      <td>holla</td>\n",
                            "    </tr>\n",
                            "    <tr>\n",
                            "      <th>1</th>\n",
                            "      <td>US</td>\n",
                            "      <td>11/22/2019</td>\n",
                            "      <td>5</td>\n",
                            "      <td>Holla is an excellent app, where I get to know...</td>\n",
                            "      <td>4.4.5</td>\n",
                            "      <td>holla</td>\n",
                            "    </tr>\n",
                            "    <tr>\n",
                            "      <th>2</th>\n",
                            "      <td>US</td>\n",
                            "      <td>11/22/2019</td>\n",
                            "      <td>1</td>\n",
                            "      <td>This app charges for everything now and is con...</td>\n",
                            "      <td>-</td>\n",
                            "      <td>holla</td>\n",
                            "    </tr>\n",
                            "    <tr>\n",
                            "      <th>3</th>\n",
                            "      <td>US</td>\n",
                            "      <td>11/22/2019</td>\n",
                            "      <td>5</td>\n",
                            "      <td>Free to use app, meet people around the world.</td>\n",
                            "      <td>-</td>\n",
                            "      <td>holla</td>\n",
                            "    </tr>\n",
                            "    <tr>\n",
                            "      <th>4</th>\n",
                            "      <td>US</td>\n",
                            "      <td>11/21/2019</td>\n",
                            "      <td>5</td>\n",
                            "      <td>I got this app and everything has been differe...</td>\n",
                            "      <td>4.4.5</td>\n",
                            "      <td>holla</td>\n",
                            "    </tr>\n",
                            "  </tbody>\n",
                            "</table>\n",
                            "</div>"
                        ],
                        "text/plain": [
                            "  Country        Date  Rating  \\\n",
                            "0      US  11/22/2019       5   \n",
                            "1      US  11/22/2019       5   \n",
                            "2      US  11/22/2019       1   \n",
                            "3      US  11/22/2019       5   \n",
                            "4      US  11/21/2019       5   \n",
                            "\n",
                            "                                              Review Version source  \n",
                            "0  It\u2019s a great app to meet new people and chat i...   4.4.5  holla  \n",
                            "1  Holla is an excellent app, where I get to know...   4.4.5  holla  \n",
                            "2  This app charges for everything now and is con...       -  holla  \n",
                            "3     Free to use app, meet people around the world.       -  holla  \n",
                            "4  I got this app and everything has been differe...   4.4.5  holla  "
                        ]
                    },
                    "execution_count": 9,
                    "metadata": {},
                    "output_type": "execute_result"
                }
            ],
            "source": [
                "df.Rating = df.Rating.replace({\n",
                "    'width: 99%;': 5,\n",
                "    'width: 79%;': 4,\n",
                "    'width: 59%;': 3,\n",
                "    'width: 39%;': 2,\n",
                "    'width: 19%;': 1\n",
                "})\n",
                "df.head()"
            ]
        },
        {
            "cell_type": "code",
            "execution_count": 10,
            "metadata": {},
            "outputs": [
                {
                    "data": {
                        "text/plain": [
                            "5    32761\n",
                            "1     8807\n",
                            "4     6418\n",
                            "3     4885\n",
                            "2     3185\n",
                            "Name: Rating, dtype: int64"
                        ]
                    },
                    "execution_count": 10,
                    "metadata": {},
                    "output_type": "execute_result"
                }
            ],
            "source": [
                "df.Rating.value_counts()"
            ]
        },
        {
            "cell_type": "code",
            "execution_count": 122,
            "metadata": {},
            "outputs": [],
            "source": [
                "df.to_csv(\"data/reviews.csv\", index=False)"
            ]
        },
        {
            "cell_type": "markdown",
            "metadata": {},
            "source": [
                "## Review\n",
                "\n",
                "Instead of asking Apple or finding a secret API like the Washington Post, we used an **app marketing site** to find App Store reviews of the apps we were interested in. They didn't have a download button, though, so we wrote a simple scraper to pull them down.\n",
                "\n",
                "After obtaining the reviews, cleaned them a bit and we combined them into one spreadsheet and added columns for racism, bullying, and unwanted sexual behavior that we'll **fill in later manually**."
            ]
        },
        {
            "cell_type": "markdown",
            "metadata": {},
            "source": [
                "## Discussion topics\n",
                "\n",
                "Is pulling data from a secondary source okay?\n",
                "\n",
                "How do we know that they list all available reviews on the site that we obtained the reviews from?\n",
                "\n",
                "Do we need all of the reviews, or could we have filtered them at this point to narrow our field down?"
            ]
        },
        {
            "cell_type": "code",
            "execution_count": null,
            "metadata": {},
            "outputs": [],
            "source": []
        }
    ],
    "metadata": {
        "kernelspec": {
            "display_name": "Python 3",
            "language": "python",
            "name": "python3"
        },
        "language_info": {
            "codemirror_mode": {
                "name": "ipython",
                "version": 3
            },
            "file_extension": ".py",
            "mimetype": "text/x-python",
            "name": "python",
            "nbconvert_exporter": "python",
            "pygments_lexer": "ipython3",
            "version": "3.6.8"
        },
        "toc": {
            "base_numbering": 1,
            "nav_menu": {},
            "number_sections": true,
            "sideBar": true,
            "skip_h1_title": false,
            "title_cell": "Table of Contents",
            "title_sidebar": "Contents",
            "toc_cell": false,
            "toc_position": {},
            "toc_section_display": true,
            "toc_window_display": false
        }
    },
    "nbformat": 4,
    "nbformat_minor": 2
}