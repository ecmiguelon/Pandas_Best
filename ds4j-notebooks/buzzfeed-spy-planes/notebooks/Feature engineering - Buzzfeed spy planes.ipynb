{
    "cells": [
        {
            "cell_type": "markdown",
            "metadata": {},
            "source": [
                "# Feature engineering with Buzzfeed planes\n",
                "\n",
                "When you're working on flight data, you don't get a nice description of where and how the plane flies - you're stuck with a series of individual measurements. In this notebook we'll work on engineering some descriptive features about each plane's \"normal\" way of flying."
            ]
        },
        {
            "cell_type": "markdown",
            "metadata": {},
            "source": [
                "<p class=\"reading-options\">\n  <a class=\"btn\" href=\"/buzzfeed-spy-planes/feature-engineering-buzzfeed-spy-planes\">\n    <i class=\"fa fa-sm fa-book\"></i>\n    Read online\n  </a>\n  <a class=\"btn\" href=\"/buzzfeed-spy-planes/notebooks/Feature engineering - Buzzfeed spy planes.ipynb\">\n    <i class=\"fa fa-sm fa-download\"></i>\n    Download notebook\n  </a>\n  <a class=\"btn\" href=\"https://colab.research.google.com/github/littlecolumns/ds4j-notebooks/blob/master/buzzfeed-spy-planes/notebooks/Feature engineering - Buzzfeed spy planes.ipynb\" target=\"_new\">\n    <i class=\"fa fa-sm fa-laptop\"></i>\n    Interactive version\n  </a>\n</p>"
            ]
        },
        {
            "cell_type": "markdown",
            "metadata": {},
            "source": [
                "### Prep work: Downloading necessary files\n",
                "Before we get started, we need to download all of the data we'll be using.\n",
                "* **flights_data4-1529539200-cleaned.csv:** raw flight data - a selection of raw data from from opensky\n"
            ]
        },
        {
            "cell_type": "code",
            "metadata": {},
            "source": [
                "# Make data directory if it doesn't exist\n",
                "!mkdir -p data\n",
                "!wget -nc https://nyc3.digitaloceanspaces.com/ml-files-distro/v1/buzzfeed-spy-planes/data/flights_data4-1529539200-cleaned.csv.zip -P data\n",
                "!unzip -n -d data data/flights_data4-1529539200-cleaned.csv.zip"
            ],
            "outputs": [],
            "execution_count": null
        },
        {
            "cell_type": "markdown",
            "metadata": {},
            "source": [
                "You might need to install `pyproj` and `shapely` libraries for this one. You can uncomment the lines below and run them to (hopefully) get the installation done."
            ]
        },
        {
            "cell_type": "code",
            "execution_count": 1,
            "metadata": {},
            "outputs": [],
            "source": [
                "# !pip install pyproj\n",
                "# !pip install shapely"
            ]
        },
        {
            "cell_type": "markdown",
            "metadata": {},
            "source": [
                "# Imports"
            ]
        },
        {
            "cell_type": "code",
            "execution_count": 2,
            "metadata": {},
            "outputs": [],
            "source": [
                "# Normal imports for data analysis\n",
                "import pandas as pd \n",
                "import numpy as np\n",
                "\n",
                "# Extra geographic bits, only used for for calculating fly zone area\n",
                "from shapely.geometry import Polygon\n",
                "from pyproj import Transformer                                                                                                                \n",
                "\n",
                "%matplotlib inline"
            ]
        },
        {
            "cell_type": "markdown",
            "metadata": {},
            "source": [
                "# Read in our dataset\n",
                "\n",
                "First we'll read in the dataset. Each organization you can get data from - OpenSky, FlightRadar24, etc - comes with slightly different columns. This set is from OpenSky."
            ]
        },
        {
            "cell_type": "code",
            "execution_count": 3,
            "metadata": {},
            "outputs": [
                {
                    "data": {
                        "text/html": [
                            "<div>\n",
                            "<style scoped>\n",
                            "    .dataframe tbody tr th:only-of-type {\n",
                            "        vertical-align: middle;\n",
                            "    }\n",
                            "\n",
                            "    .dataframe tbody tr th {\n",
                            "        vertical-align: top;\n",
                            "    }\n",
                            "\n",
                            "    .dataframe thead th {\n",
                            "        text-align: right;\n",
                            "    }\n",
                            "</style>\n",
                            "<table border=\"1\" class=\"dataframe\">\n",
                            "  <thead>\n",
                            "    <tr style=\"text-align: right;\">\n",
                            "      <th></th>\n",
                            "      <th>icao24</th>\n",
                            "      <th>callsign</th>\n",
                            "      <th>day</th>\n",
                            "      <th>firstseen</th>\n",
                            "      <th>lastseen</th>\n",
                            "      <th>estdepartureairport</th>\n",
                            "      <th>estarrivalairport</th>\n",
                            "      <th>time</th>\n",
                            "      <th>altitude</th>\n",
                            "      <th>latitude</th>\n",
                            "      <th>longitude</th>\n",
                            "      <th>heading</th>\n",
                            "    </tr>\n",
                            "  </thead>\n",
                            "  <tbody>\n",
                            "    <tr>\n",
                            "      <th>0</th>\n",
                            "      <td>a09909</td>\n",
                            "      <td>NaN</td>\n",
                            "      <td>1529539200</td>\n",
                            "      <td>1.529574e+09</td>\n",
                            "      <td>1529574562</td>\n",
                            "      <td>KPWK</td>\n",
                            "      <td>IN93</td>\n",
                            "      <td>1529574561</td>\n",
                            "      <td>609.6</td>\n",
                            "      <td>41.702100</td>\n",
                            "      <td>-86.469939</td>\n",
                            "      <td>88.232170</td>\n",
                            "    </tr>\n",
                            "    <tr>\n",
                            "      <th>1</th>\n",
                            "      <td>a09909</td>\n",
                            "      <td>NaN</td>\n",
                            "      <td>1529539200</td>\n",
                            "      <td>1.529574e+09</td>\n",
                            "      <td>1529574562</td>\n",
                            "      <td>KPWK</td>\n",
                            "      <td>IN93</td>\n",
                            "      <td>1529574559</td>\n",
                            "      <td>609.6</td>\n",
                            "      <td>41.702042</td>\n",
                            "      <td>-86.472140</td>\n",
                            "      <td>88.253716</td>\n",
                            "    </tr>\n",
                            "    <tr>\n",
                            "      <th>2</th>\n",
                            "      <td>a09909</td>\n",
                            "      <td>NaN</td>\n",
                            "      <td>1529539200</td>\n",
                            "      <td>1.529574e+09</td>\n",
                            "      <td>1529574562</td>\n",
                            "      <td>KPWK</td>\n",
                            "      <td>IN93</td>\n",
                            "      <td>1529574490</td>\n",
                            "      <td>914.4</td>\n",
                            "      <td>41.700657</td>\n",
                            "      <td>-86.553040</td>\n",
                            "      <td>88.451843</td>\n",
                            "    </tr>\n",
                            "    <tr>\n",
                            "      <th>3</th>\n",
                            "      <td>a09909</td>\n",
                            "      <td>NaN</td>\n",
                            "      <td>1529539200</td>\n",
                            "      <td>1.529574e+09</td>\n",
                            "      <td>1529574562</td>\n",
                            "      <td>KPWK</td>\n",
                            "      <td>IN93</td>\n",
                            "      <td>1529574466</td>\n",
                            "      <td>1219.2</td>\n",
                            "      <td>41.703683</td>\n",
                            "      <td>-86.587595</td>\n",
                            "      <td>111.037514</td>\n",
                            "    </tr>\n",
                            "    <tr>\n",
                            "      <th>4</th>\n",
                            "      <td>a09909</td>\n",
                            "      <td>NaN</td>\n",
                            "      <td>1529539200</td>\n",
                            "      <td>1.529574e+09</td>\n",
                            "      <td>1529574562</td>\n",
                            "      <td>KPWK</td>\n",
                            "      <td>IN93</td>\n",
                            "      <td>1529574465</td>\n",
                            "      <td>1219.2</td>\n",
                            "      <td>41.703962</td>\n",
                            "      <td>-86.588681</td>\n",
                            "      <td>111.037514</td>\n",
                            "    </tr>\n",
                            "  </tbody>\n",
                            "</table>\n",
                            "</div>"
                        ],
                        "text/plain": [
                            "   icao24 callsign         day     firstseen    lastseen estdepartureairport  \\\n",
                            "0  a09909      NaN  1529539200  1.529574e+09  1529574562                KPWK   \n",
                            "1  a09909      NaN  1529539200  1.529574e+09  1529574562                KPWK   \n",
                            "2  a09909      NaN  1529539200  1.529574e+09  1529574562                KPWK   \n",
                            "3  a09909      NaN  1529539200  1.529574e+09  1529574562                KPWK   \n",
                            "4  a09909      NaN  1529539200  1.529574e+09  1529574562                KPWK   \n",
                            "\n",
                            "  estarrivalairport        time  altitude   latitude  longitude     heading  \n",
                            "0              IN93  1529574561     609.6  41.702100 -86.469939   88.232170  \n",
                            "1              IN93  1529574559     609.6  41.702042 -86.472140   88.253716  \n",
                            "2              IN93  1529574490     914.4  41.700657 -86.553040   88.451843  \n",
                            "3              IN93  1529574466    1219.2  41.703683 -86.587595  111.037514  \n",
                            "4              IN93  1529574465    1219.2  41.703962 -86.588681  111.037514  "
                        ]
                    },
                    "execution_count": 3,
                    "metadata": {},
                    "output_type": "execute_result"
                }
            ],
            "source": [
                "df = pd.read_csv('data/flights_data4-1529539200-cleaned.csv', dtype={'icao24': 'str'})\n",
                "df.head()"
            ]
        },
        {
            "cell_type": "markdown",
            "metadata": {},
            "source": [
                "When we sit down to do our machine learning, our question is going to be: **is this plane a surveillance plane or not?** Probably a bunch of rows, one per plane, each one having a prediction of `0` (not surveillance) or `1` (surveillance). It seems like a silly thing to call out, but... take a look at our data.\n",
                "\n",
                "**Each row isn't a plane, it's a single reading from that plane in flight!** This is going to cause some trouble. We can't predict whether each reading is a spy plane or not, because each reading doesn't have enough information in it. Each row has a time, altitude, coordinates, a heading, and a few other columns, but saying \"you're flying north at these coordinates\" is definitely not good enough to say whether something is a surveillance plane or not.\n",
                "\n",
                "We'll somehow need to summarize all of these readings into a single row, to illustrate how the plane flies in a way that we can tell apart surveillance and non-surveillance planes. This calls for **feature engineering!**\n",
                "\n",
                "# Feature engineering\n",
                "\n",
                "Most of the time when we're doing machine learning, we have a list of columns we can plug into our machine learning algorithm. Maybe we divide a column by a thousand, or turn it into a percent instead of a raw number, but nothing really too crazy. Our main goal is **feature selection**, which is picking which columns to use.\n",
                "\n",
                "In this case, though, we need to actually design all of these features. We'll pick apart each plane's flight paths using the coordinates, and turn it into a single row.\n",
                "\n",
                "\n",
                "## Picking features to engineer for surveillance plane detection\n",
                "\n",
                "**What might make a spy plane unique?** Buzzfeed had some ideas:\n",
                "\n",
                "* How fast thep plane goes\n",
                "* Where the plane flies\n",
                "* How large of an area the plane flies over\n",
                "* How often the plane changes direction\n",
                "* How high each flight usually is\n",
                "* How long each flight is\n",
                "* What type of plane it is\n",
                "\n",
                "Your first instinct might be to calculate an average for each one of these. For example, how long is an average flight? and how fast does the plane usually go? Instead of sticking at this level, Peter went a bit further.\n",
                "\n",
                "## Feature engineering example: Altitude quantiles\n",
                "\n",
                "**Let's see Peter's alterantive, using altitude as an example.** For example, let's say we're interested in plane `a4f179`."
            ]
        },
        {
            "cell_type": "code",
            "execution_count": 4,
            "metadata": {},
            "outputs": [
                {
                    "data": {
                        "text/html": [
                            "<div>\n",
                            "<style scoped>\n",
                            "    .dataframe tbody tr th:only-of-type {\n",
                            "        vertical-align: middle;\n",
                            "    }\n",
                            "\n",
                            "    .dataframe tbody tr th {\n",
                            "        vertical-align: top;\n",
                            "    }\n",
                            "\n",
                            "    .dataframe thead th {\n",
                            "        text-align: right;\n",
                            "    }\n",
                            "</style>\n",
                            "<table border=\"1\" class=\"dataframe\">\n",
                            "  <thead>\n",
                            "    <tr style=\"text-align: right;\">\n",
                            "      <th></th>\n",
                            "      <th>icao24</th>\n",
                            "      <th>callsign</th>\n",
                            "      <th>day</th>\n",
                            "      <th>firstseen</th>\n",
                            "      <th>lastseen</th>\n",
                            "      <th>estdepartureairport</th>\n",
                            "      <th>estarrivalairport</th>\n",
                            "      <th>time</th>\n",
                            "      <th>altitude</th>\n",
                            "      <th>latitude</th>\n",
                            "      <th>longitude</th>\n",
                            "      <th>heading</th>\n",
                            "    </tr>\n",
                            "  </thead>\n",
                            "  <tbody>\n",
                            "    <tr>\n",
                            "      <th>1096564</th>\n",
                            "      <td>a4f179</td>\n",
                            "      <td>MSQT714</td>\n",
                            "      <td>1529539200</td>\n",
                            "      <td>1.529614e+09</td>\n",
                            "      <td>1529614495</td>\n",
                            "      <td>2AZ7</td>\n",
                            "      <td>2AZ3</td>\n",
                            "      <td>1529614493</td>\n",
                            "      <td>1219.2</td>\n",
                            "      <td>33.748993</td>\n",
                            "      <td>-112.408242</td>\n",
                            "      <td>299.500732</td>\n",
                            "    </tr>\n",
                            "    <tr>\n",
                            "      <th>1096565</th>\n",
                            "      <td>a4f179</td>\n",
                            "      <td>MSQT714</td>\n",
                            "      <td>1529539200</td>\n",
                            "      <td>1.529614e+09</td>\n",
                            "      <td>1529614495</td>\n",
                            "      <td>2AZ7</td>\n",
                            "      <td>2AZ3</td>\n",
                            "      <td>1529614491</td>\n",
                            "      <td>1219.2</td>\n",
                            "      <td>33.748489</td>\n",
                            "      <td>-112.407177</td>\n",
                            "      <td>300.398743</td>\n",
                            "    </tr>\n",
                            "    <tr>\n",
                            "      <th>1096566</th>\n",
                            "      <td>a4f179</td>\n",
                            "      <td>MSQT714</td>\n",
                            "      <td>1529539200</td>\n",
                            "      <td>1.529614e+09</td>\n",
                            "      <td>1529614495</td>\n",
                            "      <td>2AZ7</td>\n",
                            "      <td>2AZ3</td>\n",
                            "      <td>1529614463</td>\n",
                            "      <td>1219.2</td>\n",
                            "      <td>33.742310</td>\n",
                            "      <td>-112.395406</td>\n",
                            "      <td>311.185913</td>\n",
                            "    </tr>\n",
                            "    <tr>\n",
                            "      <th>1096567</th>\n",
                            "      <td>a4f179</td>\n",
                            "      <td>MSQT714</td>\n",
                            "      <td>1529539200</td>\n",
                            "      <td>1.529614e+09</td>\n",
                            "      <td>1529614495</td>\n",
                            "      <td>2AZ7</td>\n",
                            "      <td>2AZ3</td>\n",
                            "      <td>1529614461</td>\n",
                            "      <td>1219.2</td>\n",
                            "      <td>33.741574</td>\n",
                            "      <td>-112.394371</td>\n",
                            "      <td>311.128754</td>\n",
                            "    </tr>\n",
                            "    <tr>\n",
                            "      <th>1096568</th>\n",
                            "      <td>a4f179</td>\n",
                            "      <td>MSQT714</td>\n",
                            "      <td>1529539200</td>\n",
                            "      <td>1.529614e+09</td>\n",
                            "      <td>1529614495</td>\n",
                            "      <td>2AZ7</td>\n",
                            "      <td>2AZ3</td>\n",
                            "      <td>1529614460</td>\n",
                            "      <td>1219.2</td>\n",
                            "      <td>33.741295</td>\n",
                            "      <td>-112.393970</td>\n",
                            "      <td>307.715973</td>\n",
                            "    </tr>\n",
                            "  </tbody>\n",
                            "</table>\n",
                            "</div>"
                        ],
                        "text/plain": [
                            "         icao24 callsign         day     firstseen    lastseen  \\\n",
                            "1096564  a4f179  MSQT714  1529539200  1.529614e+09  1529614495   \n",
                            "1096565  a4f179  MSQT714  1529539200  1.529614e+09  1529614495   \n",
                            "1096566  a4f179  MSQT714  1529539200  1.529614e+09  1529614495   \n",
                            "1096567  a4f179  MSQT714  1529539200  1.529614e+09  1529614495   \n",
                            "1096568  a4f179  MSQT714  1529539200  1.529614e+09  1529614495   \n",
                            "\n",
                            "        estdepartureairport estarrivalairport        time  altitude  \\\n",
                            "1096564                2AZ7              2AZ3  1529614493    1219.2   \n",
                            "1096565                2AZ7              2AZ3  1529614491    1219.2   \n",
                            "1096566                2AZ7              2AZ3  1529614463    1219.2   \n",
                            "1096567                2AZ7              2AZ3  1529614461    1219.2   \n",
                            "1096568                2AZ7              2AZ3  1529614460    1219.2   \n",
                            "\n",
                            "          latitude   longitude     heading  \n",
                            "1096564  33.748993 -112.408242  299.500732  \n",
                            "1096565  33.748489 -112.407177  300.398743  \n",
                            "1096566  33.742310 -112.395406  311.185913  \n",
                            "1096567  33.741574 -112.394371  311.128754  \n",
                            "1096568  33.741295 -112.393970  307.715973  "
                        ]
                    },
                    "execution_count": 4,
                    "metadata": {},
                    "output_type": "execute_result"
                }
            ],
            "source": [
                "df[df.icao24 == 'a4f179'].head()"
            ]
        },
        {
            "cell_type": "markdown",
            "metadata": {},
            "source": [
                "How many readings do we have for this one? It's important to know what we're generally working with."
            ]
        },
        {
            "cell_type": "code",
            "execution_count": 5,
            "metadata": {},
            "outputs": [
                {
                    "data": {
                        "text/plain": [
                            "(3723, 12)"
                        ]
                    },
                    "execution_count": 5,
                    "metadata": {},
                    "output_type": "execute_result"
                }
            ],
            "source": [
                "df[df.icao24 == 'a4f179'].shape"
            ]
        },
        {
            "cell_type": "markdown",
            "metadata": {},
            "source": [
                "Wow, almost four thousand! That's a lot of info. Since we're focused on breaking it down to one row, though, we could ask \"how high does this plane usually fly?\""
            ]
        },
        {
            "cell_type": "code",
            "execution_count": 6,
            "metadata": {},
            "outputs": [
                {
                    "data": {
                        "text/plain": [
                            "1001.4272360999194"
                        ]
                    },
                    "execution_count": 6,
                    "metadata": {},
                    "output_type": "execute_result"
                }
            ],
            "source": [
                "df[df.icao24 == 'a4f179'].altitude.mean()"
            ]
        },
        {
            "cell_type": "markdown",
            "metadata": {},
            "source": [
                "That number might not mean much on its own, as we don't know if it's high or low. We'd need to compare it to other planes to see what that speed really looks like (...yeah, yeah, this isn't exactly true, but bear with me).\n",
                "\n",
                "Let's get the mean altitude of *all* readings."
            ]
        },
        {
            "cell_type": "code",
            "execution_count": 7,
            "metadata": {},
            "outputs": [
                {
                    "data": {
                        "text/plain": [
                            "4684.43290572469"
                        ]
                    },
                    "execution_count": 7,
                    "metadata": {},
                    "output_type": "execute_result"
                }
            ],
            "source": [
                "df.altitude.mean()"
            ]
        },
        {
            "cell_type": "markdown",
            "metadata": {},
            "source": [
                "Okay, cool, so our plane seems to generally fly a lot lower than other planes. But I'm conflicted - we took 3800 altitude datapoints and turned it into one! It seems like like we're throwing out a lot of data that might prove useful in tracking down planes. **Instead of reducing a plane to *one* number, let's see if we have any alternatives.**\n",
                "\n",
                "Think about all the questions you might ask about how planes fly. Do almost all planes fly at the same altitude? When they're flying, do they usually stay at one altitude? Or do they go up and down, in a way that measuring the mean won't capture?\n",
                "\n",
                "We don't know anything about planes, so maybe we should ask what a \"normal\" flight looks like beyond just the mean. A histogram could help us there!"
            ]
        },
        {
            "cell_type": "code",
            "execution_count": 8,
            "metadata": {},
            "outputs": [
                {
                    "data": {
                        "text/plain": [
                            "<matplotlib.axes._subplots.AxesSubplot at 0x10df415f8>"
                        ]
                    },
                    "execution_count": 8,
                    "metadata": {},
                    "output_type": "execute_result"
                },
                {
                    "data": {
                        "image/png": "[encoded data removed]",
                        "text/plain": [
                            "<Figure size 432x288 with 1 Axes>"
                        ]
                    },
                    "metadata": {
                        "needs_background": "light"
                    },
                    "output_type": "display_data"
                }
            ],
            "source": [
                "df.altitude.hist()"
            ]
        },
        {
            "cell_type": "markdown",
            "metadata": {},
            "source": [
                "Wow, interesting! It seems like there's a lot of low-flying planes, and then a big peak at 10,000, but plenty between and above. It might be useful to capture that numerically. We could ask for quartiles, but let's go a little more complex: **what are the 20%, 40%, 60% and 80% boundaries for altitude?**"
            ]
        },
        {
            "cell_type": "code",
            "execution_count": 9,
            "metadata": {},
            "outputs": [
                {
                    "data": {
                        "text/plain": [
                            "0.2      914.4\n",
                            "0.4     1828.8\n",
                            "0.6     4572.0\n",
                            "0.8    10058.4\n",
                            "Name: altitude, dtype: float64"
                        ]
                    },
                    "execution_count": 9,
                    "metadata": {},
                    "output_type": "execute_result"
                }
            ],
            "source": [
                "quantiles = df.altitude.quantile([0.2, 0.4, 0.6, 0.8])\n",
                "quantiles"
            ]
        },
        {
            "cell_type": "markdown",
            "metadata": {},
            "source": [
                "Remember how we were \"throwing out a lot of data\" by reducing our altitude measurements to just an average? The way Peter got around this way to **count each measurement separately.**\n",
                "\n",
                "His question became: **compared to an average plane, how often was our plane in each altitude group?** How often was between the the 0-20% altitude? or the 20-40% altitude? or the 40-60% latitude?\n",
                "\n",
                "A very average plane will always be in the 40-60% range. A plane that's always flying high is in the 80-100% group. A low-flying plane would be in 0-20%. If you split your time between high and low, you'll have entries in both 0-20% _and_ 80-100%. **This is a great way to summarize your data without throwing it all out.**\n",
                "\n",
                "Let's perform that analysis with our `a4f179` plane, seeing how much time it spends in each bucket."
            ]
        },
        {
            "cell_type": "code",
            "execution_count": 10,
            "metadata": {},
            "outputs": [
                {
                    "data": {
                        "text/plain": [
                            "altitude1    18.614021\n",
                            "altitude2    81.385979\n",
                            "altitude3     0.000000\n",
                            "altitude4     0.000000\n",
                            "altitude5     0.000000\n",
                            "Name: altitude, dtype: float64"
                        ]
                    },
                    "execution_count": 10,
                    "metadata": {},
                    "output_type": "execute_result"
                }
            ],
            "source": [
                "# Create buckets based on the quantiles of all planes,\n",
                "# reusing our variable from above\n",
                "bin_quantiles = [-np.inf, *quantiles, np.inf]\n",
                "\n",
                "# altitude1: -infinity to 914.4\n",
                "# altitude2: 914.4     to 1,828.8\n",
                "# altitude3: 1,828.8   to 4,572.0\n",
                "# altitude4: 4,572.0   to 10,058.4\n",
                "# altitude5: 10,058.4  to infinity\n",
                "bin_labels = ['altitude1','altitude2','altitude3','altitude4','altitude5']\n",
                "\n",
                "# Get the altitudes for just this plane\n",
                "altitudes = df[df.icao24 == 'a4f179'].altitude\n",
                "\n",
                "# Count how many altitude reading are in each bucket\n",
                "# normalize=True to give us percentages\n",
                "# bins=bin_labels to name them\n",
                "# sort=False so we can see them in order of 1-5\n",
                "# * 100 to convert to percentages because it's easier to read\n",
                "pd.cut(altitudes, \n",
                "       bins=bin_quantiles,\n",
                "       labels=bin_labels).value_counts(sort=False, normalize=True) * 100"
            ]
        },
        {
            "cell_type": "markdown",
            "metadata": {},
            "source": [
                "So our plane spends about **18% of its time flying low, and 80% of its time flying medium-low.** Let's compare that with another plane, `a97db4`."
            ]
        },
        {
            "cell_type": "code",
            "execution_count": 11,
            "metadata": {},
            "outputs": [
                {
                    "data": {
                        "text/plain": [
                            "altitude1     1.923788\n",
                            "altitude2     8.694044\n",
                            "altitude3     5.438402\n",
                            "altitude4     8.213097\n",
                            "altitude5    75.730670\n",
                            "Name: altitude, dtype: float64"
                        ]
                    },
                    "execution_count": 11,
                    "metadata": {},
                    "output_type": "execute_result"
                }
            ],
            "source": [
                "altitudes = df[df.icao24 == 'a97db4'].altitude\n",
                "\n",
                "pd.cut(altitudes, \n",
                "       bins=bin_quantiles,\n",
                "       labels=bin_labels).value_counts(sort=False, normalize=True) * 100"
            ]
        },
        {
            "cell_type": "markdown",
            "metadata": {},
            "source": [
                "This plane is a completely different beast! Instead of spending most of its time low, it works its way up to the highest altitudes and spends around 76% of its time there. It's a **very** different pattern than our first plane, and gives a good summary that we might not have gotten if we just took the mean."
            ]
        },
        {
            "cell_type": "markdown",
            "metadata": {},
            "source": [
                "## Calculating other feature quantiles\n",
                "\n",
                "Now that we have an idea of what we're going to be doing, let's get started! And to make things a bit easier, Buzzfeed didn't actually process these quantiles for all of the planes in its dataset:\n",
                "\n",
                "> Then we took a random sample of **500 aircraft** and calculated the following for each one:\n",
                "\n",
                "So we can start by **pulling a sample of planes**. Note that we can't just ask for 500 random rows - we have to ask for 500 unique *plane identifiers* and then use those to select our rows."
            ]
        },
        {
            "cell_type": "code",
            "execution_count": 12,
            "metadata": {},
            "outputs": [
                {
                    "data": {
                        "text/plain": [
                            "array(['a06a7e', 'a9df59', 'a9e391', 'ae0232', 'a5ddea'], dtype=object)"
                        ]
                    },
                    "execution_count": 12,
                    "metadata": {},
                    "output_type": "execute_result"
                }
            ],
            "source": [
                "unique_icao24 = df.icao24.unique()\n",
                "\n",
                "sample_icao24 = np.random.choice(unique_icao24, 500)\n",
                "sample_icao24[:5]"
            ]
        },
        {
            "cell_type": "markdown",
            "metadata": {},
            "source": [
                "Now we can select our readings for the sample planes."
            ]
        },
        {
            "cell_type": "code",
            "execution_count": 13,
            "metadata": {},
            "outputs": [
                {
                    "data": {
                        "text/plain": [
                            "(239188, 12)"
                        ]
                    },
                    "execution_count": 13,
                    "metadata": {},
                    "output_type": "execute_result"
                }
            ],
            "source": [
                "sample_df = df[df.icao24.isin(sample_icao24)]\n",
                "sample_df.shape"
            ]
        },
        {
            "cell_type": "markdown",
            "metadata": {},
            "source": [
                "# Calculate quantiles\n",
                "\n",
                "> Then we took a random sample of 500 aircraft and calculated the following for each one:\n",
                "> \n",
                "> * **duration** of each flight segment recorded by Flightradar24, in minutes.\n",
                "> * **boxes** Area of a rectangular bounding box drawn around each flight segment, in square kilometers.\n",
                "\n",
                "## Altitude quantiles\n",
                "\n",
                "Since we basically did altitude already, though, we'll throw that in there."
            ]
        },
        {
            "cell_type": "code",
            "execution_count": 14,
            "metadata": {},
            "outputs": [],
            "source": [
                "# Get a list of altitudes\n",
                "altitudes = df.set_index('icao24').altitude"
            ]
        },
        {
            "cell_type": "code",
            "execution_count": 15,
            "metadata": {},
            "outputs": [
                {
                    "data": {
                        "text/html": [
                            "<div>\n",
                            "<style scoped>\n",
                            "    .dataframe tbody tr th:only-of-type {\n",
                            "        vertical-align: middle;\n",
                            "    }\n",
                            "\n",
                            "    .dataframe tbody tr th {\n",
                            "        vertical-align: top;\n",
                            "    }\n",
                            "\n",
                            "    .dataframe thead th {\n",
                            "        text-align: right;\n",
                            "    }\n",
                            "</style>\n",
                            "<table border=\"1\" class=\"dataframe\">\n",
                            "  <thead>\n",
                            "    <tr style=\"text-align: right;\">\n",
                            "      <th>altitude</th>\n",
                            "      <th>altitude1</th>\n",
                            "      <th>altitude2</th>\n",
                            "      <th>altitude3</th>\n",
                            "      <th>altitude4</th>\n",
                            "      <th>altitude5</th>\n",
                            "    </tr>\n",
                            "    <tr>\n",
                            "      <th>icao24</th>\n",
                            "      <th></th>\n",
                            "      <th></th>\n",
                            "      <th></th>\n",
                            "      <th></th>\n",
                            "      <th></th>\n",
                            "    </tr>\n",
                            "  </thead>\n",
                            "  <tbody>\n",
                            "    <tr>\n",
                            "      <th>000001</th>\n",
                            "      <td>70.951157</td>\n",
                            "      <td>28.149100</td>\n",
                            "      <td>0.899743</td>\n",
                            "      <td>0.000000</td>\n",
                            "      <td>0.000000</td>\n",
                            "    </tr>\n",
                            "    <tr>\n",
                            "      <th>009f55</th>\n",
                            "      <td>0.000000</td>\n",
                            "      <td>0.000000</td>\n",
                            "      <td>0.000000</td>\n",
                            "      <td>100.000000</td>\n",
                            "      <td>0.000000</td>\n",
                            "    </tr>\n",
                            "    <tr>\n",
                            "      <th>00b0ec</th>\n",
                            "      <td>17.757009</td>\n",
                            "      <td>26.168224</td>\n",
                            "      <td>32.710280</td>\n",
                            "      <td>14.953271</td>\n",
                            "      <td>8.411215</td>\n",
                            "    </tr>\n",
                            "    <tr>\n",
                            "      <th>00b1fa</th>\n",
                            "      <td>37.500000</td>\n",
                            "      <td>24.038462</td>\n",
                            "      <td>9.134615</td>\n",
                            "      <td>20.192308</td>\n",
                            "      <td>9.134615</td>\n",
                            "    </tr>\n",
                            "    <tr>\n",
                            "      <th>00b208</th>\n",
                            "      <td>13.580247</td>\n",
                            "      <td>32.098765</td>\n",
                            "      <td>17.283951</td>\n",
                            "      <td>33.333333</td>\n",
                            "      <td>3.703704</td>\n",
                            "    </tr>\n",
                            "  </tbody>\n",
                            "</table>\n",
                            "</div>"
                        ],
                        "text/plain": [
                            "altitude  altitude1  altitude2  altitude3   altitude4  altitude5\n",
                            "icao24                                                          \n",
                            "000001    70.951157  28.149100   0.899743    0.000000   0.000000\n",
                            "009f55     0.000000   0.000000   0.000000  100.000000   0.000000\n",
                            "00b0ec    17.757009  26.168224  32.710280   14.953271   8.411215\n",
                            "00b1fa    37.500000  24.038462   9.134615   20.192308   9.134615\n",
                            "00b208    13.580247  32.098765  17.283951   33.333333   3.703704"
                        ]
                    },
                    "execution_count": 15,
                    "metadata": {},
                    "output_type": "execute_result"
                }
            ],
            "source": [
                "# Calculate quantiles from the sample and calculate each plane's behavior\n",
                "quantiles = altitudes.loc[sample_icao24].quantile([0.2, 0.4, 0.6, 0.8])\n",
                "\n",
                "bin_quantiles = [-np.inf, *quantiles, np.inf]\n",
                "bin_labels = ['altitude1','altitude2','altitude3','altitude4','altitude5']\n",
                "\n",
                "binned = pd.cut(altitudes,\n",
                "                bins=bin_quantiles,\n",
                "                labels=bin_labels)\n",
                "\n",
                "altitude_features = binned.groupby(['icao24']).value_counts(normalize=True).unstack(fill_value=0) * 100\n",
                "altitude_features.head()"
            ]
        },
        {
            "cell_type": "markdown",
            "metadata": {},
            "source": [
                "## Flight duration quantiles\n",
                "\n",
                "Calculate flight durations for all of our planes. We're grouping by the plane ID and the `firstseen` column, which indicates a new flight."
            ]
        },
        {
            "cell_type": "code",
            "execution_count": 16,
            "metadata": {},
            "outputs": [
                {
                    "data": {
                        "text/html": [
                            "<div>\n",
                            "<style scoped>\n",
                            "    .dataframe tbody tr th:only-of-type {\n",
                            "        vertical-align: middle;\n",
                            "    }\n",
                            "\n",
                            "    .dataframe tbody tr th {\n",
                            "        vertical-align: top;\n",
                            "    }\n",
                            "\n",
                            "    .dataframe thead th {\n",
                            "        text-align: right;\n",
                            "    }\n",
                            "</style>\n",
                            "<table border=\"1\" class=\"dataframe\">\n",
                            "  <thead>\n",
                            "    <tr style=\"text-align: right;\">\n",
                            "      <th></th>\n",
                            "      <th>firstseen</th>\n",
                            "      <th>lastseen</th>\n",
                            "    </tr>\n",
                            "    <tr>\n",
                            "      <th>icao24</th>\n",
                            "      <th></th>\n",
                            "      <th></th>\n",
                            "    </tr>\n",
                            "  </thead>\n",
                            "  <tbody>\n",
                            "    <tr>\n",
                            "      <th>000001</th>\n",
                            "      <td>1.529539e+09</td>\n",
                            "      <td>1529539737</td>\n",
                            "    </tr>\n",
                            "    <tr>\n",
                            "      <th>000001</th>\n",
                            "      <td>1.529541e+09</td>\n",
                            "      <td>1529571558</td>\n",
                            "    </tr>\n",
                            "    <tr>\n",
                            "      <th>000001</th>\n",
                            "      <td>1.529595e+09</td>\n",
                            "      <td>1529610553</td>\n",
                            "    </tr>\n",
                            "    <tr>\n",
                            "      <th>009f55</th>\n",
                            "      <td>1.529586e+09</td>\n",
                            "      <td>1529587568</td>\n",
                            "    </tr>\n",
                            "    <tr>\n",
                            "      <th>00b0ec</th>\n",
                            "      <td>1.529523e+09</td>\n",
                            "      <td>1529576455</td>\n",
                            "    </tr>\n",
                            "  </tbody>\n",
                            "</table>\n",
                            "</div>"
                        ],
                        "text/plain": [
                            "           firstseen    lastseen\n",
                            "icao24                          \n",
                            "000001  1.529539e+09  1529539737\n",
                            "000001  1.529541e+09  1529571558\n",
                            "000001  1.529595e+09  1529610553\n",
                            "009f55  1.529586e+09  1529587568\n",
                            "00b0ec  1.529523e+09  1529576455"
                        ]
                    },
                    "execution_count": 16,
                    "metadata": {},
                    "output_type": "execute_result"
                }
            ],
            "source": [
                "flight_times = df.groupby(['icao24', 'firstseen']).lastseen.last().reset_index(level=1)\n",
                "flight_times.head()"
            ]
        },
        {
            "cell_type": "markdown",
            "metadata": {},
            "source": [
                "We can then subtract the two to get the duration for each flight."
            ]
        },
        {
            "cell_type": "code",
            "execution_count": 17,
            "metadata": {},
            "outputs": [
                {
                    "data": {
                        "text/plain": [
                            "icao24\n",
                            "000001      894.0\n",
                            "000001    30940.0\n",
                            "000001    15530.0\n",
                            "009f55     1695.0\n",
                            "00b0ec    53862.0\n",
                            "dtype: float64"
                        ]
                    },
                    "execution_count": 17,
                    "metadata": {},
                    "output_type": "execute_result"
                }
            ],
            "source": [
                "durations = flight_times.lastseen - flight_times.firstseen\n",
                "durations.head()"
            ]
        },
        {
            "cell_type": "code",
            "execution_count": 18,
            "metadata": {},
            "outputs": [
                {
                    "data": {
                        "text/html": [
                            "<div>\n",
                            "<style scoped>\n",
                            "    .dataframe tbody tr th:only-of-type {\n",
                            "        vertical-align: middle;\n",
                            "    }\n",
                            "\n",
                            "    .dataframe tbody tr th {\n",
                            "        vertical-align: top;\n",
                            "    }\n",
                            "\n",
                            "    .dataframe thead th {\n",
                            "        text-align: right;\n",
                            "    }\n",
                            "</style>\n",
                            "<table border=\"1\" class=\"dataframe\">\n",
                            "  <thead>\n",
                            "    <tr style=\"text-align: right;\">\n",
                            "      <th></th>\n",
                            "      <th>duration1</th>\n",
                            "      <th>duration2</th>\n",
                            "      <th>duration3</th>\n",
                            "      <th>duration4</th>\n",
                            "      <th>duration5</th>\n",
                            "    </tr>\n",
                            "    <tr>\n",
                            "      <th>icao24</th>\n",
                            "      <th></th>\n",
                            "      <th></th>\n",
                            "      <th></th>\n",
                            "      <th></th>\n",
                            "      <th></th>\n",
                            "    </tr>\n",
                            "  </thead>\n",
                            "  <tbody>\n",
                            "    <tr>\n",
                            "      <th>000001</th>\n",
                            "      <td>33.333333</td>\n",
                            "      <td>0.0</td>\n",
                            "      <td>0.0</td>\n",
                            "      <td>0.0</td>\n",
                            "      <td>66.666667</td>\n",
                            "    </tr>\n",
                            "    <tr>\n",
                            "      <th>009f55</th>\n",
                            "      <td>0.000000</td>\n",
                            "      <td>100.0</td>\n",
                            "      <td>0.0</td>\n",
                            "      <td>0.0</td>\n",
                            "      <td>0.000000</td>\n",
                            "    </tr>\n",
                            "    <tr>\n",
                            "      <th>00b0ec</th>\n",
                            "      <td>0.000000</td>\n",
                            "      <td>0.0</td>\n",
                            "      <td>0.0</td>\n",
                            "      <td>0.0</td>\n",
                            "      <td>100.000000</td>\n",
                            "    </tr>\n",
                            "    <tr>\n",
                            "      <th>00b1fa</th>\n",
                            "      <td>0.000000</td>\n",
                            "      <td>0.0</td>\n",
                            "      <td>0.0</td>\n",
                            "      <td>0.0</td>\n",
                            "      <td>100.000000</td>\n",
                            "    </tr>\n",
                            "    <tr>\n",
                            "      <th>00b208</th>\n",
                            "      <td>0.000000</td>\n",
                            "      <td>0.0</td>\n",
                            "      <td>0.0</td>\n",
                            "      <td>0.0</td>\n",
                            "      <td>100.000000</td>\n",
                            "    </tr>\n",
                            "  </tbody>\n",
                            "</table>\n",
                            "</div>"
                        ],
                        "text/plain": [
                            "        duration1  duration2  duration3  duration4   duration5\n",
                            "icao24                                                        \n",
                            "000001  33.333333        0.0        0.0        0.0   66.666667\n",
                            "009f55   0.000000      100.0        0.0        0.0    0.000000\n",
                            "00b0ec   0.000000        0.0        0.0        0.0  100.000000\n",
                            "00b1fa   0.000000        0.0        0.0        0.0  100.000000\n",
                            "00b208   0.000000        0.0        0.0        0.0  100.000000"
                        ]
                    },
                    "execution_count": 18,
                    "metadata": {},
                    "output_type": "execute_result"
                }
            ],
            "source": [
                "# Calculate quantiles from the sample and calculate each plane's behavior\n",
                "quantiles = durations.loc[sample_icao24].quantile([0.2, 0.4, 0.6, 0.8])\n",
                "\n",
                "bin_quantiles = [-np.inf, *quantiles, np.inf]\n",
                "bin_labels = ['duration1','duration2','duration3','duration4','duration5']\n",
                "\n",
                "binned = pd.cut(durations,\n",
                "                bins=bin_quantiles,\n",
                "                labels=bin_labels)\n",
                "\n",
                "duration_features = binned.groupby(['icao24']).value_counts(normalize=True).unstack(fill_value=0) * 100\n",
                "duration_features.head()"
            ]
        },
        {
            "cell_type": "markdown",
            "metadata": {},
            "source": [
                "# Speed quantiles\n",
                "\n",
                "> TODO speed!!!"
            ]
        },
        {
            "cell_type": "code",
            "execution_count": 19,
            "metadata": {},
            "outputs": [
                {
                    "data": {
                        "text/html": [
                            "<div>\n",
                            "<style scoped>\n",
                            "    .dataframe tbody tr th:only-of-type {\n",
                            "        vertical-align: middle;\n",
                            "    }\n",
                            "\n",
                            "    .dataframe tbody tr th {\n",
                            "        vertical-align: top;\n",
                            "    }\n",
                            "\n",
                            "    .dataframe thead th {\n",
                            "        text-align: right;\n",
                            "    }\n",
                            "</style>\n",
                            "<table border=\"1\" class=\"dataframe\">\n",
                            "  <thead>\n",
                            "    <tr style=\"text-align: right;\">\n",
                            "      <th></th>\n",
                            "      <th>icao24</th>\n",
                            "      <th>callsign</th>\n",
                            "      <th>day</th>\n",
                            "      <th>firstseen</th>\n",
                            "      <th>lastseen</th>\n",
                            "      <th>estdepartureairport</th>\n",
                            "      <th>estarrivalairport</th>\n",
                            "      <th>time</th>\n",
                            "      <th>altitude</th>\n",
                            "      <th>latitude</th>\n",
                            "      <th>longitude</th>\n",
                            "      <th>heading</th>\n",
                            "    </tr>\n",
                            "  </thead>\n",
                            "  <tbody>\n",
                            "    <tr>\n",
                            "      <th>0</th>\n",
                            "      <td>a09909</td>\n",
                            "      <td>NaN</td>\n",
                            "      <td>1529539200</td>\n",
                            "      <td>1.529574e+09</td>\n",
                            "      <td>1529574562</td>\n",
                            "      <td>KPWK</td>\n",
                            "      <td>IN93</td>\n",
                            "      <td>1529574561</td>\n",
                            "      <td>609.6</td>\n",
                            "      <td>41.702100</td>\n",
                            "      <td>-86.469939</td>\n",
                            "      <td>88.232170</td>\n",
                            "    </tr>\n",
                            "    <tr>\n",
                            "      <th>1</th>\n",
                            "      <td>a09909</td>\n",
                            "      <td>NaN</td>\n",
                            "      <td>1529539200</td>\n",
                            "      <td>1.529574e+09</td>\n",
                            "      <td>1529574562</td>\n",
                            "      <td>KPWK</td>\n",
                            "      <td>IN93</td>\n",
                            "      <td>1529574559</td>\n",
                            "      <td>609.6</td>\n",
                            "      <td>41.702042</td>\n",
                            "      <td>-86.472140</td>\n",
                            "      <td>88.253716</td>\n",
                            "    </tr>\n",
                            "  </tbody>\n",
                            "</table>\n",
                            "</div>"
                        ],
                        "text/plain": [
                            "   icao24 callsign         day     firstseen    lastseen estdepartureairport  \\\n",
                            "0  a09909      NaN  1529539200  1.529574e+09  1529574562                KPWK   \n",
                            "1  a09909      NaN  1529539200  1.529574e+09  1529574562                KPWK   \n",
                            "\n",
                            "  estarrivalairport        time  altitude   latitude  longitude    heading  \n",
                            "0              IN93  1529574561     609.6  41.702100 -86.469939  88.232170  \n",
                            "1              IN93  1529574559     609.6  41.702042 -86.472140  88.253716  "
                        ]
                    },
                    "execution_count": 19,
                    "metadata": {},
                    "output_type": "execute_result"
                }
            ],
            "source": [
                "df.head(2)"
            ]
        },
        {
            "cell_type": "markdown",
            "metadata": {},
            "source": [
                "# Bounding box area quintiles\n",
                "\n",
                "We'll calculate for everyone, then get quintiles from the sample"
            ]
        },
        {
            "cell_type": "code",
            "execution_count": 20,
            "metadata": {},
            "outputs": [
                {
                    "data": {
                        "text/html": [
                            "<div>\n",
                            "<style scoped>\n",
                            "    .dataframe tbody tr th:only-of-type {\n",
                            "        vertical-align: middle;\n",
                            "    }\n",
                            "\n",
                            "    .dataframe tbody tr th {\n",
                            "        vertical-align: top;\n",
                            "    }\n",
                            "\n",
                            "    .dataframe thead tr th {\n",
                            "        text-align: left;\n",
                            "    }\n",
                            "\n",
                            "    .dataframe thead tr:last-of-type th {\n",
                            "        text-align: right;\n",
                            "    }\n",
                            "</style>\n",
                            "<table border=\"1\" class=\"dataframe\">\n",
                            "  <thead>\n",
                            "    <tr>\n",
                            "      <th></th>\n",
                            "      <th colspan=\"2\" halign=\"left\">latitude</th>\n",
                            "      <th colspan=\"2\" halign=\"left\">longitude</th>\n",
                            "    </tr>\n",
                            "    <tr>\n",
                            "      <th></th>\n",
                            "      <th>min</th>\n",
                            "      <th>max</th>\n",
                            "      <th>min</th>\n",
                            "      <th>max</th>\n",
                            "    </tr>\n",
                            "    <tr>\n",
                            "      <th>icao24</th>\n",
                            "      <th></th>\n",
                            "      <th></th>\n",
                            "      <th></th>\n",
                            "      <th></th>\n",
                            "    </tr>\n",
                            "  </thead>\n",
                            "  <tbody>\n",
                            "    <tr>\n",
                            "      <th>000001</th>\n",
                            "      <td>34.875229</td>\n",
                            "      <td>34.885409</td>\n",
                            "      <td>-86.809593</td>\n",
                            "      <td>-86.707801</td>\n",
                            "    </tr>\n",
                            "    <tr>\n",
                            "      <th>000001</th>\n",
                            "      <td>34.777222</td>\n",
                            "      <td>34.881821</td>\n",
                            "      <td>-86.809312</td>\n",
                            "      <td>-86.692085</td>\n",
                            "    </tr>\n",
                            "    <tr>\n",
                            "      <th>000001</th>\n",
                            "      <td>33.032364</td>\n",
                            "      <td>33.679613</td>\n",
                            "      <td>-111.994124</td>\n",
                            "      <td>-111.361322</td>\n",
                            "    </tr>\n",
                            "    <tr>\n",
                            "      <th>009f55</th>\n",
                            "      <td>34.681184</td>\n",
                            "      <td>37.396591</td>\n",
                            "      <td>-80.488294</td>\n",
                            "      <td>-78.992672</td>\n",
                            "    </tr>\n",
                            "    <tr>\n",
                            "      <th>00b0ec</th>\n",
                            "      <td>37.990173</td>\n",
                            "      <td>40.612033</td>\n",
                            "      <td>-73.915267</td>\n",
                            "      <td>-68.287626</td>\n",
                            "    </tr>\n",
                            "  </tbody>\n",
                            "</table>\n",
                            "</div>"
                        ],
                        "text/plain": [
                            "         latitude              longitude            \n",
                            "              min        max         min         max\n",
                            "icao24                                              \n",
                            "000001  34.875229  34.885409  -86.809593  -86.707801\n",
                            "000001  34.777222  34.881821  -86.809312  -86.692085\n",
                            "000001  33.032364  33.679613 -111.994124 -111.361322\n",
                            "009f55  34.681184  37.396591  -80.488294  -78.992672\n",
                            "00b0ec  37.990173  40.612033  -73.915267  -68.287626"
                        ]
                    },
                    "execution_count": 20,
                    "metadata": {},
                    "output_type": "execute_result"
                }
            ],
            "source": [
                "# Calculate min/max for each flight's lat/lon\n",
                "coords = df.groupby(['icao24', 'firstseen']).agg({\n",
                "    'latitude': ['min', 'max'],\n",
                "    'longitude': ['min', 'max']\n",
                "}).reset_index(level=1, drop=True)\n",
                "coords.head()"
            ]
        },
        {
            "cell_type": "code",
            "execution_count": 21,
            "metadata": {},
            "outputs": [
                {
                    "data": {
                        "text/plain": [
                            "icao24\n",
                            "000001        15.653545\n",
                            "000001       185.110905\n",
                            "000001      6076.579771\n",
                            "009f55     62250.036094\n",
                            "00b0ec    236331.915381\n",
                            "dtype: float64"
                        ]
                    },
                    "execution_count": 21,
                    "metadata": {},
                    "output_type": "execute_result"
                }
            ],
            "source": [
                "# Calculate the bounding box in km for those\n",
                "# Yeah, sorry this is complicated\n",
                "\n",
                "transformer = Transformer.from_crs('epsg:4326', 'epsg:3857')\n",
                "\n",
                "def get_area(row):\n",
                "    coords_y = [\n",
                "        row['longitude']['min'],\n",
                "        row['longitude']['max'],\n",
                "        row['longitude']['max'],\n",
                "        row['longitude']['min'],\n",
                "    ]\n",
                "    coords_x = [\n",
                "        row['latitude']['max'],\n",
                "        row['latitude']['max'],\n",
                "        row['latitude']['min'],\n",
                "        row['latitude']['min'],\n",
                "    ]\n",
                "\n",
                "    # This is so much faster than going the shapely route\n",
                "    # but also slower than it used to be?\n",
                "    lon, lat = transformer.transform(coords_x, coords_y)\n",
                "    square_m = Polygon(zip(lon, lat)).area\n",
                "    square_km = square_m / (1000 * 1000)\n",
                "    return square_km\n",
                "\n",
                "areas = coords.apply(get_area, axis=1)\n",
                "areas.head()"
            ]
        },
        {
            "cell_type": "code",
            "execution_count": 22,
            "metadata": {},
            "outputs": [
                {
                    "data": {
                        "text/html": [
                            "<div>\n",
                            "<style scoped>\n",
                            "    .dataframe tbody tr th:only-of-type {\n",
                            "        vertical-align: middle;\n",
                            "    }\n",
                            "\n",
                            "    .dataframe tbody tr th {\n",
                            "        vertical-align: top;\n",
                            "    }\n",
                            "\n",
                            "    .dataframe thead th {\n",
                            "        text-align: right;\n",
                            "    }\n",
                            "</style>\n",
                            "<table border=\"1\" class=\"dataframe\">\n",
                            "  <thead>\n",
                            "    <tr style=\"text-align: right;\">\n",
                            "      <th></th>\n",
                            "      <th>area1</th>\n",
                            "      <th>area2</th>\n",
                            "      <th>area3</th>\n",
                            "      <th>area4</th>\n",
                            "      <th>area5</th>\n",
                            "    </tr>\n",
                            "    <tr>\n",
                            "      <th>icao24</th>\n",
                            "      <th></th>\n",
                            "      <th></th>\n",
                            "      <th></th>\n",
                            "      <th></th>\n",
                            "      <th></th>\n",
                            "    </tr>\n",
                            "  </thead>\n",
                            "  <tbody>\n",
                            "    <tr>\n",
                            "      <th>000001</th>\n",
                            "      <td>100.0</td>\n",
                            "      <td>0.0</td>\n",
                            "      <td>0.0</td>\n",
                            "      <td>0.0</td>\n",
                            "      <td>0.0</td>\n",
                            "    </tr>\n",
                            "    <tr>\n",
                            "      <th>009f55</th>\n",
                            "      <td>0.0</td>\n",
                            "      <td>100.0</td>\n",
                            "      <td>0.0</td>\n",
                            "      <td>0.0</td>\n",
                            "      <td>0.0</td>\n",
                            "    </tr>\n",
                            "    <tr>\n",
                            "      <th>00b0ec</th>\n",
                            "      <td>0.0</td>\n",
                            "      <td>0.0</td>\n",
                            "      <td>100.0</td>\n",
                            "      <td>0.0</td>\n",
                            "      <td>0.0</td>\n",
                            "    </tr>\n",
                            "    <tr>\n",
                            "      <th>00b1fa</th>\n",
                            "      <td>0.0</td>\n",
                            "      <td>0.0</td>\n",
                            "      <td>100.0</td>\n",
                            "      <td>0.0</td>\n",
                            "      <td>0.0</td>\n",
                            "    </tr>\n",
                            "    <tr>\n",
                            "      <th>00b208</th>\n",
                            "      <td>0.0</td>\n",
                            "      <td>0.0</td>\n",
                            "      <td>100.0</td>\n",
                            "      <td>0.0</td>\n",
                            "      <td>0.0</td>\n",
                            "    </tr>\n",
                            "  </tbody>\n",
                            "</table>\n",
                            "</div>"
                        ],
                        "text/plain": [
                            "        area1  area2  area3  area4  area5\n",
                            "icao24                                   \n",
                            "000001  100.0    0.0    0.0    0.0    0.0\n",
                            "009f55    0.0  100.0    0.0    0.0    0.0\n",
                            "00b0ec    0.0    0.0  100.0    0.0    0.0\n",
                            "00b1fa    0.0    0.0  100.0    0.0    0.0\n",
                            "00b208    0.0    0.0  100.0    0.0    0.0"
                        ]
                    },
                    "execution_count": 22,
                    "metadata": {},
                    "output_type": "execute_result"
                }
            ],
            "source": [
                "# Calculate quantiles from the sample and calculate each plane's behavior\n",
                "quantiles = areas.loc[sample_icao24].quantile([0.2, 0.4, 0.6, 0.8])\n",
                "\n",
                "bin_quantiles = [-np.inf, *quantiles, np.inf]\n",
                "bin_labels = ['area1','area2','area3','area4','area5']\n",
                "\n",
                "binned = pd.cut(areas,\n",
                "                bins=bin_quantiles,\n",
                "                labels=bin_labels)\n",
                "\n",
                "area_features = binned.groupby(['icao24']).value_counts(normalize=True).unstack(fill_value=0) * 100\n",
                "area_features.head()"
            ]
        },
        {
            "cell_type": "markdown",
            "metadata": {},
            "source": [
                "## Compute the steering\n",
                "\n",
                "Each measurement has a heading, the direction the plane is going. By calculating the difference between one heading and the next, we can calculate in which direction the plane was steered."
            ]
        },
        {
            "cell_type": "code",
            "execution_count": 23,
            "metadata": {},
            "outputs": [
                {
                    "data": {
                        "text/html": [
                            "<div>\n",
                            "<style scoped>\n",
                            "    .dataframe tbody tr th:only-of-type {\n",
                            "        vertical-align: middle;\n",
                            "    }\n",
                            "\n",
                            "    .dataframe tbody tr th {\n",
                            "        vertical-align: top;\n",
                            "    }\n",
                            "\n",
                            "    .dataframe thead th {\n",
                            "        text-align: right;\n",
                            "    }\n",
                            "</style>\n",
                            "<table border=\"1\" class=\"dataframe\">\n",
                            "  <thead>\n",
                            "    <tr style=\"text-align: right;\">\n",
                            "      <th></th>\n",
                            "      <th>icao24</th>\n",
                            "      <th>callsign</th>\n",
                            "      <th>day</th>\n",
                            "      <th>firstseen</th>\n",
                            "      <th>lastseen</th>\n",
                            "      <th>estdepartureairport</th>\n",
                            "      <th>estarrivalairport</th>\n",
                            "      <th>time</th>\n",
                            "      <th>altitude</th>\n",
                            "      <th>latitude</th>\n",
                            "      <th>longitude</th>\n",
                            "      <th>heading</th>\n",
                            "      <th>steering</th>\n",
                            "    </tr>\n",
                            "  </thead>\n",
                            "  <tbody>\n",
                            "    <tr>\n",
                            "      <th>0</th>\n",
                            "      <td>a09909</td>\n",
                            "      <td>NaN</td>\n",
                            "      <td>1529539200</td>\n",
                            "      <td>1.529574e+09</td>\n",
                            "      <td>1529574562</td>\n",
                            "      <td>KPWK</td>\n",
                            "      <td>IN93</td>\n",
                            "      <td>1529574561</td>\n",
                            "      <td>609.6</td>\n",
                            "      <td>41.702100</td>\n",
                            "      <td>-86.469939</td>\n",
                            "      <td>88.232170</td>\n",
                            "      <td>NaN</td>\n",
                            "    </tr>\n",
                            "    <tr>\n",
                            "      <th>1</th>\n",
                            "      <td>a09909</td>\n",
                            "      <td>NaN</td>\n",
                            "      <td>1529539200</td>\n",
                            "      <td>1.529574e+09</td>\n",
                            "      <td>1529574562</td>\n",
                            "      <td>KPWK</td>\n",
                            "      <td>IN93</td>\n",
                            "      <td>1529574559</td>\n",
                            "      <td>609.6</td>\n",
                            "      <td>41.702042</td>\n",
                            "      <td>-86.472140</td>\n",
                            "      <td>88.253716</td>\n",
                            "      <td>0.021545</td>\n",
                            "    </tr>\n",
                            "    <tr>\n",
                            "      <th>2</th>\n",
                            "      <td>a09909</td>\n",
                            "      <td>NaN</td>\n",
                            "      <td>1529539200</td>\n",
                            "      <td>1.529574e+09</td>\n",
                            "      <td>1529574562</td>\n",
                            "      <td>KPWK</td>\n",
                            "      <td>IN93</td>\n",
                            "      <td>1529574490</td>\n",
                            "      <td>914.4</td>\n",
                            "      <td>41.700657</td>\n",
                            "      <td>-86.553040</td>\n",
                            "      <td>88.451843</td>\n",
                            "      <td>0.198128</td>\n",
                            "    </tr>\n",
                            "    <tr>\n",
                            "      <th>3</th>\n",
                            "      <td>a09909</td>\n",
                            "      <td>NaN</td>\n",
                            "      <td>1529539200</td>\n",
                            "      <td>1.529574e+09</td>\n",
                            "      <td>1529574562</td>\n",
                            "      <td>KPWK</td>\n",
                            "      <td>IN93</td>\n",
                            "      <td>1529574466</td>\n",
                            "      <td>1219.2</td>\n",
                            "      <td>41.703683</td>\n",
                            "      <td>-86.587595</td>\n",
                            "      <td>111.037514</td>\n",
                            "      <td>22.585670</td>\n",
                            "    </tr>\n",
                            "    <tr>\n",
                            "      <th>4</th>\n",
                            "      <td>a09909</td>\n",
                            "      <td>NaN</td>\n",
                            "      <td>1529539200</td>\n",
                            "      <td>1.529574e+09</td>\n",
                            "      <td>1529574562</td>\n",
                            "      <td>KPWK</td>\n",
                            "      <td>IN93</td>\n",
                            "      <td>1529574465</td>\n",
                            "      <td>1219.2</td>\n",
                            "      <td>41.703962</td>\n",
                            "      <td>-86.588681</td>\n",
                            "      <td>111.037514</td>\n",
                            "      <td>0.000000</td>\n",
                            "    </tr>\n",
                            "  </tbody>\n",
                            "</table>\n",
                            "</div>"
                        ],
                        "text/plain": [
                            "   icao24 callsign         day     firstseen    lastseen estdepartureairport  \\\n",
                            "0  a09909      NaN  1529539200  1.529574e+09  1529574562                KPWK   \n",
                            "1  a09909      NaN  1529539200  1.529574e+09  1529574562                KPWK   \n",
                            "2  a09909      NaN  1529539200  1.529574e+09  1529574562                KPWK   \n",
                            "3  a09909      NaN  1529539200  1.529574e+09  1529574562                KPWK   \n",
                            "4  a09909      NaN  1529539200  1.529574e+09  1529574562                KPWK   \n",
                            "\n",
                            "  estarrivalairport        time  altitude   latitude  longitude     heading  \\\n",
                            "0              IN93  1529574561     609.6  41.702100 -86.469939   88.232170   \n",
                            "1              IN93  1529574559     609.6  41.702042 -86.472140   88.253716   \n",
                            "2              IN93  1529574490     914.4  41.700657 -86.553040   88.451843   \n",
                            "3              IN93  1529574466    1219.2  41.703683 -86.587595  111.037514   \n",
                            "4              IN93  1529574465    1219.2  41.703962 -86.588681  111.037514   \n",
                            "\n",
                            "    steering  \n",
                            "0        NaN  \n",
                            "1   0.021545  \n",
                            "2   0.198128  \n",
                            "3  22.585670  \n",
                            "4   0.000000  "
                        ]
                    },
                    "execution_count": 23,
                    "metadata": {},
                    "output_type": "execute_result"
                }
            ],
            "source": [
                "df['steering'] = df.groupby(['icao24', 'firstseen']).heading.diff()\n",
                "df.head()"
            ]
        },
        {
            "cell_type": "code",
            "execution_count": 24,
            "metadata": {},
            "outputs": [
                {
                    "data": {
                        "text/plain": [
                            "icao24\n",
                            "a09909          NaN\n",
                            "a09909     0.021545\n",
                            "a09909     0.198128\n",
                            "a09909    22.585670\n",
                            "a09909     0.000000\n",
                            "Name: steering, dtype: float64"
                        ]
                    },
                    "execution_count": 24,
                    "metadata": {},
                    "output_type": "execute_result"
                }
            ],
            "source": [
                "steerings = df.set_index('icao24').steering\n",
                "steerings.head()"
            ]
        },
        {
            "cell_type": "markdown",
            "metadata": {},
            "source": [
                "Since we aren't quite sure how much steering goes into flying a plane, we can take a look at a histogram to try to understand it."
            ]
        },
        {
            "cell_type": "code",
            "execution_count": 25,
            "metadata": {},
            "outputs": [
                {
                    "data": {
                        "text/plain": [
                            "<matplotlib.axes._subplots.AxesSubplot at 0x11c5cad30>"
                        ]
                    },
                    "execution_count": 25,
                    "metadata": {},
                    "output_type": "execute_result"
                },
                {
                    "data": {
                        "image/png": "[encoded data removed]",
                        "text/plain": [
                            "<Figure size 432x288 with 1 Axes>"
                        ]
                    },
                    "metadata": {
                        "needs_background": "light"
                    },
                    "output_type": "display_data"
                }
            ],
            "source": [
                "steerings.hist()"
            ]
        },
        {
            "cell_type": "markdown",
            "metadata": {},
            "source": [
                "Notice those +/- 300-something turns? It's a side effect of our calculation - think about what a 359 degree turn to the right is (Hint: it's just ONE DEGREE to the left). Let's get rid of them."
            ]
        },
        {
            "cell_type": "code",
            "execution_count": 26,
            "metadata": {},
            "outputs": [
                {
                    "data": {
                        "text/plain": [
                            "icao24\n",
                            "a09909          NaN\n",
                            "a09909     0.021545\n",
                            "a09909     0.198128\n",
                            "a09909    22.585670\n",
                            "a09909     0.000000\n",
                            "Name: steering, dtype: float64"
                        ]
                    },
                    "execution_count": 26,
                    "metadata": {},
                    "output_type": "execute_result"
                }
            ],
            "source": [
                "# Just in case it crossed the 360 barrier, we can only turn 180* L or R\n",
                "steerings = steerings.apply(lambda direction: direction if direction <= 180 else direction - 360)\n",
                "steerings = steerings.apply(lambda direction: direction if direction >= -180 else direction + 360)\n",
                "\n",
                "steerings.head()"
            ]
        },
        {
            "cell_type": "markdown",
            "metadata": {},
            "source": [
                "Does the distribution still have those 300s in there?"
            ]
        },
        {
            "cell_type": "code",
            "execution_count": 27,
            "metadata": {},
            "outputs": [
                {
                    "data": {
                        "text/plain": [
                            "<matplotlib.axes._subplots.AxesSubplot at 0x125f1c550>"
                        ]
                    },
                    "execution_count": 27,
                    "metadata": {},
                    "output_type": "execute_result"
                },
                {
                    "data": {
                        "image/png": "[encoded data removed]",
                        "text/plain": [
                            "<Figure size 432x288 with 1 Axes>"
                        ]
                    },
                    "metadata": {
                        "needs_background": "light"
                    },
                    "output_type": "display_data"
                }
            ],
            "source": [
                "steerings.hist()"
            ]
        },
        {
            "cell_type": "markdown",
            "metadata": {},
            "source": [
                "That looks more reasonable - now we can run some calculations. **Peter didn't use quantiles for this one**, he used his own boundaries."
            ]
        },
        {
            "cell_type": "code",
            "execution_count": 28,
            "metadata": {},
            "outputs": [
                {
                    "data": {
                        "text/html": [
                            "<div>\n",
                            "<style scoped>\n",
                            "    .dataframe tbody tr th:only-of-type {\n",
                            "        vertical-align: middle;\n",
                            "    }\n",
                            "\n",
                            "    .dataframe tbody tr th {\n",
                            "        vertical-align: top;\n",
                            "    }\n",
                            "\n",
                            "    .dataframe thead th {\n",
                            "        text-align: right;\n",
                            "    }\n",
                            "</style>\n",
                            "<table border=\"1\" class=\"dataframe\">\n",
                            "  <thead>\n",
                            "    <tr style=\"text-align: right;\">\n",
                            "      <th>steering</th>\n",
                            "      <th>steer1</th>\n",
                            "      <th>steer2</th>\n",
                            "      <th>steer3</th>\n",
                            "      <th>steer4</th>\n",
                            "      <th>steer5</th>\n",
                            "      <th>steer6</th>\n",
                            "      <th>steer7</th>\n",
                            "      <th>steer8</th>\n",
                            "    </tr>\n",
                            "    <tr>\n",
                            "      <th>icao24</th>\n",
                            "      <th></th>\n",
                            "      <th></th>\n",
                            "      <th></th>\n",
                            "      <th></th>\n",
                            "      <th></th>\n",
                            "      <th></th>\n",
                            "      <th></th>\n",
                            "      <th></th>\n",
                            "    </tr>\n",
                            "  </thead>\n",
                            "  <tbody>\n",
                            "    <tr>\n",
                            "      <th>000001</th>\n",
                            "      <td>1.609788</td>\n",
                            "      <td>2.318094</td>\n",
                            "      <td>56.213780</td>\n",
                            "      <td>6.696716</td>\n",
                            "      <td>3.090792</td>\n",
                            "      <td>27.817128</td>\n",
                            "      <td>1.094656</td>\n",
                            "      <td>1.159047</td>\n",
                            "    </tr>\n",
                            "    <tr>\n",
                            "      <th>009f55</th>\n",
                            "      <td>0.000000</td>\n",
                            "      <td>0.000000</td>\n",
                            "      <td>29.411765</td>\n",
                            "      <td>23.529412</td>\n",
                            "      <td>41.176471</td>\n",
                            "      <td>5.882353</td>\n",
                            "      <td>0.000000</td>\n",
                            "      <td>0.000000</td>\n",
                            "    </tr>\n",
                            "    <tr>\n",
                            "      <th>00b0ec</th>\n",
                            "      <td>0.000000</td>\n",
                            "      <td>0.943396</td>\n",
                            "      <td>48.113208</td>\n",
                            "      <td>8.490566</td>\n",
                            "      <td>16.037736</td>\n",
                            "      <td>26.415094</td>\n",
                            "      <td>0.000000</td>\n",
                            "      <td>0.000000</td>\n",
                            "    </tr>\n",
                            "    <tr>\n",
                            "      <th>00b1fa</th>\n",
                            "      <td>0.000000</td>\n",
                            "      <td>0.000000</td>\n",
                            "      <td>42.028986</td>\n",
                            "      <td>12.077295</td>\n",
                            "      <td>10.628019</td>\n",
                            "      <td>35.265700</td>\n",
                            "      <td>0.000000</td>\n",
                            "      <td>0.000000</td>\n",
                            "    </tr>\n",
                            "    <tr>\n",
                            "      <th>00b208</th>\n",
                            "      <td>0.000000</td>\n",
                            "      <td>0.000000</td>\n",
                            "      <td>63.975155</td>\n",
                            "      <td>16.770186</td>\n",
                            "      <td>5.590062</td>\n",
                            "      <td>13.043478</td>\n",
                            "      <td>0.621118</td>\n",
                            "      <td>0.000000</td>\n",
                            "    </tr>\n",
                            "  </tbody>\n",
                            "</table>\n",
                            "</div>"
                        ],
                        "text/plain": [
                            "steering    steer1    steer2     steer3     steer4     steer5     steer6  \\\n",
                            "icao24                                                                     \n",
                            "000001    1.609788  2.318094  56.213780   6.696716   3.090792  27.817128   \n",
                            "009f55    0.000000  0.000000  29.411765  23.529412  41.176471   5.882353   \n",
                            "00b0ec    0.000000  0.943396  48.113208   8.490566  16.037736  26.415094   \n",
                            "00b1fa    0.000000  0.000000  42.028986  12.077295  10.628019  35.265700   \n",
                            "00b208    0.000000  0.000000  63.975155  16.770186   5.590062  13.043478   \n",
                            "\n",
                            "steering    steer7    steer8  \n",
                            "icao24                        \n",
                            "000001    1.094656  1.159047  \n",
                            "009f55    0.000000  0.000000  \n",
                            "00b0ec    0.000000  0.000000  \n",
                            "00b1fa    0.000000  0.000000  \n",
                            "00b208    0.621118  0.000000  "
                        ]
                    },
                    "execution_count": 28,
                    "metadata": {},
                    "output_type": "execute_result"
                }
            ],
            "source": [
                "# Calculate quantiles from the sample and calculate each plane's behavior\n",
                "#quantiles = areas.loc[sample_icao24].quantile([0.2, 0.4, 0.6, 0.8])\n",
                "quantiles = [-25, -10, -1, 0, 1, 22, 45]\n",
                "\n",
                "bin_quantiles = [-np.inf, *quantiles, np.inf]\n",
                "bin_labels = ['steer1','steer2','steer3','steer4','steer5', 'steer6', 'steer7', 'steer8']\n",
                "\n",
                "binned = pd.cut(steerings,\n",
                "                bins=bin_quantiles,\n",
                "                labels=bin_labels)\n",
                "\n",
                "steer_features = binned.groupby(['icao24']).value_counts(normalize=True).unstack(fill_value=0) * 100\n",
                "steer_features.head()"
            ]
        },
        {
            "cell_type": "markdown",
            "metadata": {},
            "source": [
                "## Observations: How many times did each plane show up in our dataset?"
            ]
        },
        {
            "cell_type": "code",
            "execution_count": 29,
            "metadata": {},
            "outputs": [
                {
                    "data": {
                        "text/html": [
                            "<div>\n",
                            "<style scoped>\n",
                            "    .dataframe tbody tr th:only-of-type {\n",
                            "        vertical-align: middle;\n",
                            "    }\n",
                            "\n",
                            "    .dataframe tbody tr th {\n",
                            "        vertical-align: top;\n",
                            "    }\n",
                            "\n",
                            "    .dataframe thead th {\n",
                            "        text-align: right;\n",
                            "    }\n",
                            "</style>\n",
                            "<table border=\"1\" class=\"dataframe\">\n",
                            "  <thead>\n",
                            "    <tr style=\"text-align: right;\">\n",
                            "      <th></th>\n",
                            "      <th>observations</th>\n",
                            "    </tr>\n",
                            "    <tr>\n",
                            "      <th>icao24</th>\n",
                            "      <th></th>\n",
                            "    </tr>\n",
                            "  </thead>\n",
                            "  <tbody>\n",
                            "    <tr>\n",
                            "      <th>000001</th>\n",
                            "      <td>1556</td>\n",
                            "    </tr>\n",
                            "    <tr>\n",
                            "      <th>009f55</th>\n",
                            "      <td>18</td>\n",
                            "    </tr>\n",
                            "  </tbody>\n",
                            "</table>\n",
                            "</div>"
                        ],
                        "text/plain": [
                            "        observations\n",
                            "icao24              \n",
                            "000001          1556\n",
                            "009f55            18"
                        ]
                    },
                    "execution_count": 29,
                    "metadata": {},
                    "output_type": "execute_result"
                }
            ],
            "source": [
                "count_features = df.groupby('icao24').size().to_frame(name='observations')\n",
                "count_features.head(2)"
            ]
        },
        {
            "cell_type": "markdown",
            "metadata": {},
            "source": [
                "# Combine everything into a features set\n",
                "\n",
                "Now that we have multiple dataframes of features, we can concatenate them all together based on the `iaco24` index and have a nice big set of features."
            ]
        },
        {
            "cell_type": "code",
            "execution_count": 30,
            "metadata": {},
            "outputs": [
                {
                    "data": {
                        "text/html": [
                            "<div>\n",
                            "<style scoped>\n",
                            "    .dataframe tbody tr th:only-of-type {\n",
                            "        vertical-align: middle;\n",
                            "    }\n",
                            "\n",
                            "    .dataframe tbody tr th {\n",
                            "        vertical-align: top;\n",
                            "    }\n",
                            "\n",
                            "    .dataframe thead th {\n",
                            "        text-align: right;\n",
                            "    }\n",
                            "</style>\n",
                            "<table border=\"1\" class=\"dataframe\">\n",
                            "  <thead>\n",
                            "    <tr style=\"text-align: right;\">\n",
                            "      <th></th>\n",
                            "      <th>altitude1</th>\n",
                            "      <th>altitude2</th>\n",
                            "      <th>altitude3</th>\n",
                            "      <th>altitude4</th>\n",
                            "      <th>altitude5</th>\n",
                            "      <th>duration1</th>\n",
                            "      <th>duration2</th>\n",
                            "      <th>duration3</th>\n",
                            "      <th>duration4</th>\n",
                            "      <th>duration5</th>\n",
                            "      <th>...</th>\n",
                            "      <th>area5</th>\n",
                            "      <th>steer1</th>\n",
                            "      <th>steer2</th>\n",
                            "      <th>steer3</th>\n",
                            "      <th>steer4</th>\n",
                            "      <th>steer5</th>\n",
                            "      <th>steer6</th>\n",
                            "      <th>steer7</th>\n",
                            "      <th>steer8</th>\n",
                            "      <th>observations</th>\n",
                            "    </tr>\n",
                            "  </thead>\n",
                            "  <tbody>\n",
                            "    <tr>\n",
                            "      <th>000001</th>\n",
                            "      <td>70.951157</td>\n",
                            "      <td>28.1491</td>\n",
                            "      <td>0.899743</td>\n",
                            "      <td>0.0</td>\n",
                            "      <td>0.0</td>\n",
                            "      <td>33.333333</td>\n",
                            "      <td>0.0</td>\n",
                            "      <td>0.0</td>\n",
                            "      <td>0.0</td>\n",
                            "      <td>66.666667</td>\n",
                            "      <td>...</td>\n",
                            "      <td>0.0</td>\n",
                            "      <td>1.609788</td>\n",
                            "      <td>2.318094</td>\n",
                            "      <td>56.213780</td>\n",
                            "      <td>6.696716</td>\n",
                            "      <td>3.090792</td>\n",
                            "      <td>27.817128</td>\n",
                            "      <td>1.094656</td>\n",
                            "      <td>1.159047</td>\n",
                            "      <td>1556</td>\n",
                            "    </tr>\n",
                            "    <tr>\n",
                            "      <th>009f55</th>\n",
                            "      <td>0.000000</td>\n",
                            "      <td>0.0000</td>\n",
                            "      <td>0.000000</td>\n",
                            "      <td>100.0</td>\n",
                            "      <td>0.0</td>\n",
                            "      <td>0.000000</td>\n",
                            "      <td>100.0</td>\n",
                            "      <td>0.0</td>\n",
                            "      <td>0.0</td>\n",
                            "      <td>0.000000</td>\n",
                            "      <td>...</td>\n",
                            "      <td>0.0</td>\n",
                            "      <td>0.000000</td>\n",
                            "      <td>0.000000</td>\n",
                            "      <td>29.411765</td>\n",
                            "      <td>23.529412</td>\n",
                            "      <td>41.176471</td>\n",
                            "      <td>5.882353</td>\n",
                            "      <td>0.000000</td>\n",
                            "      <td>0.000000</td>\n",
                            "      <td>18</td>\n",
                            "    </tr>\n",
                            "  </tbody>\n",
                            "</table>\n",
                            "<p>2 rows \u00d7 24 columns</p>\n",
                            "</div>"
                        ],
                        "text/plain": [
                            "        altitude1  altitude2  altitude3  altitude4  altitude5  duration1  \\\n",
                            "000001  70.951157    28.1491   0.899743        0.0        0.0  33.333333   \n",
                            "009f55   0.000000     0.0000   0.000000      100.0        0.0   0.000000   \n",
                            "\n",
                            "        duration2  duration3  duration4  duration5  ...  area5    steer1  \\\n",
                            "000001        0.0        0.0        0.0  66.666667  ...    0.0  1.609788   \n",
                            "009f55      100.0        0.0        0.0   0.000000  ...    0.0  0.000000   \n",
                            "\n",
                            "          steer2     steer3     steer4     steer5     steer6    steer7  \\\n",
                            "000001  2.318094  56.213780   6.696716   3.090792  27.817128  1.094656   \n",
                            "009f55  0.000000  29.411765  23.529412  41.176471   5.882353  0.000000   \n",
                            "\n",
                            "          steer8  observations  \n",
                            "000001  1.159047          1556  \n",
                            "009f55  0.000000            18  \n",
                            "\n",
                            "[2 rows x 24 columns]"
                        ]
                    },
                    "execution_count": 30,
                    "metadata": {},
                    "output_type": "execute_result"
                }
            ],
            "source": [
                "features = pd.concat([\n",
                "    altitude_features,\n",
                "    duration_features,\n",
                "    area_features,\n",
                "    steer_features,\n",
                "    count_features\n",
                "], axis=1, sort=False)\n",
                "features.head(2)"
            ]
        },
        {
            "cell_type": "markdown",
            "metadata": {},
            "source": [
                "We'll also turn the `icao24` back into a column, and **capitalize it** to match the other popular datasets on the topic."
            ]
        },
        {
            "cell_type": "code",
            "execution_count": 31,
            "metadata": {},
            "outputs": [
                {
                    "data": {
                        "text/html": [
                            "<div>\n",
                            "<style scoped>\n",
                            "    .dataframe tbody tr th:only-of-type {\n",
                            "        vertical-align: middle;\n",
                            "    }\n",
                            "\n",
                            "    .dataframe tbody tr th {\n",
                            "        vertical-align: top;\n",
                            "    }\n",
                            "\n",
                            "    .dataframe thead th {\n",
                            "        text-align: right;\n",
                            "    }\n",
                            "</style>\n",
                            "<table border=\"1\" class=\"dataframe\">\n",
                            "  <thead>\n",
                            "    <tr style=\"text-align: right;\">\n",
                            "      <th></th>\n",
                            "      <th>icao24</th>\n",
                            "      <th>altitude1</th>\n",
                            "      <th>altitude2</th>\n",
                            "      <th>altitude3</th>\n",
                            "      <th>altitude4</th>\n",
                            "      <th>altitude5</th>\n",
                            "      <th>duration1</th>\n",
                            "      <th>duration2</th>\n",
                            "      <th>duration3</th>\n",
                            "      <th>duration4</th>\n",
                            "      <th>...</th>\n",
                            "      <th>area5</th>\n",
                            "      <th>steer1</th>\n",
                            "      <th>steer2</th>\n",
                            "      <th>steer3</th>\n",
                            "      <th>steer4</th>\n",
                            "      <th>steer5</th>\n",
                            "      <th>steer6</th>\n",
                            "      <th>steer7</th>\n",
                            "      <th>steer8</th>\n",
                            "      <th>observations</th>\n",
                            "    </tr>\n",
                            "  </thead>\n",
                            "  <tbody>\n",
                            "    <tr>\n",
                            "      <th>0</th>\n",
                            "      <td>000001</td>\n",
                            "      <td>70.951157</td>\n",
                            "      <td>28.149100</td>\n",
                            "      <td>0.899743</td>\n",
                            "      <td>0.000000</td>\n",
                            "      <td>0.000000</td>\n",
                            "      <td>33.333333</td>\n",
                            "      <td>0.0</td>\n",
                            "      <td>0.0</td>\n",
                            "      <td>0.0</td>\n",
                            "      <td>...</td>\n",
                            "      <td>0.0</td>\n",
                            "      <td>1.609788</td>\n",
                            "      <td>2.318094</td>\n",
                            "      <td>56.213780</td>\n",
                            "      <td>6.696716</td>\n",
                            "      <td>3.090792</td>\n",
                            "      <td>27.817128</td>\n",
                            "      <td>1.094656</td>\n",
                            "      <td>1.159047</td>\n",
                            "      <td>1556</td>\n",
                            "    </tr>\n",
                            "    <tr>\n",
                            "      <th>1</th>\n",
                            "      <td>009F55</td>\n",
                            "      <td>0.000000</td>\n",
                            "      <td>0.000000</td>\n",
                            "      <td>0.000000</td>\n",
                            "      <td>100.000000</td>\n",
                            "      <td>0.000000</td>\n",
                            "      <td>0.000000</td>\n",
                            "      <td>100.0</td>\n",
                            "      <td>0.0</td>\n",
                            "      <td>0.0</td>\n",
                            "      <td>...</td>\n",
                            "      <td>0.0</td>\n",
                            "      <td>0.000000</td>\n",
                            "      <td>0.000000</td>\n",
                            "      <td>29.411765</td>\n",
                            "      <td>23.529412</td>\n",
                            "      <td>41.176471</td>\n",
                            "      <td>5.882353</td>\n",
                            "      <td>0.000000</td>\n",
                            "      <td>0.000000</td>\n",
                            "      <td>18</td>\n",
                            "    </tr>\n",
                            "    <tr>\n",
                            "      <th>2</th>\n",
                            "      <td>00B0EC</td>\n",
                            "      <td>17.757009</td>\n",
                            "      <td>26.168224</td>\n",
                            "      <td>32.710280</td>\n",
                            "      <td>14.953271</td>\n",
                            "      <td>8.411215</td>\n",
                            "      <td>0.000000</td>\n",
                            "      <td>0.0</td>\n",
                            "      <td>0.0</td>\n",
                            "      <td>0.0</td>\n",
                            "      <td>...</td>\n",
                            "      <td>0.0</td>\n",
                            "      <td>0.000000</td>\n",
                            "      <td>0.943396</td>\n",
                            "      <td>48.113208</td>\n",
                            "      <td>8.490566</td>\n",
                            "      <td>16.037736</td>\n",
                            "      <td>26.415094</td>\n",
                            "      <td>0.000000</td>\n",
                            "      <td>0.000000</td>\n",
                            "      <td>107</td>\n",
                            "    </tr>\n",
                            "    <tr>\n",
                            "      <th>3</th>\n",
                            "      <td>00B1FA</td>\n",
                            "      <td>37.500000</td>\n",
                            "      <td>24.038462</td>\n",
                            "      <td>9.134615</td>\n",
                            "      <td>20.192308</td>\n",
                            "      <td>9.134615</td>\n",
                            "      <td>0.000000</td>\n",
                            "      <td>0.0</td>\n",
                            "      <td>0.0</td>\n",
                            "      <td>0.0</td>\n",
                            "      <td>...</td>\n",
                            "      <td>0.0</td>\n",
                            "      <td>0.000000</td>\n",
                            "      <td>0.000000</td>\n",
                            "      <td>42.028986</td>\n",
                            "      <td>12.077295</td>\n",
                            "      <td>10.628019</td>\n",
                            "      <td>35.265700</td>\n",
                            "      <td>0.000000</td>\n",
                            "      <td>0.000000</td>\n",
                            "      <td>208</td>\n",
                            "    </tr>\n",
                            "    <tr>\n",
                            "      <th>4</th>\n",
                            "      <td>00B208</td>\n",
                            "      <td>13.580247</td>\n",
                            "      <td>32.098765</td>\n",
                            "      <td>17.283951</td>\n",
                            "      <td>33.333333</td>\n",
                            "      <td>3.703704</td>\n",
                            "      <td>0.000000</td>\n",
                            "      <td>0.0</td>\n",
                            "      <td>0.0</td>\n",
                            "      <td>0.0</td>\n",
                            "      <td>...</td>\n",
                            "      <td>0.0</td>\n",
                            "      <td>0.000000</td>\n",
                            "      <td>0.000000</td>\n",
                            "      <td>63.975155</td>\n",
                            "      <td>16.770186</td>\n",
                            "      <td>5.590062</td>\n",
                            "      <td>13.043478</td>\n",
                            "      <td>0.621118</td>\n",
                            "      <td>0.000000</td>\n",
                            "      <td>162</td>\n",
                            "    </tr>\n",
                            "  </tbody>\n",
                            "</table>\n",
                            "<p>5 rows \u00d7 25 columns</p>\n",
                            "</div>"
                        ],
                        "text/plain": [
                            "   icao24  altitude1  altitude2  altitude3   altitude4  altitude5  duration1  \\\n",
                            "0  000001  70.951157  28.149100   0.899743    0.000000   0.000000  33.333333   \n",
                            "1  009F55   0.000000   0.000000   0.000000  100.000000   0.000000   0.000000   \n",
                            "2  00B0EC  17.757009  26.168224  32.710280   14.953271   8.411215   0.000000   \n",
                            "3  00B1FA  37.500000  24.038462   9.134615   20.192308   9.134615   0.000000   \n",
                            "4  00B208  13.580247  32.098765  17.283951   33.333333   3.703704   0.000000   \n",
                            "\n",
                            "   duration2  duration3  duration4  ...  area5    steer1    steer2     steer3  \\\n",
                            "0        0.0        0.0        0.0  ...    0.0  1.609788  2.318094  56.213780   \n",
                            "1      100.0        0.0        0.0  ...    0.0  0.000000  0.000000  29.411765   \n",
                            "2        0.0        0.0        0.0  ...    0.0  0.000000  0.943396  48.113208   \n",
                            "3        0.0        0.0        0.0  ...    0.0  0.000000  0.000000  42.028986   \n",
                            "4        0.0        0.0        0.0  ...    0.0  0.000000  0.000000  63.975155   \n",
                            "\n",
                            "      steer4     steer5     steer6    steer7    steer8  observations  \n",
                            "0   6.696716   3.090792  27.817128  1.094656  1.159047          1556  \n",
                            "1  23.529412  41.176471   5.882353  0.000000  0.000000            18  \n",
                            "2   8.490566  16.037736  26.415094  0.000000  0.000000           107  \n",
                            "3  12.077295  10.628019  35.265700  0.000000  0.000000           208  \n",
                            "4  16.770186   5.590062  13.043478  0.621118  0.000000           162  \n",
                            "\n",
                            "[5 rows x 25 columns]"
                        ]
                    },
                    "execution_count": 31,
                    "metadata": {},
                    "output_type": "execute_result"
                }
            ],
            "source": [
                "features = features.reset_index().rename(columns={ 'index': 'icao24'})\n",
                "features.icao24 = features.icao24.str.upper()\n",
                "features.head()"
            ]
        },
        {
            "cell_type": "markdown",
            "metadata": {},
            "source": [
                "# Filtering for meaning and saving\n",
                "\n",
                "Peter only kept planes that had over 500 measurements.\n",
                "\n",
                "We have far fewer planes than he did (and a much smaller dataset), but for propriety's sake we'll do the same."
            ]
        },
        {
            "cell_type": "code",
            "execution_count": 32,
            "metadata": {},
            "outputs": [
                {
                    "name": "stdout",
                    "output_type": "stream",
                    "text": [
                        "Before filtering (13840, 25)\n",
                        "After filtering (3965, 25)\n"
                    ]
                }
            ],
            "source": [
                "print(\"Before filtering\", features.shape)\n",
                "subset = features[features.observations > 500]\n",
                "print(\"After filtering\", subset.shape)"
            ]
        },
        {
            "cell_type": "code",
            "execution_count": 33,
            "metadata": {},
            "outputs": [],
            "source": [
                "# Save the filtered version\n",
                "subset.to_csv(\"data/opensky-features.csv\", index=False)"
            ]
        },
        {
            "cell_type": "code",
            "execution_count": null,
            "metadata": {},
            "outputs": [],
            "source": [
                "# Save a copy of the full set just for experimentation\n",
                "features.to_csv(\"data/opensky-features-full.csv\", index=False)"
            ]
        },
        {
            "cell_type": "markdown",
            "metadata": {},
            "source": [
                "# Review\n",
                "\n",
                "We started off with a list of coordinates and other information for our planes, but needed to turn that into a **description of how the plane behaves in the air.** Adjusting your data to create new descriptive elements is called **feature engineering**, and is an important part of machine learning.\n",
                "\n",
                "While we could have just used simple features like the average altitude and speed of our planes, we felt like that was throwing out a lot of our data. Instead, we divided the \"average\" behavior of a plane into 5 quantiles - 0-20%, 20-40%, 40-60%, 60-80%, and 80-100% - and saw how much time each plane spent in each quantile. For example, a slow, low-flying plane might spend most of its time in the 0-20% quantile for altitude and speed.\n",
                "\n",
                "Although it was complicated, this method allowed us to create a more complete set of features describing how each plane flies. The hope is that these detailed features will allow us to better identify planes that are flown similarly to one another."
            ]
        },
        {
            "cell_type": "markdown",
            "metadata": {},
            "source": [
                "## Discussion topics\n",
                "\n",
                "* Do you think these features do a better job of describing a plane than just the median or mean? Is that answer the same for all of the measurements we took?\n",
                "* Which feature do you predict works best to describe surveillance planes?\n",
                "* Why do we not use quantiles for steering? It might be interesting to check what the quantiles would have been.\n",
                "* Can you think of other features that might be used to describe surveillance planes?\n",
                "* Some organizations that publish this sort of data have agreements to not include military or government planes. Is that a reasonable request?\n",
                "* What might be some uses of this data?\n",
                "* How is this data collected? What are the requirements to be able to obtain it on your own?"
            ]
        },
        {
            "cell_type": "code",
            "execution_count": null,
            "metadata": {},
            "outputs": [],
            "source": []
        }
    ],
    "metadata": {
        "kernelspec": {
            "display_name": "Python 3",
            "language": "python",
            "name": "python3"
        },
        "language_info": {
            "codemirror_mode": {
                "name": "ipython",
                "version": 3
            },
            "file_extension": ".py",
            "mimetype": "text/x-python",
            "name": "python",
            "nbconvert_exporter": "python",
            "pygments_lexer": "ipython3",
            "version": "3.6.8"
        },
        "toc": {
            "base_numbering": 1,
            "nav_menu": {},
            "number_sections": true,
            "sideBar": true,
            "skip_h1_title": false,
            "title_cell": "Table of Contents",
            "title_sidebar": "Contents",
            "toc_cell": false,
            "toc_position": {},
            "toc_section_display": true,
            "toc_window_display": false
        }
    },
    "nbformat": 4,
    "nbformat_minor": 2
}