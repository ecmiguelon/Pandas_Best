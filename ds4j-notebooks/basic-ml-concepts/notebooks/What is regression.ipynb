{
    "cells": [
        {
            "cell_type": "markdown",
            "metadata": {},
            "source": [
                "# Predicting values with regression\n",
                "\n",
                "Let's take a look at how we can use regression to find the relationships inside of our data."
            ]
        },
        {
            "cell_type": "markdown",
            "metadata": {},
            "source": [
                "<p class=\"reading-options\">\n  <a class=\"btn\" href=\"/basic-ml-concepts/what-is-regression\">\n    <i class=\"fa fa-sm fa-book\"></i>\n    Read online\n  </a>\n  <a class=\"btn\" href=\"/basic-ml-concepts/notebooks/What is regression.ipynb\">\n    <i class=\"fa fa-sm fa-download\"></i>\n    Download notebook\n  </a>\n  <a class=\"btn\" href=\"#\">\n    <i class=\"fa fa-sm fa-laptop\"></i>\n    Interactive version\n  </a>\n</p>"
            ]
        },
        {
            "cell_type": "markdown",
            "metadata": {},
            "source": [
                "## What is regression?\n",
                "\n",
                "Regression is a way to describe how two things are related to each other. Specifically, how a change in one is related to a change in the other. You might notice it in sentences like:\n",
                "\n",
                "* \"An increase of 10 percentage points in the unemployment rate in a neighborhood translated to a loss of roughly a year and a half of life expectancy,\" from the [Associated Press](https://apnews.com/66ac44186b6249709501f07a7eab36da). As unemployment goes up, life expectancy goes down.\n",
                "* \"Reveal\u2019s analysis also showed that the greater the number of African Americans or Latinos in a neighborhood, the more likely a loan application would be denied there \u2013 even after accounting for income and other factors,\"  from [Reveal](https://www.revealnews.org/article/for-people-of-color-banks-are-shutting-the-door-to-homeownership/). As the amount of African Americans or Latinos goes up, the likelihood of a loan being denied goes up.\n",
                "* \"In Boston, Asian and Latino residents were more likely to be ticketed than were out-of-towners of the same race, when cited for the same offense,\" from the [Boston Globe](http://archive.boston.com/globe/metro/packages/tickets/072003.shtml)\n",
                "\n",
                "## Types of regression\n",
                "\n",
                "While there are [a lot of kinds of regression out there](https://www.listendata.com/2018/03/regression-analysis.html), there are really only two journalists care about: linear regression and logistic regression.\n",
                "\n",
                "**Linear regression** is used to predict numbers. Life expectancy is a number, so the Associate Press story above uses linear regression. It's also very common when looking at school test scores.\n",
                "\n",
                "**Logistic regression** is used to predict categories such as yes/no or confirmed/denied. A loan being denied is a yes/no, so the Reveal story above uses logistic regression. Logistic regression is very common when looking at bias or discrimination.\n",
                "\n",
                "## When to use regression\n",
                "\n",
                "The biggest clue for regression is when you say you want to find the **relationship between** or **correlation between** two different things. Correlation is a [real stats thing](http://guessthecorrelation.com/) but you probably actually want the \"when X goes up, Y changes such-and-such amount\" kind of description, which comes from regression.\n",
                "\n",
                "You can also recognize regression from the phrases \"all other factors being equal\" or \"controlling for differences in.\" Notice how in the Reveal example above the African American/Latino population matters _even after accounting for income and other factors_.\n",
                "\n",
                "You'll use both linear and logistic regression for **two major things**:\n",
                "\n",
                "* **Understanding the impact of different factors:** In ProPublica's [criminal sentencing bias piece](https://www.propublica.org/article/machine-bias-risk-assessments-in-criminal-sentencing), they showed that race played an outsize role in determining sentencing suggestions, controlling for other possibly-explanatory factors.\n",
                "* **Predicting to find outliers:** In [this piece](http://clipfile.org/?p=754) from the Dallas Morning News, they used regression analysis to predict a school's 4th grade standardized test scores based on their 3rd grade scores. Schools that did much much much better than expected were suspected of cheating.\n",
                "\n",
                "While regression will show up in other cases - automatically classifying documents, for example - we'll cover that separately.\n",
                "\n",
                "## How to stay careful\n",
                "\n",
                "If you're doing anything involving statistics or large datasets, **you need to check your results with an expert.** Running a regression can be prety straightforward, you're sure to find a gremlins hiding in the details.\n",
                "\n",
                "Almost every single person I interviewed who performed a regression analysis for a story leaned heavily on both other members of their team, as well as at least one outside expert. Some newsrooms even pitted multiple academics against each other over the results, having statisticians and subject-matter experts battle it out over the \"right\" way to do it!\n",
                "\n",
                "Even if you hired sixty statisticians and got back a hundred different contradictory answers, even if you can't be 100% certain it's all 100% perfect, even if you're convinced statistics is more art than science, at least you'll have an idea of possible issues wiht your approach and how they might affect your story."
            ]
        },
        {
            "cell_type": "code",
            "execution_count": null,
            "metadata": {},
            "outputs": [],
            "source": []
        }
    ],
    "metadata": {
        "kernelspec": {
            "display_name": "Python 3",
            "language": "python",
            "name": "python3"
        },
        "language_info": {
            "codemirror_mode": {
                "name": "ipython",
                "version": 3
            },
            "file_extension": ".py",
            "mimetype": "text/x-python",
            "name": "python",
            "nbconvert_exporter": "python",
            "pygments_lexer": "ipython3",
            "version": "3.6.8"
        },
        "toc": {
            "base_numbering": 1,
            "nav_menu": {},
            "number_sections": true,
            "sideBar": true,
            "skip_h1_title": false,
            "title_cell": "Table of Contents",
            "title_sidebar": "Contents",
            "toc_cell": false,
            "toc_position": {},
            "toc_section_display": true,
            "toc_window_display": false
        }
    },
    "nbformat": 4,
    "nbformat_minor": 2
}