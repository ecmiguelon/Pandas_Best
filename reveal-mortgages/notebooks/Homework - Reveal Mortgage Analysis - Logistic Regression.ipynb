{
    "cells": [
        {
            "cell_type": "markdown",
            "metadata": {},
            "source": [
                "# Lending disparities using Logistic Regression\n",
                "\n",
                "**The story:** https://www.revealnews.org/article/for-people-of-color-banks-are-shutting-the-door-to-homeownership/\n",
                "\n",
                "**Author:** Aaron Glantz and Emmanuel Martinez\n",
                "\n",
                "**Topics:** Logistic regression, odds ratios\n",
                "\n",
                "**Datasets**\n",
                "\n",
                "* **philadelphia-mortgages.csv:** Philadelphia mortgage data for 2015\n",
                "    - A subset of HMDA LAR data from [FFEIC](https://www.ffiec.gov/hmda/hmdaproducts.htm)\n",
                "    - Codebook is `2015HMDACodeSheet.pdf`\n",
                "    - A [guide to HMDA reporting](https://www.ffiec.gov/hmda/guide.htm)\n",
                "    - I've massaged it slightly to make processing a bit easier\n",
                "* **nhgis0006_ds233_20175_2017_tract.csv:**\n",
                "    - Table B03002: Hispanic or Latino Origin by Race\n",
                "    - 2013-2017 American Community Survey data US Census Bureau, from [NHGIS](https://data2.nhgis.org/main)\n",
                "    - Codebook is `nhgis0006_ds233_20175_2017_tract_codebook.txt`\n",
                "* **lending_disparities_whitepaper_180214.pdf:** the whitepaper outlining Reveal's methodology\n",
                "\n",
                "## What's the goal?\n",
                "\n",
                "Do banks provide mortgages at disparate rates between white applicants and people of color? We're going to look at the following variables to find out:\n",
                "\n",
                "* Race/Ethnicity\n",
                "    - Native American\n",
                "    - Asian\n",
                "    - Black\n",
                "    - Native Hawaiian\n",
                "    - Hispanic/Latino\n",
                "    - Race and ethnicity were not reported\n",
                "* Sex\n",
                "* Whether there was a co-applicant\n",
                "* Applicant\u2019s annual income (includes co-applicant income)\n",
                "* Loan amount\n",
                "* Ratio between the loan amount and the applicant\u2019s income\n",
                "* Ratio between the median income of the census tract and the median income of the metro area\n",
                "* Racial and ethnic breakdown by percentage for each census tract\n",
                "* Regulating agency of the lending institution"
            ]
        },
        {
            "cell_type": "markdown",
            "metadata": {},
            "source": [
                "<p class=\"reading-options\">\n  <a class=\"btn\" href=\"/reveal-mortgages/homework-reveal-mortgage-analysis-logistic-regression\">\n    <i class=\"fa fa-sm fa-book\"></i>\n    Read online\n  </a>\n  <a class=\"btn\" href=\"/reveal-mortgages/notebooks/Homework - Reveal Mortgage Analysis - Logistic Regression.ipynb\">\n    <i class=\"fa fa-sm fa-download\"></i>\n    Download notebook\n  </a>\n  <a class=\"btn\" href=\"https://colab.research.google.com/github/littlecolumns/ds4j-notebooks/blob/master/reveal-mortgages/notebooks/Homework - Reveal Mortgage Analysis - Logistic Regression.ipynb\" target=\"_new\">\n    <i class=\"fa fa-sm fa-laptop\"></i>\n    Interactive version\n  </a>\n</p>"
            ]
        },
        {
            "cell_type": "markdown",
            "metadata": {},
            "source": [
                "# Setup\n",
                "\n",
                "Import pandas as usual, but also import numpy. We'll need it for logarithms and exponents.\n",
                "\n",
                "Some of our datasets have a lot of columns, so you'll also want to use `pd.set_option` to display up to 100 columns or so."
            ]
        },
        {
            "cell_type": "code",
            "execution_count": null,
            "metadata": {},
            "outputs": [],
            "source": []
        },
        {
            "cell_type": "markdown",
            "metadata": {},
            "source": [
                "# What is each row of our data?\n",
                "\n",
                "If you aren't sure, you might need to look at either the whitepaper or the codebook. You'll need to look at them both eventually, so might as well get started now."
            ]
        },
        {
            "cell_type": "code",
            "execution_count": null,
            "metadata": {},
            "outputs": [],
            "source": []
        },
        {
            "cell_type": "markdown",
            "metadata": {},
            "source": [
                "# Read in your data\n",
                "\n",
                "Read in our Philadelphia mortgage data and take a peek at the first few rows.\n",
                "\n",
                "* **Tip:** As always, census tract columns like to cause problems if they're read in as numbers. Make sure pandas reads it in as a string."
            ]
        },
        {
            "cell_type": "code",
            "execution_count": null,
            "metadata": {},
            "outputs": [],
            "source": []
        },
        {
            "cell_type": "markdown",
            "metadata": {},
            "source": [
                "### Check your column types\n",
                "\n",
                "I mentioned it above, but make sure `census_tract` is an object (a string) or merging isn't going to be any fun later on."
            ]
        },
        {
            "cell_type": "code",
            "execution_count": null,
            "metadata": {},
            "outputs": [],
            "source": []
        },
        {
            "cell_type": "markdown",
            "metadata": {},
            "source": [
                "# Engineering and cleaning up features\n",
                "\n",
                "## Income-related columns\n",
                "\n",
                "> When we plotted the number of applicants, how much money they made and the size of the loan, we found that it skewed to the left, meaning the majority of applicants were clustered on the lower end of the income and loan amount scales. This was especially true for applicants of color. **We took the logarithm transformation of income and loan amount to normalize the distribution of those variables and limit the effect of extreme outliers.**\n",
                "\n",
                "A few of the columns you'll need to calculate yourselves. **Calculate these values and assign them to three new columns.**\n",
                "\n",
                "* Applicant\u2019s adjusted annual income (includes co-applicant income)\n",
                "* Adjusted loan amount\n",
                "* Ratio between the loan amount and the applicant\u2019s income\n",
                "\n",
                "Instead of using the raw income and loan amount, you'll want the log of both income and loan amount. Call these new columns `log_income` and `log_loan_amount`. The third column will be `loan_income_ratio`.\n",
                "\n",
                "* **Tip:** `np.log` gives you the logarithm"
            ]
        },
        {
            "cell_type": "code",
            "execution_count": null,
            "metadata": {},
            "outputs": [],
            "source": []
        },
        {
            "cell_type": "markdown",
            "metadata": {},
            "source": [
                "### Co-applicants\n",
                "\n",
                "Right now we have a column about the co-applicant's sex (see the codebook for column details). We don't want the sex, though, we're interested in whether there is a co applicant or not. Use the co-applicant's sex to **create a new column called `co_applicant` that is either 'yes', 'no', or 'unknown'.**\n",
                "\n",
                "* **Hint:** If the co-applicant's sex was not provided or is not applicable, count it as unknown.\n",
                "* **Hint:** The easiest way is to use `.replace` on the co-applicant sex column, but store the result in your new column"
            ]
        },
        {
            "cell_type": "code",
            "execution_count": null,
            "metadata": {},
            "outputs": [],
            "source": []
        },
        {
            "cell_type": "markdown",
            "metadata": {},
            "source": [
                "# Filter loan applicants\n",
                "\n",
                "If you read the whitepaper - `lending_disparities_whitepaper_180214.pdf` - many filters are used to get to the target dataset for analysis.\n",
                "\n",
                "> **Loan type**\n",
                ">\n",
                "> While we recognize the substantial presence of applicants of color in the FHA market, we focused on conventional home loans for several reasons.\n",
                "\n",
                "> **Property type**\n",
                ">\n",
                "> Prospective borrowers submit loan applications for various types of structures: one- to four-unit properties, multifamily properties and manufactured homes. For this analysis, we focused on one- to four-unit properties.\n",
                "\n",
                "> **Occupancy**\n",
                ">\n",
                "> We included only borrowers who said they planned to live in the house they were looking to buy. We did this to exclude developers or individuals who were buying property as an investment or to subsequently flip it.\n",
                "\n",
                "> **Action Type**\n",
                ">\n",
                "> We wanted to look at the reasons lending institutions deny people a mortgage. After conversations with former officials at HUD, we decided to include only those applications that resulted in originations (action type 1) or denials (action type 3)\n",
                "\n",
                "> **Income**\n",
                ">\n",
                "> An applicant\u2019s income isn\u2019t always reported in the data. In other cases, the data cuts off any incomes over \\\\$9.9 million and any loan amounts over \\\\$99.9 million, meaning there\u2019s a value in the database, but it\u2019s not precise. We focused only on those records where income and loan amount have an accurate estimation. This meant discarding about 1 percent of all conventional home loans in the country for 2016. [Note: I already edited this]\n",
                ">\n",
                "> When we plotted the number of applicants, how much money they made and the size of the loan, we found that it skewed to the left, meaning the majority of applicants were clustered on the lower end of the income and loan amount scales. This was especially true for applicants of color. We took the logarithm transformation of income and loan amount to normalize the distribution of those variables and limit the effect of extreme outliers.\n",
                "\n",
                "> **Lien status**\n",
                ">\n",
                "> We included all cases in our analysis regardless of lien status.\n",
                "\n",
                "> **Race and ethnicity**\n",
                ">\n",
                "> At first, we looked at race separate from ethnicity, but that approach introduced too many instances in which\u200b \u200beither the ethnicity or race was unknown. So we decided to combine race and ethnicity. Applicants who marked their ethnicity as Hispanic were grouped together as Hispanic/Latino regardless of race. Non-Hispanic applicants, as well as those who didn\u2019t provide an ethnicity, were grouped together by race: non-Hispanic white, non-Hispanic black, etc. **[Note: This has already been taken care of]**\n",
                "\n",
                "> **Loan purpose**\n",
                ">\n",
                "> We decided to look at home purchase, home improvement and refinance loans separately from each other. [Note: please look at **home purchase** loans.]\n",
                "\n",
                "Use the text above (it's from the whitepaper) and the **2015HMDACodeSheet.pdf** code book to filter the dataset.\n",
                "\n",
                "* **Tip:** there should be between 5-8 filters, depending on how you write them."
            ]
        },
        {
            "cell_type": "code",
            "execution_count": null,
            "metadata": {},
            "outputs": [],
            "source": []
        },
        {
            "cell_type": "markdown",
            "metadata": {},
            "source": [
                "When you're done filtering, save your dataframe as a \"copy\" with `df = df.copy()` (if it's called `df`, of course). This will prevent irritating warnings when you're trying to create new columns.\n",
                "\n",
                "### Confirm that you have 10,107 loans with 19 columns"
            ]
        },
        {
            "cell_type": "code",
            "execution_count": null,
            "metadata": {},
            "outputs": [],
            "source": []
        },
        {
            "cell_type": "markdown",
            "metadata": {},
            "source": [
                "### Create a \"loan denied\" column\n",
                "\n",
                "Right now the `action_type` category reflects whether the loan was granted or not, and either has a value of `1` or `3`.\n",
                "\n",
                "Create a new column called `loan_denied`, where the value is `0` if the loan was accepted and `1` if the loan was denied. **This will be our target for the machine learning algorithm.**\n",
                "\n",
                "* **Tip:** You should have 8,878 successful loans and 1,229 denied loans"
            ]
        },
        {
            "cell_type": "code",
            "execution_count": null,
            "metadata": {},
            "outputs": [],
            "source": []
        },
        {
            "cell_type": "markdown",
            "metadata": {},
            "source": [
                "# Deal with categorical variables\n",
                "\n",
                "Let's go ahead and take a look at our categorical variables:\n",
                "\n",
                "* Applicant sex (male, female, na)\n",
                "* Applicant race\n",
                "* Mortgage agency\n",
                "* Co-applicant (yes, no, unknown)\n",
                "\n",
                "Before we do anything crazy, let's use the codebook to turn them into strings.\n",
                "\n",
                "* **Tip:** We already did this with the `co_applicant` column, you only need to do the rest\n",
                "* **Tip:** Just use `.replace`"
            ]
        },
        {
            "cell_type": "code",
            "execution_count": null,
            "metadata": {},
            "outputs": [],
            "source": []
        },
        {
            "cell_type": "markdown",
            "metadata": {},
            "source": [
                "Double-check these columns match these values in the first three rows (and yes, you should have a lot of other columns, too).\n",
                "\n",
                "|applicant_sex|agency_code|applicant_race|co_applicant|\n",
                "|---|---|---|---|\n",
                "|female|OCC|white|no|\n",
                "|na|OCC|na|unknown|\n",
                "|male|OCC|white|no|\n",
                "\n",
                "## Dummy variables\n",
                "\n",
                "Let's say we're at the end of the homework, and we have a column called `sex`, where `0` is female and `1` is male. After we've done our regression, we can look at the coefficient/odds ratio for `sex` and say something like **\"being male gives you a 1.5x odds of being denied a loan.\"**\n",
                "\n",
                "We can say this because we're looking at one column, and changing `sex` from `0` to `1` would turn the applicant male and give them a 1.5x chance of being denied (the odds ratio).\n",
                "\n",
                "**But let's say we're looking at a column called `race` instead.** We could do the same `0`/`1` thing with white/minority, but what about white/black/asian? If we try to give them `0`/`1`/`2` our coefficient/odds ratio interpreation stops working, because we don't have a nice True/False dichotomy any more, it's now a *real number*.\n",
                "\n",
                "* `0`: White\n",
                "* `1`: Black\n",
                "* `2`: Asian\n",
                "\n",
                "Usually with numbers you can say \"...for every increase of 1...\", but we can't anymore - changing from White to Black (+1) isn't the same as changing from Black to Asian (+1). And you can't subtract Black from Asian to get White. And no, you also can't average together White and Asian to get Black. Just recognize that these aren't numbers, they're categories!\n",
                "\n",
                "**How can we turn races off and on like we can turn the `sex` variable off and on?** A good option is to make *a `0`/`1` column for each race*. We can then flip each race off and on. These are called **dummy variables**."
            ]
        },
        {
            "cell_type": "code",
            "execution_count": null,
            "metadata": {},
            "outputs": [],
            "source": [
                "pd.get_dummies(df.applicant_race, prefix='race').head()"
            ]
        },
        {
            "cell_type": "markdown",
            "metadata": {},
            "source": [
                "Seems to take up a lot of space, but it works a lot better.\n",
                "\n",
                "* The first person is white, so they have a `1` for white and a `0` for every other race\n",
                "* The second person is N/A, so they have a `1` for N/A and a `0` for every other race\n",
                "* The next three are white, asian, and asian, so they have a `1` under the appropriate column.\n",
                "\n",
                "When you're looking at the regression output, each column has its own coefficient (and odds ratio). Since each race now has a column, **each race will also have its own odds ratio.** Asian would have one, Black would have one, Latino would have one - now we can look at the effect of each race separately. For example, you could then say something like \"being Asian (e.g., `race_asian` going from `0` to `1`) gives you a 1.2x greater chance of being denied, and being Black gets you a 2.1x chance of being denied.\"\n",
                "\n",
                "And no, you're never going to have more than one `1` in a row at the same time.\n",
                "\n",
                "After you've created your dummy variables, there's one more step which has a real fun name: **one-hot encoding.**\n",
                "\n",
                "### One-hot encoding\n",
                "\n",
                "When we have two sexes - male and female - we can flip between them with one binary digit, `0` and `1`.\n",
                "\n",
                "If we had three races - White, Asian, Black - using `pd.get_dummies` would make three columns, which makes sense on the surface. But why can we put TWO values in ONE column for sex, and it takes THREE columns for the THREE race values?\n",
                "\n",
                "The truth is, it doesn't have to!\n",
                "\n",
                "Instead of having three columns, we're only going to have two: **asian and black**. And if both of them are `0`? The applicant is white! This is called a **reference category**, and it means **the coefficients/odds ratios for asian and black are in reference to a white applicant.** So it isn't \"being black gets you a 2.1x chance of being denied,\" it's *being black gets you a 2.1x chance of being denied compared to a white person*. For example:\n",
                "\n",
                "|race_asian|race_black|person's race|\n",
                "|---|---|---|\n",
                "|1|0|Asian|\n",
                "|0|1|Black|\n",
                "|0|0|White|\n",
                "|1|1|Not possible if your source is a single race column|\n",
                "\n",
                "To create a one-hot encoded variable with a reference category, you write code like this:"
            ]
        },
        {
            "cell_type": "code",
            "execution_count": null,
            "metadata": {},
            "outputs": [],
            "source": [
                "pd.get_dummies(df.applicant_race, prefix='race').drop('race_white', axis=1).head()"
            ]
        },
        {
            "cell_type": "markdown",
            "metadata": {},
            "source": [
                "> We usually use `.drop(columns=...)` to drop columns, but I'm using `axis=1` here because you should be familiar with it\n",
                "\n",
                "### Make a one-hot encoded `sex` category with `female` as the reference category\n",
                "\n",
                "You should end up with two columns: `sex_male` and `sex_na`."
            ]
        },
        {
            "cell_type": "code",
            "execution_count": null,
            "metadata": {},
            "outputs": [],
            "source": [
                "pd.get_dummies(df.applicant_sex, prefix='sex').drop('sex_female', axis=1).head()"
            ]
        },
        {
            "cell_type": "markdown",
            "metadata": {},
            "source": [
                "## Using one-hot encoded columns\n",
                "\n",
                "Since these one-hot encoded variables are standalone dataframes, we eventually need to combine them into our original dataframe.\n",
                "\n",
                "We have four categorical variables - sex, race, co-applicant, and the loan agency - so we need you to **make four one-hot encoded variables**. Name them like this:\n",
                "\n",
                "* `dummies_sex` - reference category of white\n",
                "* `dummies_race` - reference category of female\n",
                "* `dummies_co_applicant` - reference category of no\n",
                "* `dummies_agency` - reference category of FDIC\n",
                "\n",
                "Typically your reference category is the most common category, because it makes for the most interesting comparisons.\n",
                "\n",
                "> **Tip:** if you're cutting and pasting from above, watch out for `.head()`\n",
                ">\n",
                "> **Tip:** After you've made them, use `.head(2)` to check the first couple rows of each to make sure they look okay"
            ]
        },
        {
            "cell_type": "code",
            "execution_count": null,
            "metadata": {},
            "outputs": [],
            "source": []
        },
        {
            "cell_type": "code",
            "execution_count": null,
            "metadata": {},
            "outputs": [],
            "source": []
        },
        {
            "cell_type": "code",
            "execution_count": null,
            "metadata": {},
            "outputs": [],
            "source": []
        },
        {
            "cell_type": "code",
            "execution_count": null,
            "metadata": {},
            "outputs": [],
            "source": []
        },
        {
            "cell_type": "markdown",
            "metadata": {},
            "source": [
                "## Cleaning up our old dataframe\n",
                "\n",
                "Take a look at your original dataframe real quick."
            ]
        },
        {
            "cell_type": "code",
            "execution_count": null,
            "metadata": {},
            "outputs": [],
            "source": []
        },
        {
            "cell_type": "markdown",
            "metadata": {},
            "source": [
                "We don't need all of those columns! If we look at the list of columns we'll be using for the regression:\n",
                "\n",
                "* Race/Ethnicity\n",
                "* Sex\n",
                "* Whether there was a co-applicant\n",
                "* Applicant\u2019s annual income (includes co-applicant income)\n",
                "* Loan amount\n",
                "* Ratio between the loan amount and the applicant\u2019s income\n",
                "* Ratio between the median income of the census tract and the median income of the metro area\n",
                "* Racial and ethnic breakdown by percentage for each census tract\n",
                "* Regulating agency of the lending institution\n",
                "\n",
                "We can keep anything in that list, and remove everything else. For example, we can drop the variables we used to create the dummy variables, as we'll be adding the one-hot encoded versions in for the next step.\n",
                "\n",
                "For \"Racial and ethnic breakdown by percentage for each census tract\" we'll need to join with some census data later, so we need to also keep census tract, county code and state code.\n",
                "\n",
                "**Build a new dataframe with only the columns we're interested in, call it `numeric`.** We're calling it `numeric` because it's mostly numeric columns after the categorical ones have been removed.\n",
                "\n",
                "> **Tip:** You can either use `.drop(columns=` to remove unwanted columns or `df = df[['col1', 'col2', ... 'col12']]` to only select the ones you're interseted in"
            ]
        },
        {
            "cell_type": "code",
            "execution_count": null,
            "metadata": {},
            "outputs": [],
            "source": []
        },
        {
            "cell_type": "markdown",
            "metadata": {},
            "source": [
                "Confirm that `numeric` has 8 columns."
            ]
        },
        {
            "cell_type": "code",
            "execution_count": null,
            "metadata": {},
            "outputs": [],
            "source": []
        },
        {
            "cell_type": "markdown",
            "metadata": {},
            "source": [
                "### Combining our features\n",
                "\n",
                "We now have 1 dataframe of numeric features (and some merge columns), and 4 one-hot-encoded variables (each with their own dataframe). Combine all five dataframes into one large dataframe called `loan_features`."
            ]
        },
        {
            "cell_type": "code",
            "execution_count": null,
            "metadata": {},
            "outputs": [],
            "source": []
        },
        {
            "cell_type": "markdown",
            "metadata": {},
            "source": [
                "Confirm that `loan_features` has 10,107 rows and 23 columns."
            ]
        },
        {
            "cell_type": "code",
            "execution_count": null,
            "metadata": {},
            "outputs": [],
            "source": []
        },
        {
            "cell_type": "markdown",
            "metadata": {},
            "source": [
                "# Census data\n",
                "\n",
                "Now we just need the final piece to the puzzle, the census data. Read in the census data file, calling the dataframe `census`.\n",
                "\n",
                "> **Tip:** As always, be sure to read the tract column in as a string. Interestingly, this time we _don't_ need to worry about the state or county codes in the same way.\n",
                ">\n",
                "> **Tip:** You're going to encounter a problem that you find every time you read in a file from the US government!"
            ]
        },
        {
            "cell_type": "code",
            "execution_count": null,
            "metadata": {},
            "outputs": [],
            "source": []
        },
        {
            "cell_type": "markdown",
            "metadata": {},
            "source": [
                "## Rename some columns\n",
                "\n",
                "If you like to keep your data extra clean, feel free to rename the columns you're interested in. If not, feel free to skip it!\n",
                "\n",
                "> **Tip:** Make sure you're using the estimates columns, not the margin of error columns"
            ]
        },
        {
            "cell_type": "code",
            "execution_count": null,
            "metadata": {},
            "outputs": [],
            "source": []
        },
        {
            "cell_type": "markdown",
            "metadata": {},
            "source": [
                "## Computed columns\n",
                "\n",
                "According to Reveal's regression output, you'll want to create the following columns:\n",
                "\n",
                "* Percent Black in tract\n",
                "* Percent Hispanic/Latino in tract (I hope you know how Hispanic/Latino + census data works by now)\n",
                "* Percent Asian in tract\n",
                "* Percent Native American in tract\n",
                "* Percent Native Hawaiian in tract\n",
                "\n",
                "Notice that we don't include percent white - **because all of the other columns add up to percent white, we ignore it!** It's similar to a reference category.\n",
                "\n",
                "> If we want to use buzzwords here, the technical reason we're not using percent white is called **collinearity.** We'll talk more about it on Friday."
            ]
        },
        {
            "cell_type": "code",
            "execution_count": null,
            "metadata": {},
            "outputs": [],
            "source": []
        },
        {
            "cell_type": "markdown",
            "metadata": {},
            "source": [
                "## Only keep what we need to join and process\n",
                "\n",
                "We're only interested in the percentage columns that we computed. Create a new dataframe called `census_features` that is only those columns along with the one we'll need for joining with the mortgage data.\n",
                "\n",
                "> * **Tip:** Remember we saved state, county and tract codes when working on the loan data"
            ]
        },
        {
            "cell_type": "code",
            "execution_count": null,
            "metadata": {},
            "outputs": [],
            "source": []
        },
        {
            "cell_type": "markdown",
            "metadata": {},
            "source": [
                "Confirm that your first few rows look something like this:\n",
                "    \n",
                "|STATEA|COUNTYA|TRACTA|pct_hispanic|pct_black|pct_amer_indian|pct_asian|pct_pac_islander|\n",
                "|---|---|---|---|---|---|---|---|\n",
                "|1|1|020100|0.872690|7.700205|0.308008|0.616016|0.000000|\n",
                "|1|1|020200|0.788497|53.293135|0.000000|2.319109|0.000000|\n",
                "|1|1|020300|0.000000|18.564690|0.505391|1.381402|0.269542|\n",
                "|1|1|020400|10.490617|3.662672|1.560027|0.000000|0.000000|\n",
                "|1|1|020500|0.743287|24.844374|0.000000|3.827929|0.000000|\n",
                "\n",
                "Your column headers might be different but your numbers should match."
            ]
        },
        {
            "cell_type": "markdown",
            "metadata": {},
            "source": [
                "# Merge datasets\n",
                "\n",
                "Merge `loan_features` and `census_features` into a new dataframe called `merged`.\n",
                "\n",
                "Unfortunately something is a little different between our `loan_features` and `census_features` census tract columns. You'll need to fix it before you can merge.\n",
                "\n",
                "## Cleaning"
            ]
        },
        {
            "cell_type": "code",
            "execution_count": null,
            "metadata": {},
            "outputs": [],
            "source": []
        },
        {
            "cell_type": "code",
            "execution_count": null,
            "metadata": {},
            "outputs": [],
            "source": []
        },
        {
            "cell_type": "code",
            "execution_count": null,
            "metadata": {},
            "outputs": [],
            "source": []
        },
        {
            "cell_type": "markdown",
            "metadata": {},
            "source": [
                "## Do the merge"
            ]
        },
        {
            "cell_type": "code",
            "execution_count": null,
            "metadata": {
                "scrolled": true
            },
            "outputs": [],
            "source": []
        },
        {
            "cell_type": "markdown",
            "metadata": {},
            "source": [
                "Confirm you have 10107 rows and 31 columns in the merged dataframe."
            ]
        },
        {
            "cell_type": "code",
            "execution_count": null,
            "metadata": {},
            "outputs": [],
            "source": []
        },
        {
            "cell_type": "markdown",
            "metadata": {},
            "source": [
                "# Our final dataframe\n",
                "\n",
                "Drop all of the columns we merged on and save it as `train_df`."
            ]
        },
        {
            "cell_type": "code",
            "execution_count": null,
            "metadata": {},
            "outputs": [],
            "source": []
        },
        {
            "cell_type": "markdown",
            "metadata": {},
            "source": [
                "Confirm that `train_df` has 10107 rows and 25 columns."
            ]
        },
        {
            "cell_type": "code",
            "execution_count": null,
            "metadata": {},
            "outputs": [],
            "source": []
        },
        {
            "cell_type": "markdown",
            "metadata": {},
            "source": [
                "## Final cleanup\n",
                "\n",
                "Because we can't have missing data before we run a regression, check the size of `train_df`, then drop any missing data and check the size again. **Confirm you don't lose any rows.**"
            ]
        },
        {
            "cell_type": "code",
            "execution_count": null,
            "metadata": {},
            "outputs": [],
            "source": []
        },
        {
            "cell_type": "code",
            "execution_count": null,
            "metadata": {},
            "outputs": [],
            "source": []
        },
        {
            "cell_type": "markdown",
            "metadata": {},
            "source": [
                "# Performing our regression\n",
                "\n",
                "## Try with statsmodels\n",
                "\n",
                "First try to run a linear regression with statsmodels, because even though sometimes it complains and breaks, the output just looks *so nice*. Instead of `sm.OLS` we'll use `sm.Logit`."
            ]
        },
        {
            "cell_type": "code",
            "execution_count": null,
            "metadata": {},
            "outputs": [],
            "source": []
        },
        {
            "cell_type": "markdown",
            "metadata": {},
            "source": [
                "## Try again with sci-kit learn\n",
                "\n",
                "But I'll be honest, I like sklearn a *lot lot lot* better. Using the coefficient to build a dataframe just seems so *nice*.\n",
                "\n",
                "> **Tip:** When you build your model, use `LogisticRegression(C=1e9, solver='lbfgs', max_iter=4000)` - for if you don't increase `max_iter` (how long/hard it works) it'll complain it can't find an answer."
            ]
        },
        {
            "cell_type": "code",
            "execution_count": null,
            "metadata": {},
            "outputs": [],
            "source": []
        },
        {
            "cell_type": "markdown",
            "metadata": {},
            "source": [
                "### Getting your coefficients and odds ratios\n",
                "\n",
                "After you run your regression **using sklearn**, you can use code like the below to print out an ordered list of features, coefficients, and odds ratios.\n",
                "\n",
                "```python\n",
                "feature_names = X.columns\n",
                "coefficients = clf.coef_[0]\n",
                "\n",
                "pd.DataFrame({\n",
                "    'feature': feature_names,\n",
                "    'coefficient (log odds ratio)': coefficients,\n",
                "    'odds ratio': np.exp(coefficients)\n",
                "}).sort_values(by='odds ratio', ascending=False)\n",
                "```"
            ]
        },
        {
            "cell_type": "code",
            "execution_count": null,
            "metadata": {
                "scrolled": true
            },
            "outputs": [],
            "source": []
        },
        {
            "cell_type": "markdown",
            "metadata": {},
            "source": [
                "### Wait, what's the odds ratio again?\n",
                "\n",
                "It's how much that variable affects the outcome **if all other variables stay the same.**"
            ]
        },
        {
            "cell_type": "markdown",
            "metadata": {},
            "source": [
                "# Interpreting and thinking about the analysis\n",
                "\n",
                "### Question 1\n",
                "\n",
                "Our results aren't exactly the same as Reveal's, as I pulled a slightly different number of rows from the database and I'm not sure what exact dataset they used for census information. How are we feeling about this reproduction? **You might want check their 2015 results in the whitepaper.**"
            ]
        },
        {
            "cell_type": "code",
            "execution_count": null,
            "metadata": {},
            "outputs": [],
            "source": []
        },
        {
            "cell_type": "markdown",
            "metadata": {},
            "source": [
                "### Question 2\n",
                "\n",
                "In the opening paragraph to the flagship piece, [Aaron and Emmanuel write](https://www.revealnews.org/article/for-people-of-color-banks-are-shutting-the-door-to-homeownership/):\n",
                "\n",
                "> Fifty years after the federal Fair Housing Act banned racial discrimination in lending, African Americans and Latinos continue to be routinely denied conventional mortgage loans at rates far higher than their white counterparts.\n",
                "\n",
                "If you look at the results, Hawaiians/Pacific Islanders (and maybe Native Americans) have an even higher odds ratio. **Why do they choose to talk about African Americans and Latinos instead?**"
            ]
        },
        {
            "cell_type": "code",
            "execution_count": null,
            "metadata": {},
            "outputs": [],
            "source": []
        },
        {
            "cell_type": "markdown",
            "metadata": {},
            "source": [
                "### Question 3\n",
                "\n",
                "Write a sentence expressing the meaning of the **odds ratio** statistic for Black mortgage applicants. Find a line in [the Reveal piece](https://www.revealnews.org/article/for-people-of-color-banks-are-shutting-the-door-to-homeownership/) where they use the odds ratio."
            ]
        },
        {
            "cell_type": "code",
            "execution_count": null,
            "metadata": {},
            "outputs": [],
            "source": []
        },
        {
            "cell_type": "markdown",
            "metadata": {},
            "source": [
                "### Question 4\n",
                "\n",
                "Write a similar sentence about men."
            ]
        },
        {
            "cell_type": "code",
            "execution_count": null,
            "metadata": {},
            "outputs": [],
            "source": []
        },
        {
            "cell_type": "markdown",
            "metadata": {},
            "source": [
                "### Question 5\n",
                "\n",
                "Why did Aaron and Emmanuel choose to include the loan-to-income ratio statistic? **You might want to read the whitepaper.**"
            ]
        },
        {
            "cell_type": "code",
            "execution_count": null,
            "metadata": {},
            "outputs": [],
            "source": []
        },
        {
            "cell_type": "markdown",
            "metadata": {},
            "source": [
                "### Question 6\n",
                "\n",
                "Credit score is a common reason why loans are denied. Why are credit scores not included in our analysis? **You might want to read the whitepaper.**"
            ]
        },
        {
            "cell_type": "code",
            "execution_count": null,
            "metadata": {},
            "outputs": [],
            "source": []
        },
        {
            "cell_type": "markdown",
            "metadata": {},
            "source": [
                "### Question 7\n",
                "\n",
                "This data was just sitting out there for anyone to look at, they didn't even need to FOIA it. Why do you think this issue had not come up before Reveal's analysis?"
            ]
        },
        {
            "cell_type": "code",
            "execution_count": null,
            "metadata": {},
            "outputs": [],
            "source": []
        },
        {
            "cell_type": "markdown",
            "metadata": {},
            "source": [
                "### Question 8\n",
                "\n",
                "As a result of this series, [a lot has happened](https://www.revealnews.org/blog/we-exposed-modern-day-redlining-in-61-cities-find-out-whats-happened-since/), although [recent changes don't look so good](https://www.revealnews.org/blog/cfpb-moves-to-limit-home-loan-data/). If you were reporting this story, what groups of people would you want to talk to in order to make sure you're getting the story right?"
            ]
        },
        {
            "cell_type": "code",
            "execution_count": null,
            "metadata": {},
            "outputs": [],
            "source": []
        },
        {
            "cell_type": "markdown",
            "metadata": {},
            "source": [
                "### Question 9\n",
                "\n",
                "When they were consulting experts, Aaron and Emmanuel received a lot of conflicting accounts about whether they should include the \"N/A\" values for race (they ended up including it). If the experts disagreed about something like that, why do you think they went forward with their analysis?"
            ]
        },
        {
            "cell_type": "code",
            "execution_count": null,
            "metadata": {},
            "outputs": [],
            "source": []
        },
        {
            "cell_type": "markdown",
            "metadata": {},
            "source": [
                "### Question 10\n",
                "\n",
                "What if we were working on this story, and our logistic regression or input dataset were flawed? What would be the repercussions?"
            ]
        },
        {
            "cell_type": "code",
            "execution_count": null,
            "metadata": {},
            "outputs": [],
            "source": []
        }
    ],
    "metadata": {
        "kernelspec": {
            "display_name": "Python 3",
            "language": "python",
            "name": "python3"
        },
        "language_info": {
            "codemirror_mode": {
                "name": "ipython",
                "version": 3
            },
            "file_extension": ".py",
            "mimetype": "text/x-python",
            "name": "python",
            "nbconvert_exporter": "python",
            "pygments_lexer": "ipython3",
            "version": "3.6.8"
        }
    },
    "nbformat": 4,
    "nbformat_minor": 2
}