{
 "cells": [
  {
   "cell_type": "markdown",
   "id": "db5f9770-eaa7-4c15-ad2d-aecfe73cd958",
   "metadata": {},
   "source": [
    "# Chapter 9"
   ]
  },
  {
   "cell_type": "code",
   "execution_count": 1,
   "id": "d5289aa3-fcf5-43f0-a54c-899d9f49b268",
   "metadata": {},
   "outputs": [],
   "source": [
    "import pandas as pd\n",
    "\n",
    "url = \"https://github.com/mattharrison/datasets/raw/master/data/vehicles.csv.zip\"\n",
    "df = pd.read_csv(url, dtype_backend=\"pyarrow\", engine=\"pyarrow\")\n",
    "\n",
    "city_mpg = df.city08\n",
    "highway_mpg = df.highway08"
   ]
  },
  {
   "cell_type": "code",
   "execution_count": 2,
   "id": "66f3d2dd-0f2d-4050-adbd-1c5fa3eeb206",
   "metadata": {},
   "outputs": [
    {
     "data": {
      "text/plain": [
       "True"
      ]
     },
     "execution_count": 2,
     "metadata": {},
     "output_type": "execute_result"
    }
   ],
   "source": [
    "city_mpg.median() == city_mpg.quantile() # defaults to 50%"
   ]
  },
  {
   "cell_type": "code",
   "execution_count": 3,
   "id": "4ca6e17c-db21-4d55-aaec-48e281f63617",
   "metadata": {},
   "outputs": [
    {
     "data": {
      "text/plain": [
       "0.24965973167412017"
      ]
     },
     "execution_count": 3,
     "metadata": {},
     "output_type": "execute_result"
    }
   ],
   "source": [
    "(city_mpg\n",
    " .gt(20)\n",
    " .mean()\n",
    ")"
   ]
  },
  {
   "cell_type": "markdown",
   "id": "790380a1-f43f-4589-9f9b-90b2c198a0a1",
   "metadata": {},
   "source": [
    "## `.agg`"
   ]
  },
  {
   "cell_type": "code",
   "execution_count": 4,
   "id": "924b30cf-971f-4b52-8c43-69cc9f4559b3",
   "metadata": {},
   "outputs": [
    {
     "data": {
      "text/plain": [
       "18.369045304297103"
      ]
     },
     "execution_count": 4,
     "metadata": {},
     "output_type": "execute_result"
    }
   ],
   "source": [
    "city_mpg.agg(\"mean\")"
   ]
  },
  {
   "cell_type": "code",
   "execution_count": 5,
   "id": "e706c994-56eb-4142-944b-ef54a69ebb03",
   "metadata": {},
   "outputs": [],
   "source": [
    "import numpy as np\n",
    "\n",
    "second_to_last = lambda s: s.iloc[-2]"
   ]
  },
  {
   "cell_type": "code",
   "execution_count": 6,
   "id": "021f6b63-7234-4764-a65d-307745165f71",
   "metadata": {},
   "outputs": [
    {
     "name": "stderr",
     "output_type": "stream",
     "text": [
      "/tmp/ipykernel_32096/2529379224.py:1: FutureWarning: The provided callable <function var at 0x7f9d2c1fb920> is currently using Series.var. In a future version of pandas, the provided callable will be used directly. To keep current behavior pass the string \"var\" instead.\n",
      "  city_mpg.agg([\"mean\", np.var, max, second_to_last])\n",
      "/tmp/ipykernel_32096/2529379224.py:1: FutureWarning: The provided callable <built-in function max> is currently using Series.max. In a future version of pandas, the provided callable will be used directly. To keep current behavior pass the string \"max\" instead.\n",
      "  city_mpg.agg([\"mean\", np.var, max, second_to_last])\n"
     ]
    },
    {
     "data": {
      "text/plain": [
       "mean         18.369045\n",
       "var          62.503036\n",
       "max         150.000000\n",
       "<lambda>     18.000000\n",
       "Name: city08, dtype: float64"
      ]
     },
     "execution_count": 6,
     "metadata": {},
     "output_type": "execute_result"
    }
   ],
   "source": [
    "city_mpg.agg([\"mean\", np.var, max, second_to_last])"
   ]
  },
  {
   "cell_type": "markdown",
   "id": "1ebb0832-2e23-4469-b716-b6079154b115",
   "metadata": {},
   "source": [
    "## Exercises"
   ]
  },
  {
   "cell_type": "code",
   "execution_count": 7,
   "id": "baba6c34-4d01-43e2-be9e-3f342456e209",
   "metadata": {},
   "outputs": [
    {
     "data": {
      "text/plain": [
       "41144"
      ]
     },
     "execution_count": 7,
     "metadata": {},
     "output_type": "execute_result"
    }
   ],
   "source": [
    "# 1.\n",
    "city_mpg.count()"
   ]
  },
  {
   "cell_type": "code",
   "execution_count": 8,
   "id": "07d42b33-aeaf-4992-a892-70f5a1f4c3e0",
   "metadata": {},
   "outputs": [
    {
     "data": {
      "text/plain": [
       "41144"
      ]
     },
     "execution_count": 8,
     "metadata": {},
     "output_type": "execute_result"
    }
   ],
   "source": [
    "# 2.\n",
    "city_mpg.agg(\"size\")"
   ]
  },
  {
   "cell_type": "code",
   "execution_count": 9,
   "id": "2fb22d40-ce88-4f4b-83ad-b5f9035e7cb3",
   "metadata": {},
   "outputs": [
    {
     "data": {
      "text/plain": [
       "105"
      ]
     },
     "execution_count": 9,
     "metadata": {},
     "output_type": "execute_result"
    }
   ],
   "source": [
    "# 3.\n",
    "city_mpg.nunique()"
   ]
  },
  {
   "cell_type": "code",
   "execution_count": 10,
   "id": "abad5fee-c26d-48ca-9e73-6e1d10481181",
   "metadata": {},
   "outputs": [
    {
     "data": {
      "text/plain": [
       "18.369045304297103"
      ]
     },
     "execution_count": 10,
     "metadata": {},
     "output_type": "execute_result"
    }
   ],
   "source": [
    "# 4.\n",
    "city_mpg.mean()"
   ]
  },
  {
   "cell_type": "code",
   "execution_count": 11,
   "id": "0b8e146c-54ae-4054-a483-0231ab4afab8",
   "metadata": {},
   "outputs": [
    {
     "data": {
      "text/plain": [
       "150"
      ]
     },
     "execution_count": 11,
     "metadata": {},
     "output_type": "execute_result"
    }
   ],
   "source": [
    "# 5.\n",
    "city_mpg.max()"
   ]
  },
  {
   "cell_type": "code",
   "execution_count": 12,
   "id": "2f2af936-c727-4232-9e06-9e652554f5e5",
   "metadata": {},
   "outputs": [
    {
     "data": {
      "text/plain": [
       "count      41144.000000\n",
       "size       41144.000000\n",
       "nunique      105.000000\n",
       "mean          18.369045\n",
       "max          150.000000\n",
       "Name: city08, dtype: float64"
      ]
     },
     "execution_count": 12,
     "metadata": {},
     "output_type": "execute_result"
    }
   ],
   "source": [
    "# 6.\n",
    "city_mpg.agg([\"count\", \"size\", \"nunique\", \"mean\", \"max\"])"
   ]
  }
 ],
 "metadata": {
  "kernelspec": {
   "display_name": "Python 3 (ipykernel)",
   "language": "python",
   "name": "python3"
  },
  "language_info": {
   "codemirror_mode": {
    "name": "ipython",
    "version": 3
   },
   "file_extension": ".py",
   "mimetype": "text/x-python",
   "name": "python",
   "nbconvert_exporter": "python",
   "pygments_lexer": "ipython3",
   "version": "3.12.2"
  }
 },
 "nbformat": 4,
 "nbformat_minor": 5
}
