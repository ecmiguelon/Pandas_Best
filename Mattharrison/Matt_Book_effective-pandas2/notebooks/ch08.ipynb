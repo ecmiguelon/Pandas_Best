{
 "cells": [
  {
   "cell_type": "markdown",
   "id": "31cfda05-e2d2-4edc-911d-41d449637789",
   "metadata": {},
   "source": [
    "# Chapter 8"
   ]
  },
  {
   "cell_type": "code",
   "execution_count": 1,
   "id": "910d490e-17d1-483a-9eea-3fb0be32507f",
   "metadata": {},
   "outputs": [
    {
     "data": {
      "text/plain": [
       "1     NaN\n",
       "2    55.0\n",
       "2    64.0\n",
       "2    65.0\n",
       "2    74.0\n",
       "4     NaN\n",
       "dtype: float64"
      ]
     },
     "execution_count": 1,
     "metadata": {},
     "output_type": "execute_result"
    }
   ],
   "source": [
    "import pandas as pd\n",
    "\n",
    "s1 = pd.Series([10, 20, 30], index=[1, 2, 2])\n",
    "s2 = pd.Series([35, 44, 53], index=[2, 2, 4], name=\"s2\")\n",
    "s1 + s2"
   ]
  },
  {
   "cell_type": "code",
   "execution_count": 2,
   "id": "60db2bbe-aacb-4719-93de-a7f8bd2b477a",
   "metadata": {},
   "outputs": [
    {
     "data": {
      "text/plain": [
       "2    40\n",
       "2    49\n",
       "4    58\n",
       "Name: s2, dtype: int64"
      ]
     },
     "execution_count": 2,
     "metadata": {},
     "output_type": "execute_result"
    }
   ],
   "source": [
    "s2 + 5"
   ]
  },
  {
   "cell_type": "markdown",
   "id": "0e730975-b4a5-4d60-b301-5e1b5f593d96",
   "metadata": {},
   "source": [
    "## Exercises"
   ]
  },
  {
   "cell_type": "code",
   "execution_count": 3,
   "id": "ccf7396b-9499-4d45-8e8c-8445db4faf40",
   "metadata": {},
   "outputs": [
    {
     "data": {
      "text/plain": [
       "0    38\n",
       "1    18\n",
       "2    46\n",
       "3    20\n",
       "4    34\n",
       "Name: city08, dtype: int64[pyarrow]"
      ]
     },
     "execution_count": 3,
     "metadata": {},
     "output_type": "execute_result"
    }
   ],
   "source": [
    "# 1.\n",
    "url = \"https://github.com/mattharrison/datasets/raw/master/data/vehicles.csv.zip\"\n",
    "df = pd.read_csv(url, dtype_backend=\"pyarrow\", engine=\"pyarrow\")\n",
    "city_mpg = df.city08\n",
    "\n",
    "city_mpg.add(city_mpg).head()"
   ]
  },
  {
   "cell_type": "code",
   "execution_count": 4,
   "id": "5113a8db-efcb-4159-a349-0bb3ffdfef50",
   "metadata": {},
   "outputs": [
    {
     "data": {
      "text/plain": [
       "0    29\n",
       "1    19\n",
       "2    33\n",
       "3    20\n",
       "4    27\n",
       "Name: city08, dtype: int64[pyarrow]"
      ]
     },
     "execution_count": 4,
     "metadata": {},
     "output_type": "execute_result"
    }
   ],
   "source": [
    "# 2.\n",
    "(city_mpg + 10).head()"
   ]
  },
  {
   "cell_type": "code",
   "execution_count": 5,
   "id": "a90bd4d2-8b92-4f6d-a816-4b2a13181a07",
   "metadata": {},
   "outputs": [
    {
     "data": {
      "text/plain": [
       "0    44\n",
       "1    23\n",
       "2    56\n",
       "3    22\n",
       "4    40\n",
       "dtype: int64[pyarrow]"
      ]
     },
     "execution_count": 5,
     "metadata": {},
     "output_type": "execute_result"
    }
   ],
   "source": [
    "# 3.\n",
    "highway_mpg = df.highway08\n",
    "\n",
    "(city_mpg + highway_mpg).head()"
   ]
  },
  {
   "cell_type": "code",
   "execution_count": 6,
   "id": "d6320455-e712-4be6-a10a-fe6024adcd1e",
   "metadata": {},
   "outputs": [
    {
     "data": {
      "text/plain": [
       "\u001b[0;31mSignature:\u001b[0m \u001b[0mcity_mpg\u001b[0m\u001b[0;34m.\u001b[0m\u001b[0madd\u001b[0m\u001b[0;34m(\u001b[0m\u001b[0mother\u001b[0m\u001b[0;34m,\u001b[0m \u001b[0mlevel\u001b[0m\u001b[0;34m=\u001b[0m\u001b[0;32mNone\u001b[0m\u001b[0;34m,\u001b[0m \u001b[0mfill_value\u001b[0m\u001b[0;34m=\u001b[0m\u001b[0;32mNone\u001b[0m\u001b[0;34m,\u001b[0m \u001b[0maxis\u001b[0m\u001b[0;34m:\u001b[0m \u001b[0;34m'Axis'\u001b[0m \u001b[0;34m=\u001b[0m \u001b[0;36m0\u001b[0m\u001b[0;34m)\u001b[0m \u001b[0;34m->\u001b[0m \u001b[0;34m'Series'\u001b[0m\u001b[0;34m\u001b[0m\u001b[0;34m\u001b[0m\u001b[0m\n",
       "\u001b[0;31mDocstring:\u001b[0m\n",
       "Return Addition of series and other, element-wise (binary operator `add`).\n",
       "\n",
       "Equivalent to ``series + other``, but with support to substitute a fill_value for\n",
       "missing data in either one of the inputs.\n",
       "\n",
       "Parameters\n",
       "----------\n",
       "other : Series or scalar value\n",
       "level : int or name\n",
       "    Broadcast across a level, matching Index values on the\n",
       "    passed MultiIndex level.\n",
       "fill_value : None or float value, default None (NaN)\n",
       "    Fill existing missing (NaN) values, and any new element needed for\n",
       "    successful Series alignment, with this value before computation.\n",
       "    If data in both corresponding Series locations is missing\n",
       "    the result of filling (at that location) will be missing.\n",
       "axis : {0 or 'index'}\n",
       "    Unused. Parameter needed for compatibility with DataFrame.\n",
       "\n",
       "Returns\n",
       "-------\n",
       "Series\n",
       "    The result of the operation.\n",
       "\n",
       "See Also\n",
       "--------\n",
       "Series.radd : Reverse of the Addition operator, see\n",
       "    `Python documentation\n",
       "    <https://docs.python.org/3/reference/datamodel.html#emulating-numeric-types>`_\n",
       "    for more details.\n",
       "\n",
       "Examples\n",
       "--------\n",
       ">>> a = pd.Series([1, 1, 1, np.nan], index=['a', 'b', 'c', 'd'])\n",
       ">>> a\n",
       "a    1.0\n",
       "b    1.0\n",
       "c    1.0\n",
       "d    NaN\n",
       "dtype: float64\n",
       ">>> b = pd.Series([1, np.nan, 1, np.nan], index=['a', 'b', 'd', 'e'])\n",
       ">>> b\n",
       "a    1.0\n",
       "b    NaN\n",
       "d    1.0\n",
       "e    NaN\n",
       "dtype: float64\n",
       ">>> a.add(b, fill_value=0)\n",
       "a    2.0\n",
       "b    1.0\n",
       "c    1.0\n",
       "d    1.0\n",
       "e    NaN\n",
       "dtype: float64\n",
       "\u001b[0;31mFile:\u001b[0m      ~/Documents/code/effective-pandas-2/pandas-env/lib/python3.12/site-packages/pandas/core/series.py\n",
       "\u001b[0;31mType:\u001b[0m      method"
      ]
     },
     "metadata": {},
     "output_type": "display_data"
    }
   ],
   "source": [
    "# 4.\n",
    "city_mpg.add?"
   ]
  }
 ],
 "metadata": {
  "kernelspec": {
   "display_name": "Python 3 (ipykernel)",
   "language": "python",
   "name": "python3"
  },
  "language_info": {
   "codemirror_mode": {
    "name": "ipython",
    "version": 3
   },
   "file_extension": ".py",
   "mimetype": "text/x-python",
   "name": "python",
   "nbconvert_exporter": "python",
   "pygments_lexer": "ipython3",
   "version": "3.12.2"
  }
 },
 "nbformat": 4,
 "nbformat_minor": 5
}
