{
 "cells": [
  {
   "cell_type": "markdown",
   "id": "2bc5c52c-d85b-4643-89ac-4501cbfc21b7",
   "metadata": {},
   "source": [
    "# Chapter 11"
   ]
  },
  {
   "cell_type": "code",
   "execution_count": 1,
   "id": "b81cd699-9199-4b71-85fb-6088a1449473",
   "metadata": {},
   "outputs": [],
   "source": [
    "import pandas as pd\n",
    "\n",
    "url = \"https://github.com/mattharrison/datasets/raw/master/data/vehicles.csv.zip\"\n",
    "df = pd.read_csv(url, dtype_backend=\"pyarrow\", engine=\"pyarrow\")\n",
    "\n",
    "cyl = df.cylinders"
   ]
  },
  {
   "cell_type": "code",
   "execution_count": 2,
   "id": "2a06b662-4206-4076-9861-7b44f77096fb",
   "metadata": {},
   "outputs": [
    {
     "data": {
      "text/plain": [
       "206"
      ]
     },
     "execution_count": 2,
     "metadata": {},
     "output_type": "execute_result"
    }
   ],
   "source": [
    "(cyl\n",
    " .isna()\n",
    " .sum()\n",
    ")"
   ]
  },
  {
   "cell_type": "code",
   "execution_count": 3,
   "id": "3ae92cc2-ed9b-42b3-85f3-af64b7d8d257",
   "metadata": {},
   "outputs": [
    {
     "data": {
      "text/plain": [
       "7138     Nissan\n",
       "7139     Toyota\n",
       "8143     Toyota\n",
       "8144       Ford\n",
       "8146       Ford\n",
       "          ...  \n",
       "34563     Tesla\n",
       "34564     Tesla\n",
       "34565     Tesla\n",
       "34566     Tesla\n",
       "34567     Tesla\n",
       "Name: make, Length: 206, dtype: string[pyarrow]"
      ]
     },
     "execution_count": 3,
     "metadata": {},
     "output_type": "execute_result"
    }
   ],
   "source": [
    "missing = cyl.isna()\n",
    "df.make.loc[missing]"
   ]
  },
  {
   "cell_type": "markdown",
   "id": "a44fb0fe-8fb8-4ecf-b854-b8bb69dd6a3d",
   "metadata": {},
   "source": [
    "What does interpolation do in cases where the index isn't simply a progression of integers? Does its behavior change?"
   ]
  },
  {
   "cell_type": "code",
   "execution_count": 4,
   "id": "53c184ae-33c2-4971-abaa-4aaa85773f85",
   "metadata": {},
   "outputs": [
    {
     "data": {
      "text/plain": [
       "fish     32.0\n",
       "bird     40.0\n",
       "cat      <NA>\n",
       "rat      42.0\n",
       "dog      39.0\n",
       "snake    32.0\n",
       "dtype: float[pyarrow]"
      ]
     },
     "execution_count": 4,
     "metadata": {},
     "output_type": "execute_result"
    }
   ],
   "source": [
    "index = [\"fish\", \"bird\", \"cat\", \"rat\", \"dog\", \"snake\"]\n",
    "vals = [32, 40, None, 42, 39, 32]\n",
    "s = pd.Series(vals, index=index, dtype=\"float[pyarrow]\")\n",
    "s"
   ]
  },
  {
   "cell_type": "code",
   "execution_count": 5,
   "id": "45912c98-7545-4acb-969c-995e70e2f272",
   "metadata": {},
   "outputs": [
    {
     "data": {
      "text/plain": [
       "fish     32.0\n",
       "bird     40.0\n",
       "cat      41.0\n",
       "rat      42.0\n",
       "dog      39.0\n",
       "snake    32.0\n",
       "dtype: float[pyarrow]"
      ]
     },
     "execution_count": 5,
     "metadata": {},
     "output_type": "execute_result"
    }
   ],
   "source": [
    "s.interpolate()"
   ]
  },
  {
   "cell_type": "code",
   "execution_count": 6,
   "id": "9427f878-985e-40c2-bf47-0bf4b242f92e",
   "metadata": {},
   "outputs": [
    {
     "data": {
      "text/plain": [
       "0      19\n",
       "1       9\n",
       "2      23\n",
       "3      10\n",
       "4      17\n",
       "       ..\n",
       "442    15\n",
       "443    15\n",
       "444    15\n",
       "445    15\n",
       "446    31\n",
       "Name: city08, Length: 447, dtype: int64[pyarrow]"
      ]
     },
     "execution_count": 6,
     "metadata": {},
     "output_type": "execute_result"
    }
   ],
   "source": [
    "city_mpg = df.city08\n",
    "\n",
    "city_mpg.loc[:446]"
   ]
  },
  {
   "cell_type": "code",
   "execution_count": 7,
   "id": "b8ac9aa6-9cd4-43df-ad06-3ac19da7b54b",
   "metadata": {},
   "outputs": [
    {
     "data": {
      "text/plain": [
       "0      19\n",
       "1      17\n",
       "2      23\n",
       "3      17\n",
       "4      17\n",
       "       ..\n",
       "442    17\n",
       "443    17\n",
       "444    17\n",
       "445    17\n",
       "446    27\n",
       "Name: city08, Length: 447, dtype: int64[pyarrow]"
      ]
     },
     "execution_count": 7,
     "metadata": {},
     "output_type": "execute_result"
    }
   ],
   "source": [
    "city_mpg.loc[:446].clip(lower=city_mpg.quantile(0.5), upper=city_mpg.quantile(0.95))"
   ]
  },
  {
   "cell_type": "code",
   "execution_count": 8,
   "id": "d0912268-27a4-42b6-8862-cf5d8092966a",
   "metadata": {},
   "outputs": [
    {
     "data": {
      "text/plain": [
       "0        Alfa Romeo\n",
       "1           Ferrari\n",
       "2             Dodge\n",
       "3             Dodge\n",
       "4               スバル\n",
       "            ...    \n",
       "41139           スバル\n",
       "41140           スバル\n",
       "41141           スバル\n",
       "41142           スバル\n",
       "41143           スバル\n",
       "Name: make, Length: 41144, dtype: string[pyarrow]"
      ]
     },
     "execution_count": 8,
     "metadata": {},
     "output_type": "execute_result"
    }
   ],
   "source": [
    "make = df.make\n",
    "make.replace(\"Subaru\", \"スバル\")"
   ]
  },
  {
   "cell_type": "markdown",
   "id": "804fe133-d316-4399-904c-e558af4de2d2",
   "metadata": {},
   "source": [
    "## Exercises"
   ]
  },
  {
   "cell_type": "code",
   "execution_count": 9,
   "id": "dde46cf2-af3b-47f2-8da5-48606e59a24b",
   "metadata": {},
   "outputs": [
    {
     "data": {
      "text/plain": [
       "0        high\n",
       "1         low\n",
       "2        high\n",
       "3         low\n",
       "4         low\n",
       "         ... \n",
       "41139    high\n",
       "41140    high\n",
       "41141     low\n",
       "41142     low\n",
       "41143     low\n",
       "Name: city08, Length: 41144, dtype: object"
      ]
     },
     "execution_count": 9,
     "metadata": {},
     "output_type": "execute_result"
    }
   ],
   "source": [
    "#1:\n",
    "city_mpg.apply(lambda x: \"high\" if x >= city_mpg.mean() else \"low\")"
   ]
  },
  {
   "cell_type": "code",
   "execution_count": 10,
   "id": "218c70fd-e28a-4753-81d9-2fcee2511347",
   "metadata": {},
   "outputs": [
    {
     "data": {
      "text/plain": [
       "0        high\n",
       "1         low\n",
       "2        high\n",
       "3         low\n",
       "4         low\n",
       "         ... \n",
       "41139    high\n",
       "41140    high\n",
       "41141     low\n",
       "41142     low\n",
       "41143     low\n",
       "Name: city08, Length: 41144, dtype: object"
      ]
     },
     "execution_count": 10,
     "metadata": {},
     "output_type": "execute_result"
    }
   ],
   "source": [
    "#2:\n",
    "m = city_mpg.mean()\n",
    "city_mpg.case_when([(city_mpg.ge(m), \"high\"), (city_mpg.lt(m), \"low\")])"
   ]
  },
  {
   "cell_type": "code",
   "execution_count": 11,
   "id": "e7e581c3-dc7a-4144-bf11-9f69b5dfaa9d",
   "metadata": {},
   "outputs": [
    {
     "name": "stdout",
     "output_type": "stream",
     "text": [
      "1.15 s ± 6.96 ms per loop (mean ± std. dev. of 7 runs, 1 loop each)\n"
     ]
    }
   ],
   "source": [
    "%%timeit\n",
    "city_mpg.apply(lambda x: \"high\" if x >= city_mpg.mean() else \"low\")"
   ]
  },
  {
   "cell_type": "code",
   "execution_count": 12,
   "id": "aa34cb62-64e3-4360-843b-238e32d89c04",
   "metadata": {},
   "outputs": [
    {
     "name": "stdout",
     "output_type": "stream",
     "text": [
      "1.56 ms ± 11.7 µs per loop (mean ± std. dev. of 7 runs, 1,000 loops each)\n"
     ]
    }
   ],
   "source": [
    "%%timeit\n",
    "\n",
    "m = city_mpg.mean()\n",
    "city_mpg.case_when([(city_mpg.ge(m), \"high\"), (city_mpg.lt(m), \"low\")])"
   ]
  },
  {
   "cell_type": "code",
   "execution_count": 13,
   "id": "5065b01a-a56a-4470-b81f-3767a1ade378",
   "metadata": {},
   "outputs": [
    {
     "data": {
      "text/plain": [
       "1108.47"
      ]
     },
     "execution_count": 13,
     "metadata": {},
     "output_type": "execute_result"
    }
   ],
   "source": [
    "#3:\n",
    "1_110 - 1.53"
   ]
  },
  {
   "cell_type": "code",
   "execution_count": 14,
   "id": "43129997-10c2-4534-8459-1ad47bc3319b",
   "metadata": {},
   "outputs": [
    {
     "data": {
      "text/plain": [
       "0        19\n",
       "1         9\n",
       "2        23\n",
       "3        10\n",
       "4        17\n",
       "         ..\n",
       "41139    19\n",
       "41140    20\n",
       "41141    18\n",
       "41142    18\n",
       "41143    16\n",
       "Name: city08, Length: 41144, dtype: int64[pyarrow]"
      ]
     },
     "execution_count": 14,
     "metadata": {},
     "output_type": "execute_result"
    }
   ],
   "source": [
    "#4:\n",
    "city_mpg.fillna(city_mpg.median())"
   ]
  },
  {
   "cell_type": "code",
   "execution_count": 15,
   "id": "55c752f3-a8ab-4fbb-91bf-5f3a5123283a",
   "metadata": {},
   "outputs": [
    {
     "data": {
      "text/plain": [
       "0        19\n",
       "1        13\n",
       "2        23\n",
       "3        13\n",
       "4        17\n",
       "         ..\n",
       "41139    19\n",
       "41140    20\n",
       "41141    18\n",
       "41142    18\n",
       "41143    16\n",
       "Name: city08, Length: 41144, dtype: int64[pyarrow]"
      ]
     },
     "execution_count": 15,
     "metadata": {},
     "output_type": "execute_result"
    }
   ],
   "source": [
    "#5:\n",
    "city_mpg.clip(lower=city_mpg.quantile(0.1), upper=city_mpg.quantile(0.9))"
   ]
  },
  {
   "cell_type": "code",
   "execution_count": 16,
   "id": "61d054f5-c184-4a16-8875-6340acdd4bea",
   "metadata": {},
   "outputs": [
    {
     "data": {
      "text/plain": [
       "0        Other\n",
       "1        Other\n",
       "2        Dodge\n",
       "3        Dodge\n",
       "4        Other\n",
       "         ...  \n",
       "41139    Other\n",
       "41140    Other\n",
       "41141    Other\n",
       "41142    Other\n",
       "41143    Other\n",
       "Name: make, Length: 41144, dtype: category\n",
       "Categories (6, object): ['Chevrolet', 'Dodge', 'Ford', 'GMC', 'Toyota', 'Other']"
      ]
     },
     "execution_count": 16,
     "metadata": {},
     "output_type": "execute_result"
    }
   ],
   "source": [
    "#6:\n",
    "make_cat = make.astype(\"category\")\n",
    "top5 = make_cat.value_counts().index[:5]\n",
    "make_cat = make_cat.cat.add_categories(\"Other\")\n",
    "make_cat.where(make_cat.isin(top5), \"Other\").cat.remove_unused_categories()"
   ]
  },
  {
   "cell_type": "code",
   "execution_count": 17,
   "id": "9cd12f4e-04d0-48d2-b187-b646e0f189e8",
   "metadata": {},
   "outputs": [
    {
     "data": {
      "text/plain": [
       "0        Other\n",
       "1        Other\n",
       "2        Dodge\n",
       "3        Dodge\n",
       "4        Other\n",
       "         ...  \n",
       "41139    Other\n",
       "41140    Other\n",
       "41141    Other\n",
       "41142    Other\n",
       "41143    Other\n",
       "Name: make, Length: 41144, dtype: category\n",
       "Categories (11, object): ['BMW', 'Chevrolet', 'Dodge', 'Ford', ..., 'Nissan', 'Toyota', 'Volkswagen', 'Other']"
      ]
     },
     "execution_count": 17,
     "metadata": {},
     "output_type": "execute_result"
    }
   ],
   "source": [
    "#7:\n",
    "make_cat = make.astype(\"category\")\n",
    "top10 = make_cat.value_counts().index[:10]\n",
    "make_cat = make_cat.cat.add_categories(\"Other\")\n",
    "make_cat.where(make_cat.isin(top10), \"Other\").cat.remove_unused_categories()"
   ]
  },
  {
   "cell_type": "code",
   "execution_count": 18,
   "id": "64b53de2-023b-46d9-be0c-0dde35395067",
   "metadata": {},
   "outputs": [],
   "source": [
    "#8:\n",
    "def replace_not_in_top(cat_ser, n):\n",
    "    top_n = cat_ser.value_counts().index[:n]\n",
    "    cat_ser = cat_ser.cat.add_categories(\"Other\")\n",
    "    return cat_ser.where(cat_ser.isin(top_n), \"Other\").cat.remove_unused_categories()"
   ]
  },
  {
   "cell_type": "code",
   "execution_count": 19,
   "id": "78919463-46c0-4dc2-9f30-63681b4426a7",
   "metadata": {},
   "outputs": [
    {
     "data": {
      "text/plain": [
       "0        (5.856, 20.4]\n",
       "1        (5.856, 20.4]\n",
       "2         (20.4, 34.8]\n",
       "3        (5.856, 20.4]\n",
       "4        (5.856, 20.4]\n",
       "             ...      \n",
       "41139    (5.856, 20.4]\n",
       "41140    (5.856, 20.4]\n",
       "41141    (5.856, 20.4]\n",
       "41142    (5.856, 20.4]\n",
       "41143    (5.856, 20.4]\n",
       "Name: city08, Length: 41144, dtype: category\n",
       "Categories (10, interval[float64, right]): [(5.856, 20.4] < (20.4, 34.8] < (34.8, 49.2] < (49.2, 63.6] ... (92.4, 106.8] < (106.8, 121.2] < (121.2, 135.6] < (135.6, 150.0]]"
      ]
     },
     "execution_count": 19,
     "metadata": {},
     "output_type": "execute_result"
    }
   ],
   "source": [
    "#9:\n",
    "pd.cut(city_mpg, 10)"
   ]
  },
  {
   "cell_type": "code",
   "execution_count": 20,
   "id": "c5b945d7-6b94-4023-b96a-08a3d41a8864",
   "metadata": {},
   "outputs": [
    {
     "data": {
      "text/plain": [
       "0         (18.0, 20.0]\n",
       "1        (5.999, 13.0]\n",
       "2         (21.0, 24.0]\n",
       "3        (5.999, 13.0]\n",
       "4         (16.0, 17.0]\n",
       "             ...      \n",
       "41139     (18.0, 20.0]\n",
       "41140     (18.0, 20.0]\n",
       "41141     (17.0, 18.0]\n",
       "41142     (17.0, 18.0]\n",
       "41143     (15.0, 16.0]\n",
       "Name: city08, Length: 41144, dtype: category\n",
       "Categories (10, interval[float64, right]): [(5.999, 13.0] < (13.0, 14.0] < (14.0, 15.0] < (15.0, 16.0] ... (18.0, 20.0] < (20.0, 21.0] < (21.0, 24.0] < (24.0, 150.0]]"
      ]
     },
     "execution_count": 20,
     "metadata": {},
     "output_type": "execute_result"
    }
   ],
   "source": [
    "#10:\n",
    "pd.qcut(city_mpg, 10)"
   ]
  }
 ],
 "metadata": {
  "kernelspec": {
   "display_name": "Python 3 (ipykernel)",
   "language": "python",
   "name": "python3"
  },
  "language_info": {
   "codemirror_mode": {
    "name": "ipython",
    "version": 3
   },
   "file_extension": ".py",
   "mimetype": "text/x-python",
   "name": "python",
   "nbconvert_exporter": "python",
   "pygments_lexer": "ipython3",
   "version": "3.12.2"
  }
 },
 "nbformat": 4,
 "nbformat_minor": 5
}
