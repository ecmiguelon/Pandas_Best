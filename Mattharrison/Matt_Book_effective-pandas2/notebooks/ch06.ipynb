{
 "cells": [
  {
   "cell_type": "markdown",
   "id": "463f6a52-a480-4a0f-bd64-98808e9f59de",
   "metadata": {},
   "source": [
    "# Chapter 6"
   ]
  },
  {
   "cell_type": "code",
   "execution_count": 1,
   "id": "3addf12d-abf8-464e-bc8c-98f9e6b0734e",
   "metadata": {},
   "outputs": [],
   "source": [
    "import datetime as dt\n",
    "\n",
    "import pandas as pd\n",
    "import pyarrow as pa"
   ]
  },
  {
   "cell_type": "markdown",
   "id": "368617bb-b768-4bfb-949f-91d74686b727",
   "metadata": {},
   "source": [
    "## Exercises"
   ]
  },
  {
   "cell_type": "code",
   "execution_count": 2,
   "id": "b158ea60-b6b9-41ea-8a10-c32930c01c0d",
   "metadata": {},
   "outputs": [
    {
     "data": {
      "text/plain": [
       "2024-03-26    12\n",
       "2024-03-29    13\n",
       "2024-03-30    16\n",
       "dtype: int8[pyarrow]"
      ]
     },
     "execution_count": 2,
     "metadata": {},
     "output_type": "execute_result"
    }
   ],
   "source": [
    "# 1. NYC highs from past week, in Celsius\n",
    "temps = [9, 11, 12, 11, 11, 13, 16]\n",
    "dates = [dt.datetime(2024, 3, d) for d in range(24, 31)]\n",
    "\n",
    "s = pd.Series(data=temps, index=dates, dtype=\"int8[pyarrow]\")\n",
    "mask = s >= s.mean()\n",
    "s[mask]"
   ]
  },
  {
   "cell_type": "code",
   "execution_count": 3,
   "id": "62633c51-8eac-45f9-9b3c-d12372d9cf79",
   "metadata": {},
   "outputs": [
    {
     "data": {
      "text/plain": [
       "0            booger\n",
       "1         blue blue\n",
       "2       toxic green\n",
       "3      windows blue\n",
       "4              poop\n",
       "5    light eggplant\n",
       "dtype: category\n",
       "Categories (6, string[pyarrow]): [blue blue, booger, light eggplant, poop, toxic green, windows blue]"
      ]
     },
     "execution_count": 3,
     "metadata": {},
     "output_type": "execute_result"
    }
   ],
   "source": [
    "# 2. Let's use some XKCD colors: https://xkcd.com/color/rgb/\n",
    "colors = [\"booger\", \"blue blue\", \"toxic green\",\n",
    "          \"windows blue\", \"poop\", \"light eggplant\"]\n",
    "\n",
    "# Let's use PyArrow strings for the hell of it\n",
    "c = pd.Series(colors, dtype=pd.ArrowDtype(pa.string()))\n",
    "s = pd.Series(c, dtype=\"category\")\n",
    "\n",
    "s"
   ]
  }
 ],
 "metadata": {
  "kernelspec": {
   "display_name": "Python 3 (ipykernel)",
   "language": "python",
   "name": "python3"
  },
  "language_info": {
   "codemirror_mode": {
    "name": "ipython",
    "version": 3
   },
   "file_extension": ".py",
   "mimetype": "text/x-python",
   "name": "python",
   "nbconvert_exporter": "python",
   "pygments_lexer": "ipython3",
   "version": "3.12.2"
  }
 },
 "nbformat": 4,
 "nbformat_minor": 5
}
