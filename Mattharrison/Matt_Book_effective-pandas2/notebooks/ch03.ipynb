{
 "cells": [
  {
   "cell_type": "markdown",
   "id": "ae20b804-7798-40ca-ad70-2df297429723",
   "metadata": {},
   "source": [
    "## Chapter 3"
   ]
  },
  {
   "cell_type": "code",
   "execution_count": 1,
   "id": "e4d353b1-fae0-487f-9374-6cac6d5c6ebf",
   "metadata": {},
   "outputs": [
    {
     "name": "stdout",
     "output_type": "stream",
     "text": [
      "hello world\n"
     ]
    }
   ],
   "source": [
    "print(\"hello world\")"
   ]
  },
  {
   "cell_type": "code",
   "execution_count": 2,
   "id": "ee003e6a-6668-496d-8b41-731984d04ce6",
   "metadata": {},
   "outputs": [
    {
     "name": "stdout",
     "output_type": "stream",
     "text": [
      "51.4 ns ± 0.647 ns per loop (mean ± std. dev. of 7 runs, 10,000,000 loops each)\n"
     ]
    }
   ],
   "source": [
    "%timeit x = range(10000)"
   ]
  },
  {
   "cell_type": "code",
   "execution_count": 3,
   "id": "fd30bb3c-fda1-4e9a-a565-58bbc8b9e5c8",
   "metadata": {},
   "outputs": [
    {
     "name": "stdout",
     "output_type": "stream",
     "text": [
      "379 µs ± 6.87 µs per loop (mean ± std. dev. of 7 runs, 1,000 loops each)\n"
     ]
    }
   ],
   "source": [
    "%%timeit\n",
    "x = range(10000)\n",
    "total = 0\n",
    "for i in x:\n",
    "    total += i\n",
    "mean = total / len(x)"
   ]
  },
  {
   "cell_type": "markdown",
   "id": "4046645e-1335-41c6-ae02-82201b5a1d9d",
   "metadata": {},
   "source": [
    "## Exercises"
   ]
  },
  {
   "cell_type": "markdown",
   "id": "39fd52f5-7f8f-4d93-a9f6-ce86c90baccc",
   "metadata": {},
   "source": [
    "1. Jupyter Notebook has existed for longer, and provides the \"classic\" notebook interface. Jupyter Lab is newer and provides more features, but is built on the same underlying notebook idea."
   ]
  },
  {
   "cell_type": "markdown",
   "id": "5fbb7828-454e-43ee-b17b-55413c63f7e8",
   "metadata": {},
   "source": [
    "2. I usually create new cells with the `b` key in command mode. Cells can be run with `Ctrl + Enter`."
   ]
  },
  {
   "cell_type": "markdown",
   "id": "06bfcfa7-4834-4c06-9947-c2caac64761f",
   "metadata": {},
   "source": [
    "3. In command mode, use the `m` key to change the cell's type from code to markdown."
   ]
  },
  {
   "cell_type": "markdown",
   "id": "e76abff7-6461-4916-b41c-e8ce0db000cb",
   "metadata": {},
   "source": [
    "4. Save work in a Jupyter notebook with `Ctrl + s`."
   ]
  },
  {
   "cell_type": "markdown",
   "id": "0ab55595-382c-48b6-b67b-54f00fd6ae6c",
   "metadata": {},
   "source": [
    "5. Interrupting the kernel essentially ends the Python process being used in the background to run your code. This is useful for situations where code is taking much longer to run than expected."
   ]
  },
  {
   "cell_type": "markdown",
   "id": "e6e1e935-ab90-458e-b13c-b7c92ec2dfd5",
   "metadata": {},
   "source": [
    "6. Restart the kernel running in a notebook with `00`."
   ]
  }
 ],
 "metadata": {
  "kernelspec": {
   "display_name": "Python 3 (ipykernel)",
   "language": "python",
   "name": "python3"
  },
  "language_info": {
   "codemirror_mode": {
    "name": "ipython",
    "version": 3
   },
   "file_extension": ".py",
   "mimetype": "text/x-python",
   "name": "python",
   "nbconvert_exporter": "python",
   "pygments_lexer": "ipython3",
   "version": "3.12.2"
  }
 },
 "nbformat": 4,
 "nbformat_minor": 5
}
