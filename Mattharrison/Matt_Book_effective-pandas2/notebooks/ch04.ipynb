{
 "cells": [
  {
   "cell_type": "markdown",
   "id": "9d47f8c5-3d4c-43e7-8212-0972800c296c",
   "metadata": {},
   "source": [
    "# Chapter 4"
   ]
  },
  {
   "cell_type": "markdown",
   "id": "00b3390e-1073-4269-bf72-71956b065083",
   "metadata": {},
   "source": [
    "## Exercises"
   ]
  },
  {
   "cell_type": "markdown",
   "id": "f71a4c28-9d00-4eac-8960-6ed971aeefae",
   "metadata": {},
   "source": [
    "1. Given a spreadsheet with data, I would use a `DataFrame` to store the data, as it would be able to faithfully replicate the two-dimensional structure of the spreadsheet."
   ]
  },
  {
   "cell_type": "markdown",
   "id": "d657f07e-5f7b-4fe1-96c9-051473facb17",
   "metadata": {},
   "source": [
    "2. Given a (relational) database with data, I would use multiple `DataFrame`s to store the data: One for each table in the database. (Given a NoSQL database, I might not opt for Pandas objects at all, at least to begin with.)"
   ]
  }
 ],
 "metadata": {
  "kernelspec": {
   "display_name": "Python 3 (ipykernel)",
   "language": "python",
   "name": "python3"
  },
  "language_info": {
   "codemirror_mode": {
    "name": "ipython",
    "version": 3
   },
   "file_extension": ".py",
   "mimetype": "text/x-python",
   "name": "python",
   "nbconvert_exporter": "python",
   "pygments_lexer": "ipython3",
   "version": "3.12.2"
  }
 },
 "nbformat": 4,
 "nbformat_minor": 5
}
