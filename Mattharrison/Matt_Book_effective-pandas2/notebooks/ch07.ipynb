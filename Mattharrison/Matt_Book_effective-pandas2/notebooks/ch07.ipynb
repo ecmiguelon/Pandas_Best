{
 "cells": [
  {
   "cell_type": "markdown",
   "id": "36cf6180-008f-4410-9b4c-ba4982742fbd",
   "metadata": {},
   "source": [
    "# Chapter 7"
   ]
  },
  {
   "cell_type": "code",
   "execution_count": 1,
   "id": "b5ee520d-ac6d-4128-8a4c-a50929b58c09",
   "metadata": {},
   "outputs": [],
   "source": [
    "import pandas as pd\n",
    "\n",
    "url = \"https://github.com/mattharrison/datasets/raw/master/data/vehicles.csv.zip\"\n",
    "df = pd.read_csv(url, dtype_backend=\"pyarrow\", engine=\"pyarrow\")\n",
    "\n",
    "city_mpg = df.city08\n",
    "highway_mpg = df.highway08"
   ]
  },
  {
   "cell_type": "code",
   "execution_count": 2,
   "id": "39261633-4400-4132-a31f-aad43b3e32c8",
   "metadata": {},
   "outputs": [
    {
     "data": {
      "text/plain": [
       "0        19\n",
       "1         9\n",
       "2        23\n",
       "3        10\n",
       "4        17\n",
       "         ..\n",
       "41139    19\n",
       "41140    20\n",
       "41141    18\n",
       "41142    18\n",
       "41143    16\n",
       "Name: city08, Length: 41144, dtype: int64[pyarrow]"
      ]
     },
     "execution_count": 2,
     "metadata": {},
     "output_type": "execute_result"
    }
   ],
   "source": [
    "city_mpg"
   ]
  },
  {
   "cell_type": "code",
   "execution_count": 3,
   "id": "c9ec0f75-01ea-4308-bbf2-242b7d3de1d0",
   "metadata": {},
   "outputs": [
    {
     "data": {
      "text/plain": [
       "0        25\n",
       "1        14\n",
       "2        33\n",
       "3        12\n",
       "4        23\n",
       "         ..\n",
       "41139    26\n",
       "41140    28\n",
       "41141    24\n",
       "41142    24\n",
       "41143    21\n",
       "Name: highway08, Length: 41144, dtype: int64[pyarrow]"
      ]
     },
     "execution_count": 3,
     "metadata": {},
     "output_type": "execute_result"
    }
   ],
   "source": [
    "highway_mpg"
   ]
  },
  {
   "cell_type": "markdown",
   "id": "301ede56-9718-4214-9067-b6ce852600be",
   "metadata": {},
   "source": [
    "## Exercises"
   ]
  },
  {
   "cell_type": "code",
   "execution_count": 4,
   "id": "98e846df-eda3-4f55-9e53-1e3914c7007f",
   "metadata": {},
   "outputs": [
    {
     "data": {
      "text/plain": [
       "\u001b[0;31mType:\u001b[0m        property\n",
       "\u001b[0;31mString form:\u001b[0m <property object at 0x7fc27294c400>\n",
       "\u001b[0;31mDocstring:\u001b[0m  \n",
       "Return the number of elements in the underlying data.\n",
       "\n",
       "Examples\n",
       "--------\n",
       "For Series:\n",
       "\n",
       ">>> s = pd.Series(['Ant', 'Bear', 'Cow'])\n",
       ">>> s\n",
       "0     Ant\n",
       "1    Bear\n",
       "2     Cow\n",
       "dtype: object\n",
       ">>> s.size\n",
       "3\n",
       "\n",
       "For Index:\n",
       "\n",
       ">>> idx = pd.Index([1, 2, 3])\n",
       ">>> idx\n",
       "Index([1, 2, 3], dtype='int64')\n",
       ">>> idx.size\n",
       "3"
      ]
     },
     "metadata": {},
     "output_type": "display_data"
    }
   ],
   "source": [
    "# 1. Documentation can be accessed using the ? operator in Jupyter notebooks:\n",
    "city_mpg.size?"
   ]
  },
  {
   "cell_type": "code",
   "execution_count": 5,
   "id": "61834786-6b3a-44ce-8d1f-3f95c7c7e979",
   "metadata": {},
   "outputs": [
    {
     "data": {
      "text/plain": [
       "100"
      ]
     },
     "execution_count": 5,
     "metadata": {},
     "output_type": "execute_result"
    }
   ],
   "source": [
    "# 2.\n",
    "import pyarrow as pa\n",
    "\n",
    "s = pd.Series([\"hi\", \"bye\"], dtype=pd.ArrowDtype(pa.string()))\n",
    "len(dir(s.str))"
   ]
  },
  {
   "cell_type": "code",
   "execution_count": 6,
   "id": "46ccaa29-97bc-4f39-ae2a-2dc2685923f1",
   "metadata": {},
   "outputs": [
    {
     "data": {
      "text/plain": [
       "88"
      ]
     },
     "execution_count": 6,
     "metadata": {},
     "output_type": "execute_result"
    }
   ],
   "source": [
    "# 3.\n",
    "import datetime as dt\n",
    "\n",
    "s = pd.Series([dt.datetime(2000, 1, 1), dt.datetime(2023, 12, 31)], dtype=\"timestamp[ns][pyarrow]\")\n",
    "len(dir(s.dt))"
   ]
  }
 ],
 "metadata": {
  "kernelspec": {
   "display_name": "Python 3 (ipykernel)",
   "language": "python",
   "name": "python3"
  },
  "language_info": {
   "codemirror_mode": {
    "name": "ipython",
    "version": 3
   },
   "file_extension": ".py",
   "mimetype": "text/x-python",
   "name": "python",
   "nbconvert_exporter": "python",
   "pygments_lexer": "ipython3",
   "version": "3.12.2"
  }
 },
 "nbformat": 4,
 "nbformat_minor": 5
}
