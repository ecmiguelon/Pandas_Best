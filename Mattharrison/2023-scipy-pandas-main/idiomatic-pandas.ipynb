{
 "cells": [
  {
   "cell_type": "markdown",
   "id": "81cc5b34",
   "metadata": {
    "lines_to_next_cell": 0,
    "pycharm": {
     "name": "#%% md\n"
    }
   },
   "source": [
    "# Idiomatic Pandas\n",
    "## 5 Tips for Better Pandas Code\n",
    "\n",
    "https://github.com/mattharrison/2023-scipy-pandas"
   ]
  },
  {
   "cell_type": "code",
   "execution_count": null,
   "id": "d1532d10",
   "metadata": {
    "lines_to_next_cell": 2
   },
   "outputs": [],
   "source": []
  },
  {
   "cell_type": "markdown",
   "id": "3b359fb0",
   "metadata": {
    "pycharm": {
     "name": "#%% md\n"
    }
   },
   "source": [
    "## About Matt  Harrison @\\_\\_mharrison\\_\\_\n",
    "\n",
    "* Author of Effective Pandas, Machine Learning Pocket Reference, and Illustrated Guide to Python 3.\n",
    "* Advisor at Ponder (creators of Modin)\n",
    "* Corporate trainer at MetaSnake. Taught Pandas to 1000's of students."
   ]
  },
  {
   "cell_type": "code",
   "execution_count": null,
   "id": "fd45b865",
   "metadata": {
    "lines_to_next_cell": 2,
    "pycharm": {
     "name": "#%%\n"
    }
   },
   "outputs": [],
   "source": []
  },
  {
   "cell_type": "code",
   "execution_count": null,
   "id": "ee074cf6",
   "metadata": {
    "lines_to_next_cell": 2,
    "pycharm": {
     "name": "#%%\n"
    }
   },
   "outputs": [],
   "source": []
  },
  {
   "cell_type": "code",
   "execution_count": null,
   "id": "56dea0d6",
   "metadata": {
    "lines_to_next_cell": 2,
    "pycharm": {
     "name": "#%%\n"
    }
   },
   "outputs": [],
   "source": []
  },
  {
   "cell_type": "code",
   "execution_count": null,
   "id": "74599ee6",
   "metadata": {
    "lines_to_next_cell": 2,
    "pycharm": {
     "name": "#%%\n"
    }
   },
   "outputs": [],
   "source": []
  },
  {
   "cell_type": "code",
   "execution_count": null,
   "id": "ddaf4356",
   "metadata": {
    "lines_to_next_cell": 2,
    "pycharm": {
     "name": "#%%\n"
    }
   },
   "outputs": [],
   "source": []
  },
  {
   "cell_type": "code",
   "execution_count": null,
   "id": "691fab46",
   "metadata": {
    "lines_to_next_cell": 2,
    "pycharm": {
     "name": "#%%\n"
    }
   },
   "outputs": [],
   "source": []
  },
  {
   "cell_type": "markdown",
   "id": "ac1d390a",
   "metadata": {
    "pycharm": {
     "name": "#%% md\n"
    }
   },
   "source": [
    "## Practice this on your data with your team!\n",
    "* Contact me matt@metasnake.com\n",
    "* Follow on Twitter @\\_\\_mharrison\\_\\_"
   ]
  },
  {
   "cell_type": "code",
   "execution_count": null,
   "id": "0d9e4268",
   "metadata": {
    "lines_to_next_cell": 2,
    "pycharm": {
     "name": "#%%\n"
    }
   },
   "outputs": [],
   "source": []
  },
  {
   "cell_type": "code",
   "execution_count": null,
   "id": "e9f646d4",
   "metadata": {
    "lines_to_next_cell": 2,
    "pycharm": {
     "name": "#%%\n"
    }
   },
   "outputs": [],
   "source": []
  },
  {
   "cell_type": "markdown",
   "id": "ec83fe17",
   "metadata": {
    "lines_to_next_cell": 0,
    "pycharm": {
     "name": "#%% md\n"
    }
   },
   "source": [
    "## Outline\n",
    "\n",
    "* Load Data\n",
    "* Types\n",
    "* Chaining\n",
    "* Mutation\n",
    "* Apply\n",
    "* Aggregation"
   ]
  },
  {
   "cell_type": "code",
   "execution_count": null,
   "id": "88919775",
   "metadata": {
    "lines_to_next_cell": 2
   },
   "outputs": [],
   "source": []
  },
  {
   "cell_type": "markdown",
   "id": "b6b8d4fe",
   "metadata": {},
   "source": [
    "## Imports"
   ]
  },
  {
   "cell_type": "code",
   "execution_count": null,
   "id": "677e4ecd",
   "metadata": {
    "lines_to_next_cell": 2,
    "pycharm": {
     "name": "#%%\n"
    }
   },
   "outputs": [],
   "source": [
    "%matplotlib inline\n",
    "from IPython.display import display\n",
    "import numpy as np\n",
    "import pandas as pd\n",
    "import pyarrow\n",
    "\n",
    "import io\n",
    "import zipfile\n",
    "#import modin.pandas as pd"
   ]
  },
  {
   "cell_type": "code",
   "execution_count": null,
   "id": "108ee461",
   "metadata": {},
   "outputs": [],
   "source": [
    "pd.__version__"
   ]
  },
  {
   "cell_type": "code",
   "execution_count": null,
   "id": "e01647d1",
   "metadata": {},
   "outputs": [],
   "source": [
    "pyarrow.__version__"
   ]
  },
  {
   "cell_type": "code",
   "execution_count": null,
   "id": "565ba8c3",
   "metadata": {},
   "outputs": [],
   "source": []
  },
  {
   "cell_type": "code",
   "execution_count": null,
   "id": "6dfaa61a",
   "metadata": {},
   "outputs": [],
   "source": []
  },
  {
   "cell_type": "markdown",
   "id": "4084693e",
   "metadata": {
    "pycharm": {
     "name": "#%% md\n"
    }
   },
   "source": [
    "## Data\n",
    "\n",
    "Don't need to run this, but this is how I created the data"
   ]
  },
  {
   "cell_type": "code",
   "execution_count": null,
   "id": "766a6963",
   "metadata": {},
   "outputs": [],
   "source": [
    "# https://gss.norc.org/get-the-data/stata\n",
    "# takes a few minutes on my computer to load\n",
    "path = '~/Downloads/gss_spss_with_codebook.zip'\n",
    "with zipfile.ZipFile(path) as z:\n",
    "    print(z.namelist())\n",
    "    with open('gss.sav', mode='bw') as fout:\n",
    "        fout.write(z.open('GSS7218_R3.sav').read())\n",
    "    gss = pd.read_spss('gss.sav')"
   ]
  },
  {
   "cell_type": "code",
   "execution_count": null,
   "id": "0bff9887",
   "metadata": {},
   "outputs": [],
   "source": [
    "!pip install pyreadstat"
   ]
  },
  {
   "cell_type": "code",
   "execution_count": null,
   "id": "b113d17e",
   "metadata": {},
   "outputs": [],
   "source": [
    "%%time\n",
    "import pyreadstat\n",
    "gss, meta = pyreadstat.read_sav('gss.sav')"
   ]
  },
  {
   "cell_type": "code",
   "execution_count": null,
   "id": "356a1732",
   "metadata": {},
   "outputs": [],
   "source": [
    "gss.shape"
   ]
  },
  {
   "cell_type": "code",
   "execution_count": null,
   "id": "41a1eb09",
   "metadata": {},
   "outputs": [],
   "source": [
    "gss.to_feather('gss.fth')"
   ]
  },
  {
   "cell_type": "code",
   "execution_count": null,
   "id": "fe3f9902",
   "metadata": {},
   "outputs": [],
   "source": [
    "%%time\n",
    "raw = pd.read_feather('~/Dropbox/work/jupyter/gss.fth')"
   ]
  },
  {
   "cell_type": "code",
   "execution_count": null,
   "id": "17a1c4e6",
   "metadata": {
    "lines_to_next_cell": 0,
    "pycharm": {
     "name": "#%%\n"
    }
   },
   "outputs": [],
   "source": [
    "raw"
   ]
  },
  {
   "cell_type": "code",
   "execution_count": null,
   "id": "c02fcbf9",
   "metadata": {},
   "outputs": [],
   "source": [
    "# 6000 columns!\n",
    "raw.shape"
   ]
  },
  {
   "cell_type": "code",
   "execution_count": null,
   "id": "e0bcc8ff",
   "metadata": {
    "lines_to_next_cell": 0
   },
   "outputs": [],
   "source": [
    "cols = ['YEAR','ID','AGE', 'HRS1','OCC','MAJOR1','SEX','RACE','BORN','INCOME',\n",
    "        'INCOME06','HONEST','TICKET']\n",
    "\n",
    "raw[cols].to_feather('honest.fth')"
   ]
  },
  {
   "cell_type": "code",
   "execution_count": null,
   "id": "591958d3",
   "metadata": {
    "lines_to_next_cell": 2
   },
   "outputs": [],
   "source": []
  },
  {
   "cell_type": "markdown",
   "id": "7dedee7b",
   "metadata": {},
   "source": [
    "## Loading Data"
   ]
  },
  {
   "cell_type": "code",
   "execution_count": null,
   "id": "20e8aa70",
   "metadata": {
    "lines_to_next_cell": 2,
    "pycharm": {
     "name": "#%%\n"
    }
   },
   "outputs": [],
   "source": [
    "raw = pd.read_feather('honest.fth', dtype_backend='pyarrow')"
   ]
  },
  {
   "cell_type": "code",
   "execution_count": null,
   "id": "5f95238b",
   "metadata": {
    "lines_to_next_cell": 2,
    "pycharm": {
     "name": "#%%\n"
    }
   },
   "outputs": [],
   "source": []
  },
  {
   "cell_type": "markdown",
   "id": "8da48799",
   "metadata": {
    "pycharm": {
     "name": "#%% md\n"
    }
   },
   "source": [
    "## My Cleanup\n",
    "See GSS_Codebook.pdf for explanation\n",
    "\n",
    "Columns:\n",
    "\n",
    "* YEAR\n",
    "* ID - RESPONDENT ID NUMBER\n",
    "* AGE - AGE OF RESPONENT\n",
    "* HRS1 - NUMBER OF HOURS WORKED LAST WEEK\n",
    "* OCC - R'S CENSUS OCCUPATION CODE (1970) - Page 126 (VAR: OCC) see page 125 for notes APPENDIX F,G,H\n",
    "   Appendix F - Page 3286\n",
    "* MAJOR1 - COLLEGE MAJOR 1\n",
    "* SEX - RESPONDENTS SEX\n",
    "* RACE - RACE OF RESPONDENT\n",
    "* BORN -  WAS R BORN IN THIS COUNTRY\n",
    "* INCOME - TOTAL FAMILY INCOME 1970\n",
    "* INCOME06 - TOTAL FAMILY INCOME 2006\n",
    "* HONEST - HONEST\n",
    "* TICKET - EVER RECEIVED A TRAFFIC TICKET\n"
   ]
  },
  {
   "cell_type": "code",
   "execution_count": null,
   "id": "a288f332",
   "metadata": {},
   "outputs": [],
   "source": [
    "cols = ['YEAR','ID','AGE', 'HRS1','OCC','MAJOR1','SEX','RACE','BORN','INCOME',\n",
    "        'INCOME06','HONEST','TICKET']\n",
    "\n",
    "raw[cols].isna().mean()*100"
   ]
  },
  {
   "cell_type": "code",
   "execution_count": null,
   "id": "b6de3c2f",
   "metadata": {},
   "outputs": [],
   "source": [
    "(raw\n",
    " [cols]\n",
    " .isna()\n",
    " .mean()*100\n",
    ")"
   ]
  },
  {
   "cell_type": "code",
   "execution_count": null,
   "id": "a284ba6e",
   "metadata": {},
   "outputs": [],
   "source": [
    "MAJOR= '''RESPONSE PUNCH 1972-82 1982B 1983-87 1987B 1988-91 1993-98 2000-04 2006 2008 2010 2012 2014 2016 2018 ALL\n",
    "Accounting/bookkeeping 1 0 0 0 0 0 0 0 0 0 0 28 32 30 29 119\n",
    "Advertising 2 0 0 0 0 0 0 0 0 0 0 3 2 0 0 5\n",
    "Agriculture/horticulture 3 0 0 0 0 0 0 0 0 0 0 8 2 7 5 22\n",
    "Allied health 4 0 0 0 0 0 0 0 0 0 0 0 2 1 0 3\n",
    "Anthropology 5 0 0 0 0 0 0 0 0 0 0 3 5 1 1 10\n",
    "Architecture 6 0 0 0 0 0 0 0 0 0 0 2 3 5 3 13\n",
    "Art 7 0 0 0 0 0 0 0 0 0 0 6 7 11 10 34\n",
    "Biology 8 0 0 0 0 0 0 0 0 0 0 16 22 33 26 97\n",
    "Business administration 9 0 0 0 0 0 0 0 0 0 0 90 142 172 138 542\n",
    "Chemistry 11 0 0 0 0 0 0 0 0 0 0 5 8 10 4 27\n",
    "Communications/speech 12 0 0 0 0 0 0 0 0 0 0 20 18 26 18 82\n",
    "Comm. disorders 13 0 0 0 0 0 0 0 0 0 0 4 6 2 2 14\n",
    "Computer science 14 0 0 0 0 0 0 0 0 0 0 25 24 33 17 99\n",
    "Dentistry 15 0 0 0 0 0 0 0 0 0 0 2 4 3 5 14\n",
    "Education 16 0 0 0 0 0 0 0 0 0 0 73 91 97 79 340\n",
    "Economics 17 0 0 0 0 0 0 0 0 0 0 11 19 13 19 62\n",
    "Engineering 18 0 0 0 0 0 0 0 0 0 0 47 49 47 54 197\n",
    "English 19 0 0 0 0 0 0 0 0 0 0 23 26 27 24 100\n",
    "Finance 20 0 0 0 0 0 0 0 0 0 0 7 15 14 16 52\n",
    "Foreign language 21 0 0 0 0 0 0 0 0 0 0 4 8 6 5 23\n",
    "Forestry 22 0 0 0 0 0 0 0 0 0 0 1 0 3 0 4\n",
    "Geography 23 0 0 0 0 0 0 0 0 0 0 0 2 2 4 8\n",
    "Geology 24 0 0 0 0 0 0 0 0 0 0 1 3 4 2 10\n",
    "History 25 0 0 0 0 0 0 0 0 0 0 10 19 14 19 62\n",
    "Home economics 26 0 0 0 0 0 0 0 0 0 0 0 0 3 2 5\n",
    "Industry & techn 27 0 0 0 0 0 0 0 0 0 0 3 4 6 0 13\n",
    "Journalism 28 0 0 0 0 0 0 0 0 0 0 5 6 6 4 21\n",
    "Law 29 0 0 0 0 0 0 0 0 0 0 13 18 23 14 68\n",
    "Law enforcement 30 0 0 0 0 0 0 0 0 0 0 3 5 4 2 14\n",
    "Library science 31 0 0 0 0 0 0 0 0 0 0 4 5 2 3 14\n",
    "Marketing 32 0 0 0 0 0 0 0 0 0 0 11 15 13 12 51\n",
    "Mathematics 33 0 0 0 0 0 0 0 0 0 0 5 10 12 5 32\n",
    "Medicine 34 0 0 0 0 0 0 0 0 0 0 9 25 12 11 57\n",
    "Music 35 0 0 0 0 0 0 0 0 0 0 4 2 10 2 18\n",
    "Nursing 36 0 0 0 0 0 0 0 0 0 0 36 39 60 51 186\n",
    "Optometry 37 0 0 0 0 0 0 0 0 0 0 0 0 0 0 0\n",
    "Pharmacy 38 0 0 0 0 0 0 0 0 0 0 2 5 4 4 15\n",
    "Philosophy 39 0 0 0 0 0 0 0 0 0 0 2 0 2 2 6\n",
    "Physical education 40 0 0 0 0 0 0 0 0 0 0 9 6 16 6 37\n",
    "Physics 41 0 0 0 0 0 0 0 0 0 0 3 6 7 4 20\n",
    "Psychology 42 0 0 0 0 0 0 0 0 0 0 32 32 34 29 127\n",
    "Political science/international relations 43 0 0 0 0 0 0 0 0 0 0 16 22 19 14 71\n",
    "Sociology 44 0 0 0 0 0 0 0 0 0 0 9 15 10 12 46\n",
    "Special education 45 0 0 0 0 0 0 0 0 0 0 5 3 5 2 15\n",
    "Theater arts 46 0 0 0 0 0 0 0 0 0 0 6 2 3 1 12\n",
    "Theology 47 0 0 0 0 0 0 0 0 0 0 6 6 13 8 33\n",
    "Veterinary medicine 48 0 0 0 0 0 0 0 0 0 0 1 5 3 4 13\n",
    "Liberal arts 49 0 0 0 0 0 0 0 0 0 0 8 16 12 10 46\n",
    "Other 50 0 0 0 0 0 0 0 0 0 0 8 10 21 27 66\n",
    "General sciences 51 0 0 0 0 0 0 0 0 0 0 10 13 15 14 52\n",
    "Social work 52 0 0 0 0 0 0 0 0 0 0 7 17 24 7 55\n",
    "General studies 53 0 0 0 0 0 0 0 0 0 0 2 5 7 7 21\n",
    "Other vocational 54 0 0 0 0 0 0 0 0 0 0 5 11 6 5 27\n",
    "Health 55 0 0 0 0 0 0 0 0 0 0 23 31 31 42 127\n",
    "Industrial Relations 56 0 0 0 0 0 0 0 0 0 0 1 0 0 3 4\n",
    "Child/Human/Family Development 57 0 0 0 0 0 0 0 0 0 0 11 3 7 7 28\n",
    "Food Science/Nutrition/Culinary Arts 58 0 0 0 0 0 0 0 0 0 0 3 6 9 9 27\n",
    "Environmental Science/Ecology 59 0 0 0 0 0 0 0 0 0 0 5 5 6 8 24\n",
    "Social Sciences 60 0 0 0 0 0 0 0 0 0 0 4 2 7 5 18\n",
    "Human Services/Human Resources 61 0 0 0 0 0 0 0 0 0 0 3 7 7 5 22\n",
    "Visual Arts/Graphic Design/Design and Drafting 62 0 0 0 0 0 0 0 0 0 0 3 8 9 10 30\n",
    "Fine Arts 63 0 0 0 0 0 0 0 0 0 0 4 5 5 6 20\n",
    "Humanities 64 0 0 0 0 0 0 0 0 0 0 0 2 0 1 3\n",
    "Ethnic studies 65 0 0 0 0 0 0 0 0 0 0 3 1 0 0 4\n",
    "Educational administration 66 0 0 0 0 0 0 0 0 0 0 3 4 8 9 24\n",
    "Television/Film 67 0 0 0 0 0 0 0 0 0 0 0 2 6 1 9\n",
    "Aviation/Aeronatics 68 0 0 0 0 0 0 0 0 0 0 2 1 1 3 7\n",
    "Statistics/Biostatistics 69 0 0 0 0 0 0 0 0 0 0 0 0 2 2 4\n",
    "Criminology/Criminal Justice 70 0 0 0 0 0 0 0 0 0 0 13 17 17 13 60\n",
    "Administrative Science/Public Administration 71 0 0 0 0 0 0 0 0 0 0 2 11 3 5 21\n",
    "Electronics 72 0 0 0 0 0 0 0 0 0 0 6 6 5 9 26\n",
    "Urban and Regional Planning 73 0 0 0 0 0 0 0 0 0 0 1 1 3 2 7\n",
    "Mechanics/Machine Trade 74 0 0 0 0 0 0 0 0 0 0 0 1 1 4 6\n",
    "Dance 75 0 0 0 0 0 0 0 0 0 0 1 0 1 1 3\n",
    "Gerontology 76 0 0 0 0 0 0 0 0 0 0 1 0 1 1 3\n",
    "Public Relations 77 0 0 0 0 0 0 0 0 0 0 3 1 2 1 7\n",
    "Textiles/Cloth 78 0 0 0 0 0 0 0 0 0 0 3 4 0 0 7\n",
    "Parks and Recreation 79 0 0 0 0 0 0 0 0 0 0 1 2 1 0 4\n",
    "Information Technology 80 0 0 0 0 0 0 0 0 0 0 0 5 8 11 24\n",
    "Fashion 81 0 0 0 0 0 0 0 0 0 0 0 0 3 1 4\n",
    "Counseling 82 0 0 0 0 0 0 0 0 0 0 0 0 11 9 20\n",
    "Don't know/UNCODED 98 0 0 0 0 0 0 0 0 0 0 2 3 0 0 5\n",
    "No answer 99 0 0 0 0 0 0 0 0 0 0 0 1 5 3 9\n",
    "Not applicable 0 13626 354 7542 353 5907 10334 8394 4510 2023 2044 1263 1597 1795 1435 61177'''\n",
    "\n",
    "# copy paste slight tweak from page 186\n",
    "major_dict = {int(row.split()[-16]): ' '.join(row.split()[:-16])  for row in MAJOR.split('\\n')[1:]}\n",
    "major_dict"
   ]
  },
  {
   "cell_type": "code",
   "execution_count": null,
   "id": "fd16476a",
   "metadata": {},
   "outputs": [],
   "source": [
    "raw.MAJOR1.value_counts()"
   ]
  },
  {
   "cell_type": "code",
   "execution_count": null,
   "id": "382102ad",
   "metadata": {},
   "outputs": [],
   "source": [
    "(raw\n",
    " [cols]\n",
    " .assign(\n",
    "     MAJOR1=raw.MAJOR1.fillna(99).astype('int').replace(major_dict),\n",
    "     SEX=raw.SEX#\n",
    "           \n",
    "           .astype(int)\n",
    "           .replace({1:'Male', 2:'Female'}),\n",
    "     RACE=raw.RACE.astype(int).replace({1:'White', 2:'Black', 3:'Other'}),\n",
    "     OCC=raw.OCC.fillna(9999).astype(int),\n",
    "     BORN=raw.BORN.fillna(4).astype(int).replace({1:'Yes', 2:'No', 3:'Don\\'t Know',\n",
    "                                                    4:'No answer', 5:'Not applicable'}),\n",
    "     INCOME=raw.INCOME.fillna(99).astype(int).replace({99:'No answer', **dict(enumerate(['Not applicable',\n",
    "                                                                                  0,1000,3000,4000,5000,6000,\n",
    "                                                                                  7000,8000,10000,15000,20000,25000,]))}),\n",
    "     INCOME06=raw.INCOME06.fillna(26).astype(int).replace({26:'Refused', **dict(enumerate(['Not applicable',\n",
    "                                                                                  0,1000,3000,4000,5000,6000,\n",
    "                                                                                  7000,8000,10000,12500,15000,\n",
    "                                                                                  17500,20000,22500,25000,30_000,\n",
    "                                                                                  35_000, 40_000, 50_000, 60_000,\n",
    "                                                                                 75_000, 90_000, 110_000, 130_000,\n",
    "                                                                                 150_000]))}),\n",
    "     HONEST=raw.HONEST.fillna(9).astype(int).replace({1:'Most desirable', 2:'3 most desireable',\n",
    "                                                                   3:'Not mentioned', 4:  '3 least desireable',\n",
    "                                                                   5: 'One least desireable',\n",
    "                                                                    9:'No answer'}),\n",
    "     TICKET=raw.TICKET.fillna(9).astype(int).replace({1:'Yes', 2:'No', 3:'Refused', 9: 'No answer'}),\n",
    "     )\n",
    " .astype({'YEAR':int, 'ID': 'uint16[pyarrow]'})\n",
    " .to_csv('GSS.csv')\n",
    ")"
   ]
  },
  {
   "cell_type": "code",
   "execution_count": null,
   "id": "8366b83d",
   "metadata": {},
   "outputs": [],
   "source": []
  },
  {
   "cell_type": "code",
   "execution_count": null,
   "id": "be251648",
   "metadata": {},
   "outputs": [],
   "source": []
  },
  {
   "cell_type": "markdown",
   "id": "394409a6",
   "metadata": {},
   "source": [
    "## Types\n",
    "Getting the right types will enable analysis and correctness.\n"
   ]
  },
  {
   "cell_type": "code",
   "execution_count": null,
   "id": "bc415e79",
   "metadata": {},
   "outputs": [],
   "source": [
    "%%time\n",
    "gss = pd.read_csv('GSS.csv', index_col=0, dtype_backend='pyarrow', engine='pyarrow')"
   ]
  },
  {
   "cell_type": "code",
   "execution_count": null,
   "id": "b6391a1b",
   "metadata": {
    "pycharm": {
     "name": "#%%\n"
    }
   },
   "outputs": [],
   "source": [
    "gss.dtypes"
   ]
  },
  {
   "cell_type": "code",
   "execution_count": null,
   "id": "fe39dcbf",
   "metadata": {},
   "outputs": [],
   "source": [
    "gss"
   ]
  },
  {
   "cell_type": "code",
   "execution_count": null,
   "id": "883a91c7",
   "metadata": {
    "pycharm": {
     "name": "#%%\n"
    }
   },
   "outputs": [],
   "source": [
    "gss.memory_usage(deep=True)"
   ]
  },
  {
   "cell_type": "code",
   "execution_count": null,
   "id": "6f564675",
   "metadata": {
    "pycharm": {
     "name": "#%%\n"
    }
   },
   "outputs": [],
   "source": [
    "# 36 M (pandas 1)\n",
    "# 8.6 M (Pandas 2)\n",
    "gss.memory_usage(deep=True).sum()"
   ]
  },
  {
   "cell_type": "code",
   "execution_count": null,
   "id": "f0a102d3",
   "metadata": {
    "lines_to_next_cell": 2,
    "pycharm": {
     "name": "#%%\n"
    }
   },
   "outputs": [],
   "source": []
  },
  {
   "cell_type": "markdown",
   "id": "ea3e9a77",
   "metadata": {
    "pycharm": {
     "name": "#%% md\n"
    }
   },
   "source": [
    "## Ints"
   ]
  },
  {
   "cell_type": "code",
   "execution_count": null,
   "id": "c6a0a74f",
   "metadata": {
    "pycharm": {
     "name": "#%%\n"
    }
   },
   "outputs": [],
   "source": [
    "gss.select_dtypes(int).describe()"
   ]
  },
  {
   "cell_type": "code",
   "execution_count": null,
   "id": "04eb0242",
   "metadata": {
    "pycharm": {
     "name": "#%%\n"
    }
   },
   "outputs": [],
   "source": [
    "# chaining\n",
    "(gss\n",
    " .select_dtypes(int)\n",
    " .describe()\n",
    ")"
   ]
  },
  {
   "cell_type": "code",
   "execution_count": null,
   "id": "70ce85a3",
   "metadata": {
    "pycharm": {
     "name": "#%%\n"
    }
   },
   "outputs": [],
   "source": [
    "# can comb08 be an int8?\n",
    "# Do completion on int\n",
    "np.iinfo(np.int)"
   ]
  },
  {
   "cell_type": "code",
   "execution_count": null,
   "id": "459e3d43",
   "metadata": {
    "pycharm": {
     "name": "#%%\n"
    }
   },
   "outputs": [],
   "source": [
    "np.iinfo(np.uint8)"
   ]
  },
  {
   "cell_type": "code",
   "execution_count": null,
   "id": "5fbb6683",
   "metadata": {
    "pycharm": {
     "name": "#%%\n"
    }
   },
   "outputs": [],
   "source": [
    "np.iinfo(np.uint16)"
   ]
  },
  {
   "cell_type": "code",
   "execution_count": null,
   "id": "15a94872",
   "metadata": {
    "pycharm": {
     "name": "#%%\n"
    }
   },
   "outputs": [],
   "source": [
    "# chaining\n",
    "(gss\n",
    " .astype({'YEAR': 'uint16[pyarrow]', 'ID': 'uint16[pyarrow]', 'OCC': 'uint16[pyarrow]' })\n",
    " .select_dtypes(['uint16'])\n",
    " .describe()\n",
    ")"
   ]
  },
  {
   "cell_type": "code",
   "execution_count": null,
   "id": "24a7fea9",
   "metadata": {
    "lines_to_next_cell": 2,
    "pycharm": {
     "name": "#%%\n"
    }
   },
   "outputs": [],
   "source": [
    "# chaining\n",
    "# use 'integer' so see all int-like columns\n",
    "(gss\n",
    " .astype({#'YEAR': 'uint16[pyarrow]',\n",
    "          'ID': 'uint16[pyarrow]', 'OCC': 'uint16[pyarrow]' }) \n",
    " .select_dtypes(['integer'])  # see https://numpy.org/doc/stable/reference/arrays.scalars.html\n",
    " .describe()\n",
    ")"
   ]
  },
  {
   "cell_type": "code",
   "execution_count": null,
   "id": "fb27bf58",
   "metadata": {
    "lines_to_next_cell": 2,
    "pycharm": {
     "name": "#%%\n"
    }
   },
   "outputs": [],
   "source": [
    "# Inspect memory usage\n",
    "(gss\n",
    " .astype({'YEAR': 'uint16[pyarrow]', 'ID': 'uint16[pyarrow]', 'OCC': 'uint16[pyarrow]' }) \n",
    " .memory_usage(deep=True)\n",
    " .sum()  # was 36M\n",
    ")"
   ]
  },
  {
   "cell_type": "code",
   "execution_count": null,
   "id": "b8a61fa7",
   "metadata": {
    "lines_to_next_cell": 2,
    "pycharm": {
     "name": "#%%\n"
    }
   },
   "outputs": [],
   "source": []
  },
  {
   "cell_type": "markdown",
   "id": "fdd212a2",
   "metadata": {},
   "source": [
    "## Int Exercise\n",
    "* Try converting *YEAR* to `'int8'`. What do the values look like?\n",
    "* Try converting *YEAR* to `'int8[pyarrow]'`. What do the values look like?"
   ]
  },
  {
   "cell_type": "code",
   "execution_count": null,
   "id": "370c2e84",
   "metadata": {},
   "outputs": [],
   "source": []
  },
  {
   "cell_type": "code",
   "execution_count": null,
   "id": "09cdc54a",
   "metadata": {},
   "outputs": [],
   "source": []
  },
  {
   "cell_type": "markdown",
   "id": "5df9482a",
   "metadata": {},
   "source": [
    "## Floats"
   ]
  },
  {
   "cell_type": "code",
   "execution_count": null,
   "id": "fab11648",
   "metadata": {
    "pycharm": {
     "name": "#%%\n"
    }
   },
   "outputs": [],
   "source": [
    "(gss\n",
    ".select_dtypes('float'))"
   ]
  },
  {
   "cell_type": "code",
   "execution_count": null,
   "id": "5c8490a5",
   "metadata": {
    "pycharm": {
     "name": "#%%\n"
    }
   },
   "outputs": [],
   "source": [
    "# surprise! age and hours worked looks int-like\n",
    "gss.HRS1.describe()"
   ]
  },
  {
   "cell_type": "code",
   "execution_count": null,
   "id": "6f357afd",
   "metadata": {
    "pycharm": {
     "name": "#%%\n"
    }
   },
   "outputs": [],
   "source": [
    "# opps! missing values\n",
    "gss.HRS1.value_counts(dropna=False)"
   ]
  },
  {
   "cell_type": "code",
   "execution_count": null,
   "id": "ce14eddb",
   "metadata": {
    "pycharm": {
     "name": "#%%\n"
    }
   },
   "outputs": [],
   "source": [
    "# where are they missing?\n",
    "(gss\n",
    "  .query('HRS1.isna()')\n",
    ")"
   ]
  },
  {
   "cell_type": "code",
   "execution_count": null,
   "id": "dbe482fb",
   "metadata": {
    "pycharm": {
     "name": "#%%\n"
    }
   },
   "outputs": [],
   "source": [
    "# where are they missing?\n",
    "(gss\n",
    "  .query('AGE.isna()')\n",
    ")"
   ]
  },
  {
   "cell_type": "code",
   "execution_count": null,
   "id": "36817f9c",
   "metadata": {
    "pycharm": {
     "name": "#%%\n"
    }
   },
   "outputs": [],
   "source": [
    "# where are they missing?\n",
    "# It turns out that ID is not consistent across years\n",
    "(gss\n",
    "  .query('ID == 229')\n",
    ")"
   ]
  },
  {
   "cell_type": "code",
   "execution_count": null,
   "id": "75b3c785",
   "metadata": {
    "lines_to_next_cell": 2,
    "pycharm": {
     "name": "#%%\n"
    }
   },
   "outputs": [],
   "source": [
    "# Convert to integers\n",
    "(gss\n",
    "  .astype({'YEAR': 'uint16[pyarrow]', 'ID': 'uint16[pyarrow]', 'OCC': 'uint16[pyarrow]',\n",
    "         'HRS1': 'uint8[pyarrow]', 'AGE': 'uint8[pyarrow]'})\n",
    ")"
   ]
  },
  {
   "cell_type": "code",
   "execution_count": null,
   "id": "8e5bc829",
   "metadata": {
    "lines_to_next_cell": 2,
    "pycharm": {
     "name": "#%%\n"
    }
   },
   "outputs": [],
   "source": [
    "(gss\n",
    "  .astype({'YEAR': 'uint16[pyarrow]', 'ID': 'uint16[pyarrow]', 'OCC': 'uint16[pyarrow]',\n",
    "         'HRS1': 'uint8[pyarrow]', 'AGE': 'uint8[pyarrow]'})\n",
    " .memory_usage(deep=True)\n",
    " .sum()  # was 36M  \n",
    ")"
   ]
  },
  {
   "cell_type": "code",
   "execution_count": null,
   "id": "7642b746",
   "metadata": {
    "lines_to_next_cell": 2,
    "pycharm": {
     "name": "#%%\n"
    }
   },
   "outputs": [],
   "source": []
  },
  {
   "cell_type": "markdown",
   "id": "5ca5890d",
   "metadata": {},
   "source": [
    "## Float Exercise\n",
    "\n",
    "* What is the mean of the numeric columns?\n",
    "* How many values are missing in the numeric columns?"
   ]
  },
  {
   "cell_type": "code",
   "execution_count": null,
   "id": "fab90ba5",
   "metadata": {
    "lines_to_next_cell": 2
   },
   "outputs": [],
   "source": []
  },
  {
   "cell_type": "markdown",
   "id": "a083aa86",
   "metadata": {},
   "source": [
    "## Objects"
   ]
  },
  {
   "cell_type": "code",
   "execution_count": null,
   "id": "490050a8",
   "metadata": {
    "pycharm": {
     "name": "#%%\n"
    }
   },
   "outputs": [],
   "source": [
    "# pandas 1.x\n",
    "(gss\n",
    " .select_dtypes(object)\n",
    ")"
   ]
  },
  {
   "cell_type": "code",
   "execution_count": null,
   "id": "0363a462",
   "metadata": {
    "pycharm": {
     "name": "#%%\n"
    }
   },
   "outputs": [],
   "source": [
    "# pandas 2\n",
    "(gss\n",
    " .select_dtypes('string') # str doesn't work\n",
    ")"
   ]
  },
  {
   "cell_type": "code",
   "execution_count": null,
   "id": "a5f79d7f",
   "metadata": {
    "pycharm": {
     "name": "#%%\n"
    }
   },
   "outputs": [],
   "source": [
    "# My goto method - .value_counts\n",
    "# looks categorical\n",
    "(gss.MAJOR1.value_counts(dropna=False))"
   ]
  },
  {
   "cell_type": "code",
   "execution_count": null,
   "id": "72004253",
   "metadata": {
    "lines_to_next_cell": 2,
    "pycharm": {
     "name": "#%%\n"
    }
   },
   "outputs": [],
   "source": [
    "(gss\n",
    "  .astype({'YEAR': 'uint16[pyarrow]', 'ID': 'uint16[pyarrow]', 'OCC': 'uint16[pyarrow]',\n",
    "         'HRS1': 'uint8[pyarrow]', 'AGE': 'uint8[pyarrow]',\n",
    "         'MAJOR1': 'category'})\n",
    " .memory_usage(deep=True)\n",
    " .sum()  # was 36M  \n",
    ")"
   ]
  },
  {
   "cell_type": "code",
   "execution_count": null,
   "id": "1b38e847",
   "metadata": {},
   "outputs": [],
   "source": [
    "(gss\n",
    " .select_dtypes(object)\n",
    " .columns\n",
    ")"
   ]
  },
  {
   "cell_type": "code",
   "execution_count": null,
   "id": "c4529135",
   "metadata": {
    "lines_to_next_cell": 0,
    "pycharm": {
     "name": "#%%\n"
    }
   },
   "outputs": [],
   "source": [
    "# wow!\n",
    "(gss\n",
    "  .astype({'YEAR': 'uint16[pyarrow]', 'ID': 'uint16[pyarrow]', 'OCC': 'uint16[pyarrow]',\n",
    "         'HRS1': 'uint8[pyarrow]', 'AGE': 'uint8[pyarrow]',\n",
    "         'MAJOR1': 'category',\n",
    "          **{col: 'category' for col in ['SEX', 'RACE', 'BORN', \n",
    "                'INCOME', 'INCOME06', 'HONEST','TICKET']}})           \n",
    " .memory_usage(deep=True)\n",
    " .sum()  # was 36M  \n",
    ")"
   ]
  },
  {
   "cell_type": "code",
   "execution_count": null,
   "id": "6df39625",
   "metadata": {},
   "outputs": [],
   "source": []
  },
  {
   "cell_type": "code",
   "execution_count": null,
   "id": "2bd53a07",
   "metadata": {
    "lines_to_next_cell": 2
   },
   "outputs": [],
   "source": []
  },
  {
   "cell_type": "markdown",
   "id": "5c96b300",
   "metadata": {},
   "source": [
    "## String and Category Exercises\n",
    "* There is a `.cat` attribute on the category columns. What can you do with this attribute? (Use `dir` or tab completion to inspect).\n",
    "* Categories can be ordered. How do you order *INCOME*?\n",
    "* There is an `.str` attribute on the string and category columns. What can you do with this attribute? (Use `dir` or tab completion to inspect).\n",
    "* Uppercase the values in the *TICKET* column."
   ]
  },
  {
   "cell_type": "code",
   "execution_count": null,
   "id": "91a86c01",
   "metadata": {},
   "outputs": [],
   "source": []
  },
  {
   "cell_type": "code",
   "execution_count": null,
   "id": "aeab919f",
   "metadata": {},
   "outputs": [],
   "source": [
    " "
   ]
  },
  {
   "cell_type": "code",
   "execution_count": null,
   "id": "2af1bf07",
   "metadata": {},
   "outputs": [],
   "source": []
  },
  {
   "cell_type": "code",
   "execution_count": null,
   "id": "0d0e9df0",
   "metadata": {},
   "outputs": [],
   "source": []
  },
  {
   "cell_type": "code",
   "execution_count": null,
   "id": "41672375",
   "metadata": {},
   "outputs": [],
   "source": []
  },
  {
   "cell_type": "code",
   "execution_count": null,
   "id": "d51ca7d3",
   "metadata": {},
   "outputs": [],
   "source": []
  },
  {
   "cell_type": "code",
   "execution_count": null,
   "id": "42dcf06d",
   "metadata": {},
   "outputs": [],
   "source": []
  },
  {
   "cell_type": "code",
   "execution_count": null,
   "id": "d13689ff",
   "metadata": {},
   "outputs": [],
   "source": []
  },
  {
   "cell_type": "code",
   "execution_count": null,
   "id": "28320f9c",
   "metadata": {},
   "outputs": [],
   "source": []
  },
  {
   "cell_type": "code",
   "execution_count": null,
   "id": "7e74d51d",
   "metadata": {},
   "outputs": [],
   "source": []
  },
  {
   "cell_type": "code",
   "execution_count": null,
   "id": "5cc2eedf",
   "metadata": {},
   "outputs": [],
   "source": []
  },
  {
   "cell_type": "code",
   "execution_count": null,
   "id": "8e0408ab",
   "metadata": {},
   "outputs": [],
   "source": []
  },
  {
   "cell_type": "markdown",
   "id": "f0d47559",
   "metadata": {},
   "source": [
    "## Make a Function"
   ]
  },
  {
   "cell_type": "code",
   "execution_count": null,
   "id": "48b7fd47",
   "metadata": {
    "lines_to_next_cell": 2,
    "pycharm": {
     "name": "#%%\n"
    }
   },
   "outputs": [],
   "source": [
    "# a glorious function\n",
    "# add ordered categories to this\n",
    "def tweak_gss(gss):\n",
    "    return (gss\n",
    "      .astype({'YEAR': 'uint16[pyarrow]', 'ID': 'uint16[pyarrow]', 'OCC': 'uint16[pyarrow]',\n",
    "             'HRS1': 'uint8[pyarrow]', 'AGE': 'uint8[pyarrow]',\n",
    "             'MAJOR1': 'category',\n",
    "              **{col: 'category' for col in ['SEX', 'RACE', 'BORN', \n",
    "                    'INCOME', 'INCOME06', 'HONEST','TICKET']}})\n",
    "               )\n",
    "\n",
    "tweak_gss(gss)"
   ]
  },
  {
   "cell_type": "markdown",
   "id": "3a3cc33c",
   "metadata": {},
   "source": [
    "## Function Exercise\n",
    "* Rearrange your notebook. Put the imports, code to load raw data, and tweak function at the top of the notebook. Restart the kernel and validate that your code works."
   ]
  },
  {
   "cell_type": "code",
   "execution_count": null,
   "id": "5fabd502",
   "metadata": {},
   "outputs": [],
   "source": []
  },
  {
   "cell_type": "code",
   "execution_count": null,
   "id": "01e1d15d",
   "metadata": {},
   "outputs": [],
   "source": []
  },
  {
   "cell_type": "markdown",
   "id": "94863cf2",
   "metadata": {
    "lines_to_next_cell": 2
   },
   "source": [
    "## Fix Column Names"
   ]
  },
  {
   "cell_type": "code",
   "execution_count": null,
   "id": "489290dd",
   "metadata": {
    "lines_to_next_cell": 0,
    "pycharm": {
     "name": "#%%\n"
    }
   },
   "outputs": [],
   "source": [
    "# a glorious function\n",
    "def tweak_gss(gss):\n",
    "    return (gss\n",
    "      .astype({'YEAR': 'uint16[pyarrow]', 'ID': 'uint16[pyarrow]', 'OCC': 'uint16[pyarrow]',\n",
    "             'HRS1': 'uint8[pyarrow]', 'AGE': 'uint8[pyarrow]',\n",
    "             'MAJOR1': 'category',\n",
    "              **{col: 'category' for col in ['SEX', 'RACE', 'BORN', \n",
    "                    'INCOME', 'INCOME06', 'HONEST','TICKET']}})\n",
    "     .rename(columns={'YEAR': 'year', 'ID': 'year_id', 'AGE':'age', \n",
    "          'HRS1': 'hours_worked', 'OCC': 'occupation', \n",
    "          'MAJOR1': 'college_major', 'SEX':'sex', \n",
    "          'RACE':'race', 'BORN':'born_in_US',\n",
    "          'INCOME':'income_1970', 'INCOME06': 'income_2006',\n",
    "          'HONEST':'honesty_rank',\n",
    "          'TICKET':'traffic_ticket'})\n",
    "    )\n",
    "\n",
    "tweak_gss(gss)"
   ]
  },
  {
   "cell_type": "code",
   "execution_count": null,
   "id": "0f953444",
   "metadata": {
    "lines_to_next_cell": 2,
    "pycharm": {
     "name": "#%%\n"
    }
   },
   "outputs": [],
   "source": []
  },
  {
   "cell_type": "code",
   "execution_count": null,
   "id": "70e7086c",
   "metadata": {
    "lines_to_next_cell": 2,
    "pycharm": {
     "name": "#%%\n"
    }
   },
   "outputs": [],
   "source": []
  },
  {
   "cell_type": "markdown",
   "id": "dd6ea0f5",
   "metadata": {
    "pycharm": {
     "name": "#%% md\n"
    }
   },
   "source": [
    "## Chain\n",
    "\n",
    "Chaining is also called \"flow\" programming. Rather than making intermediate variables, just leverage the fact that most operations return a new object and work on that.\n",
    "\n",
    "The chain should read like a recipe of ordered steps.\n",
    "\n",
    "(BTW, this is actually what we did above.)\n",
    "\n",
    "<div class='alert alert-warning'>\n",
    "    Hint: Leverage <tt>.pipe</tt> if you can't find a way to chain 😉🐼💪\n",
    "</div>\n",
    "    \n",
    "\n",
    "\n"
   ]
  },
  {
   "cell_type": "code",
   "execution_count": null,
   "id": "00e42106",
   "metadata": {
    "lines_to_next_cell": 0,
    "pycharm": {
     "name": "#%%\n"
    }
   },
   "outputs": [],
   "source": [
    "# a glorious function\n",
    "def tweak_gss(gss):\n",
    "    return (gss\n",
    "      .astype({'YEAR': 'uint16[pyarrow]', 'ID': 'uint16[pyarrow]', 'OCC': 'uint16[pyarrow]',\n",
    "             'HRS1': 'uint8[pyarrow]', 'AGE': 'uint8[pyarrow]',\n",
    "             'MAJOR1': 'category',\n",
    "              **{col: 'category' for col in ['SEX', 'RACE', 'BORN', \n",
    "                    'INCOME', 'INCOME06', 'HONEST','TICKET']}})\n",
    "     .rename(columns={'YEAR': 'year', 'ID': 'year_id', 'AGE':'age', \n",
    "          'HRS1': 'hours_worked', 'OCC': 'occupation', \n",
    "          'MAJOR1': 'college_major', 'SEX':'sex', \n",
    "          'RACE':'race', 'BORN':'born_in_US',\n",
    "          'INCOME':'income_1970', 'INCOME06': 'income_2006',\n",
    "          'HONEST':'honesty_rank',\n",
    "          'TICKET':'traffic_ticket'})\n",
    "    )\n",
    "\n",
    "tweak_gss(gss)"
   ]
  },
  {
   "cell_type": "code",
   "execution_count": null,
   "id": "9575a725",
   "metadata": {
    "pycharm": {
     "name": "#%%\n"
    }
   },
   "outputs": [],
   "source": [
    "# compare chain to this mess\n",
    "gss2 = gss.copy()\n",
    "year = gss.YEAR\n",
    "year_int = year.astype('uint16')\n",
    "gss2['year'] = year_int\n",
    "id = gss.ID\n",
    "id_int = id.astype('uint16')\n",
    "gss2['year_id'] = id_int\n",
    "occ = gss.OCC\n",
    "occ_int = occ.astype('uint16')\n",
    "gss2['occupation'] = occ_int\n",
    "\n",
    "# more of this"
   ]
  },
  {
   "cell_type": "code",
   "execution_count": null,
   "id": "adf6c5d3",
   "metadata": {
    "lines_to_next_cell": 0,
    "pycharm": {
     "name": "#%%\n"
    }
   },
   "outputs": [],
   "source": [
    "# easy to debug\n",
    "#  - assign to var (df3)\n",
    "#  - comment out\n",
    "#  - pipe to display\n",
    "\n",
    "\n",
    "from IPython.display import display\n",
    "\n",
    "def get_var(df, var_name):\n",
    "    globals()[var_name] = df\n",
    "    return df\n",
    "\n",
    "def tweak_gss(gss):\n",
    "    return (gss\n",
    "      .pipe(get_var, 'df3')   \n",
    "     .pipe(lambda df: print(df.shape) or df)                \n",
    "      .astype({'YEAR': 'uint16[pyarrow]', 'ID': 'uint16[pyarrow]', 'OCC': 'uint16[pyarrow]',\n",
    "             'HRS1': 'uint8[pyarrow]', 'AGE': 'uint8[pyarrow]',\n",
    "             'MAJOR1': 'category',\n",
    "              **{col: 'category' for col in ['SEX', 'RACE', 'BORN', \n",
    "                    'INCOME', 'INCOME06', 'HONEST','TICKET']}})\n",
    "     .pipe(lambda df: print(df.shape) or df)                            \n",
    "     .rename(columns={'YEAR': 'year', 'ID': 'year_id', 'AGE':'age', \n",
    "          'HRS1': 'hours_worked', 'OCC': 'occupation', \n",
    "          'MAJOR1': 'college_major', 'SEX':'sex', \n",
    "          'RACE':'race', 'BORN':'born_in_US',\n",
    "          'INCOME':'income_1970', 'INCOME06': 'income_2006',\n",
    "          'HONEST':'honesty_rank',\n",
    "          'TICKET':'traffic_ticket'})\n",
    "     .pipe(lambda df: print(df.shape) or df)                            \n",
    "    )\n",
    "\n",
    "tweak_gss(gss)"
   ]
  },
  {
   "cell_type": "code",
   "execution_count": null,
   "id": "eecbef14",
   "metadata": {
    "pycharm": {
     "name": "#%%\n"
    }
   },
   "outputs": [],
   "source": [
    "# inspect intermediate data frame\n",
    "df3"
   ]
  },
  {
   "cell_type": "markdown",
   "id": "22b9adc5",
   "metadata": {
    "pycharm": {
     "name": "#%%\n"
    }
   },
   "source": [
    "## Chain Exercise\n",
    "* Write a function that acccepts a dataframe and an index value. It should print any rows that match the index and return the dataframe that was passed in.\n",
    "* Use the function with pipe after each step of the chain. Show the rows for index 2 and 64,813.\n",
    "\n",
    "\n",
    "\n",
    "\n",
    "\n",
    "\n",
    "\n",
    "\n",
    "## Don't Mutate\n",
    "\n",
    "> \"you are missing the point, inplace rarely actually does something inplace, you are thinking that you are saving memory but you are not.\"\n",
    ">\n",
    "> **jreback** - Pandas core dev\n",
    "\n",
    "\n",
    "\n",
    "https://github.com/pandas-dev/pandas/issues/16529#issuecomment-676518136\n",
    "\n",
    "* In general, no performance benefits\n",
    "* Prohibits chaining\n",
    "* ``SettingWithCopyWarning`` fun\n"
   ]
  },
  {
   "cell_type": "code",
   "execution_count": null,
   "id": "3ddb47c9",
   "metadata": {
    "lines_to_next_cell": 2,
    "pycharm": {
     "name": "#%%\n"
    }
   },
   "outputs": [],
   "source": []
  },
  {
   "cell_type": "code",
   "execution_count": null,
   "id": "46dd644b",
   "metadata": {
    "lines_to_next_cell": 2,
    "pycharm": {
     "name": "#%%\n"
    }
   },
   "outputs": [],
   "source": []
  },
  {
   "cell_type": "markdown",
   "id": "fbb24710",
   "metadata": {
    "pycharm": {
     "name": "#%% md\n"
    }
   },
   "source": [
    "## Don't Apply (if you can)"
   ]
  },
  {
   "cell_type": "code",
   "execution_count": null,
   "id": "b62e0ab8",
   "metadata": {
    "lines_to_next_cell": 0,
    "pycharm": {
     "name": "#%%\n"
    }
   },
   "outputs": [],
   "source": [
    "# a glorious function\n",
    "def tweak_gss(gss):\n",
    "    return (gss\n",
    "      .astype({'YEAR': 'uint16[pyarrow]', 'ID': 'uint16[pyarrow]', 'OCC': 'uint16[pyarrow]',\n",
    "             'HRS1': 'uint8[pyarrow]', 'AGE': 'uint8[pyarrow]',\n",
    "             'MAJOR1': 'category',\n",
    "              **{col: 'category' for col in ['SEX', 'RACE', 'BORN', \n",
    "                    'INCOME', 'INCOME06', 'HONEST','TICKET']}})\n",
    "     .rename(columns={'YEAR': 'year', 'ID': 'year_id', 'AGE':'age', \n",
    "          'HRS1': 'hours_worked', 'OCC': 'occupation', \n",
    "          'MAJOR1': 'college_major', 'SEX':'sex', \n",
    "          'RACE':'race', 'BORN':'born_in_US',\n",
    "          'INCOME':'income_1970', 'INCOME06': 'income_2006',\n",
    "          'HONEST':'honesty_rank',\n",
    "          'TICKET':'traffic_ticket'})\n",
    "    )\n",
    "\n",
    "gss2 = tweak_gss(gss)"
   ]
  },
  {
   "cell_type": "code",
   "execution_count": null,
   "id": "2729d99a",
   "metadata": {
    "pycharm": {
     "name": "#%%\n"
    }
   },
   "outputs": [],
   "source": [
    "# convert age to months\n",
    "def to_months(val):\n",
    "    return val * 12\n",
    "\n",
    "gss2.age.apply(to_months)"
   ]
  },
  {
   "cell_type": "code",
   "execution_count": null,
   "id": "d7215eb9",
   "metadata": {
    "pycharm": {
     "name": "#%%\n"
    }
   },
   "outputs": [],
   "source": [
    "# this gives the sames results\n",
    "gss2.age * 12"
   ]
  },
  {
   "cell_type": "code",
   "execution_count": null,
   "id": "cc267044",
   "metadata": {
    "pycharm": {
     "name": "#%%\n"
    }
   },
   "outputs": [],
   "source": [
    "%%timeit\n",
    "gss2.age.apply(to_months)"
   ]
  },
  {
   "cell_type": "code",
   "execution_count": null,
   "id": "832f1b22",
   "metadata": {
    "pycharm": {
     "name": "#%%\n"
    }
   },
   "outputs": [],
   "source": [
    "%%timeit\n",
    "gss2.age * 12"
   ]
  },
  {
   "cell_type": "code",
   "execution_count": null,
   "id": "98db1eff",
   "metadata": {
    "pycharm": {
     "name": "#%%\n"
    }
   },
   "outputs": [],
   "source": [
    "# ~42x slower!\n",
    "4_590 / 110"
   ]
  },
  {
   "cell_type": "code",
   "execution_count": null,
   "id": "42dcedc4",
   "metadata": {},
   "outputs": [],
   "source": [
    "gss.MAJOR1.value_counts()[:20]"
   ]
  },
  {
   "cell_type": "code",
   "execution_count": null,
   "id": "2d844116",
   "metadata": {
    "pycharm": {
     "name": "#%%\n"
    }
   },
   "outputs": [],
   "source": [
    "def is_science(val):\n",
    "    return val in {'Engineering', 'Computer science', 'Biology'}"
   ]
  },
  {
   "cell_type": "code",
   "execution_count": null,
   "id": "9ca1aeed",
   "metadata": {
    "pycharm": {
     "name": "#%%\n"
    }
   },
   "outputs": [],
   "source": [
    "%%timeit\n",
    "# string\n",
    "gss.MAJOR1.apply(is_science)"
   ]
  },
  {
   "cell_type": "code",
   "execution_count": null,
   "id": "3fc9c8c8",
   "metadata": {
    "pycharm": {
     "name": "#%%\n"
    }
   },
   "outputs": [],
   "source": [
    "%%timeit\n",
    "gss.MAJOR1.isin({'Engineering', 'Computer science', 'Biology'})"
   ]
  },
  {
   "cell_type": "code",
   "execution_count": null,
   "id": "a3b50066",
   "metadata": {
    "lines_to_next_cell": 0,
    "pycharm": {
     "name": "#%%\n"
    }
   },
   "outputs": [],
   "source": [
    "%%timeit\n",
    "# categorical\n",
    "gss2.college_major.isin({'Engineering', 'Computer science', 'Biology'})"
   ]
  },
  {
   "cell_type": "code",
   "execution_count": null,
   "id": "5a77d117",
   "metadata": {
    "lines_to_next_cell": 2
   },
   "outputs": [],
   "source": []
  },
  {
   "cell_type": "markdown",
   "id": "0d1cf16c",
   "metadata": {},
   "source": [
    "## Apply Exercise\n",
    "* Make a new column called *minutes_worked* derived the *hours_worked* column.\n",
    "* Make a new column called *income_ratio*.\n",
    "  * Convert the income columns to numbers (replace `'No answer'` and `'Refused'` with `np.nan`).\n",
    "  * Fill in the missing values with the median\n",
    "  * Divide the 2006 value by 1970 value"
   ]
  },
  {
   "cell_type": "code",
   "execution_count": null,
   "id": "d5d31937",
   "metadata": {},
   "outputs": [],
   "source": []
  },
  {
   "cell_type": "code",
   "execution_count": null,
   "id": "3130309f",
   "metadata": {},
   "outputs": [],
   "source": []
  },
  {
   "cell_type": "code",
   "execution_count": null,
   "id": "0b1479f4",
   "metadata": {},
   "outputs": [],
   "source": []
  },
  {
   "cell_type": "code",
   "execution_count": null,
   "id": "83b7af00",
   "metadata": {},
   "outputs": [],
   "source": []
  },
  {
   "cell_type": "code",
   "execution_count": null,
   "id": "bb139d47",
   "metadata": {},
   "outputs": [],
   "source": []
  },
  {
   "cell_type": "code",
   "execution_count": null,
   "id": "11c08537",
   "metadata": {},
   "outputs": [],
   "source": []
  },
  {
   "cell_type": "code",
   "execution_count": null,
   "id": "fdbe4d9d",
   "metadata": {},
   "outputs": [],
   "source": []
  },
  {
   "cell_type": "code",
   "execution_count": null,
   "id": "2a7f0a1b",
   "metadata": {},
   "outputs": [],
   "source": []
  },
  {
   "cell_type": "code",
   "execution_count": null,
   "id": "150dcad2",
   "metadata": {},
   "outputs": [],
   "source": []
  },
  {
   "cell_type": "code",
   "execution_count": null,
   "id": "9b7584f0",
   "metadata": {},
   "outputs": [],
   "source": []
  },
  {
   "cell_type": "code",
   "execution_count": null,
   "id": "ef44a54e",
   "metadata": {},
   "outputs": [],
   "source": []
  },
  {
   "cell_type": "code",
   "execution_count": null,
   "id": "733dd2a5",
   "metadata": {},
   "outputs": [],
   "source": []
  },
  {
   "cell_type": "code",
   "execution_count": null,
   "id": "d3ffd870",
   "metadata": {},
   "outputs": [],
   "source": []
  },
  {
   "cell_type": "code",
   "execution_count": null,
   "id": "68d8b634",
   "metadata": {},
   "outputs": [],
   "source": []
  },
  {
   "cell_type": "code",
   "execution_count": null,
   "id": "cae071cd",
   "metadata": {},
   "outputs": [],
   "source": []
  },
  {
   "cell_type": "code",
   "execution_count": null,
   "id": "f8291cf2",
   "metadata": {},
   "outputs": [],
   "source": []
  },
  {
   "cell_type": "code",
   "execution_count": null,
   "id": "95246f3c",
   "metadata": {},
   "outputs": [],
   "source": []
  },
  {
   "cell_type": "code",
   "execution_count": null,
   "id": "b69650d6",
   "metadata": {},
   "outputs": [],
   "source": []
  },
  {
   "cell_type": "code",
   "execution_count": null,
   "id": "9eef0415",
   "metadata": {},
   "outputs": [],
   "source": []
  },
  {
   "cell_type": "code",
   "execution_count": null,
   "id": "5b6b9cea",
   "metadata": {},
   "outputs": [],
   "source": []
  },
  {
   "cell_type": "code",
   "execution_count": null,
   "id": "614f9720",
   "metadata": {},
   "outputs": [],
   "source": []
  },
  {
   "cell_type": "code",
   "execution_count": null,
   "id": "36ad6d8a",
   "metadata": {},
   "outputs": [],
   "source": []
  },
  {
   "cell_type": "code",
   "execution_count": null,
   "id": "51c1ea57",
   "metadata": {},
   "outputs": [],
   "source": []
  },
  {
   "cell_type": "code",
   "execution_count": null,
   "id": "82f92026",
   "metadata": {},
   "outputs": [],
   "source": []
  },
  {
   "cell_type": "code",
   "execution_count": null,
   "id": "ddb7c9f1",
   "metadata": {},
   "outputs": [],
   "source": []
  },
  {
   "cell_type": "code",
   "execution_count": null,
   "id": "b36c49df",
   "metadata": {},
   "outputs": [],
   "source": []
  },
  {
   "cell_type": "code",
   "execution_count": null,
   "id": "97c684e1",
   "metadata": {
    "lines_to_next_cell": 2
   },
   "outputs": [],
   "source": []
  },
  {
   "cell_type": "markdown",
   "id": "3267d042",
   "metadata": {},
   "source": [
    "## Master Aggregation\n",
    "\n",
    "Let's compare age by sex by year...🤔"
   ]
  },
  {
   "cell_type": "code",
   "execution_count": null,
   "id": "9c1354bc",
   "metadata": {
    "pycharm": {
     "name": "#%%\n"
    }
   },
   "outputs": [],
   "source": [
    "(gss2\n",
    "   .groupby('year')\n",
    "   .mean()\n",
    ")"
   ]
  },
  {
   "cell_type": "code",
   "execution_count": null,
   "id": "142093b3",
   "metadata": {
    "pycharm": {
     "name": "#%%\n"
    }
   },
   "outputs": [],
   "source": [
    "(gss2\n",
    "   .groupby('year')\n",
    "   .mean(numeric_only=True)\n",
    ")"
   ]
  },
  {
   "cell_type": "code",
   "execution_count": null,
   "id": "360706dd",
   "metadata": {
    "pycharm": {
     "name": "#%%\n"
    }
   },
   "outputs": [],
   "source": [
    "(gss2\n",
    "   .groupby('year')\n",
    "   [['age', 'hours_worked']]\n",
    "   .mean()\n",
    ")"
   ]
  },
  {
   "cell_type": "code",
   "execution_count": null,
   "id": "3c554355",
   "metadata": {
    "pycharm": {
     "name": "#%%\n"
    }
   },
   "outputs": [],
   "source": [
    "import matplotlib.pyplot as plt\n",
    "import seaborn as sns\n",
    "#plt.style.use('pandas1book') \n",
    "sns.set_context('talk')\n",
    "plt.plot(range(10))"
   ]
  },
  {
   "cell_type": "code",
   "execution_count": null,
   "id": "c052c593",
   "metadata": {
    "pycharm": {
     "name": "#%%\n"
    }
   },
   "outputs": [],
   "source": [
    "(gss2\n",
    "   .groupby('year')\n",
    "   [['age', 'hours_worked']]\n",
    "   .median()\n",
    "   .plot()\n",
    ")"
   ]
  },
  {
   "cell_type": "code",
   "execution_count": null,
   "id": "50fabf0e",
   "metadata": {
    "pycharm": {
     "name": "#%%\n"
    }
   },
   "outputs": [],
   "source": [
    "(gss2\n",
    "   .groupby('year')\n",
    "   [['age', 'hours_worked']]\n",
    "   #.mean()\n",
    "   #.median()\n",
    "   #.std()\n",
    "   .max()\n",
    "   .plot()\n",
    ")"
   ]
  },
  {
   "cell_type": "code",
   "execution_count": null,
   "id": "21434b7c",
   "metadata": {
    "lines_to_next_cell": 2,
    "pycharm": {
     "name": "#%%\n"
    }
   },
   "outputs": [],
   "source": [
    "# add sex\n",
    "(gss2\n",
    "   .groupby(['year', 'sex'])\n",
    "   [['age', 'hours_worked']]\n",
    "   .mean()\n",
    "   #.median()\n",
    "   #.std()\n",
    "   #.max()\n",
    "   #.plot()\n",
    ")"
   ]
  },
  {
   "cell_type": "code",
   "execution_count": null,
   "id": "6a3c6ff9",
   "metadata": {
    "lines_to_next_cell": 2,
    "pycharm": {
     "name": "#%%\n"
    }
   },
   "outputs": [],
   "source": [
    "# add sex\n",
    "(gss2\n",
    "   .groupby(['year', 'sex'])\n",
    "   [['age', 'hours_worked']]\n",
    "   .mean()\n",
    "   #.median()\n",
    "   #.std()\n",
    "   #.max()\n",
    "   .plot()\n",
    ")"
   ]
  },
  {
   "cell_type": "code",
   "execution_count": null,
   "id": "e9340d84",
   "metadata": {
    "lines_to_next_cell": 2,
    "pycharm": {
     "name": "#%%\n"
    }
   },
   "outputs": [],
   "source": [
    "# unstack\n",
    "(gss2\n",
    "   .groupby(['year', 'sex'])\n",
    "   [['age', 'hours_worked']]\n",
    "   .mean()\n",
    "   #.median()\n",
    "   #.std()\n",
    "   #.max()\n",
    "   .unstack() \n",
    "   .plot()\n",
    ")"
   ]
  },
  {
   "cell_type": "code",
   "execution_count": null,
   "id": "1b079aef",
   "metadata": {
    "lines_to_next_cell": 2,
    "pycharm": {
     "name": "#%%\n"
    }
   },
   "outputs": [],
   "source": [
    "(gss2\n",
    "   .groupby(['year', 'sex'])\n",
    "   [['age', 'hours_worked']]\n",
    "   .mean()\n",
    "   .unstack()\n",
    "   .age\n",
    ")"
   ]
  },
  {
   "cell_type": "code",
   "execution_count": null,
   "id": "1be1ec7d",
   "metadata": {
    "lines_to_next_cell": 2,
    "pycharm": {
     "name": "#%%\n"
    }
   },
   "outputs": [],
   "source": [
    "(gss2\n",
    "   .groupby(['year', 'sex'])\n",
    "   [['age', 'hours_worked']]\n",
    "   .mean()\n",
    "   .unstack()\n",
    "   .age\n",
    "   .plot()\n",
    "   .legend(bbox_to_anchor=(1,1))\n",
    ")"
   ]
  },
  {
   "cell_type": "code",
   "execution_count": null,
   "id": "3f6c2888",
   "metadata": {
    "pycharm": {
     "name": "#%%\n"
    }
   },
   "outputs": [],
   "source": [
    "# Let's try looking at hours worked\n",
    "(gss2\n",
    "   .groupby(['year', 'sex'])\n",
    "   [['age', 'hours_worked']]\n",
    "   .mean()\n",
    "   .unstack()\n",
    "   .hours_worked\n",
    "   .plot()\n",
    "   .legend(bbox_to_anchor=(1,1))\n",
    ")"
   ]
  },
  {
   "cell_type": "code",
   "execution_count": null,
   "id": "79ae0f43",
   "metadata": {
    "lines_to_next_cell": 2,
    "pycharm": {
     "name": "#%%\n"
    }
   },
   "outputs": [],
   "source": [
    "# Multiple aggregates\n",
    "def second(group):\n",
    "    return group.iloc[1]\n",
    "(gss2\n",
    "   .groupby(['year', 'sex'])\n",
    "   [['age', 'hours_worked']]\n",
    "  .agg(['min', 'max', 'mean', second])\n",
    "   \n",
    ")"
   ]
  },
  {
   "cell_type": "code",
   "execution_count": null,
   "id": "b35de234",
   "metadata": {
    "lines_to_next_cell": 2,
    "pycharm": {
     "name": "#%%\n"
    }
   },
   "outputs": [],
   "source": []
  },
  {
   "cell_type": "markdown",
   "id": "12d0ae8e",
   "metadata": {},
   "source": [
    "## Aggregation Exercise\n",
    "* Which occupation has the highest median hours worked?\n",
    "* Which occupation has the lowest age?\n",
    "* What is the breakdown of respondents by race for each year?\n",
    "* Convert the previous to a percentage.\n",
    "* How many unique occupations are there for each year?\n",
    "* What is the most popular college_major for each year?\n",
    "* What is the second most popular college_major for each year?"
   ]
  },
  {
   "cell_type": "code",
   "execution_count": null,
   "id": "b786c770",
   "metadata": {},
   "outputs": [],
   "source": []
  },
  {
   "cell_type": "code",
   "execution_count": null,
   "id": "9163d6da",
   "metadata": {},
   "outputs": [],
   "source": []
  },
  {
   "cell_type": "code",
   "execution_count": null,
   "id": "cd21d9ff",
   "metadata": {},
   "outputs": [],
   "source": []
  },
  {
   "cell_type": "code",
   "execution_count": null,
   "id": "92d8ced6",
   "metadata": {},
   "outputs": [],
   "source": []
  },
  {
   "cell_type": "code",
   "execution_count": null,
   "id": "d72c54ff",
   "metadata": {},
   "outputs": [],
   "source": []
  },
  {
   "cell_type": "code",
   "execution_count": null,
   "id": "f34a0907",
   "metadata": {},
   "outputs": [],
   "source": []
  },
  {
   "cell_type": "code",
   "execution_count": null,
   "id": "cd35850d",
   "metadata": {},
   "outputs": [],
   "source": []
  },
  {
   "cell_type": "code",
   "execution_count": null,
   "id": "d448387c",
   "metadata": {},
   "outputs": [],
   "source": []
  },
  {
   "cell_type": "code",
   "execution_count": null,
   "id": "cc33c024",
   "metadata": {},
   "outputs": [],
   "source": []
  },
  {
   "cell_type": "code",
   "execution_count": null,
   "id": "94e6c4f8",
   "metadata": {},
   "outputs": [],
   "source": []
  },
  {
   "cell_type": "code",
   "execution_count": null,
   "id": "6336616d",
   "metadata": {},
   "outputs": [],
   "source": []
  },
  {
   "cell_type": "code",
   "execution_count": null,
   "id": "e893c1db",
   "metadata": {},
   "outputs": [],
   "source": []
  },
  {
   "cell_type": "code",
   "execution_count": null,
   "id": "2bf69066",
   "metadata": {},
   "outputs": [],
   "source": []
  },
  {
   "cell_type": "code",
   "execution_count": null,
   "id": "18825c08",
   "metadata": {},
   "outputs": [],
   "source": []
  },
  {
   "cell_type": "code",
   "execution_count": null,
   "id": "0fb2ac56",
   "metadata": {},
   "outputs": [],
   "source": []
  },
  {
   "cell_type": "code",
   "execution_count": null,
   "id": "6978e294",
   "metadata": {},
   "outputs": [],
   "source": []
  },
  {
   "cell_type": "code",
   "execution_count": null,
   "id": "84e51e22",
   "metadata": {},
   "outputs": [],
   "source": []
  },
  {
   "cell_type": "code",
   "execution_count": null,
   "id": "0bf3baf4",
   "metadata": {},
   "outputs": [],
   "source": []
  },
  {
   "cell_type": "code",
   "execution_count": null,
   "id": "cb13bfdb",
   "metadata": {},
   "outputs": [],
   "source": []
  },
  {
   "cell_type": "code",
   "execution_count": null,
   "id": "03397cd7",
   "metadata": {},
   "outputs": [],
   "source": []
  },
  {
   "cell_type": "markdown",
   "id": "fdb17ae7",
   "metadata": {},
   "source": [
    "## Summary\n",
    "\n",
    "* Correct types save space and enable convenient math, string, and date functionality\n",
    "* Chaining operations will:\n",
    "   * Make code readable\n",
    "   * Remove bugs\n",
    "   * Easier to debug\n",
    "* Don't mutate (there's no point). Embrace chaining.\n",
    "* ``.apply`` is slow for math\n",
    "* Aggregations are powerful. Play with them until they make sense\n",
    "\n",
    "Follow on Twitter ``@__mharrison__``\n",
    "\n",
    "Book giveaway!"
   ]
  },
  {
   "cell_type": "code",
   "execution_count": null,
   "id": "c193b4d2",
   "metadata": {
    "pycharm": {
     "name": "#%%\n"
    }
   },
   "outputs": [],
   "source": [
    "import random\n",
    "random.randrange(1,13)"
   ]
  },
  {
   "cell_type": "code",
   "execution_count": null,
   "id": "5810cbdc",
   "metadata": {
    "lines_to_next_cell": 2,
    "pycharm": {
     "name": "#%%\n"
    }
   },
   "outputs": [],
   "source": []
  },
  {
   "cell_type": "code",
   "execution_count": null,
   "id": "b0ba79ab",
   "metadata": {
    "lines_to_next_cell": 2,
    "pycharm": {
     "name": "#%%\n"
    }
   },
   "outputs": [],
   "source": []
  },
  {
   "cell_type": "code",
   "execution_count": null,
   "id": "ca3c1dd9",
   "metadata": {
    "lines_to_next_cell": 2,
    "pycharm": {
     "name": "#%%\n"
    }
   },
   "outputs": [],
   "source": []
  },
  {
   "cell_type": "code",
   "execution_count": null,
   "id": "1d479d51",
   "metadata": {
    "pycharm": {
     "name": "#%%\n"
    }
   },
   "outputs": [],
   "source": []
  }
 ],
 "metadata": {
  "kernelspec": {
   "display_name": "Python 3 (ipykernel)",
   "language": "python",
   "name": "python3"
  }
 },
 "nbformat": 4,
 "nbformat_minor": 5
}
